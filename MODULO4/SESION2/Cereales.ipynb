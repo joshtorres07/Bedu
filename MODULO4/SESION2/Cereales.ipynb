{
 "cells": [
  {
   "cell_type": "code",
   "execution_count": 6,
   "metadata": {
    "collapsed": true,
    "ExecuteTime": {
     "end_time": "2023-09-15T03:02:24.997616100Z",
     "start_time": "2023-09-15T03:02:24.990125500Z"
    }
   },
   "outputs": [],
   "source": [
    "import pandas as pd\n",
    "import matplotlib.pyplot as plt\n",
    "import numpy as np\n",
    "from sklearn.model_selection import  train_test_split\n"
   ]
  },
  {
   "cell_type": "code",
   "execution_count": 8,
   "outputs": [],
   "source": [
    "df  = pd.read_csv(\"https://raw.githubusercontent.com/beduExpert/C1-Machine-Learning-Santander/main/Sesion-02/cereal.csv\")"
   ],
   "metadata": {
    "collapsed": false,
    "ExecuteTime": {
     "end_time": "2023-09-15T03:04:02.379654200Z",
     "start_time": "2023-09-15T03:02:37.816941Z"
    }
   }
  },
  {
   "cell_type": "code",
   "execution_count": 9,
   "outputs": [
    {
     "data": {
      "text/plain": "                         name          mfr         type calories protein  fat   \n0                      String  Categorical  Categorical      Int     Int  Int  \\\n1                   100% Bran            N            C       70       4    1   \n2           100% Natural Bran            Q            C      120       3    5   \n3                    All-Bran            K            C       70       4    1   \n4   All-Bran with Extra Fiber            K            C       50       4    0   \n..                        ...          ...          ...      ...     ...  ...   \n73                    Triples            G            C      110       2    1   \n74                       Trix            G            C      110       1    1   \n75                 Wheat Chex            R            C      100       3    1   \n76                   Wheaties            G            C      100       3    1   \n77        Wheaties Honey Gold            G            C      110       2    1   \n\n   sodium  fiber  carbo sugars potass vitamins shelf weight   cups     rating  \n0     Int  Float  Float    Int    Int      Int   Int  Float  Float      Float  \n1     130     10      5      6    280       25     3      1   0.33  68.402973  \n2      15      2      8      8    135        0     3      1      1  33.983679  \n3     260      9      7      5    320       25     3      1   0.33  59.425505  \n4     140     14      8      0    330       25     3      1    0.5  93.704912  \n..    ...    ...    ...    ...    ...      ...   ...    ...    ...        ...  \n73    250      0     21      3     60       25     3      1   0.75  39.106174  \n74    140      0     13     12     25       25     2      1      1  27.753301  \n75    230      3     17      3    115       25     1      1   0.67  49.787445  \n76    200      3     17      3    110       25     1      1      1  51.592193  \n77    200      1     16      8     60       25     1      1   0.75  36.187559  \n\n[78 rows x 16 columns]",
      "text/html": "<div>\n<style scoped>\n    .dataframe tbody tr th:only-of-type {\n        vertical-align: middle;\n    }\n\n    .dataframe tbody tr th {\n        vertical-align: top;\n    }\n\n    .dataframe thead th {\n        text-align: right;\n    }\n</style>\n<table border=\"1\" class=\"dataframe\">\n  <thead>\n    <tr style=\"text-align: right;\">\n      <th></th>\n      <th>name</th>\n      <th>mfr</th>\n      <th>type</th>\n      <th>calories</th>\n      <th>protein</th>\n      <th>fat</th>\n      <th>sodium</th>\n      <th>fiber</th>\n      <th>carbo</th>\n      <th>sugars</th>\n      <th>potass</th>\n      <th>vitamins</th>\n      <th>shelf</th>\n      <th>weight</th>\n      <th>cups</th>\n      <th>rating</th>\n    </tr>\n  </thead>\n  <tbody>\n    <tr>\n      <th>0</th>\n      <td>String</td>\n      <td>Categorical</td>\n      <td>Categorical</td>\n      <td>Int</td>\n      <td>Int</td>\n      <td>Int</td>\n      <td>Int</td>\n      <td>Float</td>\n      <td>Float</td>\n      <td>Int</td>\n      <td>Int</td>\n      <td>Int</td>\n      <td>Int</td>\n      <td>Float</td>\n      <td>Float</td>\n      <td>Float</td>\n    </tr>\n    <tr>\n      <th>1</th>\n      <td>100% Bran</td>\n      <td>N</td>\n      <td>C</td>\n      <td>70</td>\n      <td>4</td>\n      <td>1</td>\n      <td>130</td>\n      <td>10</td>\n      <td>5</td>\n      <td>6</td>\n      <td>280</td>\n      <td>25</td>\n      <td>3</td>\n      <td>1</td>\n      <td>0.33</td>\n      <td>68.402973</td>\n    </tr>\n    <tr>\n      <th>2</th>\n      <td>100% Natural Bran</td>\n      <td>Q</td>\n      <td>C</td>\n      <td>120</td>\n      <td>3</td>\n      <td>5</td>\n      <td>15</td>\n      <td>2</td>\n      <td>8</td>\n      <td>8</td>\n      <td>135</td>\n      <td>0</td>\n      <td>3</td>\n      <td>1</td>\n      <td>1</td>\n      <td>33.983679</td>\n    </tr>\n    <tr>\n      <th>3</th>\n      <td>All-Bran</td>\n      <td>K</td>\n      <td>C</td>\n      <td>70</td>\n      <td>4</td>\n      <td>1</td>\n      <td>260</td>\n      <td>9</td>\n      <td>7</td>\n      <td>5</td>\n      <td>320</td>\n      <td>25</td>\n      <td>3</td>\n      <td>1</td>\n      <td>0.33</td>\n      <td>59.425505</td>\n    </tr>\n    <tr>\n      <th>4</th>\n      <td>All-Bran with Extra Fiber</td>\n      <td>K</td>\n      <td>C</td>\n      <td>50</td>\n      <td>4</td>\n      <td>0</td>\n      <td>140</td>\n      <td>14</td>\n      <td>8</td>\n      <td>0</td>\n      <td>330</td>\n      <td>25</td>\n      <td>3</td>\n      <td>1</td>\n      <td>0.5</td>\n      <td>93.704912</td>\n    </tr>\n    <tr>\n      <th>...</th>\n      <td>...</td>\n      <td>...</td>\n      <td>...</td>\n      <td>...</td>\n      <td>...</td>\n      <td>...</td>\n      <td>...</td>\n      <td>...</td>\n      <td>...</td>\n      <td>...</td>\n      <td>...</td>\n      <td>...</td>\n      <td>...</td>\n      <td>...</td>\n      <td>...</td>\n      <td>...</td>\n    </tr>\n    <tr>\n      <th>73</th>\n      <td>Triples</td>\n      <td>G</td>\n      <td>C</td>\n      <td>110</td>\n      <td>2</td>\n      <td>1</td>\n      <td>250</td>\n      <td>0</td>\n      <td>21</td>\n      <td>3</td>\n      <td>60</td>\n      <td>25</td>\n      <td>3</td>\n      <td>1</td>\n      <td>0.75</td>\n      <td>39.106174</td>\n    </tr>\n    <tr>\n      <th>74</th>\n      <td>Trix</td>\n      <td>G</td>\n      <td>C</td>\n      <td>110</td>\n      <td>1</td>\n      <td>1</td>\n      <td>140</td>\n      <td>0</td>\n      <td>13</td>\n      <td>12</td>\n      <td>25</td>\n      <td>25</td>\n      <td>2</td>\n      <td>1</td>\n      <td>1</td>\n      <td>27.753301</td>\n    </tr>\n    <tr>\n      <th>75</th>\n      <td>Wheat Chex</td>\n      <td>R</td>\n      <td>C</td>\n      <td>100</td>\n      <td>3</td>\n      <td>1</td>\n      <td>230</td>\n      <td>3</td>\n      <td>17</td>\n      <td>3</td>\n      <td>115</td>\n      <td>25</td>\n      <td>1</td>\n      <td>1</td>\n      <td>0.67</td>\n      <td>49.787445</td>\n    </tr>\n    <tr>\n      <th>76</th>\n      <td>Wheaties</td>\n      <td>G</td>\n      <td>C</td>\n      <td>100</td>\n      <td>3</td>\n      <td>1</td>\n      <td>200</td>\n      <td>3</td>\n      <td>17</td>\n      <td>3</td>\n      <td>110</td>\n      <td>25</td>\n      <td>1</td>\n      <td>1</td>\n      <td>1</td>\n      <td>51.592193</td>\n    </tr>\n    <tr>\n      <th>77</th>\n      <td>Wheaties Honey Gold</td>\n      <td>G</td>\n      <td>C</td>\n      <td>110</td>\n      <td>2</td>\n      <td>1</td>\n      <td>200</td>\n      <td>1</td>\n      <td>16</td>\n      <td>8</td>\n      <td>60</td>\n      <td>25</td>\n      <td>1</td>\n      <td>1</td>\n      <td>0.75</td>\n      <td>36.187559</td>\n    </tr>\n  </tbody>\n</table>\n<p>78 rows × 16 columns</p>\n</div>"
     },
     "execution_count": 9,
     "metadata": {},
     "output_type": "execute_result"
    }
   ],
   "source": [
    "df"
   ],
   "metadata": {
    "collapsed": false,
    "ExecuteTime": {
     "end_time": "2023-09-15T03:04:02.409112900Z",
     "start_time": "2023-09-15T03:04:02.381113900Z"
    }
   }
  },
  {
   "cell_type": "code",
   "execution_count": 16,
   "outputs": [
    {
     "data": {
      "text/plain": "<bound method NDFrame.describe of                          name          mfr         type calories protein  fat   \n0                      String  Categorical  Categorical      Int     Int  Int  \\\n1                   100% Bran            N            C       70       4    1   \n2           100% Natural Bran            Q            C      120       3    5   \n3                    All-Bran            K            C       70       4    1   \n4   All-Bran with Extra Fiber            K            C       50       4    0   \n..                        ...          ...          ...      ...     ...  ...   \n73                    Triples            G            C      110       2    1   \n74                       Trix            G            C      110       1    1   \n75                 Wheat Chex            R            C      100       3    1   \n76                   Wheaties            G            C      100       3    1   \n77        Wheaties Honey Gold            G            C      110       2    1   \n\n   sodium  fiber  carbo sugars potass vitamins shelf weight   cups     rating  \n0     Int  Float  Float    Int    Int      Int   Int  Float  Float      Float  \n1     130     10      5      6    280       25     3      1   0.33  68.402973  \n2      15      2      8      8    135        0     3      1      1  33.983679  \n3     260      9      7      5    320       25     3      1   0.33  59.425505  \n4     140     14      8      0    330       25     3      1    0.5  93.704912  \n..    ...    ...    ...    ...    ...      ...   ...    ...    ...        ...  \n73    250      0     21      3     60       25     3      1   0.75  39.106174  \n74    140      0     13     12     25       25     2      1      1  27.753301  \n75    230      3     17      3    115       25     1      1   0.67  49.787445  \n76    200      3     17      3    110       25     1      1      1  51.592193  \n77    200      1     16      8     60       25     1      1   0.75  36.187559  \n\n[78 rows x 16 columns]>"
     },
     "execution_count": 16,
     "metadata": {},
     "output_type": "execute_result"
    }
   ],
   "source": [
    "df.describe"
   ],
   "metadata": {
    "collapsed": false,
    "ExecuteTime": {
     "end_time": "2023-09-15T03:05:03.159555200Z",
     "start_time": "2023-09-15T03:05:03.135592800Z"
    }
   }
  },
  {
   "cell_type": "code",
   "execution_count": 14,
   "outputs": [
    {
     "name": "stdout",
     "output_type": "stream",
     "text": [
      "<class 'pandas.core.frame.DataFrame'>\n",
      "RangeIndex: 78 entries, 0 to 77\n",
      "Data columns (total 16 columns):\n",
      " #   Column    Non-Null Count  Dtype \n",
      "---  ------    --------------  ----- \n",
      " 0   name      78 non-null     object\n",
      " 1   mfr       75 non-null     object\n",
      " 2   type      75 non-null     object\n",
      " 3   calories  75 non-null     object\n",
      " 4   protein   75 non-null     object\n",
      " 5   fat       75 non-null     object\n",
      " 6   sodium    75 non-null     object\n",
      " 7   fiber     75 non-null     object\n",
      " 8   carbo     75 non-null     object\n",
      " 9   sugars    75 non-null     object\n",
      " 10  potass    75 non-null     object\n",
      " 11  vitamins  75 non-null     object\n",
      " 12  shelf     75 non-null     object\n",
      " 13  weight    75 non-null     object\n",
      " 14  cups      75 non-null     object\n",
      " 15  rating    75 non-null     object\n",
      "dtypes: object(16)\n",
      "memory usage: 9.9+ KB\n"
     ]
    }
   ],
   "source": [
    "df.info()"
   ],
   "metadata": {
    "collapsed": false,
    "ExecuteTime": {
     "end_time": "2023-09-15T03:04:45.899765800Z",
     "start_time": "2023-09-15T03:04:45.885341700Z"
    }
   }
  },
  {
   "cell_type": "code",
   "execution_count": 17,
   "outputs": [
    {
     "data": {
      "text/plain": "<bound method DataFrame.isnull of                          name          mfr         type calories protein  fat   \n0                      String  Categorical  Categorical      Int     Int  Int  \\\n1                   100% Bran            N            C       70       4    1   \n2           100% Natural Bran            Q            C      120       3    5   \n3                    All-Bran            K            C       70       4    1   \n4   All-Bran with Extra Fiber            K            C       50       4    0   \n..                        ...          ...          ...      ...     ...  ...   \n73                    Triples            G            C      110       2    1   \n74                       Trix            G            C      110       1    1   \n75                 Wheat Chex            R            C      100       3    1   \n76                   Wheaties            G            C      100       3    1   \n77        Wheaties Honey Gold            G            C      110       2    1   \n\n   sodium  fiber  carbo sugars potass vitamins shelf weight   cups     rating  \n0     Int  Float  Float    Int    Int      Int   Int  Float  Float      Float  \n1     130     10      5      6    280       25     3      1   0.33  68.402973  \n2      15      2      8      8    135        0     3      1      1  33.983679  \n3     260      9      7      5    320       25     3      1   0.33  59.425505  \n4     140     14      8      0    330       25     3      1    0.5  93.704912  \n..    ...    ...    ...    ...    ...      ...   ...    ...    ...        ...  \n73    250      0     21      3     60       25     3      1   0.75  39.106174  \n74    140      0     13     12     25       25     2      1      1  27.753301  \n75    230      3     17      3    115       25     1      1   0.67  49.787445  \n76    200      3     17      3    110       25     1      1      1  51.592193  \n77    200      1     16      8     60       25     1      1   0.75  36.187559  \n\n[78 rows x 16 columns]>"
     },
     "execution_count": 17,
     "metadata": {},
     "output_type": "execute_result"
    }
   ],
   "source": [
    "df.isnull"
   ],
   "metadata": {
    "collapsed": false,
    "ExecuteTime": {
     "end_time": "2023-09-15T03:05:13.635988900Z",
     "start_time": "2023-09-15T03:05:13.631126300Z"
    }
   }
  },
  {
   "cell_type": "code",
   "execution_count": 25,
   "outputs": [],
   "source": [
    "def particionar(entradas, salidas, train_percent, validation_percent, test_percent):\n",
    "    temp_size = validation_percent + test_percent\n",
    "    print(temp_size)\n",
    "    x_train, x_temp, y_train, y_temp = train_test_split(entradas,salidas,test_size = temp_size)\n",
    "    if(validation_percent > 0):\n",
    "        test_size = test_percent / temp_size\n",
    "        x_val, x_test, y_val, y_test = train_test_split(x_temp, y_temp, test_size=test_size)\n",
    "    else:\n",
    "        return [x_train, None, x_temp, y_train, None, y_temp]\n",
    "    return [x_train, x_val, x_test, y_train, y_val, y_test]\n"
   ],
   "metadata": {
    "collapsed": false,
    "ExecuteTime": {
     "end_time": "2023-09-15T03:12:23.449463500Z",
     "start_time": "2023-09-15T03:12:23.429546600Z"
    }
   }
  },
  {
   "cell_type": "code",
   "execution_count": 26,
   "outputs": [],
   "source": [
    "x= df[['sugars','sodium','fiber']]"
   ],
   "metadata": {
    "collapsed": false,
    "ExecuteTime": {
     "end_time": "2023-09-15T03:12:23.873352300Z",
     "start_time": "2023-09-15T03:12:23.863351900Z"
    }
   }
  },
  {
   "cell_type": "code",
   "execution_count": 27,
   "outputs": [],
   "source": [
    "y= df['rating']"
   ],
   "metadata": {
    "collapsed": false,
    "ExecuteTime": {
     "end_time": "2023-09-15T03:12:24.291834Z",
     "start_time": "2023-09-15T03:12:24.283789700Z"
    }
   }
  },
  {
   "cell_type": "code",
   "execution_count": 28,
   "outputs": [
    {
     "name": "stdout",
     "output_type": "stream",
     "text": [
      "35\n"
     ]
    },
    {
     "data": {
      "text/plain": "[   sugars sodium fiber\n 65      0      0     4\n 28    NaN    NaN   NaN\n 34      3    170     3\n 63      3    290     0\n 59     12    210     5\n 47     13    150     3\n 66      0      0     3\n 2       8     15     2\n 11     12    220     0\n 73      3    250     0\n 7      14    125     1\n 43     12    180     0\n 54      3    320     1\n 13      9    210     0\n 57      6    135     2\n 23     10    140     2\n 32      9    280     0\n 38     11    180     0\n 58     -1      0   2.7\n 42      6    150     2\n 50      7    220     3\n 56      0      0     1\n 76      3    200     3\n 16      3    280     0\n 30     12    135     0\n 24      5    190     1\n 71     14    190     4\n 39      6    170     1\n 55      0      0     0\n 4       0    140    14\n 17      2    290     1\n 33      5    140     3\n 41      3    260     0\n 45    NaN    NaN   NaN\n 70      3    200     0\n 1       6    130    10\n 14      7    140     2\n 64      0      0     3\n 51      2    170     3\n 26     11    200     1\n 67     15     70     1\n 44      3      0     0\n 6      10    180   1.5,\n    sugars sodium fiber\n 20      7    140     4\n 10      5    210     5\n 18     12     90     1\n 60      8    140   2.5\n 40      9    170     2\n 77      8    200     1\n 9       6    200     4\n 69      5     15     3\n 12      1    290     2\n 68      3    230     1\n 53     14    200     6\n 52     10    170   1.5\n 61      6      0     2\n 25     13    125     1\n 19     13    180     0,\n    sugars sodium  fiber\n 5       8    200      1\n 8       8    210      2\n 29     12    240      5\n 75      3    230      3\n 62      2    240      0\n 27      7      0      3\n 36     11    220      1\n 31     15     45      0\n 49      9    190      0\n 15     13    180      0\n 48      6    220      2\n 21      0     80      1\n 72      3    200      3\n 0     Int    Int  Float\n 35      4     75      3\n 74     12    140      0\n 22      3    220      1\n 37     10    250    1.5\n 3       5    260      9\n 46    NaN    NaN    NaN,\n 65    74.472949\n 28          NaN\n 34    53.371007\n 63    40.560159\n 59    39.259197\n 47    30.313351\n 66    72.801787\n 2     33.983679\n 11    18.042851\n 73    39.106174\n 7     33.174094\n 43    26.734515\n 54     41.50354\n 13    19.823573\n 57    49.511874\n 23    36.176196\n 32    23.804043\n 38    28.742414\n 58    50.828392\n 42    45.328074\n 50     40.69232\n 56    63.005645\n 76    51.592193\n 16    41.445019\n 30    28.025765\n 24    44.330856\n 71    28.592785\n 39    36.523683\n 55    60.756112\n 4     93.704912\n 17    45.863324\n 33    52.076897\n 41    39.241114\n 45          NaN\n 70    38.839746\n 1     68.402973\n 14    40.400208\n 64    68.235885\n 51    59.642837\n 26    31.435973\n 67    31.230054\n 44    54.850917\n 6     29.509541\n Name: rating, dtype: object,\n 20    40.448772\n 10    53.313813\n 18    35.782791\n 60      39.7034\n 40    36.471512\n 77    36.187559\n 9     49.120253\n 69    59.363993\n 12    50.764999\n 68    53.131324\n 53    37.840594\n 52    30.450843\n 61    55.333142\n 25    32.207582\n 19    22.396513\n Name: rating, dtype: object,\n 5     34.384843\n 8     37.038562\n 29    41.015492\n 75    49.787445\n 62    41.998933\n 27    58.345141\n 36    21.871292\n 31    35.252444\n 49    29.924285\n 15    22.736446\n 48    40.105965\n 21    64.533816\n 72    46.658844\n 0         Float\n 35    45.811716\n 74    27.753301\n 22    46.895644\n 37    31.072217\n 3     59.425505\n 46          NaN\n Name: rating, dtype: object]"
     },
     "execution_count": 28,
     "metadata": {},
     "output_type": "execute_result"
    }
   ],
   "source": [
    "particionar(x,y,65,15,20)"
   ],
   "metadata": {
    "collapsed": false,
    "ExecuteTime": {
     "end_time": "2023-09-15T03:12:24.752195Z",
     "start_time": "2023-09-15T03:12:24.717058Z"
    }
   }
  },
  {
   "cell_type": "code",
   "execution_count": null,
   "outputs": [],
   "source": [],
   "metadata": {
    "collapsed": false
   }
  }
 ],
 "metadata": {
  "kernelspec": {
   "display_name": "Python 3",
   "language": "python",
   "name": "python3"
  },
  "language_info": {
   "codemirror_mode": {
    "name": "ipython",
    "version": 2
   },
   "file_extension": ".py",
   "mimetype": "text/x-python",
   "name": "python",
   "nbconvert_exporter": "python",
   "pygments_lexer": "ipython2",
   "version": "2.7.6"
  }
 },
 "nbformat": 4,
 "nbformat_minor": 0
}
