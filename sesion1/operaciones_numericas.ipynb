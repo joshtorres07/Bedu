{
 "cells": [
  {
   "cell_type": "markdown",
   "metadata": {},
   "source": [
    "## Reto 2: Operaciones numéricas\n",
    "\n",
    "### 1. Objetivos:\n",
    "    - Practicar asignación de variables y operaciones aritméticas en Python\n",
    " \n",
    "---\n",
    "    \n",
    "### 2. Desarrollo:"
   ]
  },
  {
   "cell_type": "markdown",
   "metadata": {},
   "source": [
    "#### 1. Asignación de los números correctos\n",
    "\n",
    "A continuación, verás unas variables que tienen nombre pero que todavía no tienen ningún valor asignado:"
   ]
  },
  {
   "cell_type": "code",
   "execution_count": 2,
   "metadata": {
    "ExecuteTime": {
     "end_time": "2023-06-30T03:13:06.576060Z",
     "start_time": "2023-06-30T03:13:06.553989600Z"
    }
   },
   "outputs": [],
   "source": [
    "var_1 = 4\n",
    "\n",
    "var_2 = 10\n",
    "\n",
    "var_3 = 6\n",
    "\n",
    "var_4 = 8\n",
    "\n",
    "var_5 = 2"
   ]
  },
  {
   "cell_type": "markdown",
   "metadata": {},
   "source": [
    "Ahora, tenemos debajo operaciones aritméticas que se han realizado con estas variables, junto a los resultados numéricos que esperamos obtener de estas operaciones:"
   ]
  },
  {
   "cell_type": "code",
   "execution_count": 3,
   "metadata": {
    "ExecuteTime": {
     "end_time": "2023-06-30T03:13:08.265176100Z",
     "start_time": "2023-06-30T03:13:08.256620300Z"
    }
   },
   "outputs": [
    {
     "data": {
      "text/plain": "14"
     },
     "execution_count": 3,
     "metadata": {},
     "output_type": "execute_result"
    }
   ],
   "source": [
    "var_1 + var_2  # Resultado esperado: 14"
   ]
  },
  {
   "cell_type": "code",
   "execution_count": 4,
   "metadata": {
    "ExecuteTime": {
     "end_time": "2023-06-30T03:13:08.738954700Z",
     "start_time": "2023-06-30T03:13:08.728497100Z"
    }
   },
   "outputs": [
    {
     "data": {
      "text/plain": "-4"
     },
     "execution_count": 4,
     "metadata": {},
     "output_type": "execute_result"
    }
   ],
   "source": [
    "var_3 - var_2  # Resultado esperado: -4"
   ]
  },
  {
   "cell_type": "code",
   "execution_count": 5,
   "metadata": {
    "ExecuteTime": {
     "end_time": "2023-06-30T03:13:09.163972300Z",
     "start_time": "2023-06-30T03:13:09.153368100Z"
    }
   },
   "outputs": [
    {
     "data": {
      "text/plain": "24"
     },
     "execution_count": 5,
     "metadata": {},
     "output_type": "execute_result"
    }
   ],
   "source": [
    "var_3 * var_1  # Resultado esperado: 24"
   ]
  },
  {
   "cell_type": "code",
   "execution_count": 6,
   "metadata": {
    "ExecuteTime": {
     "end_time": "2023-06-30T03:13:09.629226900Z",
     "start_time": "2023-06-30T03:13:09.621922600Z"
    }
   },
   "outputs": [
    {
     "data": {
      "text/plain": "8"
     },
     "execution_count": 6,
     "metadata": {},
     "output_type": "execute_result"
    }
   ],
   "source": [
    "var_5 + var_3  # Resultado esperado: 8"
   ]
  },
  {
   "cell_type": "code",
   "execution_count": 7,
   "metadata": {
    "ExecuteTime": {
     "end_time": "2023-06-30T03:13:09.974838700Z",
     "start_time": "2023-06-30T03:13:09.969071200Z"
    }
   },
   "outputs": [
    {
     "data": {
      "text/plain": "4.0"
     },
     "execution_count": 7,
     "metadata": {},
     "output_type": "execute_result"
    }
   ],
   "source": [
    "var_4 / var_5  # Resultado esperado: 4"
   ]
  },
  {
   "cell_type": "markdown",
   "metadata": {},
   "source": [
    "El reto es asignar los números correctos a las variables de arriba de manera que al correr las celdas que contienen operaciones numéricas obtengamos los `Resultados esperados`.\n",
    "\n",
    ">*Tip*: Todos los números son pares"
   ]
  },
  {
   "cell_type": "code",
   "execution_count": null,
   "metadata": {},
   "outputs": [],
   "source": []
  }
 ],
 "metadata": {
  "kernelspec": {
   "name": "python3",
   "language": "python",
   "display_name": "Python 3 (ipykernel)"
  },
  "language_info": {
   "codemirror_mode": {
    "name": "ipython",
    "version": 3
   },
   "file_extension": ".py",
   "mimetype": "text/x-python",
   "name": "python",
   "nbconvert_exporter": "python",
   "pygments_lexer": "ipython3",
   "version": "3.8.5"
  }
 },
 "nbformat": 4,
 "nbformat_minor": 4
}
