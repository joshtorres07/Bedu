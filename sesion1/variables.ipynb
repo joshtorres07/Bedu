{
 "cells": [
  {
   "cell_type": "markdown",
   "metadata": {},
   "source": [
    "## Reto 1: Variables\n",
    "\n",
    "### 1. Objetivos:\n",
    "    - Practicar convención de nombramiento y asignación de variables\n",
    " \n",
    "---\n",
    "    \n",
    "### 2. Desarrollo:"
   ]
  },
  {
   "cell_type": "markdown",
   "metadata": {},
   "source": [
    "Indica cuáles nombres de variables son válidos y cuáles con inválidos. Puedes hacerlo colocando un comentario al lado de cada asignación (`# esto es un comentario`). Los comentarios son texto que Python ignora a la hora de correr una celda. Nos sirven para hacer anotaciones."
   ]
  },
  {
   "cell_type": "code",
   "execution_count": 1,
   "metadata": {
    "ExecuteTime": {
     "end_time": "2023-06-30T03:04:53.796305Z",
     "start_time": "2023-06-30T03:04:53.791512400Z"
    }
   },
   "outputs": [],
   "source": [
    "var_1 = 5\n",
    "\n",
    "variable_nueva_2 = 10\n",
    "\n",
    "Variable_nueva_3 = 11\n",
    "\n",
    "var_3_1 = 14\n",
    "\n",
    "varNueva4 = 44\n",
    "\n",
    "var_nuevaNumero = 98\n",
    "\n",
    "var_num = 22\n",
    "\n",
    "VarNum = 11\n",
    "\n",
    "soyUnaVariable = 14"
   ]
  },
  {
   "cell_type": "markdown",
   "metadata": {},
   "source": [
    "<details><summary>Solución</summary>\n",
    "\n",
    "```python\n",
    "var_1 = 5  # Válida\n",
    "\n",
    "variable_nueva_2 = 10  # Válida\n",
    "\n",
    "Variable_nueva_3 = 11  # Inválida\n",
    "\n",
    "var_3_1 = 14  # Válida\n",
    "\n",
    "varNueva4 = 44  # Inválida\n",
    "\n",
    "var_nuevaNumero = 98  # Inválida\n",
    "\n",
    "var_num = 22  # Válida\n",
    "\n",
    "VarNum = 11  # Inválida\n",
    "\n",
    "soyUnaVariable = 14  # Inválida\n",
    "```\n",
    "\n",
    "</details>"
   ]
  },
  {
   "cell_type": "markdown",
   "metadata": {},
   "source": [
    "Ahora practica realizar algunas asignaciones en la celda de abajo. ¡Puedes asignarle a tus variables números enteros y también decimales!"
   ]
  },
  {
   "cell_type": "code",
   "execution_count": 3,
   "metadata": {
    "ExecuteTime": {
     "end_time": "2023-06-30T03:21:09.604339Z",
     "start_time": "2023-06-30T03:21:09.598285500Z"
    }
   },
   "outputs": [],
   "source": [
    "# Asigna el número 12345 a una variable llamada variable_locochona\n",
    "# Tu código va aquí...\n",
    "variable_locochona = 12345\n",
    "# Asigna el número 14.567 a una variable llamada var_decimal\n",
    "\n",
    "# ...\n",
    "var_decimal = 14.567\n",
    "# Asigna cualquier número a una varible que tenga 5 palabras en su nombre (recuerda las convenciones)\n",
    "\n",
    "# ....\n",
    "una_var_con_cinco_palabras =  23\n",
    "# Asigna cualquier número a una variable que incluya palabras y números en su nombre\n",
    "# ...\n",
    "\n",
    "# Asigna variables a discreción\n",
    "var_12 =  1234\n",
    "# ..."
   ]
  },
  {
   "cell_type": "markdown",
   "metadata": {},
   "source": []
  },
  {
   "cell_type": "code",
   "execution_count": null,
   "metadata": {},
   "outputs": [],
   "source": []
  }
 ],
 "metadata": {
  "kernelspec": {
   "name": "python3",
   "language": "python",
   "display_name": "Python 3 (ipykernel)"
  },
  "language_info": {
   "codemirror_mode": {
    "name": "ipython",
    "version": 3
   },
   "file_extension": ".py",
   "mimetype": "text/x-python",
   "name": "python",
   "nbconvert_exporter": "python",
   "pygments_lexer": "ipython3",
   "version": "3.8.5"
  }
 },
 "nbformat": 4,
 "nbformat_minor": 4
}
