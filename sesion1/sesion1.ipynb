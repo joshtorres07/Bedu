{
 "cells": [
  {
   "cell_type": "code",
   "execution_count": 1,
   "metadata": {
    "collapsed": true,
    "ExecuteTime": {
     "end_time": "2023-06-29T23:20:51.040916700Z",
     "start_time": "2023-06-29T23:20:49.040470800Z"
    }
   },
   "outputs": [],
   "source": [
    "import pandas as pd"
   ]
  },
  {
   "cell_type": "code",
   "execution_count": 8,
   "outputs": [],
   "source": [
    "data = pd.read_csv(\"Datasets/melbourne_housing-raw.csv\")"
   ],
   "metadata": {
    "collapsed": false,
    "ExecuteTime": {
     "end_time": "2023-06-29T23:48:00.759812700Z",
     "start_time": "2023-06-29T23:48:00.688344600Z"
    }
   }
  },
  {
   "cell_type": "code",
   "execution_count": 10,
   "outputs": [],
   "source": [
    "x, y = data[['Rooms', 'SellerG']]"
   ],
   "metadata": {
    "collapsed": false,
    "ExecuteTime": {
     "end_time": "2023-06-29T23:48:06.954520200Z",
     "start_time": "2023-06-29T23:48:06.928359800Z"
    }
   }
  },
  {
   "cell_type": "code",
   "execution_count": 13,
   "outputs": [
    {
     "ename": "TypeError",
     "evalue": "string indices must be integers, not 'str'",
     "output_type": "error",
     "traceback": [
      "\u001B[1;31m---------------------------------------------------------------------------\u001B[0m",
      "\u001B[1;31mTypeError\u001B[0m                                 Traceback (most recent call last)",
      "Cell \u001B[1;32mIn[13], line 1\u001B[0m\n\u001B[1;32m----> 1\u001B[0m \u001B[38;5;28mstr\u001B[39m(\u001B[43mx\u001B[49m\u001B[43m[\u001B[49m\u001B[38;5;124;43m'\u001B[39;49m\u001B[38;5;124;43mRooms\u001B[39;49m\u001B[38;5;124;43m'\u001B[39;49m\u001B[43m]\u001B[49m)\n",
      "\u001B[1;31mTypeError\u001B[0m: string indices must be integers, not 'str'"
     ]
    }
   ],
   "source": [],
   "metadata": {
    "collapsed": false,
    "ExecuteTime": {
     "end_time": "2023-06-29T23:48:36.384980600Z",
     "start_time": "2023-06-29T23:48:36.356075700Z"
    }
   }
  },
  {
   "cell_type": "code",
   "execution_count": 4,
   "outputs": [
    {
     "data": {
      "text/plain": "              Rooms         Price      Distance      Postcode      Bedroom2   \ncount  19740.000000  1.539600e+04  19732.000000  19732.000000  15327.000000  \\\nmean       2.947163  1.054957e+06      9.861509   3106.533904      2.900568   \nstd        0.981048  6.452557e+05      5.554233     88.429928      1.007491   \nmin        1.000000  8.500000e+04      0.000000   3000.000000      0.000000   \n25%        2.000000  6.300000e+05      6.100000   3046.000000      2.000000   \n50%        3.000000  8.800000e+05      9.200000   3101.000000      3.000000   \n75%        4.000000  1.301000e+06     12.600000   3147.000000      3.000000   \nmax       12.000000  9.000000e+06     47.400000   3978.000000     30.000000   \n\n           Bathroom           Car       Landsize  BuildingArea    YearBuilt   \ncount  15327.000000  15327.000000   14944.000000   8617.000000  9351.000000  \\\nmean       1.548509      1.578065     583.917090    196.806973  1874.165655   \nstd        0.713385      0.972221    3785.423175    561.558007   393.354888   \nmin        0.000000      0.000000       0.000000      0.000000     1.000000   \n25%        1.000000      1.000000     166.000000     94.000000  1930.000000   \n50%        1.000000      2.000000     420.000000    132.000000  1965.000000   \n75%        2.000000      2.000000     663.000000    199.000000  1997.000000   \nmax       12.000000     26.000000  433014.000000  40468.000000  2106.000000   \n\n          Lattitude    Longtitude  Propertycount  \ncount  15448.000000  15448.000000   19732.000000  \nmean     -37.811892    144.996632    7509.802706  \nstd        0.072708      0.096178    4419.678648  \nmin      -38.182550    144.431620     249.000000  \n25%      -37.856860    144.939323    4407.000000  \n50%      -37.808965    145.000900    6567.000000  \n75%      -37.761897    145.054710   10331.000000  \nmax      -37.413810    145.526350   21650.000000  ",
      "text/html": "<div>\n<style scoped>\n    .dataframe tbody tr th:only-of-type {\n        vertical-align: middle;\n    }\n\n    .dataframe tbody tr th {\n        vertical-align: top;\n    }\n\n    .dataframe thead th {\n        text-align: right;\n    }\n</style>\n<table border=\"1\" class=\"dataframe\">\n  <thead>\n    <tr style=\"text-align: right;\">\n      <th></th>\n      <th>Rooms</th>\n      <th>Price</th>\n      <th>Distance</th>\n      <th>Postcode</th>\n      <th>Bedroom2</th>\n      <th>Bathroom</th>\n      <th>Car</th>\n      <th>Landsize</th>\n      <th>BuildingArea</th>\n      <th>YearBuilt</th>\n      <th>Lattitude</th>\n      <th>Longtitude</th>\n      <th>Propertycount</th>\n    </tr>\n  </thead>\n  <tbody>\n    <tr>\n      <th>count</th>\n      <td>19740.000000</td>\n      <td>1.539600e+04</td>\n      <td>19732.000000</td>\n      <td>19732.000000</td>\n      <td>15327.000000</td>\n      <td>15327.000000</td>\n      <td>15327.000000</td>\n      <td>14944.000000</td>\n      <td>8617.000000</td>\n      <td>9351.000000</td>\n      <td>15448.000000</td>\n      <td>15448.000000</td>\n      <td>19732.000000</td>\n    </tr>\n    <tr>\n      <th>mean</th>\n      <td>2.947163</td>\n      <td>1.054957e+06</td>\n      <td>9.861509</td>\n      <td>3106.533904</td>\n      <td>2.900568</td>\n      <td>1.548509</td>\n      <td>1.578065</td>\n      <td>583.917090</td>\n      <td>196.806973</td>\n      <td>1874.165655</td>\n      <td>-37.811892</td>\n      <td>144.996632</td>\n      <td>7509.802706</td>\n    </tr>\n    <tr>\n      <th>std</th>\n      <td>0.981048</td>\n      <td>6.452557e+05</td>\n      <td>5.554233</td>\n      <td>88.429928</td>\n      <td>1.007491</td>\n      <td>0.713385</td>\n      <td>0.972221</td>\n      <td>3785.423175</td>\n      <td>561.558007</td>\n      <td>393.354888</td>\n      <td>0.072708</td>\n      <td>0.096178</td>\n      <td>4419.678648</td>\n    </tr>\n    <tr>\n      <th>min</th>\n      <td>1.000000</td>\n      <td>8.500000e+04</td>\n      <td>0.000000</td>\n      <td>3000.000000</td>\n      <td>0.000000</td>\n      <td>0.000000</td>\n      <td>0.000000</td>\n      <td>0.000000</td>\n      <td>0.000000</td>\n      <td>1.000000</td>\n      <td>-38.182550</td>\n      <td>144.431620</td>\n      <td>249.000000</td>\n    </tr>\n    <tr>\n      <th>25%</th>\n      <td>2.000000</td>\n      <td>6.300000e+05</td>\n      <td>6.100000</td>\n      <td>3046.000000</td>\n      <td>2.000000</td>\n      <td>1.000000</td>\n      <td>1.000000</td>\n      <td>166.000000</td>\n      <td>94.000000</td>\n      <td>1930.000000</td>\n      <td>-37.856860</td>\n      <td>144.939323</td>\n      <td>4407.000000</td>\n    </tr>\n    <tr>\n      <th>50%</th>\n      <td>3.000000</td>\n      <td>8.800000e+05</td>\n      <td>9.200000</td>\n      <td>3101.000000</td>\n      <td>3.000000</td>\n      <td>1.000000</td>\n      <td>2.000000</td>\n      <td>420.000000</td>\n      <td>132.000000</td>\n      <td>1965.000000</td>\n      <td>-37.808965</td>\n      <td>145.000900</td>\n      <td>6567.000000</td>\n    </tr>\n    <tr>\n      <th>75%</th>\n      <td>4.000000</td>\n      <td>1.301000e+06</td>\n      <td>12.600000</td>\n      <td>3147.000000</td>\n      <td>3.000000</td>\n      <td>2.000000</td>\n      <td>2.000000</td>\n      <td>663.000000</td>\n      <td>199.000000</td>\n      <td>1997.000000</td>\n      <td>-37.761897</td>\n      <td>145.054710</td>\n      <td>10331.000000</td>\n    </tr>\n    <tr>\n      <th>max</th>\n      <td>12.000000</td>\n      <td>9.000000e+06</td>\n      <td>47.400000</td>\n      <td>3978.000000</td>\n      <td>30.000000</td>\n      <td>12.000000</td>\n      <td>26.000000</td>\n      <td>433014.000000</td>\n      <td>40468.000000</td>\n      <td>2106.000000</td>\n      <td>-37.413810</td>\n      <td>145.526350</td>\n      <td>21650.000000</td>\n    </tr>\n  </tbody>\n</table>\n</div>"
     },
     "execution_count": 4,
     "metadata": {},
     "output_type": "execute_result"
    }
   ],
   "source": [
    "data.describe()"
   ],
   "metadata": {
    "collapsed": false,
    "ExecuteTime": {
     "end_time": "2023-06-29T23:23:15.180227500Z",
     "start_time": "2023-06-29T23:23:15.142567900Z"
    }
   }
  },
  {
   "cell_type": "code",
   "execution_count": 5,
   "outputs": [
    {
     "data": {
      "text/plain": "Index(['Suburb', 'Address', 'Rooms', 'Type', 'Price', 'Method', 'SellerG',\n       'Date', 'Distance', 'Postcode', 'Bedroom2', 'Bathroom', 'Car',\n       'Landsize', 'BuildingArea', 'YearBuilt', 'CouncilArea', 'Lattitude',\n       'Longtitude', 'Regionname', 'Propertycount'],\n      dtype='object')"
     },
     "execution_count": 5,
     "metadata": {},
     "output_type": "execute_result"
    }
   ],
   "source": [
    "data.columns"
   ],
   "metadata": {
    "collapsed": false,
    "ExecuteTime": {
     "end_time": "2023-06-29T23:23:20.616362100Z",
     "start_time": "2023-06-29T23:23:20.611089Z"
    }
   }
  },
  {
   "cell_type": "code",
   "execution_count": 6,
   "outputs": [
    {
     "name": "stdout",
     "output_type": "stream",
     "text": [
      "<class 'pandas.core.frame.DataFrame'>\n",
      "RangeIndex: 19740 entries, 0 to 19739\n",
      "Data columns (total 21 columns):\n",
      " #   Column         Non-Null Count  Dtype  \n",
      "---  ------         --------------  -----  \n",
      " 0   Suburb         19740 non-null  object \n",
      " 1   Address        19740 non-null  object \n",
      " 2   Rooms          19740 non-null  int64  \n",
      " 3   Type           19740 non-null  object \n",
      " 4   Price          15396 non-null  float64\n",
      " 5   Method         19740 non-null  object \n",
      " 6   SellerG        19740 non-null  object \n",
      " 7   Date           19740 non-null  object \n",
      " 8   Distance       19732 non-null  float64\n",
      " 9   Postcode       19732 non-null  float64\n",
      " 10  Bedroom2       15327 non-null  float64\n",
      " 11  Bathroom       15327 non-null  float64\n",
      " 12  Car            15327 non-null  float64\n",
      " 13  Landsize       14944 non-null  float64\n",
      " 14  BuildingArea   8617 non-null   float64\n",
      " 15  YearBuilt      9351 non-null   float64\n",
      " 16  CouncilArea    15296 non-null  object \n",
      " 17  Lattitude      15448 non-null  float64\n",
      " 18  Longtitude     15448 non-null  float64\n",
      " 19  Regionname     19732 non-null  object \n",
      " 20  Propertycount  19732 non-null  float64\n",
      "dtypes: float64(12), int64(1), object(8)\n",
      "memory usage: 3.2+ MB\n"
     ]
    }
   ],
   "source": [
    "data.info(all)"
   ],
   "metadata": {
    "collapsed": false,
    "ExecuteTime": {
     "end_time": "2023-06-29T23:23:27.159187800Z",
     "start_time": "2023-06-29T23:23:27.138147100Z"
    }
   }
  },
  {
   "cell_type": "code",
   "execution_count": null,
   "outputs": [],
   "source": [],
   "metadata": {
    "collapsed": false
   }
  }
 ],
 "metadata": {
  "kernelspec": {
   "display_name": "Python 3",
   "language": "python",
   "name": "python3"
  },
  "language_info": {
   "codemirror_mode": {
    "name": "ipython",
    "version": 2
   },
   "file_extension": ".py",
   "mimetype": "text/x-python",
   "name": "python",
   "nbconvert_exporter": "python",
   "pygments_lexer": "ipython2",
   "version": "2.7.6"
  }
 },
 "nbformat": 4,
 "nbformat_minor": 0
}
