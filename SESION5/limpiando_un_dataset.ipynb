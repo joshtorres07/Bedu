{
 "cells": [
  {
   "cell_type": "markdown",
   "metadata": {},
   "source": [
    "## Reto 5: Limpiando un dataset\n",
    "\n",
    "### 1. Objetivos:\n",
    "    - Aplicar todo lo que aprendimos el día de hoy a un dataset real\n",
    " \n",
    "---\n",
    "    \n",
    "### 2. Desarrollo:"
   ]
  },
  {
   "cell_type": "markdown",
   "metadata": {},
   "source": [
    "#### a) Limpieza de datos en el mundo real\n",
    "\n",
    "Hasta ahora hemos estado realizando ejercicios con datasets dummy (falsos). Ahora vamos a aplicar todo lo que hemos aprendido el día de hoy a un dataset real.\n",
    "\n",
    "El dataset se encuentra en la carpeta [Datasets](../../Datasets/Readme.md) en la raíz del repositorio. El nombre el dataset es 'melbourne_housing-raw.csv'.\n",
    "\n",
    "Lee el dataset usando pandas y realiza las siguientes tareas:\n",
    "\n",
    "1. Ve a este [link](https://www.kaggle.com/anthonypino/melbourne-housing-market) para conocer más sobre el dataset y los datos que contiene.\n",
    "2. Explora tu dataset para entender su estructura\n",
    "3. Identifica los `NaNs` en el dataset y dónde se encuentran\n",
    "4. Elimina los `NaNs` de tu dataset\n",
    "5. Resetea tu índice para que sea compatible con el nuevo dataset\n",
    "6. Cambia los nombres de las columnas para que tengan consistencia y no haya errores ortográficos\n",
    "7. Realiza agregaciones (min, man, mean, etc) de las siguientes filas para conocer mejor la distribución de tus datos:\n",
    "    a) Price\n",
    "    b) Distance\n",
    "    c) Landsize\n",
    "    \n",
    "Si tienes dudas en algún momento, por favor pídele a la experta que te oriente. Todas las tareas que hay que realizar ya las hemos hecho en otros retos; puedes ir a revisar esos otros ejercicios para recordar.\n",
    "\n",
    "¡Mucha suerte!"
   ]
  },
  {
   "cell_type": "code",
   "execution_count": 42,
   "metadata": {
    "ExecuteTime": {
     "end_time": "2023-07-14T03:48:21.271428300Z",
     "start_time": "2023-07-14T03:48:21.268765100Z"
    }
   },
   "outputs": [],
   "source": [
    "import pandas as pd\n",
    "import  numpy as np"
   ]
  },
  {
   "cell_type": "code",
   "execution_count": 43,
   "outputs": [],
   "source": [
    "df = pd.read_csv(\"Datasets/melbourne_housing-raw.csv\")"
   ],
   "metadata": {
    "collapsed": false,
    "ExecuteTime": {
     "end_time": "2023-07-14T03:48:21.877828900Z",
     "start_time": "2023-07-14T03:48:21.823507200Z"
    }
   }
  },
  {
   "cell_type": "code",
   "execution_count": 44,
   "outputs": [
    {
     "data": {
      "text/plain": "       Suburb             Address  Rooms Type      Price Method SellerG   \n0  Abbotsford       68 Studley St      2    h        NaN     SS  Jellis  \\\n1  Abbotsford        85 Turner St      2    h  1480000.0      S  Biggin   \n2  Abbotsford     25 Bloomburg St      2    h  1035000.0      S  Biggin   \n3  Abbotsford  18/659 Victoria St      3    u        NaN     VB  Rounds   \n4  Abbotsford        5 Charles St      3    h  1465000.0     SP  Biggin   \n\n        Date  Distance  Postcode  ...  Bathroom  Car  Landsize  BuildingArea   \n0  3/09/2016       2.5    3067.0  ...       1.0  1.0     126.0           NaN  \\\n1  3/12/2016       2.5    3067.0  ...       1.0  1.0     202.0           NaN   \n2  4/02/2016       2.5    3067.0  ...       1.0  0.0     156.0          79.0   \n3  4/02/2016       2.5    3067.0  ...       2.0  1.0       0.0           NaN   \n4  4/03/2017       2.5    3067.0  ...       2.0  0.0     134.0         150.0   \n\n   YearBuilt  CouncilArea Lattitude  Longtitude             Regionname   \n0        NaN        Yarra  -37.8014    144.9958  Northern Metropolitan  \\\n1        NaN        Yarra  -37.7996    144.9984  Northern Metropolitan   \n2     1900.0        Yarra  -37.8079    144.9934  Northern Metropolitan   \n3        NaN        Yarra  -37.8114    145.0116  Northern Metropolitan   \n4     1900.0        Yarra  -37.8093    144.9944  Northern Metropolitan   \n\n  Propertycount  \n0        4019.0  \n1        4019.0  \n2        4019.0  \n3        4019.0  \n4        4019.0  \n\n[5 rows x 21 columns]",
      "text/html": "<div>\n<style scoped>\n    .dataframe tbody tr th:only-of-type {\n        vertical-align: middle;\n    }\n\n    .dataframe tbody tr th {\n        vertical-align: top;\n    }\n\n    .dataframe thead th {\n        text-align: right;\n    }\n</style>\n<table border=\"1\" class=\"dataframe\">\n  <thead>\n    <tr style=\"text-align: right;\">\n      <th></th>\n      <th>Suburb</th>\n      <th>Address</th>\n      <th>Rooms</th>\n      <th>Type</th>\n      <th>Price</th>\n      <th>Method</th>\n      <th>SellerG</th>\n      <th>Date</th>\n      <th>Distance</th>\n      <th>Postcode</th>\n      <th>...</th>\n      <th>Bathroom</th>\n      <th>Car</th>\n      <th>Landsize</th>\n      <th>BuildingArea</th>\n      <th>YearBuilt</th>\n      <th>CouncilArea</th>\n      <th>Lattitude</th>\n      <th>Longtitude</th>\n      <th>Regionname</th>\n      <th>Propertycount</th>\n    </tr>\n  </thead>\n  <tbody>\n    <tr>\n      <th>0</th>\n      <td>Abbotsford</td>\n      <td>68 Studley St</td>\n      <td>2</td>\n      <td>h</td>\n      <td>NaN</td>\n      <td>SS</td>\n      <td>Jellis</td>\n      <td>3/09/2016</td>\n      <td>2.5</td>\n      <td>3067.0</td>\n      <td>...</td>\n      <td>1.0</td>\n      <td>1.0</td>\n      <td>126.0</td>\n      <td>NaN</td>\n      <td>NaN</td>\n      <td>Yarra</td>\n      <td>-37.8014</td>\n      <td>144.9958</td>\n      <td>Northern Metropolitan</td>\n      <td>4019.0</td>\n    </tr>\n    <tr>\n      <th>1</th>\n      <td>Abbotsford</td>\n      <td>85 Turner St</td>\n      <td>2</td>\n      <td>h</td>\n      <td>1480000.0</td>\n      <td>S</td>\n      <td>Biggin</td>\n      <td>3/12/2016</td>\n      <td>2.5</td>\n      <td>3067.0</td>\n      <td>...</td>\n      <td>1.0</td>\n      <td>1.0</td>\n      <td>202.0</td>\n      <td>NaN</td>\n      <td>NaN</td>\n      <td>Yarra</td>\n      <td>-37.7996</td>\n      <td>144.9984</td>\n      <td>Northern Metropolitan</td>\n      <td>4019.0</td>\n    </tr>\n    <tr>\n      <th>2</th>\n      <td>Abbotsford</td>\n      <td>25 Bloomburg St</td>\n      <td>2</td>\n      <td>h</td>\n      <td>1035000.0</td>\n      <td>S</td>\n      <td>Biggin</td>\n      <td>4/02/2016</td>\n      <td>2.5</td>\n      <td>3067.0</td>\n      <td>...</td>\n      <td>1.0</td>\n      <td>0.0</td>\n      <td>156.0</td>\n      <td>79.0</td>\n      <td>1900.0</td>\n      <td>Yarra</td>\n      <td>-37.8079</td>\n      <td>144.9934</td>\n      <td>Northern Metropolitan</td>\n      <td>4019.0</td>\n    </tr>\n    <tr>\n      <th>3</th>\n      <td>Abbotsford</td>\n      <td>18/659 Victoria St</td>\n      <td>3</td>\n      <td>u</td>\n      <td>NaN</td>\n      <td>VB</td>\n      <td>Rounds</td>\n      <td>4/02/2016</td>\n      <td>2.5</td>\n      <td>3067.0</td>\n      <td>...</td>\n      <td>2.0</td>\n      <td>1.0</td>\n      <td>0.0</td>\n      <td>NaN</td>\n      <td>NaN</td>\n      <td>Yarra</td>\n      <td>-37.8114</td>\n      <td>145.0116</td>\n      <td>Northern Metropolitan</td>\n      <td>4019.0</td>\n    </tr>\n    <tr>\n      <th>4</th>\n      <td>Abbotsford</td>\n      <td>5 Charles St</td>\n      <td>3</td>\n      <td>h</td>\n      <td>1465000.0</td>\n      <td>SP</td>\n      <td>Biggin</td>\n      <td>4/03/2017</td>\n      <td>2.5</td>\n      <td>3067.0</td>\n      <td>...</td>\n      <td>2.0</td>\n      <td>0.0</td>\n      <td>134.0</td>\n      <td>150.0</td>\n      <td>1900.0</td>\n      <td>Yarra</td>\n      <td>-37.8093</td>\n      <td>144.9944</td>\n      <td>Northern Metropolitan</td>\n      <td>4019.0</td>\n    </tr>\n  </tbody>\n</table>\n<p>5 rows × 21 columns</p>\n</div>"
     },
     "execution_count": 44,
     "metadata": {},
     "output_type": "execute_result"
    }
   ],
   "source": [
    "df.head()"
   ],
   "metadata": {
    "collapsed": false,
    "ExecuteTime": {
     "end_time": "2023-07-14T03:48:22.712185400Z",
     "start_time": "2023-07-14T03:48:22.683390200Z"
    }
   }
  },
  {
   "cell_type": "code",
   "execution_count": 45,
   "outputs": [
    {
     "data": {
      "text/plain": "(19740, 21)"
     },
     "execution_count": 45,
     "metadata": {},
     "output_type": "execute_result"
    }
   ],
   "source": [
    "df.shape"
   ],
   "metadata": {
    "collapsed": false,
    "ExecuteTime": {
     "end_time": "2023-07-14T03:48:25.846391400Z",
     "start_time": "2023-07-14T03:48:25.818098200Z"
    }
   }
  },
  {
   "cell_type": "code",
   "execution_count": 46,
   "outputs": [
    {
     "data": {
      "text/plain": "           Suburb               Address  Rooms Type      Price Method   \n19735     Windsor       201/152 Peel St      2    u   560000.0     PI  \\\n19736     Wollert       60 Saltlake Bvd      3    h   525300.0      S   \n19737  Yarraville           2 Adeney St      2    h   750000.0     SP   \n19738  Yarraville       54 Pentland Pde      6    h  2450000.0     VB   \n19739  Yarraville  10/127 Somerville Rd      3    t   645000.0     SP   \n\n             SellerG        Date  Distance  Postcode  ...  Bathroom  Car   \n19735  hockingstuart  29/07/2017       4.6    3181.0  ...       1.0  1.0  \\\n19736      Stockdale  29/07/2017      25.5    3750.0  ...       2.0  2.0   \n19737  hockingstuart  29/07/2017       6.3    3013.0  ...       2.0  2.0   \n19738        Village  29/07/2017       6.3    3013.0  ...       2.0  1.0   \n19739            Jas  29/07/2017       6.3    3013.0  ...       1.0  1.0   \n\n       Landsize  BuildingArea  YearBuilt  CouncilArea Lattitude  Longtitude   \n19735       NaN         585.0        NaN   Whittlesea -37.67681   145.00323  \\\n19736       NaN         333.0        NaN      Darebin -37.75884   145.00264   \n19737    1999.0         199.0     140.00      Darebin -37.75948   144.99615   \n19738    2011.0         238.0     118.00         Hume -37.70322   144.88236   \n19739    1980.0           0.0      66.32         Hume -37.69815   144.88019   \n\n                  Regionname Propertycount  \n19735  Southern Metropolitan        4380.0  \n19736  Northern Metropolitan        2940.0  \n19737   Western Metropolitan        6543.0  \n19738   Western Metropolitan        6543.0  \n19739   Western Metropolitan        6543.0  \n\n[5 rows x 21 columns]",
      "text/html": "<div>\n<style scoped>\n    .dataframe tbody tr th:only-of-type {\n        vertical-align: middle;\n    }\n\n    .dataframe tbody tr th {\n        vertical-align: top;\n    }\n\n    .dataframe thead th {\n        text-align: right;\n    }\n</style>\n<table border=\"1\" class=\"dataframe\">\n  <thead>\n    <tr style=\"text-align: right;\">\n      <th></th>\n      <th>Suburb</th>\n      <th>Address</th>\n      <th>Rooms</th>\n      <th>Type</th>\n      <th>Price</th>\n      <th>Method</th>\n      <th>SellerG</th>\n      <th>Date</th>\n      <th>Distance</th>\n      <th>Postcode</th>\n      <th>...</th>\n      <th>Bathroom</th>\n      <th>Car</th>\n      <th>Landsize</th>\n      <th>BuildingArea</th>\n      <th>YearBuilt</th>\n      <th>CouncilArea</th>\n      <th>Lattitude</th>\n      <th>Longtitude</th>\n      <th>Regionname</th>\n      <th>Propertycount</th>\n    </tr>\n  </thead>\n  <tbody>\n    <tr>\n      <th>19735</th>\n      <td>Windsor</td>\n      <td>201/152 Peel St</td>\n      <td>2</td>\n      <td>u</td>\n      <td>560000.0</td>\n      <td>PI</td>\n      <td>hockingstuart</td>\n      <td>29/07/2017</td>\n      <td>4.6</td>\n      <td>3181.0</td>\n      <td>...</td>\n      <td>1.0</td>\n      <td>1.0</td>\n      <td>NaN</td>\n      <td>585.0</td>\n      <td>NaN</td>\n      <td>Whittlesea</td>\n      <td>-37.67681</td>\n      <td>145.00323</td>\n      <td>Southern Metropolitan</td>\n      <td>4380.0</td>\n    </tr>\n    <tr>\n      <th>19736</th>\n      <td>Wollert</td>\n      <td>60 Saltlake Bvd</td>\n      <td>3</td>\n      <td>h</td>\n      <td>525300.0</td>\n      <td>S</td>\n      <td>Stockdale</td>\n      <td>29/07/2017</td>\n      <td>25.5</td>\n      <td>3750.0</td>\n      <td>...</td>\n      <td>2.0</td>\n      <td>2.0</td>\n      <td>NaN</td>\n      <td>333.0</td>\n      <td>NaN</td>\n      <td>Darebin</td>\n      <td>-37.75884</td>\n      <td>145.00264</td>\n      <td>Northern Metropolitan</td>\n      <td>2940.0</td>\n    </tr>\n    <tr>\n      <th>19737</th>\n      <td>Yarraville</td>\n      <td>2 Adeney St</td>\n      <td>2</td>\n      <td>h</td>\n      <td>750000.0</td>\n      <td>SP</td>\n      <td>hockingstuart</td>\n      <td>29/07/2017</td>\n      <td>6.3</td>\n      <td>3013.0</td>\n      <td>...</td>\n      <td>2.0</td>\n      <td>2.0</td>\n      <td>1999.0</td>\n      <td>199.0</td>\n      <td>140.00</td>\n      <td>Darebin</td>\n      <td>-37.75948</td>\n      <td>144.99615</td>\n      <td>Western Metropolitan</td>\n      <td>6543.0</td>\n    </tr>\n    <tr>\n      <th>19738</th>\n      <td>Yarraville</td>\n      <td>54 Pentland Pde</td>\n      <td>6</td>\n      <td>h</td>\n      <td>2450000.0</td>\n      <td>VB</td>\n      <td>Village</td>\n      <td>29/07/2017</td>\n      <td>6.3</td>\n      <td>3013.0</td>\n      <td>...</td>\n      <td>2.0</td>\n      <td>1.0</td>\n      <td>2011.0</td>\n      <td>238.0</td>\n      <td>118.00</td>\n      <td>Hume</td>\n      <td>-37.70322</td>\n      <td>144.88236</td>\n      <td>Western Metropolitan</td>\n      <td>6543.0</td>\n    </tr>\n    <tr>\n      <th>19739</th>\n      <td>Yarraville</td>\n      <td>10/127 Somerville Rd</td>\n      <td>3</td>\n      <td>t</td>\n      <td>645000.0</td>\n      <td>SP</td>\n      <td>Jas</td>\n      <td>29/07/2017</td>\n      <td>6.3</td>\n      <td>3013.0</td>\n      <td>...</td>\n      <td>1.0</td>\n      <td>1.0</td>\n      <td>1980.0</td>\n      <td>0.0</td>\n      <td>66.32</td>\n      <td>Hume</td>\n      <td>-37.69815</td>\n      <td>144.88019</td>\n      <td>Western Metropolitan</td>\n      <td>6543.0</td>\n    </tr>\n  </tbody>\n</table>\n<p>5 rows × 21 columns</p>\n</div>"
     },
     "execution_count": 46,
     "metadata": {},
     "output_type": "execute_result"
    }
   ],
   "source": [
    "df.tail()"
   ],
   "metadata": {
    "collapsed": false,
    "ExecuteTime": {
     "end_time": "2023-07-14T03:48:26.721230400Z",
     "start_time": "2023-07-14T03:48:26.692238400Z"
    }
   }
  },
  {
   "cell_type": "code",
   "execution_count": 47,
   "outputs": [
    {
     "name": "stdout",
     "output_type": "stream",
     "text": [
      "<class 'pandas.core.frame.DataFrame'>\n",
      "RangeIndex: 19740 entries, 0 to 19739\n",
      "Data columns (total 21 columns):\n",
      " #   Column         Non-Null Count  Dtype  \n",
      "---  ------         --------------  -----  \n",
      " 0   Suburb         19740 non-null  object \n",
      " 1   Address        19740 non-null  object \n",
      " 2   Rooms          19740 non-null  int64  \n",
      " 3   Type           19740 non-null  object \n",
      " 4   Price          15396 non-null  float64\n",
      " 5   Method         19740 non-null  object \n",
      " 6   SellerG        19740 non-null  object \n",
      " 7   Date           19740 non-null  object \n",
      " 8   Distance       19732 non-null  float64\n",
      " 9   Postcode       19732 non-null  float64\n",
      " 10  Bedroom2       15327 non-null  float64\n",
      " 11  Bathroom       15327 non-null  float64\n",
      " 12  Car            15327 non-null  float64\n",
      " 13  Landsize       14944 non-null  float64\n",
      " 14  BuildingArea   8617 non-null   float64\n",
      " 15  YearBuilt      9351 non-null   float64\n",
      " 16  CouncilArea    15296 non-null  object \n",
      " 17  Lattitude      15448 non-null  float64\n",
      " 18  Longtitude     15448 non-null  float64\n",
      " 19  Regionname     19732 non-null  object \n",
      " 20  Propertycount  19732 non-null  float64\n",
      "dtypes: float64(12), int64(1), object(8)\n",
      "memory usage: 3.2+ MB\n"
     ]
    }
   ],
   "source": [
    "df.info(all)"
   ],
   "metadata": {
    "collapsed": false,
    "ExecuteTime": {
     "end_time": "2023-07-14T03:48:27.259488200Z",
     "start_time": "2023-07-14T03:48:27.241811100Z"
    }
   }
  },
  {
   "cell_type": "code",
   "execution_count": 48,
   "outputs": [
    {
     "data": {
      "text/plain": "Index(['Suburb', 'Address', 'Rooms', 'Type', 'Price', 'Method', 'SellerG',\n       'Date', 'Distance', 'Postcode', 'Bedroom2', 'Bathroom', 'Car',\n       'Landsize', 'BuildingArea', 'YearBuilt', 'CouncilArea', 'Lattitude',\n       'Longtitude', 'Regionname', 'Propertycount'],\n      dtype='object')"
     },
     "execution_count": 48,
     "metadata": {},
     "output_type": "execute_result"
    }
   ],
   "source": [
    "df.columns"
   ],
   "metadata": {
    "collapsed": false,
    "ExecuteTime": {
     "end_time": "2023-07-14T03:48:27.725609500Z",
     "start_time": "2023-07-14T03:48:27.709534Z"
    }
   }
  },
  {
   "cell_type": "code",
   "execution_count": 49,
   "outputs": [
    {
     "data": {
      "text/plain": "<bound method DataFrame.isna of            Suburb               Address  Rooms Type      Price Method   \n0      Abbotsford         68 Studley St      2    h        NaN     SS  \\\n1      Abbotsford          85 Turner St      2    h  1480000.0      S   \n2      Abbotsford       25 Bloomburg St      2    h  1035000.0      S   \n3      Abbotsford    18/659 Victoria St      3    u        NaN     VB   \n4      Abbotsford          5 Charles St      3    h  1465000.0     SP   \n...           ...                   ...    ...  ...        ...    ...   \n19735     Windsor       201/152 Peel St      2    u   560000.0     PI   \n19736     Wollert       60 Saltlake Bvd      3    h   525300.0      S   \n19737  Yarraville           2 Adeney St      2    h   750000.0     SP   \n19738  Yarraville       54 Pentland Pde      6    h  2450000.0     VB   \n19739  Yarraville  10/127 Somerville Rd      3    t   645000.0     SP   \n\n             SellerG        Date  Distance  Postcode  ...  Bathroom  Car   \n0             Jellis   3/09/2016       2.5    3067.0  ...       1.0  1.0  \\\n1             Biggin   3/12/2016       2.5    3067.0  ...       1.0  1.0   \n2             Biggin   4/02/2016       2.5    3067.0  ...       1.0  0.0   \n3             Rounds   4/02/2016       2.5    3067.0  ...       2.0  1.0   \n4             Biggin   4/03/2017       2.5    3067.0  ...       2.0  0.0   \n...              ...         ...       ...       ...  ...       ...  ...   \n19735  hockingstuart  29/07/2017       4.6    3181.0  ...       1.0  1.0   \n19736      Stockdale  29/07/2017      25.5    3750.0  ...       2.0  2.0   \n19737  hockingstuart  29/07/2017       6.3    3013.0  ...       2.0  2.0   \n19738        Village  29/07/2017       6.3    3013.0  ...       2.0  1.0   \n19739            Jas  29/07/2017       6.3    3013.0  ...       1.0  1.0   \n\n       Landsize  BuildingArea  YearBuilt  CouncilArea Lattitude  Longtitude   \n0         126.0           NaN        NaN        Yarra -37.80140   144.99580  \\\n1         202.0           NaN        NaN        Yarra -37.79960   144.99840   \n2         156.0          79.0    1900.00        Yarra -37.80790   144.99340   \n3           0.0           NaN        NaN        Yarra -37.81140   145.01160   \n4         134.0         150.0    1900.00        Yarra -37.80930   144.99440   \n...         ...           ...        ...          ...       ...         ...   \n19735       NaN         585.0        NaN   Whittlesea -37.67681   145.00323   \n19736       NaN         333.0        NaN      Darebin -37.75884   145.00264   \n19737    1999.0         199.0     140.00      Darebin -37.75948   144.99615   \n19738    2011.0         238.0     118.00         Hume -37.70322   144.88236   \n19739    1980.0           0.0      66.32         Hume -37.69815   144.88019   \n\n                  Regionname Propertycount  \n0      Northern Metropolitan        4019.0  \n1      Northern Metropolitan        4019.0  \n2      Northern Metropolitan        4019.0  \n3      Northern Metropolitan        4019.0  \n4      Northern Metropolitan        4019.0  \n...                      ...           ...  \n19735  Southern Metropolitan        4380.0  \n19736  Northern Metropolitan        2940.0  \n19737   Western Metropolitan        6543.0  \n19738   Western Metropolitan        6543.0  \n19739   Western Metropolitan        6543.0  \n\n[19740 rows x 21 columns]>"
     },
     "execution_count": 49,
     "metadata": {},
     "output_type": "execute_result"
    }
   ],
   "source": [
    "df.isna"
   ],
   "metadata": {
    "collapsed": false,
    "ExecuteTime": {
     "end_time": "2023-07-14T03:48:28.238019500Z",
     "start_time": "2023-07-14T03:48:28.206230800Z"
    }
   }
  },
  {
   "cell_type": "code",
   "execution_count": 50,
   "outputs": [
    {
     "data": {
      "text/plain": "Suburb               0\nAddress              0\nRooms                0\nType                 0\nPrice             4344\nMethod               0\nSellerG              0\nDate                 0\nDistance             8\nPostcode             8\nBedroom2          4413\nBathroom          4413\nCar               4413\nLandsize          4796\nBuildingArea     11123\nYearBuilt        10389\nCouncilArea       4444\nLattitude         4292\nLongtitude        4292\nRegionname           8\nPropertycount        8\ndtype: int64"
     },
     "execution_count": 50,
     "metadata": {},
     "output_type": "execute_result"
    }
   ],
   "source": [
    "df.isna().sum(axis=0)"
   ],
   "metadata": {
    "collapsed": false,
    "ExecuteTime": {
     "end_time": "2023-07-14T03:48:28.926435500Z",
     "start_time": "2023-07-14T03:48:28.911436900Z"
    }
   }
  },
  {
   "cell_type": "code",
   "execution_count": 61,
   "outputs": [
    {
     "data": {
      "text/plain": "0        3\n1        2\n2        0\n3        3\n4        0\n        ..\n19735    2\n19736    2\n19737    0\n19738    0\n19739    0\nLength: 19740, dtype: int64"
     },
     "execution_count": 61,
     "metadata": {},
     "output_type": "execute_result"
    }
   ],
   "source": [
    "df.isna().sum(axis=1)"
   ],
   "metadata": {
    "collapsed": false,
    "ExecuteTime": {
     "end_time": "2023-07-14T03:49:48.219119Z",
     "start_time": "2023-07-14T03:49:48.205601800Z"
    }
   }
  },
  {
   "cell_type": "code",
   "execution_count": 77,
   "outputs": [],
   "source": [
    "df1 =  df.dropna(axis=1, how= 'any')"
   ],
   "metadata": {
    "collapsed": false,
    "ExecuteTime": {
     "end_time": "2023-07-14T03:52:19.767178200Z",
     "start_time": "2023-07-14T03:52:19.740163700Z"
    }
   }
  },
  {
   "cell_type": "code",
   "execution_count": 84,
   "outputs": [],
   "source": [
    "df2 = df.dropna( how= 'any')"
   ],
   "metadata": {
    "collapsed": false,
    "ExecuteTime": {
     "end_time": "2023-07-14T03:52:38.902484800Z",
     "start_time": "2023-07-14T03:52:38.877128700Z"
    }
   }
  },
  {
   "cell_type": "code",
   "execution_count": 85,
   "outputs": [
    {
     "data": {
      "text/plain": "(19740, 7)"
     },
     "execution_count": 85,
     "metadata": {},
     "output_type": "execute_result"
    }
   ],
   "source": [
    "df1.shape"
   ],
   "metadata": {
    "collapsed": false,
    "ExecuteTime": {
     "end_time": "2023-07-14T03:52:39.381296800Z",
     "start_time": "2023-07-14T03:52:39.366748500Z"
    }
   }
  },
  {
   "cell_type": "code",
   "execution_count": 86,
   "outputs": [
    {
     "data": {
      "text/plain": "(6050, 21)"
     },
     "execution_count": 86,
     "metadata": {},
     "output_type": "execute_result"
    }
   ],
   "source": [
    "df2.shape"
   ],
   "metadata": {
    "collapsed": false,
    "ExecuteTime": {
     "end_time": "2023-07-14T03:52:39.775787200Z",
     "start_time": "2023-07-14T03:52:39.742277100Z"
    }
   }
  },
  {
   "cell_type": "code",
   "execution_count": 87,
   "outputs": [
    {
     "data": {
      "text/plain": "            Suburb               Address  Rooms Type      Price Method   \n0       Abbotsford       25 Bloomburg St      2    h  1035000.0      S  \\\n1       Abbotsford          5 Charles St      3    h  1465000.0     SP   \n2       Abbotsford           55a Park St      4    h  1600000.0     VB   \n3       Abbotsford          124 Yarra St      3    h  1876000.0      S   \n4       Abbotsford         98 Charles St      2    h  1636000.0      S   \n...            ...                   ...    ...  ...        ...    ...   \n6045    Whittlesea         30 Sherwin St      3    h   601000.0      S   \n6046  Williamstown           87 Pasco St      3    h  1285000.0      S   \n6047    Yarraville           2 Adeney St      2    h   750000.0     SP   \n6048    Yarraville       54 Pentland Pde      6    h  2450000.0     VB   \n6049    Yarraville  10/127 Somerville Rd      3    t   645000.0     SP   \n\n            SellerG        Date  Distance  Postcode  ...  Bathroom  Car   \n0            Biggin   4/02/2016       2.5    3067.0  ...       1.0  0.0  \\\n1            Biggin   4/03/2017       2.5    3067.0  ...       2.0  0.0   \n2            Nelson   4/06/2016       2.5    3067.0  ...       1.0  2.0   \n3            Nelson   7/05/2016       2.5    3067.0  ...       2.0  0.0   \n4            Nelson   8/10/2016       2.5    3067.0  ...       1.0  2.0   \n...             ...         ...       ...       ...  ...       ...  ...   \n6045            Ray  29/07/2017      35.5    3757.0  ...       2.0  2.0   \n6046            Jas  29/07/2017       6.8    3016.0  ...       1.0  1.0   \n6047  hockingstuart  29/07/2017       6.3    3013.0  ...       2.0  2.0   \n6048        Village  29/07/2017       6.3    3013.0  ...       2.0  1.0   \n6049            Jas  29/07/2017       6.3    3013.0  ...       1.0  1.0   \n\n      Landsize  BuildingArea  YearBuilt  CouncilArea Lattitude  Longtitude   \n0        156.0          79.0    1900.00        Yarra -37.80790   144.99340  \\\n1        134.0         150.0    1900.00        Yarra -37.80930   144.99440   \n2        120.0         142.0    2014.00        Yarra -37.80720   144.99410   \n3        245.0         210.0    1910.00        Yarra -37.80240   144.99930   \n4        256.0         107.0    1890.00        Yarra -37.80600   144.99540   \n...        ...           ...        ...          ...       ...         ...   \n6045    1970.0         779.0     135.00   Manningham -37.76311   145.10494   \n6046    2010.0         140.0      78.00   Whittlesea -37.68199   145.01744   \n6047    1999.0         199.0     140.00      Darebin -37.75948   144.99615   \n6048    2011.0         238.0     118.00         Hume -37.70322   144.88236   \n6049    1980.0           0.0      66.32         Hume -37.69815   144.88019   \n\n                 Regionname Propertycount  \n0     Northern Metropolitan        4019.0  \n1     Northern Metropolitan        4019.0  \n2     Northern Metropolitan        4019.0  \n3     Northern Metropolitan        4019.0  \n4     Northern Metropolitan        4019.0  \n...                     ...           ...  \n6045      Northern Victoria        2170.0  \n6046   Western Metropolitan        6380.0  \n6047   Western Metropolitan        6543.0  \n6048   Western Metropolitan        6543.0  \n6049   Western Metropolitan        6543.0  \n\n[6050 rows x 21 columns]",
      "text/html": "<div>\n<style scoped>\n    .dataframe tbody tr th:only-of-type {\n        vertical-align: middle;\n    }\n\n    .dataframe tbody tr th {\n        vertical-align: top;\n    }\n\n    .dataframe thead th {\n        text-align: right;\n    }\n</style>\n<table border=\"1\" class=\"dataframe\">\n  <thead>\n    <tr style=\"text-align: right;\">\n      <th></th>\n      <th>Suburb</th>\n      <th>Address</th>\n      <th>Rooms</th>\n      <th>Type</th>\n      <th>Price</th>\n      <th>Method</th>\n      <th>SellerG</th>\n      <th>Date</th>\n      <th>Distance</th>\n      <th>Postcode</th>\n      <th>...</th>\n      <th>Bathroom</th>\n      <th>Car</th>\n      <th>Landsize</th>\n      <th>BuildingArea</th>\n      <th>YearBuilt</th>\n      <th>CouncilArea</th>\n      <th>Lattitude</th>\n      <th>Longtitude</th>\n      <th>Regionname</th>\n      <th>Propertycount</th>\n    </tr>\n  </thead>\n  <tbody>\n    <tr>\n      <th>0</th>\n      <td>Abbotsford</td>\n      <td>25 Bloomburg St</td>\n      <td>2</td>\n      <td>h</td>\n      <td>1035000.0</td>\n      <td>S</td>\n      <td>Biggin</td>\n      <td>4/02/2016</td>\n      <td>2.5</td>\n      <td>3067.0</td>\n      <td>...</td>\n      <td>1.0</td>\n      <td>0.0</td>\n      <td>156.0</td>\n      <td>79.0</td>\n      <td>1900.00</td>\n      <td>Yarra</td>\n      <td>-37.80790</td>\n      <td>144.99340</td>\n      <td>Northern Metropolitan</td>\n      <td>4019.0</td>\n    </tr>\n    <tr>\n      <th>1</th>\n      <td>Abbotsford</td>\n      <td>5 Charles St</td>\n      <td>3</td>\n      <td>h</td>\n      <td>1465000.0</td>\n      <td>SP</td>\n      <td>Biggin</td>\n      <td>4/03/2017</td>\n      <td>2.5</td>\n      <td>3067.0</td>\n      <td>...</td>\n      <td>2.0</td>\n      <td>0.0</td>\n      <td>134.0</td>\n      <td>150.0</td>\n      <td>1900.00</td>\n      <td>Yarra</td>\n      <td>-37.80930</td>\n      <td>144.99440</td>\n      <td>Northern Metropolitan</td>\n      <td>4019.0</td>\n    </tr>\n    <tr>\n      <th>2</th>\n      <td>Abbotsford</td>\n      <td>55a Park St</td>\n      <td>4</td>\n      <td>h</td>\n      <td>1600000.0</td>\n      <td>VB</td>\n      <td>Nelson</td>\n      <td>4/06/2016</td>\n      <td>2.5</td>\n      <td>3067.0</td>\n      <td>...</td>\n      <td>1.0</td>\n      <td>2.0</td>\n      <td>120.0</td>\n      <td>142.0</td>\n      <td>2014.00</td>\n      <td>Yarra</td>\n      <td>-37.80720</td>\n      <td>144.99410</td>\n      <td>Northern Metropolitan</td>\n      <td>4019.0</td>\n    </tr>\n    <tr>\n      <th>3</th>\n      <td>Abbotsford</td>\n      <td>124 Yarra St</td>\n      <td>3</td>\n      <td>h</td>\n      <td>1876000.0</td>\n      <td>S</td>\n      <td>Nelson</td>\n      <td>7/05/2016</td>\n      <td>2.5</td>\n      <td>3067.0</td>\n      <td>...</td>\n      <td>2.0</td>\n      <td>0.0</td>\n      <td>245.0</td>\n      <td>210.0</td>\n      <td>1910.00</td>\n      <td>Yarra</td>\n      <td>-37.80240</td>\n      <td>144.99930</td>\n      <td>Northern Metropolitan</td>\n      <td>4019.0</td>\n    </tr>\n    <tr>\n      <th>4</th>\n      <td>Abbotsford</td>\n      <td>98 Charles St</td>\n      <td>2</td>\n      <td>h</td>\n      <td>1636000.0</td>\n      <td>S</td>\n      <td>Nelson</td>\n      <td>8/10/2016</td>\n      <td>2.5</td>\n      <td>3067.0</td>\n      <td>...</td>\n      <td>1.0</td>\n      <td>2.0</td>\n      <td>256.0</td>\n      <td>107.0</td>\n      <td>1890.00</td>\n      <td>Yarra</td>\n      <td>-37.80600</td>\n      <td>144.99540</td>\n      <td>Northern Metropolitan</td>\n      <td>4019.0</td>\n    </tr>\n    <tr>\n      <th>...</th>\n      <td>...</td>\n      <td>...</td>\n      <td>...</td>\n      <td>...</td>\n      <td>...</td>\n      <td>...</td>\n      <td>...</td>\n      <td>...</td>\n      <td>...</td>\n      <td>...</td>\n      <td>...</td>\n      <td>...</td>\n      <td>...</td>\n      <td>...</td>\n      <td>...</td>\n      <td>...</td>\n      <td>...</td>\n      <td>...</td>\n      <td>...</td>\n      <td>...</td>\n      <td>...</td>\n    </tr>\n    <tr>\n      <th>6045</th>\n      <td>Whittlesea</td>\n      <td>30 Sherwin St</td>\n      <td>3</td>\n      <td>h</td>\n      <td>601000.0</td>\n      <td>S</td>\n      <td>Ray</td>\n      <td>29/07/2017</td>\n      <td>35.5</td>\n      <td>3757.0</td>\n      <td>...</td>\n      <td>2.0</td>\n      <td>2.0</td>\n      <td>1970.0</td>\n      <td>779.0</td>\n      <td>135.00</td>\n      <td>Manningham</td>\n      <td>-37.76311</td>\n      <td>145.10494</td>\n      <td>Northern Victoria</td>\n      <td>2170.0</td>\n    </tr>\n    <tr>\n      <th>6046</th>\n      <td>Williamstown</td>\n      <td>87 Pasco St</td>\n      <td>3</td>\n      <td>h</td>\n      <td>1285000.0</td>\n      <td>S</td>\n      <td>Jas</td>\n      <td>29/07/2017</td>\n      <td>6.8</td>\n      <td>3016.0</td>\n      <td>...</td>\n      <td>1.0</td>\n      <td>1.0</td>\n      <td>2010.0</td>\n      <td>140.0</td>\n      <td>78.00</td>\n      <td>Whittlesea</td>\n      <td>-37.68199</td>\n      <td>145.01744</td>\n      <td>Western Metropolitan</td>\n      <td>6380.0</td>\n    </tr>\n    <tr>\n      <th>6047</th>\n      <td>Yarraville</td>\n      <td>2 Adeney St</td>\n      <td>2</td>\n      <td>h</td>\n      <td>750000.0</td>\n      <td>SP</td>\n      <td>hockingstuart</td>\n      <td>29/07/2017</td>\n      <td>6.3</td>\n      <td>3013.0</td>\n      <td>...</td>\n      <td>2.0</td>\n      <td>2.0</td>\n      <td>1999.0</td>\n      <td>199.0</td>\n      <td>140.00</td>\n      <td>Darebin</td>\n      <td>-37.75948</td>\n      <td>144.99615</td>\n      <td>Western Metropolitan</td>\n      <td>6543.0</td>\n    </tr>\n    <tr>\n      <th>6048</th>\n      <td>Yarraville</td>\n      <td>54 Pentland Pde</td>\n      <td>6</td>\n      <td>h</td>\n      <td>2450000.0</td>\n      <td>VB</td>\n      <td>Village</td>\n      <td>29/07/2017</td>\n      <td>6.3</td>\n      <td>3013.0</td>\n      <td>...</td>\n      <td>2.0</td>\n      <td>1.0</td>\n      <td>2011.0</td>\n      <td>238.0</td>\n      <td>118.00</td>\n      <td>Hume</td>\n      <td>-37.70322</td>\n      <td>144.88236</td>\n      <td>Western Metropolitan</td>\n      <td>6543.0</td>\n    </tr>\n    <tr>\n      <th>6049</th>\n      <td>Yarraville</td>\n      <td>10/127 Somerville Rd</td>\n      <td>3</td>\n      <td>t</td>\n      <td>645000.0</td>\n      <td>SP</td>\n      <td>Jas</td>\n      <td>29/07/2017</td>\n      <td>6.3</td>\n      <td>3013.0</td>\n      <td>...</td>\n      <td>1.0</td>\n      <td>1.0</td>\n      <td>1980.0</td>\n      <td>0.0</td>\n      <td>66.32</td>\n      <td>Hume</td>\n      <td>-37.69815</td>\n      <td>144.88019</td>\n      <td>Western Metropolitan</td>\n      <td>6543.0</td>\n    </tr>\n  </tbody>\n</table>\n<p>6050 rows × 21 columns</p>\n</div>"
     },
     "execution_count": 87,
     "metadata": {},
     "output_type": "execute_result"
    }
   ],
   "source": [
    "df2.reset_index(drop=True)"
   ],
   "metadata": {
    "collapsed": false,
    "ExecuteTime": {
     "end_time": "2023-07-14T03:52:47.348142900Z",
     "start_time": "2023-07-14T03:52:47.302653100Z"
    }
   }
  },
  {
   "cell_type": "code",
   "execution_count": 88,
   "outputs": [],
   "source": [
    "column_name_mapping = {\n",
    "    'Suburb': 'suburb',\n",
    "    'Address': 'address',\n",
    "    'Rooms': 'rooms',\n",
    "    'Type': 'type',\n",
    "    'Price': 'price',\n",
    "    'Method': 'method',\n",
    "    'SellerG': 'seller_g',\n",
    "    'Date': 'date',\n",
    "    'Distance': 'distance',\n",
    "    'Postcode': 'post_code',\n",
    "    'Bedroom2': 'bedrooms',\n",
    "    'Bathroom': 'bathroom',\n",
    "    'Car': 'car',\n",
    "    'Landsize': 'land_size',\n",
    "    'CouncilArea': 'council_area',\n",
    "    'Lattitude': 'latitude',\n",
    "    'Longtitude': 'longitude',\n",
    "    'Regionname': 'region_name',\n",
    "    'Propertycount': 'property_count'\n",
    "}"
   ],
   "metadata": {
    "collapsed": false,
    "ExecuteTime": {
     "end_time": "2023-07-14T03:52:48.602488400Z",
     "start_time": "2023-07-14T03:52:48.584839300Z"
    }
   }
  },
  {
   "cell_type": "code",
   "execution_count": 95,
   "outputs": [
    {
     "data": {
      "text/plain": "             suburb               address  rooms type      price method   \n2        Abbotsford       25 Bloomburg St      2    h  1035000.0      S  \\\n4        Abbotsford          5 Charles St      3    h  1465000.0     SP   \n6        Abbotsford           55a Park St      4    h  1600000.0     VB   \n11       Abbotsford          124 Yarra St      3    h  1876000.0      S   \n14       Abbotsford         98 Charles St      2    h  1636000.0      S   \n...             ...                   ...    ...  ...        ...    ...   \n19731    Whittlesea         30 Sherwin St      3    h   601000.0      S   \n19734  Williamstown           87 Pasco St      3    h  1285000.0      S   \n19737    Yarraville           2 Adeney St      2    h   750000.0     SP   \n19738    Yarraville       54 Pentland Pde      6    h  2450000.0     VB   \n19739    Yarraville  10/127 Somerville Rd      3    t   645000.0     SP   \n\n            seller_g        date  distance  post_code  ...  bathroom  car   \n2             Biggin   4/02/2016       2.5     3067.0  ...       1.0  0.0  \\\n4             Biggin   4/03/2017       2.5     3067.0  ...       2.0  0.0   \n6             Nelson   4/06/2016       2.5     3067.0  ...       1.0  2.0   \n11            Nelson   7/05/2016       2.5     3067.0  ...       2.0  0.0   \n14            Nelson   8/10/2016       2.5     3067.0  ...       1.0  2.0   \n...              ...         ...       ...        ...  ...       ...  ...   \n19731            Ray  29/07/2017      35.5     3757.0  ...       2.0  2.0   \n19734            Jas  29/07/2017       6.8     3016.0  ...       1.0  1.0   \n19737  hockingstuart  29/07/2017       6.3     3013.0  ...       2.0  2.0   \n19738        Village  29/07/2017       6.3     3013.0  ...       2.0  1.0   \n19739            Jas  29/07/2017       6.3     3013.0  ...       1.0  1.0   \n\n       land_size  BuildingArea  YearBuilt  council_area  latitude  longitude   \n2          156.0          79.0    1900.00         Yarra -37.80790  144.99340  \\\n4          134.0         150.0    1900.00         Yarra -37.80930  144.99440   \n6          120.0         142.0    2014.00         Yarra -37.80720  144.99410   \n11         245.0         210.0    1910.00         Yarra -37.80240  144.99930   \n14         256.0         107.0    1890.00         Yarra -37.80600  144.99540   \n...          ...           ...        ...           ...       ...        ...   \n19731     1970.0         779.0     135.00    Manningham -37.76311  145.10494   \n19734     2010.0         140.0      78.00    Whittlesea -37.68199  145.01744   \n19737     1999.0         199.0     140.00       Darebin -37.75948  144.99615   \n19738     2011.0         238.0     118.00          Hume -37.70322  144.88236   \n19739     1980.0           0.0      66.32          Hume -37.69815  144.88019   \n\n                 region_name property_count  \n2      Northern Metropolitan         4019.0  \n4      Northern Metropolitan         4019.0  \n6      Northern Metropolitan         4019.0  \n11     Northern Metropolitan         4019.0  \n14     Northern Metropolitan         4019.0  \n...                      ...            ...  \n19731      Northern Victoria         2170.0  \n19734   Western Metropolitan         6380.0  \n19737   Western Metropolitan         6543.0  \n19738   Western Metropolitan         6543.0  \n19739   Western Metropolitan         6543.0  \n\n[6050 rows x 21 columns]",
      "text/html": "<div>\n<style scoped>\n    .dataframe tbody tr th:only-of-type {\n        vertical-align: middle;\n    }\n\n    .dataframe tbody tr th {\n        vertical-align: top;\n    }\n\n    .dataframe thead th {\n        text-align: right;\n    }\n</style>\n<table border=\"1\" class=\"dataframe\">\n  <thead>\n    <tr style=\"text-align: right;\">\n      <th></th>\n      <th>suburb</th>\n      <th>address</th>\n      <th>rooms</th>\n      <th>type</th>\n      <th>price</th>\n      <th>method</th>\n      <th>seller_g</th>\n      <th>date</th>\n      <th>distance</th>\n      <th>post_code</th>\n      <th>...</th>\n      <th>bathroom</th>\n      <th>car</th>\n      <th>land_size</th>\n      <th>BuildingArea</th>\n      <th>YearBuilt</th>\n      <th>council_area</th>\n      <th>latitude</th>\n      <th>longitude</th>\n      <th>region_name</th>\n      <th>property_count</th>\n    </tr>\n  </thead>\n  <tbody>\n    <tr>\n      <th>2</th>\n      <td>Abbotsford</td>\n      <td>25 Bloomburg St</td>\n      <td>2</td>\n      <td>h</td>\n      <td>1035000.0</td>\n      <td>S</td>\n      <td>Biggin</td>\n      <td>4/02/2016</td>\n      <td>2.5</td>\n      <td>3067.0</td>\n      <td>...</td>\n      <td>1.0</td>\n      <td>0.0</td>\n      <td>156.0</td>\n      <td>79.0</td>\n      <td>1900.00</td>\n      <td>Yarra</td>\n      <td>-37.80790</td>\n      <td>144.99340</td>\n      <td>Northern Metropolitan</td>\n      <td>4019.0</td>\n    </tr>\n    <tr>\n      <th>4</th>\n      <td>Abbotsford</td>\n      <td>5 Charles St</td>\n      <td>3</td>\n      <td>h</td>\n      <td>1465000.0</td>\n      <td>SP</td>\n      <td>Biggin</td>\n      <td>4/03/2017</td>\n      <td>2.5</td>\n      <td>3067.0</td>\n      <td>...</td>\n      <td>2.0</td>\n      <td>0.0</td>\n      <td>134.0</td>\n      <td>150.0</td>\n      <td>1900.00</td>\n      <td>Yarra</td>\n      <td>-37.80930</td>\n      <td>144.99440</td>\n      <td>Northern Metropolitan</td>\n      <td>4019.0</td>\n    </tr>\n    <tr>\n      <th>6</th>\n      <td>Abbotsford</td>\n      <td>55a Park St</td>\n      <td>4</td>\n      <td>h</td>\n      <td>1600000.0</td>\n      <td>VB</td>\n      <td>Nelson</td>\n      <td>4/06/2016</td>\n      <td>2.5</td>\n      <td>3067.0</td>\n      <td>...</td>\n      <td>1.0</td>\n      <td>2.0</td>\n      <td>120.0</td>\n      <td>142.0</td>\n      <td>2014.00</td>\n      <td>Yarra</td>\n      <td>-37.80720</td>\n      <td>144.99410</td>\n      <td>Northern Metropolitan</td>\n      <td>4019.0</td>\n    </tr>\n    <tr>\n      <th>11</th>\n      <td>Abbotsford</td>\n      <td>124 Yarra St</td>\n      <td>3</td>\n      <td>h</td>\n      <td>1876000.0</td>\n      <td>S</td>\n      <td>Nelson</td>\n      <td>7/05/2016</td>\n      <td>2.5</td>\n      <td>3067.0</td>\n      <td>...</td>\n      <td>2.0</td>\n      <td>0.0</td>\n      <td>245.0</td>\n      <td>210.0</td>\n      <td>1910.00</td>\n      <td>Yarra</td>\n      <td>-37.80240</td>\n      <td>144.99930</td>\n      <td>Northern Metropolitan</td>\n      <td>4019.0</td>\n    </tr>\n    <tr>\n      <th>14</th>\n      <td>Abbotsford</td>\n      <td>98 Charles St</td>\n      <td>2</td>\n      <td>h</td>\n      <td>1636000.0</td>\n      <td>S</td>\n      <td>Nelson</td>\n      <td>8/10/2016</td>\n      <td>2.5</td>\n      <td>3067.0</td>\n      <td>...</td>\n      <td>1.0</td>\n      <td>2.0</td>\n      <td>256.0</td>\n      <td>107.0</td>\n      <td>1890.00</td>\n      <td>Yarra</td>\n      <td>-37.80600</td>\n      <td>144.99540</td>\n      <td>Northern Metropolitan</td>\n      <td>4019.0</td>\n    </tr>\n    <tr>\n      <th>...</th>\n      <td>...</td>\n      <td>...</td>\n      <td>...</td>\n      <td>...</td>\n      <td>...</td>\n      <td>...</td>\n      <td>...</td>\n      <td>...</td>\n      <td>...</td>\n      <td>...</td>\n      <td>...</td>\n      <td>...</td>\n      <td>...</td>\n      <td>...</td>\n      <td>...</td>\n      <td>...</td>\n      <td>...</td>\n      <td>...</td>\n      <td>...</td>\n      <td>...</td>\n      <td>...</td>\n    </tr>\n    <tr>\n      <th>19731</th>\n      <td>Whittlesea</td>\n      <td>30 Sherwin St</td>\n      <td>3</td>\n      <td>h</td>\n      <td>601000.0</td>\n      <td>S</td>\n      <td>Ray</td>\n      <td>29/07/2017</td>\n      <td>35.5</td>\n      <td>3757.0</td>\n      <td>...</td>\n      <td>2.0</td>\n      <td>2.0</td>\n      <td>1970.0</td>\n      <td>779.0</td>\n      <td>135.00</td>\n      <td>Manningham</td>\n      <td>-37.76311</td>\n      <td>145.10494</td>\n      <td>Northern Victoria</td>\n      <td>2170.0</td>\n    </tr>\n    <tr>\n      <th>19734</th>\n      <td>Williamstown</td>\n      <td>87 Pasco St</td>\n      <td>3</td>\n      <td>h</td>\n      <td>1285000.0</td>\n      <td>S</td>\n      <td>Jas</td>\n      <td>29/07/2017</td>\n      <td>6.8</td>\n      <td>3016.0</td>\n      <td>...</td>\n      <td>1.0</td>\n      <td>1.0</td>\n      <td>2010.0</td>\n      <td>140.0</td>\n      <td>78.00</td>\n      <td>Whittlesea</td>\n      <td>-37.68199</td>\n      <td>145.01744</td>\n      <td>Western Metropolitan</td>\n      <td>6380.0</td>\n    </tr>\n    <tr>\n      <th>19737</th>\n      <td>Yarraville</td>\n      <td>2 Adeney St</td>\n      <td>2</td>\n      <td>h</td>\n      <td>750000.0</td>\n      <td>SP</td>\n      <td>hockingstuart</td>\n      <td>29/07/2017</td>\n      <td>6.3</td>\n      <td>3013.0</td>\n      <td>...</td>\n      <td>2.0</td>\n      <td>2.0</td>\n      <td>1999.0</td>\n      <td>199.0</td>\n      <td>140.00</td>\n      <td>Darebin</td>\n      <td>-37.75948</td>\n      <td>144.99615</td>\n      <td>Western Metropolitan</td>\n      <td>6543.0</td>\n    </tr>\n    <tr>\n      <th>19738</th>\n      <td>Yarraville</td>\n      <td>54 Pentland Pde</td>\n      <td>6</td>\n      <td>h</td>\n      <td>2450000.0</td>\n      <td>VB</td>\n      <td>Village</td>\n      <td>29/07/2017</td>\n      <td>6.3</td>\n      <td>3013.0</td>\n      <td>...</td>\n      <td>2.0</td>\n      <td>1.0</td>\n      <td>2011.0</td>\n      <td>238.0</td>\n      <td>118.00</td>\n      <td>Hume</td>\n      <td>-37.70322</td>\n      <td>144.88236</td>\n      <td>Western Metropolitan</td>\n      <td>6543.0</td>\n    </tr>\n    <tr>\n      <th>19739</th>\n      <td>Yarraville</td>\n      <td>10/127 Somerville Rd</td>\n      <td>3</td>\n      <td>t</td>\n      <td>645000.0</td>\n      <td>SP</td>\n      <td>Jas</td>\n      <td>29/07/2017</td>\n      <td>6.3</td>\n      <td>3013.0</td>\n      <td>...</td>\n      <td>1.0</td>\n      <td>1.0</td>\n      <td>1980.0</td>\n      <td>0.0</td>\n      <td>66.32</td>\n      <td>Hume</td>\n      <td>-37.69815</td>\n      <td>144.88019</td>\n      <td>Western Metropolitan</td>\n      <td>6543.0</td>\n    </tr>\n  </tbody>\n</table>\n<p>6050 rows × 21 columns</p>\n</div>"
     },
     "execution_count": 95,
     "metadata": {},
     "output_type": "execute_result"
    }
   ],
   "source": [
    "df_renamed = df2.rename(columns=column_name_mapping)\n",
    "\n",
    "df_renamed"
   ],
   "metadata": {
    "collapsed": false,
    "ExecuteTime": {
     "end_time": "2023-07-14T03:53:02.198381600Z",
     "start_time": "2023-07-14T03:53:02.166269200Z"
    }
   }
  },
  {
   "cell_type": "code",
   "execution_count": 96,
   "outputs": [],
   "source": [
    "def  agregaciones(df,columna):\n",
    "    print(\"suma \",df[columna].sum())\n",
    "    print(\"Promedio \",df[columna].mean())\n",
    "    print(\"Minimo \",df[columna].min())\n",
    "    print(\"Maximo \",df[columna].max())"
   ],
   "metadata": {
    "collapsed": false,
    "ExecuteTime": {
     "end_time": "2023-07-14T03:53:05.459639900Z",
     "start_time": "2023-07-14T03:53:05.443390400Z"
    }
   }
  },
  {
   "cell_type": "code",
   "execution_count": 97,
   "outputs": [
    {
     "name": "stdout",
     "output_type": "stream",
     "text": [
      "suma  6482696792.0\n",
      "Promedio  1071520.1309090909\n",
      "Minimo  131000.0\n",
      "Maximo  9000000.0\n"
     ]
    }
   ],
   "source": [
    "agregaciones(df_renamed, \"price\")"
   ],
   "metadata": {
    "collapsed": false,
    "ExecuteTime": {
     "end_time": "2023-07-14T03:53:06.946207900Z",
     "start_time": "2023-07-14T03:53:06.926185200Z"
    }
   }
  },
  {
   "cell_type": "code",
   "execution_count": 98,
   "outputs": [
    {
     "name": "stdout",
     "output_type": "stream",
     "text": [
      "suma  3364745.0\n",
      "Promedio  556.1561983471074\n",
      "Minimo  0.0\n",
      "Maximo  37000.0\n"
     ]
    }
   ],
   "source": [
    "agregaciones(df_renamed, \"land_size\")"
   ],
   "metadata": {
    "collapsed": false,
    "ExecuteTime": {
     "end_time": "2023-07-14T03:53:07.600013100Z",
     "start_time": "2023-07-14T03:53:07.587875200Z"
    }
   }
  },
  {
   "cell_type": "code",
   "execution_count": 99,
   "outputs": [
    {
     "name": "stdout",
     "output_type": "stream",
     "text": [
      "suma  58441.3\n",
      "Promedio  9.659719008264464\n",
      "Minimo  0.0\n",
      "Maximo  47.4\n"
     ]
    }
   ],
   "source": [
    "agregaciones(df_renamed, \"distance\")"
   ],
   "metadata": {
    "collapsed": false,
    "ExecuteTime": {
     "end_time": "2023-07-14T03:53:08.114037100Z",
     "start_time": "2023-07-14T03:53:08.095789Z"
    }
   }
  },
  {
   "cell_type": "code",
   "execution_count": 100,
   "outputs": [
    {
     "data": {
      "text/plain": "Index(['suburb', 'address', 'rooms', 'type', 'price', 'method', 'seller_g',\n       'date', 'distance', 'post_code', 'bedrooms', 'bathroom', 'car',\n       'land_size', 'BuildingArea', 'YearBuilt', 'council_area', 'latitude',\n       'longitude', 'region_name', 'property_count'],\n      dtype='object')"
     },
     "execution_count": 100,
     "metadata": {},
     "output_type": "execute_result"
    }
   ],
   "source": [
    "df_renamed.columns"
   ],
   "metadata": {
    "collapsed": false,
    "ExecuteTime": {
     "end_time": "2023-07-14T03:53:08.601710700Z",
     "start_time": "2023-07-14T03:53:08.590438800Z"
    }
   }
  },
  {
   "cell_type": "code",
   "execution_count": null,
   "outputs": [],
   "source": [],
   "metadata": {
    "collapsed": false
   }
  }
 ],
 "metadata": {
  "kernelspec": {
   "name": "python3",
   "language": "python",
   "display_name": "Python 3 (ipykernel)"
  },
  "language_info": {
   "codemirror_mode": {
    "name": "ipython",
    "version": 3
   },
   "file_extension": ".py",
   "mimetype": "text/x-python",
   "name": "python",
   "nbconvert_exporter": "python",
   "pygments_lexer": "ipython3",
   "version": "3.8.1"
  }
 },
 "nbformat": 4,
 "nbformat_minor": 4
}
