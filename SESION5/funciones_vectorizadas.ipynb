{
 "cells": [
  {
   "cell_type": "markdown",
   "metadata": {},
   "source": [
    "## Reto 1: Funciones vectorizadas\n",
    "\n",
    "### 1. Objetivos:\n",
    "    - Practicar el uso de funciones vectorizadas\n",
    " \n",
    "---\n",
    "    \n",
    "### 2. Desarrollo:"
   ]
  },
  {
   "cell_type": "markdown",
   "metadata": {},
   "source": [
    "#### a) Porcentaje del total\n",
    "\n",
    "Eres maestro en la H. Universidad de las Américas Unidas. Has realizado el examen final de la primera generación de estudiantes de la escuela. El conteo máximo de aciertos en el examen era de 68 (es decir, 68 aciertos equivale al 100% de las preguntas respondidas correctamente). La siguiente `Serie` reúne los aciertos obtenidos por los 25 alumnos de la generación:"
   ]
  },
  {
   "cell_type": "code",
   "execution_count": 1,
   "metadata": {
    "ExecuteTime": {
     "end_time": "2023-07-14T03:03:26.684446200Z",
     "start_time": "2023-07-14T03:03:26.356089800Z"
    }
   },
   "outputs": [],
   "source": [
    "## Realizar aquí los imports que necesites\n",
    "import pandas as pd\n",
    "import numpy as np\n"
   ]
  },
  {
   "cell_type": "code",
   "execution_count": 2,
   "metadata": {
    "ExecuteTime": {
     "end_time": "2023-07-14T03:03:26.689248100Z",
     "start_time": "2023-07-14T03:03:26.686732400Z"
    }
   },
   "outputs": [],
   "source": [
    "aciertos = pd.Series([50, 55, 45, 65, 66, 46, 48, 53, 55, 56, 59, 68, 67, 60, 45, 56, 66, 64, 59, 55, 34, 45, 49, 48, 55])"
   ]
  },
  {
   "cell_type": "markdown",
   "metadata": {},
   "source": [
    "Tus calificaciones las das siempre en \"porcentaje de aciertos\". Tu reto es convertir la `Serie` `aciertos` en la `Serie` `porcentajes`, que contiene cada valor de `aciertos` como un porcentaje del número de aciertos totales (68).\n",
    "\n",
    "**SÓLO** puedes usar funciones vectorizadas de `numpy` para realizar tus cálculos. [Aquí puedes encontrar las funciones que necesitas](https://www.interactivechaos.com/manual/tutorial-de-numpy/funciones-universales-matematicas)."
   ]
  },
  {
   "cell_type": "code",
   "execution_count": 6,
   "metadata": {
    "ExecuteTime": {
     "end_time": "2023-07-14T03:05:05.939008900Z",
     "start_time": "2023-07-14T03:05:05.923651800Z"
    }
   },
   "outputs": [],
   "source": [
    "## Realiza aquí tus cálculos\n",
    "##\n",
    "## ...\n",
    "## ...\n",
    "por_100 = np.multiply(aciertos, 100)\n",
    "entre_68 = np.divide(por_100, 68)\n",
    "\n",
    "porcentajes = entre_68\n"
   ]
  },
  {
   "cell_type": "markdown",
   "metadata": {},
   "source": [
    "Pídele a tu experta la función de verificación `obtener_calificaciones` (encontrada en el archivo `helpers.py` de la carpeta donde se encuentra este Reto), pégala debajo y corre la celda para verificar tu resultado:"
   ]
  },
  {
   "cell_type": "code",
   "execution_count": 7,
   "outputs": [],
   "source": [
    "def obtener_calificaciones(aciertos, porcentajes):\n",
    "\n",
    "    import numpy as np\n",
    "\n",
    "    porcentajes_correcto = np.divide(np.multiply(aciertos, 100), 68)\n",
    "    if not porcentajes_correcto.equals(porcentajes):\n",
    "        print(f'Hay algún error en tus cálculos...')\n",
    "        print(f'¡Por favor intenta de nuevo!')\n",
    "        return\n",
    "\n",
    "    print(f'== Calificaciones finales ==\\n')\n",
    "    print(f'{(\"Id del Alumno\"):15} | {(\"Porcentaje de Aciertos\"):15}')\n",
    "    print(f'----------------------------------------')\n",
    "    for i in range(0, len(porcentajes)):\n",
    "        print(f'{i:<15} | {np.round(porcentajes[i], 2):<}%')"
   ],
   "metadata": {
    "collapsed": false,
    "ExecuteTime": {
     "end_time": "2023-07-14T03:05:06.944743600Z",
     "start_time": "2023-07-14T03:05:06.934148300Z"
    }
   }
  },
  {
   "cell_type": "code",
   "execution_count": 8,
   "metadata": {
    "ExecuteTime": {
     "end_time": "2023-07-14T03:05:07.694897100Z",
     "start_time": "2023-07-14T03:05:07.672486700Z"
    }
   },
   "outputs": [
    {
     "name": "stdout",
     "output_type": "stream",
     "text": [
      "== Calificaciones finales ==\n",
      "\n",
      "Id del Alumno   | Porcentaje de Aciertos\n",
      "----------------------------------------\n",
      "0               | 73.53%\n",
      "1               | 80.88%\n",
      "2               | 66.18%\n",
      "3               | 95.59%\n",
      "4               | 97.06%\n",
      "5               | 67.65%\n",
      "6               | 70.59%\n",
      "7               | 77.94%\n",
      "8               | 80.88%\n",
      "9               | 82.35%\n",
      "10              | 86.76%\n",
      "11              | 100.0%\n",
      "12              | 98.53%\n",
      "13              | 88.24%\n",
      "14              | 66.18%\n",
      "15              | 82.35%\n",
      "16              | 97.06%\n",
      "17              | 94.12%\n",
      "18              | 86.76%\n",
      "19              | 80.88%\n",
      "20              | 50.0%\n",
      "21              | 66.18%\n",
      "22              | 72.06%\n",
      "23              | 70.59%\n",
      "24              | 80.88%\n"
     ]
    }
   ],
   "source": [
    "# Pega aquí la función de verificación\n",
    "\n",
    "obtener_calificaciones(aciertos, porcentajes)"
   ]
  },
  {
   "cell_type": "code",
   "execution_count": null,
   "metadata": {},
   "outputs": [],
   "source": []
  }
 ],
 "metadata": {
  "kernelspec": {
   "name": "python3",
   "language": "python",
   "display_name": "Python 3 (ipykernel)"
  },
  "language_info": {
   "codemirror_mode": {
    "name": "ipython",
    "version": 3
   },
   "file_extension": ".py",
   "mimetype": "text/x-python",
   "name": "python",
   "nbconvert_exporter": "python",
   "pygments_lexer": "ipython3",
   "version": "3.7.6"
  }
 },
 "nbformat": 4,
 "nbformat_minor": 4
}
