{
 "cells": [
  {
   "cell_type": "code",
   "execution_count": 419,
   "metadata": {
    "collapsed": true,
    "ExecuteTime": {
     "end_time": "2023-10-12T23:04:15.558407Z",
     "start_time": "2023-10-12T23:04:15.551511700Z"
    }
   },
   "outputs": [],
   "source": [
    "import pandas as pd\n",
    "import numpy as np\n",
    "import seaborn as sns\n",
    "import warnings\n",
    "import matplotlib.pyplot as plt\n",
    "import pandas as pd\n",
    "from sklearn.metrics import confusion_matrix, classification_report\n",
    "from sklearn.naive_bayes import GaussianNB\n",
    "from sklearn.model_selection import cross_val_score\n",
    "from sklearn.model_selection import KFold\n",
    "from sklearn.linear_model import LogisticRegression\n",
    "from sklearn.model_selection import train_test_split\n",
    "from sklearn.ensemble import RandomForestClassifier\n",
    "from  sklearn.metrics import accuracy_score"
   ]
  },
  {
   "cell_type": "code",
   "execution_count": 363,
   "outputs": [],
   "source": [
    "warnings.filterwarnings(\"ignore\")"
   ],
   "metadata": {
    "collapsed": false,
    "ExecuteTime": {
     "end_time": "2023-10-12T22:58:24.565446800Z",
     "start_time": "2023-10-12T22:58:24.488565100Z"
    }
   }
  },
  {
   "cell_type": "code",
   "execution_count": 364,
   "outputs": [],
   "source": [
    "df =  pd.read_csv(\"ObesityDataSet_raw_and_data_sinthetic.csv\")"
   ],
   "metadata": {
    "collapsed": false,
    "ExecuteTime": {
     "end_time": "2023-10-12T22:58:24.689591900Z",
     "start_time": "2023-10-12T22:58:24.490558500Z"
    }
   }
  },
  {
   "cell_type": "code",
   "execution_count": 365,
   "outputs": [
    {
     "data": {
      "text/plain": "   Gender   Age  Height  Weight family_history_with_overweight FAVC  FCVC   \n0  Female  21.0    1.62    64.0                            yes   no   2.0  \\\n1  Female  21.0    1.52    56.0                            yes   no   3.0   \n2    Male  23.0    1.80    77.0                            yes   no   2.0   \n3    Male  27.0    1.80    87.0                             no   no   3.0   \n4    Male  22.0    1.78    89.8                             no   no   2.0   \n\n   NCP       CAEC SMOKE  CH2O  SCC  FAF  TUE        CALC   \n0  3.0  Sometimes    no   2.0   no  0.0  1.0          no  \\\n1  3.0  Sometimes   yes   3.0  yes  3.0  0.0   Sometimes   \n2  3.0  Sometimes    no   2.0   no  2.0  1.0  Frequently   \n3  3.0  Sometimes    no   2.0   no  2.0  0.0  Frequently   \n4  1.0  Sometimes    no   2.0   no  0.0  0.0   Sometimes   \n\n                  MTRANS           NObeyesdad  \n0  Public_Transportation        Normal_Weight  \n1  Public_Transportation        Normal_Weight  \n2  Public_Transportation        Normal_Weight  \n3                Walking   Overweight_Level_I  \n4  Public_Transportation  Overweight_Level_II  ",
      "text/html": "<div>\n<style scoped>\n    .dataframe tbody tr th:only-of-type {\n        vertical-align: middle;\n    }\n\n    .dataframe tbody tr th {\n        vertical-align: top;\n    }\n\n    .dataframe thead th {\n        text-align: right;\n    }\n</style>\n<table border=\"1\" class=\"dataframe\">\n  <thead>\n    <tr style=\"text-align: right;\">\n      <th></th>\n      <th>Gender</th>\n      <th>Age</th>\n      <th>Height</th>\n      <th>Weight</th>\n      <th>family_history_with_overweight</th>\n      <th>FAVC</th>\n      <th>FCVC</th>\n      <th>NCP</th>\n      <th>CAEC</th>\n      <th>SMOKE</th>\n      <th>CH2O</th>\n      <th>SCC</th>\n      <th>FAF</th>\n      <th>TUE</th>\n      <th>CALC</th>\n      <th>MTRANS</th>\n      <th>NObeyesdad</th>\n    </tr>\n  </thead>\n  <tbody>\n    <tr>\n      <th>0</th>\n      <td>Female</td>\n      <td>21.0</td>\n      <td>1.62</td>\n      <td>64.0</td>\n      <td>yes</td>\n      <td>no</td>\n      <td>2.0</td>\n      <td>3.0</td>\n      <td>Sometimes</td>\n      <td>no</td>\n      <td>2.0</td>\n      <td>no</td>\n      <td>0.0</td>\n      <td>1.0</td>\n      <td>no</td>\n      <td>Public_Transportation</td>\n      <td>Normal_Weight</td>\n    </tr>\n    <tr>\n      <th>1</th>\n      <td>Female</td>\n      <td>21.0</td>\n      <td>1.52</td>\n      <td>56.0</td>\n      <td>yes</td>\n      <td>no</td>\n      <td>3.0</td>\n      <td>3.0</td>\n      <td>Sometimes</td>\n      <td>yes</td>\n      <td>3.0</td>\n      <td>yes</td>\n      <td>3.0</td>\n      <td>0.0</td>\n      <td>Sometimes</td>\n      <td>Public_Transportation</td>\n      <td>Normal_Weight</td>\n    </tr>\n    <tr>\n      <th>2</th>\n      <td>Male</td>\n      <td>23.0</td>\n      <td>1.80</td>\n      <td>77.0</td>\n      <td>yes</td>\n      <td>no</td>\n      <td>2.0</td>\n      <td>3.0</td>\n      <td>Sometimes</td>\n      <td>no</td>\n      <td>2.0</td>\n      <td>no</td>\n      <td>2.0</td>\n      <td>1.0</td>\n      <td>Frequently</td>\n      <td>Public_Transportation</td>\n      <td>Normal_Weight</td>\n    </tr>\n    <tr>\n      <th>3</th>\n      <td>Male</td>\n      <td>27.0</td>\n      <td>1.80</td>\n      <td>87.0</td>\n      <td>no</td>\n      <td>no</td>\n      <td>3.0</td>\n      <td>3.0</td>\n      <td>Sometimes</td>\n      <td>no</td>\n      <td>2.0</td>\n      <td>no</td>\n      <td>2.0</td>\n      <td>0.0</td>\n      <td>Frequently</td>\n      <td>Walking</td>\n      <td>Overweight_Level_I</td>\n    </tr>\n    <tr>\n      <th>4</th>\n      <td>Male</td>\n      <td>22.0</td>\n      <td>1.78</td>\n      <td>89.8</td>\n      <td>no</td>\n      <td>no</td>\n      <td>2.0</td>\n      <td>1.0</td>\n      <td>Sometimes</td>\n      <td>no</td>\n      <td>2.0</td>\n      <td>no</td>\n      <td>0.0</td>\n      <td>0.0</td>\n      <td>Sometimes</td>\n      <td>Public_Transportation</td>\n      <td>Overweight_Level_II</td>\n    </tr>\n  </tbody>\n</table>\n</div>"
     },
     "execution_count": 365,
     "metadata": {},
     "output_type": "execute_result"
    }
   ],
   "source": [
    "df.head()"
   ],
   "metadata": {
    "collapsed": false,
    "ExecuteTime": {
     "end_time": "2023-10-12T22:58:24.694575200Z",
     "start_time": "2023-10-12T22:58:24.512341300Z"
    }
   }
  },
  {
   "cell_type": "code",
   "execution_count": 366,
   "outputs": [
    {
     "data": {
      "text/plain": "array(['Public_Transportation', 'Walking', 'Automobile', 'Motorbike',\n       'Bike'], dtype=object)"
     },
     "execution_count": 366,
     "metadata": {},
     "output_type": "execute_result"
    }
   ],
   "source": [
    "df['MTRANS'].unique()"
   ],
   "metadata": {
    "collapsed": false,
    "ExecuteTime": {
     "end_time": "2023-10-12T22:58:24.695572700Z",
     "start_time": "2023-10-12T22:58:24.514847700Z"
    }
   }
  },
  {
   "cell_type": "code",
   "execution_count": 367,
   "outputs": [
    {
     "data": {
      "text/plain": "array(['Sometimes', 'Frequently', 'Always', 'no'], dtype=object)"
     },
     "execution_count": 367,
     "metadata": {},
     "output_type": "execute_result"
    }
   ],
   "source": [
    "df['CAEC'].unique()"
   ],
   "metadata": {
    "collapsed": false,
    "ExecuteTime": {
     "end_time": "2023-10-12T22:58:24.695572700Z",
     "start_time": "2023-10-12T22:58:24.523265200Z"
    }
   }
  },
  {
   "cell_type": "code",
   "execution_count": 368,
   "outputs": [
    {
     "data": {
      "text/plain": "array(['no', 'Sometimes', 'Frequently', 'Always'], dtype=object)"
     },
     "execution_count": 368,
     "metadata": {},
     "output_type": "execute_result"
    }
   ],
   "source": [
    "df['CALC'].unique()"
   ],
   "metadata": {
    "collapsed": false,
    "ExecuteTime": {
     "end_time": "2023-10-12T22:58:24.695572700Z",
     "start_time": "2023-10-12T22:58:24.529700200Z"
    }
   }
  },
  {
   "cell_type": "code",
   "execution_count": 369,
   "outputs": [
    {
     "data": {
      "text/plain": "Index(['Gender', 'Age', 'Height', 'Weight', 'family_history_with_overweight',\n       'FAVC', 'FCVC', 'NCP', 'CAEC', 'SMOKE', 'CH2O', 'SCC', 'FAF', 'TUE',\n       'CALC', 'MTRANS', 'NObeyesdad'],\n      dtype='object')"
     },
     "execution_count": 369,
     "metadata": {},
     "output_type": "execute_result"
    }
   ],
   "source": [
    "df.columns"
   ],
   "metadata": {
    "collapsed": false,
    "ExecuteTime": {
     "end_time": "2023-10-12T22:58:24.695572700Z",
     "start_time": "2023-10-12T22:58:24.537464400Z"
    }
   }
  },
  {
   "cell_type": "code",
   "execution_count": 370,
   "outputs": [
    {
     "name": "stdout",
     "output_type": "stream",
     "text": [
      "<class 'pandas.core.frame.DataFrame'>\n",
      "RangeIndex: 2111 entries, 0 to 2110\n",
      "Data columns (total 17 columns):\n",
      " #   Column                          Non-Null Count  Dtype  \n",
      "---  ------                          --------------  -----  \n",
      " 0   Gender                          2111 non-null   object \n",
      " 1   Age                             2111 non-null   float64\n",
      " 2   Height                          2111 non-null   float64\n",
      " 3   Weight                          2111 non-null   float64\n",
      " 4   family_history_with_overweight  2111 non-null   object \n",
      " 5   FAVC                            2111 non-null   object \n",
      " 6   FCVC                            2111 non-null   float64\n",
      " 7   NCP                             2111 non-null   float64\n",
      " 8   CAEC                            2111 non-null   object \n",
      " 9   SMOKE                           2111 non-null   object \n",
      " 10  CH2O                            2111 non-null   float64\n",
      " 11  SCC                             2111 non-null   object \n",
      " 12  FAF                             2111 non-null   float64\n",
      " 13  TUE                             2111 non-null   float64\n",
      " 14  CALC                            2111 non-null   object \n",
      " 15  MTRANS                          2111 non-null   object \n",
      " 16  NObeyesdad                      2111 non-null   object \n",
      "dtypes: float64(8), object(9)\n",
      "memory usage: 280.5+ KB\n"
     ]
    }
   ],
   "source": [
    "df.info(all)"
   ],
   "metadata": {
    "collapsed": false,
    "ExecuteTime": {
     "end_time": "2023-10-12T22:58:24.695572700Z",
     "start_time": "2023-10-12T22:58:24.544952Z"
    }
   }
  },
  {
   "cell_type": "code",
   "execution_count": 371,
   "outputs": [
    {
     "data": {
      "text/plain": "               Age       Height       Weight         FCVC          NCP   \ncount  2111.000000  2111.000000  2111.000000  2111.000000  2111.000000  \\\nmean     24.312600     1.701677    86.586058     2.419043     2.685628   \nstd       6.345968     0.093305    26.191172     0.533927     0.778039   \nmin      14.000000     1.450000    39.000000     1.000000     1.000000   \n25%      19.947192     1.630000    65.473343     2.000000     2.658738   \n50%      22.777890     1.700499    83.000000     2.385502     3.000000   \n75%      26.000000     1.768464   107.430682     3.000000     3.000000   \nmax      61.000000     1.980000   173.000000     3.000000     4.000000   \n\n              CH2O          FAF          TUE  \ncount  2111.000000  2111.000000  2111.000000  \nmean      2.008011     1.010298     0.657866  \nstd       0.612953     0.850592     0.608927  \nmin       1.000000     0.000000     0.000000  \n25%       1.584812     0.124505     0.000000  \n50%       2.000000     1.000000     0.625350  \n75%       2.477420     1.666678     1.000000  \nmax       3.000000     3.000000     2.000000  ",
      "text/html": "<div>\n<style scoped>\n    .dataframe tbody tr th:only-of-type {\n        vertical-align: middle;\n    }\n\n    .dataframe tbody tr th {\n        vertical-align: top;\n    }\n\n    .dataframe thead th {\n        text-align: right;\n    }\n</style>\n<table border=\"1\" class=\"dataframe\">\n  <thead>\n    <tr style=\"text-align: right;\">\n      <th></th>\n      <th>Age</th>\n      <th>Height</th>\n      <th>Weight</th>\n      <th>FCVC</th>\n      <th>NCP</th>\n      <th>CH2O</th>\n      <th>FAF</th>\n      <th>TUE</th>\n    </tr>\n  </thead>\n  <tbody>\n    <tr>\n      <th>count</th>\n      <td>2111.000000</td>\n      <td>2111.000000</td>\n      <td>2111.000000</td>\n      <td>2111.000000</td>\n      <td>2111.000000</td>\n      <td>2111.000000</td>\n      <td>2111.000000</td>\n      <td>2111.000000</td>\n    </tr>\n    <tr>\n      <th>mean</th>\n      <td>24.312600</td>\n      <td>1.701677</td>\n      <td>86.586058</td>\n      <td>2.419043</td>\n      <td>2.685628</td>\n      <td>2.008011</td>\n      <td>1.010298</td>\n      <td>0.657866</td>\n    </tr>\n    <tr>\n      <th>std</th>\n      <td>6.345968</td>\n      <td>0.093305</td>\n      <td>26.191172</td>\n      <td>0.533927</td>\n      <td>0.778039</td>\n      <td>0.612953</td>\n      <td>0.850592</td>\n      <td>0.608927</td>\n    </tr>\n    <tr>\n      <th>min</th>\n      <td>14.000000</td>\n      <td>1.450000</td>\n      <td>39.000000</td>\n      <td>1.000000</td>\n      <td>1.000000</td>\n      <td>1.000000</td>\n      <td>0.000000</td>\n      <td>0.000000</td>\n    </tr>\n    <tr>\n      <th>25%</th>\n      <td>19.947192</td>\n      <td>1.630000</td>\n      <td>65.473343</td>\n      <td>2.000000</td>\n      <td>2.658738</td>\n      <td>1.584812</td>\n      <td>0.124505</td>\n      <td>0.000000</td>\n    </tr>\n    <tr>\n      <th>50%</th>\n      <td>22.777890</td>\n      <td>1.700499</td>\n      <td>83.000000</td>\n      <td>2.385502</td>\n      <td>3.000000</td>\n      <td>2.000000</td>\n      <td>1.000000</td>\n      <td>0.625350</td>\n    </tr>\n    <tr>\n      <th>75%</th>\n      <td>26.000000</td>\n      <td>1.768464</td>\n      <td>107.430682</td>\n      <td>3.000000</td>\n      <td>3.000000</td>\n      <td>2.477420</td>\n      <td>1.666678</td>\n      <td>1.000000</td>\n    </tr>\n    <tr>\n      <th>max</th>\n      <td>61.000000</td>\n      <td>1.980000</td>\n      <td>173.000000</td>\n      <td>3.000000</td>\n      <td>4.000000</td>\n      <td>3.000000</td>\n      <td>3.000000</td>\n      <td>2.000000</td>\n    </tr>\n  </tbody>\n</table>\n</div>"
     },
     "execution_count": 371,
     "metadata": {},
     "output_type": "execute_result"
    }
   ],
   "source": [
    "df.describe()"
   ],
   "metadata": {
    "collapsed": false,
    "ExecuteTime": {
     "end_time": "2023-10-12T22:58:24.696567800Z",
     "start_time": "2023-10-12T22:58:24.555904500Z"
    }
   }
  },
  {
   "cell_type": "code",
   "execution_count": 372,
   "outputs": [
    {
     "data": {
      "text/plain": "      Gender        Age    Height      Weight family_history_with_overweight   \n2106  Female  20.976842  1.710730  131.408528                            yes  \\\n2107  Female  21.982942  1.748584  133.742943                            yes   \n2108  Female  22.524036  1.752206  133.689352                            yes   \n2109  Female  24.361936  1.739450  133.346641                            yes   \n2110  Female  23.664709  1.738836  133.472641                            yes   \n\n     FAVC  FCVC  NCP       CAEC SMOKE      CH2O SCC       FAF       TUE   \n2106  yes   3.0  3.0  Sometimes    no  1.728139  no  1.676269  0.906247  \\\n2107  yes   3.0  3.0  Sometimes    no  2.005130  no  1.341390  0.599270   \n2108  yes   3.0  3.0  Sometimes    no  2.054193  no  1.414209  0.646288   \n2109  yes   3.0  3.0  Sometimes    no  2.852339  no  1.139107  0.586035   \n2110  yes   3.0  3.0  Sometimes    no  2.863513  no  1.026452  0.714137   \n\n           CALC                 MTRANS        NObeyesdad  \n2106  Sometimes  Public_Transportation  Obesity_Type_III  \n2107  Sometimes  Public_Transportation  Obesity_Type_III  \n2108  Sometimes  Public_Transportation  Obesity_Type_III  \n2109  Sometimes  Public_Transportation  Obesity_Type_III  \n2110  Sometimes  Public_Transportation  Obesity_Type_III  ",
      "text/html": "<div>\n<style scoped>\n    .dataframe tbody tr th:only-of-type {\n        vertical-align: middle;\n    }\n\n    .dataframe tbody tr th {\n        vertical-align: top;\n    }\n\n    .dataframe thead th {\n        text-align: right;\n    }\n</style>\n<table border=\"1\" class=\"dataframe\">\n  <thead>\n    <tr style=\"text-align: right;\">\n      <th></th>\n      <th>Gender</th>\n      <th>Age</th>\n      <th>Height</th>\n      <th>Weight</th>\n      <th>family_history_with_overweight</th>\n      <th>FAVC</th>\n      <th>FCVC</th>\n      <th>NCP</th>\n      <th>CAEC</th>\n      <th>SMOKE</th>\n      <th>CH2O</th>\n      <th>SCC</th>\n      <th>FAF</th>\n      <th>TUE</th>\n      <th>CALC</th>\n      <th>MTRANS</th>\n      <th>NObeyesdad</th>\n    </tr>\n  </thead>\n  <tbody>\n    <tr>\n      <th>2106</th>\n      <td>Female</td>\n      <td>20.976842</td>\n      <td>1.710730</td>\n      <td>131.408528</td>\n      <td>yes</td>\n      <td>yes</td>\n      <td>3.0</td>\n      <td>3.0</td>\n      <td>Sometimes</td>\n      <td>no</td>\n      <td>1.728139</td>\n      <td>no</td>\n      <td>1.676269</td>\n      <td>0.906247</td>\n      <td>Sometimes</td>\n      <td>Public_Transportation</td>\n      <td>Obesity_Type_III</td>\n    </tr>\n    <tr>\n      <th>2107</th>\n      <td>Female</td>\n      <td>21.982942</td>\n      <td>1.748584</td>\n      <td>133.742943</td>\n      <td>yes</td>\n      <td>yes</td>\n      <td>3.0</td>\n      <td>3.0</td>\n      <td>Sometimes</td>\n      <td>no</td>\n      <td>2.005130</td>\n      <td>no</td>\n      <td>1.341390</td>\n      <td>0.599270</td>\n      <td>Sometimes</td>\n      <td>Public_Transportation</td>\n      <td>Obesity_Type_III</td>\n    </tr>\n    <tr>\n      <th>2108</th>\n      <td>Female</td>\n      <td>22.524036</td>\n      <td>1.752206</td>\n      <td>133.689352</td>\n      <td>yes</td>\n      <td>yes</td>\n      <td>3.0</td>\n      <td>3.0</td>\n      <td>Sometimes</td>\n      <td>no</td>\n      <td>2.054193</td>\n      <td>no</td>\n      <td>1.414209</td>\n      <td>0.646288</td>\n      <td>Sometimes</td>\n      <td>Public_Transportation</td>\n      <td>Obesity_Type_III</td>\n    </tr>\n    <tr>\n      <th>2109</th>\n      <td>Female</td>\n      <td>24.361936</td>\n      <td>1.739450</td>\n      <td>133.346641</td>\n      <td>yes</td>\n      <td>yes</td>\n      <td>3.0</td>\n      <td>3.0</td>\n      <td>Sometimes</td>\n      <td>no</td>\n      <td>2.852339</td>\n      <td>no</td>\n      <td>1.139107</td>\n      <td>0.586035</td>\n      <td>Sometimes</td>\n      <td>Public_Transportation</td>\n      <td>Obesity_Type_III</td>\n    </tr>\n    <tr>\n      <th>2110</th>\n      <td>Female</td>\n      <td>23.664709</td>\n      <td>1.738836</td>\n      <td>133.472641</td>\n      <td>yes</td>\n      <td>yes</td>\n      <td>3.0</td>\n      <td>3.0</td>\n      <td>Sometimes</td>\n      <td>no</td>\n      <td>2.863513</td>\n      <td>no</td>\n      <td>1.026452</td>\n      <td>0.714137</td>\n      <td>Sometimes</td>\n      <td>Public_Transportation</td>\n      <td>Obesity_Type_III</td>\n    </tr>\n  </tbody>\n</table>\n</div>"
     },
     "execution_count": 372,
     "metadata": {},
     "output_type": "execute_result"
    }
   ],
   "source": [
    "df.tail()"
   ],
   "metadata": {
    "collapsed": false,
    "ExecuteTime": {
     "end_time": "2023-10-12T22:58:24.697564900Z",
     "start_time": "2023-10-12T22:58:24.574033600Z"
    }
   }
  },
  {
   "cell_type": "code",
   "execution_count": 373,
   "outputs": [
    {
     "data": {
      "text/plain": "Gender                            0\nAge                               0\nHeight                            0\nWeight                            0\nfamily_history_with_overweight    0\nFAVC                              0\nFCVC                              0\nNCP                               0\nCAEC                              0\nSMOKE                             0\nCH2O                              0\nSCC                               0\nFAF                               0\nTUE                               0\nCALC                              0\nMTRANS                            0\nNObeyesdad                        0\ndtype: int64"
     },
     "execution_count": 373,
     "metadata": {},
     "output_type": "execute_result"
    }
   ],
   "source": [
    "df.isnull().sum()"
   ],
   "metadata": {
    "collapsed": false,
    "ExecuteTime": {
     "end_time": "2023-10-12T22:58:24.698561Z",
     "start_time": "2023-10-12T22:58:24.587913100Z"
    }
   }
  },
  {
   "cell_type": "code",
   "execution_count": 374,
   "outputs": [],
   "source": [
    "df_train =  df"
   ],
   "metadata": {
    "collapsed": false,
    "ExecuteTime": {
     "end_time": "2023-10-12T22:58:24.698561Z",
     "start_time": "2023-10-12T22:58:24.594400Z"
    }
   }
  },
  {
   "cell_type": "code",
   "execution_count": 375,
   "outputs": [
    {
     "name": "stdout",
     "output_type": "stream",
     "text": [
      "    Age  Height  Weight  FCVC  NCP  CH2O  FAF  TUE  Gender_Female   \n",
      "0  21.0    1.62    64.0   2.0  3.0   2.0  0.0  1.0           True  \\\n",
      "1  21.0    1.52    56.0   3.0  3.0   3.0  3.0  0.0           True   \n",
      "2  23.0    1.80    77.0   2.0  3.0   2.0  2.0  1.0          False   \n",
      "3  27.0    1.80    87.0   3.0  3.0   2.0  2.0  0.0          False   \n",
      "4  22.0    1.78    89.8   2.0  1.0   2.0  0.0  0.0          False   \n",
      "\n",
      "   Gender_Male  ...  MTRANS_Motorbike  MTRANS_Public_Transportation   \n",
      "0        False  ...             False                          True  \\\n",
      "1        False  ...             False                          True   \n",
      "2         True  ...             False                          True   \n",
      "3         True  ...             False                         False   \n",
      "4         True  ...             False                          True   \n",
      "\n",
      "   MTRANS_Walking  NObeyesdad_Insufficient_Weight  NObeyesdad_Normal_Weight   \n",
      "0           False                           False                      True  \\\n",
      "1           False                           False                      True   \n",
      "2           False                           False                      True   \n",
      "3            True                           False                     False   \n",
      "4           False                           False                     False   \n",
      "\n",
      "   NObeyesdad_Obesity_Type_I  NObeyesdad_Obesity_Type_II   \n",
      "0                      False                       False  \\\n",
      "1                      False                       False   \n",
      "2                      False                       False   \n",
      "3                      False                       False   \n",
      "4                      False                       False   \n",
      "\n",
      "   NObeyesdad_Obesity_Type_III  NObeyesdad_Overweight_Level_I   \n",
      "0                        False                          False  \\\n",
      "1                        False                          False   \n",
      "2                        False                          False   \n",
      "3                        False                           True   \n",
      "4                        False                          False   \n",
      "\n",
      "   NObeyesdad_Overweight_Level_II  \n",
      "0                           False  \n",
      "1                           False  \n",
      "2                           False  \n",
      "3                           False  \n",
      "4                            True  \n",
      "\n",
      "[5 rows x 38 columns]\n"
     ]
    }
   ],
   "source": [
    "categorical_variables = ['Gender', 'family_history_with_overweight', 'FAVC', 'CAEC', 'SMOKE', 'SCC', 'CALC', 'MTRANS', 'NObeyesdad']\n",
    "\n",
    "# Aplicar One-Hot Encoding a las variables categóricas\n",
    "df = pd.get_dummies(df, columns=categorical_variables)\n",
    "\n",
    "# Ahora las variables categóricas seleccionadas están codificadas como variables binarias (0 o 1)\n",
    "print(df.head())"
   ],
   "metadata": {
    "collapsed": false,
    "ExecuteTime": {
     "end_time": "2023-10-12T22:58:24.698561Z",
     "start_time": "2023-10-12T22:58:24.602967Z"
    }
   }
  },
  {
   "cell_type": "code",
   "execution_count": 376,
   "outputs": [
    {
     "name": "stdout",
     "output_type": "stream",
     "text": [
      "    Age  Height  Weight  FCVC  NCP  CH2O  FAF  TUE  Gender_Female   \n",
      "0  21.0    1.62    64.0   2.0  3.0   2.0  0.0  1.0           True  \\\n",
      "1  21.0    1.52    56.0   3.0  3.0   3.0  3.0  0.0           True   \n",
      "2  23.0    1.80    77.0   2.0  3.0   2.0  2.0  1.0          False   \n",
      "3  27.0    1.80    87.0   3.0  3.0   2.0  2.0  0.0          False   \n",
      "4  22.0    1.78    89.8   2.0  1.0   2.0  0.0  0.0          False   \n",
      "\n",
      "   Gender_Male  ...  MTRANS_Motorbike  MTRANS_Public_Transportation   \n",
      "0        False  ...             False                          True  \\\n",
      "1        False  ...             False                          True   \n",
      "2         True  ...             False                          True   \n",
      "3         True  ...             False                         False   \n",
      "4         True  ...             False                          True   \n",
      "\n",
      "   MTRANS_Walking  NObeyesdad_Insufficient_Weight  NObeyesdad_Normal_Weight   \n",
      "0           False                           False                      True  \\\n",
      "1           False                           False                      True   \n",
      "2           False                           False                      True   \n",
      "3            True                           False                     False   \n",
      "4           False                           False                     False   \n",
      "\n",
      "   NObeyesdad_Obesity_Type_I  NObeyesdad_Obesity_Type_II   \n",
      "0                      False                       False  \\\n",
      "1                      False                       False   \n",
      "2                      False                       False   \n",
      "3                      False                       False   \n",
      "4                      False                       False   \n",
      "\n",
      "   NObeyesdad_Obesity_Type_III  NObeyesdad_Overweight_Level_I   \n",
      "0                        False                          False  \\\n",
      "1                        False                          False   \n",
      "2                        False                          False   \n",
      "3                        False                           True   \n",
      "4                        False                          False   \n",
      "\n",
      "   NObeyesdad_Overweight_Level_II  \n",
      "0                           False  \n",
      "1                           False  \n",
      "2                           False  \n",
      "3                           False  \n",
      "4                            True  \n",
      "\n",
      "[5 rows x 38 columns]\n"
     ]
    }
   ],
   "source": [
    "print(df.head())"
   ],
   "metadata": {
    "collapsed": false,
    "ExecuteTime": {
     "end_time": "2023-10-12T22:58:24.699558300Z",
     "start_time": "2023-10-12T22:58:24.625358500Z"
    }
   }
  },
  {
   "cell_type": "code",
   "execution_count": 377,
   "outputs": [
    {
     "name": "stdout",
     "output_type": "stream",
     "text": [
      "                                         Age    Height    Weight      FCVC   \n",
      "Age                                 1.000000 -0.025958  0.202560  0.016291  \\\n",
      "Height                             -0.025958  1.000000  0.463136 -0.038121   \n",
      "Weight                              0.202560  0.463136  1.000000  0.216125   \n",
      "FCVC                                0.016291 -0.038121  0.216125  1.000000   \n",
      "NCP                                -0.043944  0.243672  0.107469  0.042216   \n",
      "CH2O                               -0.045304  0.213376  0.200575  0.068461   \n",
      "FAF                                -0.144938  0.294709 -0.051436  0.019939   \n",
      "TUE                                -0.296931  0.051912 -0.071561 -0.101135   \n",
      "Gender_Female                      -0.048394 -0.618466 -0.161668  0.274505   \n",
      "Gender_Male                         0.048394  0.618466  0.161668 -0.274505   \n",
      "family_history_with_overweight_no  -0.205725 -0.247684 -0.496820 -0.040372   \n",
      "family_history_with_overweight_yes  0.205725  0.247684  0.496820  0.040372   \n",
      "FAVC_no                            -0.063902 -0.178364 -0.272300  0.027283   \n",
      "FAVC_yes                            0.063902  0.178364  0.272300 -0.027283   \n",
      "CAEC_Always                        -0.031292  0.004580 -0.094966 -0.018204   \n",
      "CAEC_Frequently                    -0.122175 -0.122365 -0.380660  0.048188   \n",
      "CAEC_Sometimes                      0.143999  0.143035  0.411804  0.009318   \n",
      "CAEC_no                            -0.061795 -0.095625 -0.106260 -0.103902   \n",
      "SMOKE_no                           -0.091987 -0.055499 -0.025746 -0.014320   \n",
      "SMOKE_yes                           0.091987  0.055499  0.025746  0.014320   \n",
      "SCC_no                              0.116283  0.133753  0.201906 -0.071852   \n",
      "SCC_yes                            -0.116283 -0.133753 -0.201906  0.071852   \n",
      "CALC_Always                        -0.011367 -0.000391 -0.017947 -0.017090   \n",
      "CALC_Frequently                     0.082566  0.045518 -0.041778 -0.018655   \n",
      "CALC_Sometimes                     -0.012483  0.107070  0.259599  0.082804   \n",
      "CALC_no                            -0.018803 -0.127828 -0.249828 -0.077072   \n",
      "MTRANS_Automobile                   0.604683  0.077851 -0.013619 -0.061049   \n",
      "MTRANS_Bike                         0.003652  0.028996 -0.021745 -0.029843   \n",
      "MTRANS_Motorbike                    0.020286 -0.010471 -0.037300 -0.007512   \n",
      "MTRANS_Public_Transportation       -0.554448 -0.089684  0.059332  0.057966   \n",
      "MTRANS_Walking                     -0.063064  0.036951 -0.100805  0.013991   \n",
      "NObeyesdad_Insufficient_Weight     -0.274559 -0.043538 -0.538726  0.044486   \n",
      "NObeyesdad_Normal_Weight           -0.160927 -0.106700 -0.370099 -0.062828   \n",
      "NObeyesdad_Obesity_Type_I           0.110675 -0.037693  0.107174 -0.194922   \n",
      "NObeyesdad_Obesity_Type_II          0.250082  0.304150  0.443793 -0.021042   \n",
      "NObeyesdad_Obesity_Type_III        -0.054835 -0.064443  0.558662  0.463421   \n",
      "NObeyesdad_Overweight_Level_I      -0.056291 -0.059212 -0.187748 -0.115437   \n",
      "NObeyesdad_Overweight_Level_II      0.168847  0.008857 -0.068593 -0.118467   \n",
      "\n",
      "                                         NCP      CH2O       FAF       TUE   \n",
      "Age                                -0.043944 -0.045304 -0.144938 -0.296931  \\\n",
      "Height                              0.243672  0.213376  0.294709  0.051912   \n",
      "Weight                              0.107469  0.200575 -0.051436 -0.071561   \n",
      "FCVC                                0.042216  0.068461  0.019939 -0.101135   \n",
      "NCP                                 1.000000  0.057088  0.129504  0.036326   \n",
      "CH2O                                0.057088  1.000000  0.167236  0.011965   \n",
      "FAF                                 0.129504  0.167236  1.000000  0.058562   \n",
      "TUE                                 0.036326  0.011965  0.058562  1.000000   \n",
      "Gender_Female                      -0.067600 -0.107930 -0.189607 -0.017269   \n",
      "Gender_Male                         0.067600  0.107930  0.189607  0.017269   \n",
      "family_history_with_overweight_no  -0.071370 -0.147437  0.056673 -0.022943   \n",
      "family_history_with_overweight_yes  0.071370  0.147437 -0.056673  0.022943   \n",
      "FAVC_no                             0.007000 -0.009719  0.107995 -0.068417   \n",
      "FAVC_yes                           -0.007000  0.009719 -0.107995  0.068417   \n",
      "CAEC_Always                         0.025931  0.002843  0.022981  0.020557   \n",
      "CAEC_Frequently                     0.047811 -0.139352  0.033413 -0.002213   \n",
      "CAEC_Sometimes                      0.008587  0.052773 -0.048546  0.039202   \n",
      "CAEC_no                            -0.146328  0.159008  0.024298 -0.110870   \n",
      "SMOKE_no                           -0.007811  0.031995 -0.011216 -0.017613   \n",
      "SMOKE_yes                           0.007811 -0.031995  0.011216  0.017613   \n",
      "SCC_no                              0.015624 -0.008036 -0.074221  0.010928   \n",
      "SCC_yes                            -0.015624  0.008036  0.074221 -0.010928   \n",
      "CALC_Always                        -0.047176 -0.000285 -0.000264  0.047995   \n",
      "CALC_Frequently                    -0.019126  0.049442  0.054739  0.060964   \n",
      "CALC_Sometimes                      0.099280  0.062251 -0.136138 -0.102871   \n",
      "CALC_no                            -0.092407 -0.083272  0.118678  0.079755   \n",
      "MTRANS_Automobile                   0.053424 -0.046237  0.002347 -0.165111   \n",
      "MTRANS_Bike                         0.023312  0.026139  0.067129 -0.021725   \n",
      "MTRANS_Motorbike                    0.003875 -0.000946 -0.016351 -0.067402   \n",
      "MTRANS_Public_Transportation       -0.056849  0.037504 -0.048751  0.143597   \n",
      "MTRANS_Walking                      0.006502  0.008307  0.108927  0.073404   \n",
      "NObeyesdad_Insufficient_Weight      0.113111 -0.085809  0.108464  0.114718   \n",
      "NObeyesdad_Normal_Weight            0.027052 -0.102168  0.110591  0.011789   \n",
      "NObeyesdad_Obesity_Type_I          -0.145691  0.075940 -0.012367  0.013847   \n",
      "NObeyesdad_Obesity_Type_II          0.030653 -0.086071 -0.018291 -0.094833   \n",
      "NObeyesdad_Obesity_Type_III         0.172090  0.139303 -0.172988 -0.037240   \n",
      "NObeyesdad_Overweight_Level_I      -0.093069  0.033025  0.021820 -0.029415   \n",
      "NObeyesdad_Overweight_Level_II     -0.097527  0.011150 -0.024508  0.025833   \n",
      "\n",
      "                                    Gender_Female  Gender_Male  ...   \n",
      "Age                                     -0.048394     0.048394  ...  \\\n",
      "Height                                  -0.618466     0.618466  ...   \n",
      "Weight                                  -0.161668     0.161668  ...   \n",
      "FCVC                                     0.274505    -0.274505  ...   \n",
      "NCP                                     -0.067600     0.067600  ...   \n",
      "CH2O                                    -0.107930     0.107930  ...   \n",
      "FAF                                     -0.189607     0.189607  ...   \n",
      "TUE                                     -0.017269     0.017269  ...   \n",
      "Gender_Female                            1.000000    -1.000000  ...   \n",
      "Gender_Male                             -1.000000     1.000000  ...   \n",
      "family_history_with_overweight_no        0.102512    -0.102512  ...   \n",
      "family_history_with_overweight_yes      -0.102512     0.102512  ...   \n",
      "FAVC_no                                  0.064934    -0.064934  ...   \n",
      "FAVC_yes                                -0.064934     0.064934  ...   \n",
      "CAEC_Always                             -0.019296     0.019296  ...   \n",
      "CAEC_Frequently                          0.123224    -0.123224  ...   \n",
      "CAEC_Sometimes                          -0.071790     0.071790  ...   \n",
      "CAEC_no                                 -0.062930     0.062930  ...   \n",
      "SMOKE_no                                 0.044698    -0.044698  ...   \n",
      "SMOKE_yes                               -0.044698     0.044698  ...   \n",
      "SCC_no                                  -0.102633     0.102633  ...   \n",
      "SCC_yes                                  0.102633    -0.102633  ...   \n",
      "CALC_Always                             -0.021514     0.021514  ...   \n",
      "CALC_Frequently                         -0.034848     0.034848  ...   \n",
      "CALC_Sometimes                           0.037694    -0.037694  ...   \n",
      "CALC_no                                 -0.024163     0.024163  ...   \n",
      "MTRANS_Automobile                       -0.137560     0.137560  ...   \n",
      "MTRANS_Bike                             -0.057001     0.057001  ...   \n",
      "MTRANS_Motorbike                        -0.045203     0.045203  ...   \n",
      "MTRANS_Public_Transportation             0.160184    -0.160184  ...   \n",
      "MTRANS_Walking                          -0.039317     0.039317  ...   \n",
      "NObeyesdad_Insufficient_Weight           0.109192    -0.109192  ...   \n",
      "NObeyesdad_Normal_Weight                -0.002213     0.002213  ...   \n",
      "NObeyesdad_Obesity_Type_I               -0.044334     0.044334  ...   \n",
      "NObeyesdad_Obesity_Type_II              -0.394418     0.394418  ...   \n",
      "NObeyesdad_Obesity_Type_III              0.428249    -0.428249  ...   \n",
      "NObeyesdad_Overweight_Level_I            0.004726    -0.004726  ...   \n",
      "NObeyesdad_Overweight_Level_II          -0.110873     0.110873  ...   \n",
      "\n",
      "                                    MTRANS_Motorbike   \n",
      "Age                                         0.020286  \\\n",
      "Height                                     -0.010471   \n",
      "Weight                                     -0.037300   \n",
      "FCVC                                       -0.007512   \n",
      "NCP                                         0.003875   \n",
      "CH2O                                       -0.000946   \n",
      "FAF                                        -0.016351   \n",
      "TUE                                        -0.067402   \n",
      "Gender_Female                              -0.045203   \n",
      "Gender_Male                                 0.045203   \n",
      "family_history_with_overweight_no           0.051011   \n",
      "family_history_with_overweight_yes         -0.051011   \n",
      "FAVC_no                                     0.035401   \n",
      "FAVC_yes                                   -0.035401   \n",
      "CAEC_Always                                 0.030441   \n",
      "CAEC_Frequently                             0.077219   \n",
      "CAEC_Sometimes                             -0.074596   \n",
      "CAEC_no                                    -0.011388   \n",
      "SMOKE_no                                   -0.035496   \n",
      "SMOKE_yes                                   0.035496   \n",
      "SCC_no                                     -0.047362   \n",
      "SCC_yes                                     0.047362   \n",
      "CALC_Always                                -0.001576   \n",
      "CALC_Frequently                            -0.013403   \n",
      "CALC_Sometimes                             -0.018109   \n",
      "CALC_no                                     0.023921   \n",
      "MTRANS_Automobile                          -0.038043   \n",
      "MTRANS_Bike                                -0.004175   \n",
      "MTRANS_Motorbike                            1.000000   \n",
      "MTRANS_Public_Transportation               -0.124844   \n",
      "MTRANS_Walking                             -0.011947   \n",
      "NObeyesdad_Insufficient_Weight             -0.027834   \n",
      "NObeyesdad_Normal_Weight                    0.086472   \n",
      "NObeyesdad_Obesity_Type_I                   0.020693   \n",
      "NObeyesdad_Obesity_Type_II                 -0.029285   \n",
      "NObeyesdad_Obesity_Type_III                -0.030817   \n",
      "NObeyesdad_Overweight_Level_I              -0.009769   \n",
      "NObeyesdad_Overweight_Level_II             -0.009769   \n",
      "\n",
      "                                    MTRANS_Public_Transportation   \n",
      "Age                                                    -0.554448  \\\n",
      "Height                                                 -0.089684   \n",
      "Weight                                                  0.059332   \n",
      "FCVC                                                    0.057966   \n",
      "NCP                                                    -0.056849   \n",
      "CH2O                                                    0.037504   \n",
      "FAF                                                    -0.048751   \n",
      "TUE                                                     0.143597   \n",
      "Gender_Female                                           0.160184   \n",
      "Gender_Male                                            -0.160184   \n",
      "family_history_with_overweight_no                       0.058927   \n",
      "family_history_with_overweight_yes                     -0.058927   \n",
      "FAVC_no                                                -0.028539   \n",
      "FAVC_yes                                                0.028539   \n",
      "CAEC_Always                                            -0.046534   \n",
      "CAEC_Frequently                                         0.068101   \n",
      "CAEC_Sometimes                                         -0.062029   \n",
      "CAEC_no                                                 0.055664   \n",
      "SMOKE_no                                                0.022409   \n",
      "SMOKE_yes                                              -0.022409   \n",
      "SCC_no                                                 -0.011255   \n",
      "SCC_yes                                                 0.011255   \n",
      "CALC_Always                                            -0.037553   \n",
      "CALC_Frequently                                        -0.087755   \n",
      "CALC_Sometimes                                          0.097994   \n",
      "CALC_no                                                -0.064794   \n",
      "MTRANS_Automobile                                      -0.906717   \n",
      "MTRANS_Bike                                            -0.099496   \n",
      "MTRANS_Motorbike                                       -0.124844   \n",
      "MTRANS_Public_Transportation                            1.000000   \n",
      "MTRANS_Walking                                         -0.284754   \n",
      "NObeyesdad_Insufficient_Weight                          0.053503   \n",
      "NObeyesdad_Normal_Weight                               -0.047169   \n",
      "NObeyesdad_Obesity_Type_I                              -0.078320   \n",
      "NObeyesdad_Obesity_Type_II                             -0.069997   \n",
      "NObeyesdad_Obesity_Type_III                             0.243819   \n",
      "NObeyesdad_Overweight_Level_I                          -0.016027   \n",
      "NObeyesdad_Overweight_Level_II                         -0.088970   \n",
      "\n",
      "                                    MTRANS_Walking   \n",
      "Age                                      -0.063064  \\\n",
      "Height                                    0.036951   \n",
      "Weight                                   -0.100805   \n",
      "FCVC                                      0.013991   \n",
      "NCP                                       0.006502   \n",
      "CH2O                                      0.008307   \n",
      "FAF                                       0.108927   \n",
      "TUE                                       0.073404   \n",
      "Gender_Female                            -0.039317   \n",
      "Gender_Male                               0.039317   \n",
      "family_history_with_overweight_no         0.067076   \n",
      "family_history_with_overweight_yes       -0.067076   \n",
      "FAVC_no                                   0.179473   \n",
      "FAVC_yes                                 -0.179473   \n",
      "CAEC_Always                               0.086561   \n",
      "CAEC_Frequently                           0.042381   \n",
      "CAEC_Sometimes                           -0.078208   \n",
      "CAEC_no                                   0.012423   \n",
      "SMOKE_no                                 -0.017184   \n",
      "SMOKE_yes                                 0.017184   \n",
      "SCC_no                                   -0.048860   \n",
      "SCC_yes                                   0.048860   \n",
      "CALC_Always                               0.131877   \n",
      "CALC_Frequently                           0.018819   \n",
      "CALC_Sometimes                           -0.050946   \n",
      "CALC_no                                   0.038811   \n",
      "MTRANS_Automobile                        -0.086772   \n",
      "MTRANS_Bike                              -0.009522   \n",
      "MTRANS_Motorbike                         -0.011947   \n",
      "MTRANS_Public_Transportation             -0.284754   \n",
      "MTRANS_Walking                            1.000000   \n",
      "NObeyesdad_Insufficient_Weight           -0.010695   \n",
      "NObeyesdad_Normal_Weight                  0.209742   \n",
      "NObeyesdad_Obesity_Type_I                -0.057885   \n",
      "NObeyesdad_Obesity_Type_II               -0.058318   \n",
      "NObeyesdad_Obesity_Type_III              -0.070291   \n",
      "NObeyesdad_Overweight_Level_I             0.011192   \n",
      "NObeyesdad_Overweight_Level_II           -0.014498   \n",
      "\n",
      "                                    NObeyesdad_Insufficient_Weight   \n",
      "Age                                                      -0.274559  \\\n",
      "Height                                                   -0.043538   \n",
      "Weight                                                   -0.538726   \n",
      "FCVC                                                      0.044486   \n",
      "NCP                                                       0.113111   \n",
      "CH2O                                                     -0.085809   \n",
      "FAF                                                       0.108464   \n",
      "TUE                                                       0.114718   \n",
      "Gender_Female                                             0.109192   \n",
      "Gender_Male                                              -0.109192   \n",
      "family_history_with_overweight_no                         0.352946   \n",
      "family_history_with_overweight_yes                       -0.352946   \n",
      "FAVC_no                                                   0.085781   \n",
      "FAVC_yes                                                 -0.085781   \n",
      "CAEC_Always                                              -0.043642   \n",
      "CAEC_Frequently                                           0.398627   \n",
      "CAEC_Sometimes                                           -0.310974   \n",
      "CAEC_no                                                  -0.032887   \n",
      "SMOKE_no                                                  0.046214   \n",
      "SMOKE_yes                                                -0.046214   \n",
      "SCC_no                                                   -0.065357   \n",
      "SCC_yes                                                   0.065357   \n",
      "CALC_Always                                              -0.008372   \n",
      "CALC_Frequently                                          -0.063326   \n",
      "CALC_Sometimes                                           -0.079359   \n",
      "CALC_no                                                   0.106686   \n",
      "MTRANS_Automobile                                        -0.044232   \n",
      "MTRANS_Bike                                              -0.022183   \n",
      "MTRANS_Motorbike                                         -0.027834   \n",
      "MTRANS_Public_Transportation                              0.053503   \n",
      "MTRANS_Walking                                           -0.010695   \n",
      "NObeyesdad_Insufficient_Weight                            1.000000   \n",
      "NObeyesdad_Normal_Weight                                 -0.152553   \n",
      "NObeyesdad_Obesity_Type_I                                -0.171748   \n",
      "NObeyesdad_Obesity_Type_II                               -0.155616   \n",
      "NObeyesdad_Obesity_Type_III                              -0.163758   \n",
      "NObeyesdad_Overweight_Level_I                            -0.153475   \n",
      "NObeyesdad_Overweight_Level_II                           -0.153475   \n",
      "\n",
      "                                    NObeyesdad_Normal_Weight   \n",
      "Age                                                -0.160927  \\\n",
      "Height                                             -0.106700   \n",
      "Weight                                             -0.370099   \n",
      "FCVC                                               -0.062828   \n",
      "NCP                                                 0.027052   \n",
      "CH2O                                               -0.102168   \n",
      "FAF                                                 0.110591   \n",
      "TUE                                                 0.011789   \n",
      "Gender_Female                                      -0.002213   \n",
      "Gender_Male                                         0.002213   \n",
      "family_history_with_overweight_no                   0.285109   \n",
      "family_history_with_overweight_yes                 -0.285109   \n",
      "FAVC_no                                             0.197164   \n",
      "FAVC_yes                                           -0.197164   \n",
      "CAEC_Always                                         0.245545   \n",
      "CAEC_Frequently                                     0.217346   \n",
      "CAEC_Sometimes                                     -0.302269   \n",
      "CAEC_no                                             0.027602   \n",
      "SMOKE_no                                           -0.067897   \n",
      "SMOKE_yes                                           0.067897   \n",
      "SCC_no                                             -0.112432   \n",
      "SCC_yes                                             0.112432   \n",
      "CALC_Always                                         0.054882   \n",
      "CALC_Frequently                                     0.065482   \n",
      "CALC_Sometimes                                     -0.086219   \n",
      "CALC_no                                             0.060544   \n",
      "MTRANS_Automobile                                  -0.057491   \n",
      "MTRANS_Bike                                         0.073286   \n",
      "MTRANS_Motorbike                                    0.086472   \n",
      "MTRANS_Public_Transportation                       -0.047169   \n",
      "MTRANS_Walking                                      0.209742   \n",
      "NObeyesdad_Insufficient_Weight                     -0.152553   \n",
      "NObeyesdad_Normal_Weight                            1.000000   \n",
      "NObeyesdad_Obesity_Type_I                          -0.177144   \n",
      "NObeyesdad_Obesity_Type_II                         -0.160505   \n",
      "NObeyesdad_Obesity_Type_III                        -0.168904   \n",
      "NObeyesdad_Overweight_Level_I                      -0.158297   \n",
      "NObeyesdad_Overweight_Level_II                     -0.158297   \n",
      "\n",
      "                                    NObeyesdad_Obesity_Type_I   \n",
      "Age                                                  0.110675  \\\n",
      "Height                                              -0.037693   \n",
      "Weight                                               0.107174   \n",
      "FCVC                                                -0.194922   \n",
      "NCP                                                 -0.145691   \n",
      "CH2O                                                 0.075940   \n",
      "FAF                                                 -0.012367   \n",
      "TUE                                                  0.013847   \n",
      "Gender_Female                                       -0.044334   \n",
      "Gender_Male                                          0.044334   \n",
      "family_history_with_overweight_no                   -0.187851   \n",
      "family_history_with_overweight_yes                   0.187851   \n",
      "FAVC_no                                             -0.118122   \n",
      "FAVC_yes                                             0.118122   \n",
      "CAEC_Always                                         -0.022872   \n",
      "CAEC_Frequently                                     -0.136733   \n",
      "CAEC_Sometimes                                       0.153046   \n",
      "CAEC_no                                             -0.061980   \n",
      "SMOKE_no                                             0.011720   \n",
      "SMOKE_yes                                           -0.011720   \n",
      "SCC_no                                               0.085262   \n",
      "SCC_yes                                             -0.085262   \n",
      "CALC_Always                                         -0.009722   \n",
      "CALC_Frequently                                      0.016776   \n",
      "CALC_Sometimes                                      -0.164128   \n",
      "CALC_no                                              0.162704   \n",
      "MTRANS_Automobile                                    0.105077   \n",
      "MTRANS_Bike                                         -0.025759   \n",
      "MTRANS_Motorbike                                     0.020693   \n",
      "MTRANS_Public_Transportation                        -0.078320   \n",
      "MTRANS_Walking                                      -0.057885   \n",
      "NObeyesdad_Insufficient_Weight                      -0.171748   \n",
      "NObeyesdad_Normal_Weight                            -0.177144   \n",
      "NObeyesdad_Obesity_Type_I                            1.000000   \n",
      "NObeyesdad_Obesity_Type_II                          -0.180699   \n",
      "NObeyesdad_Obesity_Type_III                         -0.190155   \n",
      "NObeyesdad_Overweight_Level_I                       -0.178214   \n",
      "NObeyesdad_Overweight_Level_II                      -0.178214   \n",
      "\n",
      "                                    NObeyesdad_Obesity_Type_II   \n",
      "Age                                                   0.250082  \\\n",
      "Height                                                0.304150   \n",
      "Weight                                                0.443793   \n",
      "FCVC                                                 -0.021042   \n",
      "NCP                                                   0.030653   \n",
      "CH2O                                                 -0.086071   \n",
      "FAF                                                  -0.018291   \n",
      "TUE                                                  -0.094833   \n",
      "Gender_Female                                        -0.394418   \n",
      "Gender_Male                                           0.394418   \n",
      "family_history_with_overweight_no                    -0.187576   \n",
      "family_history_with_overweight_yes                    0.187576   \n",
      "FAVC_no                                              -0.116843   \n",
      "FAVC_yes                                              0.116843   \n",
      "CAEC_Always                                          -0.047518   \n",
      "CAEC_Frequently                                      -0.141324   \n",
      "CAEC_Sometimes                                        0.164432   \n",
      "CAEC_no                                              -0.054793   \n",
      "SMOKE_no                                             -0.084014   \n",
      "SMOKE_yes                                             0.084014   \n",
      "SCC_no                                                0.081781   \n",
      "SCC_yes                                              -0.081781   \n",
      "CALC_Always                                          -0.008809   \n",
      "CALC_Frequently                                      -0.059718   \n",
      "CALC_Sometimes                                        0.077544   \n",
      "CALC_no                                              -0.056052   \n",
      "MTRANS_Automobile                                     0.101569   \n",
      "MTRANS_Bike                                           0.000359   \n",
      "MTRANS_Motorbike                                     -0.029285   \n",
      "MTRANS_Public_Transportation                         -0.069997   \n",
      "MTRANS_Walking                                       -0.058318   \n",
      "NObeyesdad_Insufficient_Weight                       -0.155616   \n",
      "NObeyesdad_Normal_Weight                             -0.160505   \n",
      "NObeyesdad_Obesity_Type_I                            -0.180699   \n",
      "NObeyesdad_Obesity_Type_II                            1.000000   \n",
      "NObeyesdad_Obesity_Type_III                          -0.172294   \n",
      "NObeyesdad_Overweight_Level_I                        -0.161474   \n",
      "NObeyesdad_Overweight_Level_II                       -0.161474   \n",
      "\n",
      "                                    NObeyesdad_Obesity_Type_III   \n",
      "Age                                                   -0.054835  \\\n",
      "Height                                                -0.064443   \n",
      "Weight                                                 0.558662   \n",
      "FCVC                                                   0.463421   \n",
      "NCP                                                    0.172090   \n",
      "CH2O                                                   0.139303   \n",
      "FAF                                                   -0.172988   \n",
      "TUE                                                   -0.037240   \n",
      "Gender_Female                                          0.428249   \n",
      "Gender_Male                                           -0.428249   \n",
      "family_history_with_overweight_no                     -0.201104   \n",
      "family_history_with_overweight_yes                     0.201104   \n",
      "FAVC_no                                               -0.150187   \n",
      "FAVC_yes                                               0.150187   \n",
      "CAEC_Always                                           -0.068332   \n",
      "CAEC_Frequently                                       -0.149094   \n",
      "CAEC_Sometimes                                         0.184978   \n",
      "CAEC_no                                               -0.066998   \n",
      "SMOKE_no                                               0.052926   \n",
      "SMOKE_yes                                             -0.052926   \n",
      "SCC_no                                                 0.092941   \n",
      "SCC_yes                                               -0.092941   \n",
      "CALC_Always                                           -0.009270   \n",
      "CALC_Frequently                                       -0.078857   \n",
      "CALC_Sometimes                                         0.300342   \n",
      "CALC_no                                               -0.277687   \n",
      "MTRANS_Automobile                                     -0.220630   \n",
      "MTRANS_Bike                                           -0.024560   \n",
      "MTRANS_Motorbike                                      -0.030817   \n",
      "MTRANS_Public_Transportation                           0.243819   \n",
      "MTRANS_Walking                                        -0.070291   \n",
      "NObeyesdad_Insufficient_Weight                        -0.163758   \n",
      "NObeyesdad_Normal_Weight                              -0.168904   \n",
      "NObeyesdad_Obesity_Type_I                             -0.190155   \n",
      "NObeyesdad_Obesity_Type_II                            -0.172294   \n",
      "NObeyesdad_Obesity_Type_III                            1.000000   \n",
      "NObeyesdad_Overweight_Level_I                         -0.169924   \n",
      "NObeyesdad_Overweight_Level_II                        -0.169924   \n",
      "\n",
      "                                    NObeyesdad_Overweight_Level_I   \n",
      "Age                                                     -0.056291  \\\n",
      "Height                                                  -0.059212   \n",
      "Weight                                                  -0.187748   \n",
      "FCVC                                                    -0.115437   \n",
      "NCP                                                     -0.093069   \n",
      "CH2O                                                     0.033025   \n",
      "FAF                                                      0.021820   \n",
      "TUE                                                     -0.029415   \n",
      "Gender_Female                                            0.004726   \n",
      "Gender_Male                                             -0.004726   \n",
      "family_history_with_overweight_no                        0.100173   \n",
      "family_history_with_overweight_yes                      -0.100173   \n",
      "FAVC_no                                                 -0.050082   \n",
      "FAVC_yes                                                 0.050082   \n",
      "CAEC_Always                                             -0.020062   \n",
      "CAEC_Frequently                                         -0.083126   \n",
      "CAEC_Sometimes                                          -0.024043   \n",
      "CAEC_no                                                  0.250887   \n",
      "SMOKE_no                                                 0.029326   \n",
      "SMOKE_yes                                               -0.029326   \n",
      "SCC_no                                                  -0.157274   \n",
      "SCC_yes                                                  0.157274   \n",
      "CALC_Always                                             -0.008688   \n",
      "CALC_Frequently                                          0.049061   \n",
      "CALC_Sometimes                                           0.091855   \n",
      "CALC_no                                                 -0.113169   \n",
      "MTRANS_Automobile                                        0.010757   \n",
      "MTRANS_Bike                                              0.024855   \n",
      "MTRANS_Motorbike                                        -0.009769   \n",
      "MTRANS_Public_Transportation                            -0.016027   \n",
      "MTRANS_Walking                                           0.011192   \n",
      "NObeyesdad_Insufficient_Weight                          -0.153475   \n",
      "NObeyesdad_Normal_Weight                                -0.158297   \n",
      "NObeyesdad_Obesity_Type_I                               -0.178214   \n",
      "NObeyesdad_Obesity_Type_II                              -0.161474   \n",
      "NObeyesdad_Obesity_Type_III                             -0.169924   \n",
      "NObeyesdad_Overweight_Level_I                            1.000000   \n",
      "NObeyesdad_Overweight_Level_II                          -0.159253   \n",
      "\n",
      "                                    NObeyesdad_Overweight_Level_II  \n",
      "Age                                                       0.168847  \n",
      "Height                                                    0.008857  \n",
      "Weight                                                   -0.068593  \n",
      "FCVC                                                     -0.118467  \n",
      "NCP                                                      -0.097527  \n",
      "CH2O                                                      0.011150  \n",
      "FAF                                                      -0.024508  \n",
      "TUE                                                       0.025833  \n",
      "Gender_Female                                            -0.110873  \n",
      "Gender_Male                                               0.110873  \n",
      "family_history_with_overweight_no                        -0.124331  \n",
      "family_history_with_overweight_yes                        0.124331  \n",
      "FAVC_no                                                   0.173326  \n",
      "FAVC_yes                                                 -0.173326  \n",
      "CAEC_Always                                              -0.037654  \n",
      "CAEC_Frequently                                          -0.074487  \n",
      "CAEC_Sometimes                                            0.102344  \n",
      "CAEC_no                                                  -0.053829  \n",
      "SMOKE_no                                                  0.010061  \n",
      "SMOKE_yes                                                -0.010061  \n",
      "SCC_no                                                    0.060686  \n",
      "SCC_yes                                                  -0.060686  \n",
      "CALC_Always                                              -0.008688  \n",
      "CALC_Frequently                                           0.072117  \n",
      "CALC_Sometimes                                           -0.144068  \n",
      "CALC_no                                                   0.120459  \n",
      "MTRANS_Automobile                                         0.104311  \n",
      "MTRANS_Bike                                              -0.023018  \n",
      "MTRANS_Motorbike                                         -0.009769  \n",
      "MTRANS_Public_Transportation                             -0.088970  \n",
      "MTRANS_Walking                                           -0.014498  \n",
      "NObeyesdad_Insufficient_Weight                           -0.153475  \n",
      "NObeyesdad_Normal_Weight                                 -0.158297  \n",
      "NObeyesdad_Obesity_Type_I                                -0.178214  \n",
      "NObeyesdad_Obesity_Type_II                               -0.161474  \n",
      "NObeyesdad_Obesity_Type_III                              -0.169924  \n",
      "NObeyesdad_Overweight_Level_I                            -0.159253  \n",
      "NObeyesdad_Overweight_Level_II                            1.000000  \n",
      "\n",
      "[38 rows x 38 columns]\n"
     ]
    }
   ],
   "source": [
    "correlation_matrix = df.corr()\n",
    "print(correlation_matrix)"
   ],
   "metadata": {
    "collapsed": false,
    "ExecuteTime": {
     "end_time": "2023-10-12T22:58:24.699558300Z",
     "start_time": "2023-10-12T22:58:24.643258600Z"
    }
   }
  },
  {
   "cell_type": "code",
   "execution_count": 378,
   "outputs": [
    {
     "data": {
      "text/plain": "<Axes: >"
     },
     "execution_count": 378,
     "metadata": {},
     "output_type": "execute_result"
    },
    {
     "data": {
      "text/plain": "<Figure size 640x480 with 2 Axes>",
      "image/png": "[encoded data removed]"
     },
     "metadata": {},
     "output_type": "display_data"
    }
   ],
   "source": [
    "sns.heatmap(df.corr())"
   ],
   "metadata": {
    "collapsed": false,
    "ExecuteTime": {
     "end_time": "2023-10-12T22:58:25.174133100Z",
     "start_time": "2023-10-12T22:58:24.689591900Z"
    }
   }
  },
  {
   "cell_type": "code",
   "execution_count": 379,
   "outputs": [],
   "source": [
    "categorical_variables = ['Gender', 'family_history_with_overweight', 'FAVC', 'CAEC', 'SMOKE', 'SCC', 'CALC', 'MTRANS' ]\n"
   ],
   "metadata": {
    "collapsed": false,
    "ExecuteTime": {
     "end_time": "2023-10-12T22:58:25.179524600Z",
     "start_time": "2023-10-12T22:58:25.173326Z"
    }
   }
  },
  {
   "cell_type": "code",
   "execution_count": 380,
   "outputs": [],
   "source": [
    "# Seleccionar las características relevantes (variables predictoras) y la variable objetivo\n",
    "features = df[['Age', 'Height', 'Weight', 'FCVC', 'NCP', 'CH2O', 'FAF', 'TUE', 'Gender_Female', 'Gender_Male', 'family_history_with_overweight_no', 'family_history_with_overweight_yes', 'FAVC_no', 'FAVC_yes', 'CAEC_Always', 'CAEC_Frequently', 'CAEC_Sometimes', 'CAEC_no', 'SMOKE_no', 'SMOKE_yes', 'SCC_no', 'SCC_yes', 'CALC_Always', 'CALC_Frequently', 'CALC_Sometimes', 'CALC_no', 'MTRANS_Automobile', 'MTRANS_Bike', 'MTRANS_Motor bike', 'MTRANS_Public_Transportation', 'MTRANS_Walking']]\n",
    "target = df_train['NObeyesdad']"
   ],
   "metadata": {
    "collapsed": false,
    "ExecuteTime": {
     "end_time": "2023-10-12T22:58:25.184167800Z",
     "start_time": "2023-10-12T22:58:25.178446700Z"
    }
   }
  },
  {
   "cell_type": "code",
   "execution_count": 381,
   "outputs": [],
   "source": [
    "X_train, X_test, y_train, y_test = train_test_split(features, target, test_size=0.2, random_state=42)"
   ],
   "metadata": {
    "collapsed": false,
    "ExecuteTime": {
     "end_time": "2023-10-12T22:58:25.188701800Z",
     "start_time": "2023-10-12T22:58:25.185179600Z"
    }
   }
  },
  {
   "cell_type": "code",
   "execution_count": 382,
   "outputs": [
    {
     "data": {
      "text/plain": "RandomForestClassifier(n_estimators=300)",
      "text/html": "<style>#sk-container-id-14 {color: black;background-color: white;}#sk-container-id-14 pre{padding: 0;}#sk-container-id-14 div.sk-toggleable {background-color: white;}#sk-container-id-14 label.sk-toggleable__label {cursor: pointer;display: block;width: 100%;margin-bottom: 0;padding: 0.3em;box-sizing: border-box;text-align: center;}#sk-container-id-14 label.sk-toggleable__label-arrow:before {content: \"▸\";float: left;margin-right: 0.25em;color: #696969;}#sk-container-id-14 label.sk-toggleable__label-arrow:hover:before {color: black;}#sk-container-id-14 div.sk-estimator:hover label.sk-toggleable__label-arrow:before {color: black;}#sk-container-id-14 div.sk-toggleable__content {max-height: 0;max-width: 0;overflow: hidden;text-align: left;background-color: #f0f8ff;}#sk-container-id-14 div.sk-toggleable__content pre {margin: 0.2em;color: black;border-radius: 0.25em;background-color: #f0f8ff;}#sk-container-id-14 input.sk-toggleable__control:checked~div.sk-toggleable__content {max-height: 200px;max-width: 100%;overflow: auto;}#sk-container-id-14 input.sk-toggleable__control:checked~label.sk-toggleable__label-arrow:before {content: \"▾\";}#sk-container-id-14 div.sk-estimator input.sk-toggleable__control:checked~label.sk-toggleable__label {background-color: #d4ebff;}#sk-container-id-14 div.sk-label input.sk-toggleable__control:checked~label.sk-toggleable__label {background-color: #d4ebff;}#sk-container-id-14 input.sk-hidden--visually {border: 0;clip: rect(1px 1px 1px 1px);clip: rect(1px, 1px, 1px, 1px);height: 1px;margin: -1px;overflow: hidden;padding: 0;position: absolute;width: 1px;}#sk-container-id-14 div.sk-estimator {font-family: monospace;background-color: #f0f8ff;border: 1px dotted black;border-radius: 0.25em;box-sizing: border-box;margin-bottom: 0.5em;}#sk-container-id-14 div.sk-estimator:hover {background-color: #d4ebff;}#sk-container-id-14 div.sk-parallel-item::after {content: \"\";width: 100%;border-bottom: 1px solid gray;flex-grow: 1;}#sk-container-id-14 div.sk-label:hover label.sk-toggleable__label {background-color: #d4ebff;}#sk-container-id-14 div.sk-serial::before {content: \"\";position: absolute;border-left: 1px solid gray;box-sizing: border-box;top: 0;bottom: 0;left: 50%;z-index: 0;}#sk-container-id-14 div.sk-serial {display: flex;flex-direction: column;align-items: center;background-color: white;padding-right: 0.2em;padding-left: 0.2em;position: relative;}#sk-container-id-14 div.sk-item {position: relative;z-index: 1;}#sk-container-id-14 div.sk-parallel {display: flex;align-items: stretch;justify-content: center;background-color: white;position: relative;}#sk-container-id-14 div.sk-item::before, #sk-container-id-14 div.sk-parallel-item::before {content: \"\";position: absolute;border-left: 1px solid gray;box-sizing: border-box;top: 0;bottom: 0;left: 50%;z-index: -1;}#sk-container-id-14 div.sk-parallel-item {display: flex;flex-direction: column;z-index: 1;position: relative;background-color: white;}#sk-container-id-14 div.sk-parallel-item:first-child::after {align-self: flex-end;width: 50%;}#sk-container-id-14 div.sk-parallel-item:last-child::after {align-self: flex-start;width: 50%;}#sk-container-id-14 div.sk-parallel-item:only-child::after {width: 0;}#sk-container-id-14 div.sk-dashed-wrapped {border: 1px dashed gray;margin: 0 0.4em 0.5em 0.4em;box-sizing: border-box;padding-bottom: 0.4em;background-color: white;}#sk-container-id-14 div.sk-label label {font-family: monospace;font-weight: bold;display: inline-block;line-height: 1.2em;}#sk-container-id-14 div.sk-label-container {text-align: center;}#sk-container-id-14 div.sk-container {/* jupyter's `normalize.less` sets `[hidden] { display: none; }` but bootstrap.min.css set `[hidden] { display: none !important; }` so we also need the `!important` here to be able to override the default hidden behavior on the sphinx rendered scikit-learn.org. See: https://github.com/scikit-learn/scikit-learn/issues/21755 */display: inline-block !important;position: relative;}#sk-container-id-14 div.sk-text-repr-fallback {display: none;}</style><div id=\"sk-container-id-14\" class=\"sk-top-container\"><div class=\"sk-text-repr-fallback\"><pre>RandomForestClassifier(n_estimators=300)</pre><b>In a Jupyter environment, please rerun this cell to show the HTML representation or trust the notebook. <br />On GitHub, the HTML representation is unable to render, please try loading this page with nbviewer.org.</b></div><div class=\"sk-container\" hidden><div class=\"sk-item\"><div class=\"sk-estimator sk-toggleable\"><input class=\"sk-toggleable__control sk-hidden--visually\" id=\"sk-estimator-id-14\" type=\"checkbox\" checked><label for=\"sk-estimator-id-14\" class=\"sk-toggleable__label sk-toggleable__label-arrow\">RandomForestClassifier</label><div class=\"sk-toggleable__content\"><pre>RandomForestClassifier(n_estimators=300)</pre></div></div></div></div></div>"
     },
     "execution_count": 382,
     "metadata": {},
     "output_type": "execute_result"
    }
   ],
   "source": [
    "# Entrenamiento del modelo\n",
    "model = RandomForestClassifier(n_estimators=300, random_state=None)\n",
    "model.fit(X_train, y_train)"
   ],
   "metadata": {
    "collapsed": false,
    "ExecuteTime": {
     "end_time": "2023-10-12T22:58:26.048067200Z",
     "start_time": "2023-10-12T22:58:25.189699300Z"
    }
   }
  },
  {
   "cell_type": "code",
   "execution_count": 383,
   "outputs": [],
   "source": [
    "#predicciones\n",
    "y_pred = model.predict(X_test)"
   ],
   "metadata": {
    "collapsed": false,
    "ExecuteTime": {
     "end_time": "2023-10-12T22:58:26.097940500Z",
     "start_time": "2023-10-12T22:58:26.048067200Z"
    }
   }
  },
  {
   "cell_type": "code",
   "execution_count": 384,
   "outputs": [
    {
     "name": "stdout",
     "output_type": "stream",
     "text": [
      "Precisión del modelo: 0.9361702127659575\n"
     ]
    }
   ],
   "source": [
    "#Evaluacion del modelo\n",
    "accuracy = accuracy_score(y_test, y_pred)\n",
    "print(f\"Precisión del modelo: {accuracy}\")"
   ],
   "metadata": {
    "collapsed": false,
    "ExecuteTime": {
     "end_time": "2023-10-12T22:58:26.098927700Z",
     "start_time": "2023-10-12T22:58:26.083811600Z"
    }
   }
  },
  {
   "cell_type": "code",
   "execution_count": 385,
   "outputs": [],
   "source": [
    "kf = KFold(n_splits=5, shuffle=True, random_state=42)\n"
   ],
   "metadata": {
    "collapsed": false,
    "ExecuteTime": {
     "end_time": "2023-10-12T22:58:26.098927700Z",
     "start_time": "2023-10-12T22:58:26.088494300Z"
    }
   }
  },
  {
   "cell_type": "code",
   "execution_count": 386,
   "outputs": [],
   "source": [
    "puntuaciones = cross_val_score(model, features, target, cv=kf)\n"
   ],
   "metadata": {
    "collapsed": false,
    "ExecuteTime": {
     "end_time": "2023-10-12T22:58:29.728469500Z",
     "start_time": "2023-10-12T22:58:26.091952600Z"
    }
   }
  },
  {
   "cell_type": "code",
   "execution_count": 387,
   "outputs": [
    {
     "name": "stdout",
     "output_type": "stream",
     "text": [
      "Puntuaciones de validación cruzada: [0.94799054 0.94312796 0.94312796 0.93838863 0.9549763 ]\n",
      "Puntuación media de validación cruzada: 0.9455222793631586\n"
     ]
    }
   ],
   "source": [
    "print(\"Puntuaciones de validación cruzada:\", puntuaciones)\n",
    "print(\"Puntuación media de validación cruzada:\", puntuaciones.mean())"
   ],
   "metadata": {
    "collapsed": false,
    "ExecuteTime": {
     "end_time": "2023-10-12T22:58:29.728469500Z",
     "start_time": "2023-10-12T22:58:29.722870800Z"
    }
   }
  },
  {
   "cell_type": "code",
   "execution_count": 388,
   "outputs": [],
   "source": [
    "cm = confusion_matrix(y_test, y_pred)"
   ],
   "metadata": {
    "collapsed": false,
    "ExecuteTime": {
     "end_time": "2023-10-12T22:58:29.733042300Z",
     "start_time": "2023-10-12T22:58:29.727457600Z"
    }
   }
  },
  {
   "cell_type": "code",
   "execution_count": 389,
   "outputs": [
    {
     "data": {
      "text/plain": "array([[54,  2,  0,  0,  0,  0,  0],\n       [ 2, 55,  0,  0,  0,  4,  1],\n       [ 0,  2, 72,  2,  0,  1,  1],\n       [ 0,  0,  1, 57,  0,  0,  0],\n       [ 0,  0,  0,  0, 63,  0,  0],\n       [ 0,  7,  0,  0,  0, 48,  1],\n       [ 0,  0,  0,  0,  0,  3, 47]], dtype=int64)"
     },
     "execution_count": 389,
     "metadata": {},
     "output_type": "execute_result"
    }
   ],
   "source": [
    "cm"
   ],
   "metadata": {
    "collapsed": false,
    "ExecuteTime": {
     "end_time": "2023-10-12T22:58:29.743069400Z",
     "start_time": "2023-10-12T22:58:29.733042300Z"
    }
   }
  },
  {
   "cell_type": "code",
   "execution_count": 390,
   "outputs": [],
   "source": [
    "cr =  classification_report(y_test, y_pred)"
   ],
   "metadata": {
    "collapsed": false,
    "ExecuteTime": {
     "end_time": "2023-10-12T22:58:29.779054100Z",
     "start_time": "2023-10-12T22:58:29.739082300Z"
    }
   }
  },
  {
   "cell_type": "code",
   "execution_count": 391,
   "outputs": [
    {
     "name": "stdout",
     "output_type": "stream",
     "text": [
      "                     precision    recall  f1-score   support\n",
      "\n",
      "Insufficient_Weight       0.96      0.96      0.96        56\n",
      "      Normal_Weight       0.83      0.89      0.86        62\n",
      "     Obesity_Type_I       0.99      0.92      0.95        78\n",
      "    Obesity_Type_II       0.97      0.98      0.97        58\n",
      "   Obesity_Type_III       1.00      1.00      1.00        63\n",
      " Overweight_Level_I       0.86      0.86      0.86        56\n",
      "Overweight_Level_II       0.94      0.94      0.94        50\n",
      "\n",
      "           accuracy                           0.94       423\n",
      "          macro avg       0.94      0.94      0.94       423\n",
      "       weighted avg       0.94      0.94      0.94       423\n",
      "\n"
     ]
    }
   ],
   "source": [
    "print(cr)"
   ],
   "metadata": {
    "collapsed": false,
    "ExecuteTime": {
     "end_time": "2023-10-12T22:58:29.780060300Z",
     "start_time": "2023-10-12T22:58:29.752412600Z"
    }
   }
  },
  {
   "cell_type": "markdown",
   "source": [
    "**REGRESION LOGISTICA**"
   ],
   "metadata": {
    "collapsed": false
   }
  },
  {
   "cell_type": "code",
   "execution_count": 392,
   "outputs": [],
   "source": [
    "modelo = LogisticRegression()"
   ],
   "metadata": {
    "collapsed": false,
    "ExecuteTime": {
     "end_time": "2023-10-12T22:58:29.780060300Z",
     "start_time": "2023-10-12T22:58:29.755908400Z"
    }
   }
  },
  {
   "cell_type": "code",
   "execution_count": 393,
   "outputs": [
    {
     "data": {
      "text/plain": "LogisticRegression()",
      "text/html": "<style>#sk-container-id-15 {color: black;background-color: white;}#sk-container-id-15 pre{padding: 0;}#sk-container-id-15 div.sk-toggleable {background-color: white;}#sk-container-id-15 label.sk-toggleable__label {cursor: pointer;display: block;width: 100%;margin-bottom: 0;padding: 0.3em;box-sizing: border-box;text-align: center;}#sk-container-id-15 label.sk-toggleable__label-arrow:before {content: \"▸\";float: left;margin-right: 0.25em;color: #696969;}#sk-container-id-15 label.sk-toggleable__label-arrow:hover:before {color: black;}#sk-container-id-15 div.sk-estimator:hover label.sk-toggleable__label-arrow:before {color: black;}#sk-container-id-15 div.sk-toggleable__content {max-height: 0;max-width: 0;overflow: hidden;text-align: left;background-color: #f0f8ff;}#sk-container-id-15 div.sk-toggleable__content pre {margin: 0.2em;color: black;border-radius: 0.25em;background-color: #f0f8ff;}#sk-container-id-15 input.sk-toggleable__control:checked~div.sk-toggleable__content {max-height: 200px;max-width: 100%;overflow: auto;}#sk-container-id-15 input.sk-toggleable__control:checked~label.sk-toggleable__label-arrow:before {content: \"▾\";}#sk-container-id-15 div.sk-estimator input.sk-toggleable__control:checked~label.sk-toggleable__label {background-color: #d4ebff;}#sk-container-id-15 div.sk-label input.sk-toggleable__control:checked~label.sk-toggleable__label {background-color: #d4ebff;}#sk-container-id-15 input.sk-hidden--visually {border: 0;clip: rect(1px 1px 1px 1px);clip: rect(1px, 1px, 1px, 1px);height: 1px;margin: -1px;overflow: hidden;padding: 0;position: absolute;width: 1px;}#sk-container-id-15 div.sk-estimator {font-family: monospace;background-color: #f0f8ff;border: 1px dotted black;border-radius: 0.25em;box-sizing: border-box;margin-bottom: 0.5em;}#sk-container-id-15 div.sk-estimator:hover {background-color: #d4ebff;}#sk-container-id-15 div.sk-parallel-item::after {content: \"\";width: 100%;border-bottom: 1px solid gray;flex-grow: 1;}#sk-container-id-15 div.sk-label:hover label.sk-toggleable__label {background-color: #d4ebff;}#sk-container-id-15 div.sk-serial::before {content: \"\";position: absolute;border-left: 1px solid gray;box-sizing: border-box;top: 0;bottom: 0;left: 50%;z-index: 0;}#sk-container-id-15 div.sk-serial {display: flex;flex-direction: column;align-items: center;background-color: white;padding-right: 0.2em;padding-left: 0.2em;position: relative;}#sk-container-id-15 div.sk-item {position: relative;z-index: 1;}#sk-container-id-15 div.sk-parallel {display: flex;align-items: stretch;justify-content: center;background-color: white;position: relative;}#sk-container-id-15 div.sk-item::before, #sk-container-id-15 div.sk-parallel-item::before {content: \"\";position: absolute;border-left: 1px solid gray;box-sizing: border-box;top: 0;bottom: 0;left: 50%;z-index: -1;}#sk-container-id-15 div.sk-parallel-item {display: flex;flex-direction: column;z-index: 1;position: relative;background-color: white;}#sk-container-id-15 div.sk-parallel-item:first-child::after {align-self: flex-end;width: 50%;}#sk-container-id-15 div.sk-parallel-item:last-child::after {align-self: flex-start;width: 50%;}#sk-container-id-15 div.sk-parallel-item:only-child::after {width: 0;}#sk-container-id-15 div.sk-dashed-wrapped {border: 1px dashed gray;margin: 0 0.4em 0.5em 0.4em;box-sizing: border-box;padding-bottom: 0.4em;background-color: white;}#sk-container-id-15 div.sk-label label {font-family: monospace;font-weight: bold;display: inline-block;line-height: 1.2em;}#sk-container-id-15 div.sk-label-container {text-align: center;}#sk-container-id-15 div.sk-container {/* jupyter's `normalize.less` sets `[hidden] { display: none; }` but bootstrap.min.css set `[hidden] { display: none !important; }` so we also need the `!important` here to be able to override the default hidden behavior on the sphinx rendered scikit-learn.org. See: https://github.com/scikit-learn/scikit-learn/issues/21755 */display: inline-block !important;position: relative;}#sk-container-id-15 div.sk-text-repr-fallback {display: none;}</style><div id=\"sk-container-id-15\" class=\"sk-top-container\"><div class=\"sk-text-repr-fallback\"><pre>LogisticRegression()</pre><b>In a Jupyter environment, please rerun this cell to show the HTML representation or trust the notebook. <br />On GitHub, the HTML representation is unable to render, please try loading this page with nbviewer.org.</b></div><div class=\"sk-container\" hidden><div class=\"sk-item\"><div class=\"sk-estimator sk-toggleable\"><input class=\"sk-toggleable__control sk-hidden--visually\" id=\"sk-estimator-id-15\" type=\"checkbox\" checked><label for=\"sk-estimator-id-15\" class=\"sk-toggleable__label sk-toggleable__label-arrow\">LogisticRegression</label><div class=\"sk-toggleable__content\"><pre>LogisticRegression()</pre></div></div></div></div></div>"
     },
     "execution_count": 393,
     "metadata": {},
     "output_type": "execute_result"
    }
   ],
   "source": [
    "modelo.fit(features, target)"
   ],
   "metadata": {
    "collapsed": false,
    "ExecuteTime": {
     "end_time": "2023-10-12T22:58:29.849595600Z",
     "start_time": "2023-10-12T22:58:29.760118200Z"
    }
   }
  },
  {
   "cell_type": "code",
   "execution_count": 394,
   "outputs": [],
   "source": [
    "kf = KFold(n_splits=5, shuffle=True, random_state=42)"
   ],
   "metadata": {
    "collapsed": false,
    "ExecuteTime": {
     "end_time": "2023-10-12T22:58:29.849595600Z",
     "start_time": "2023-10-12T22:58:29.817763400Z"
    }
   }
  },
  {
   "cell_type": "code",
   "execution_count": 395,
   "outputs": [],
   "source": [
    "puntuaciones = cross_val_score(modelo, features, target, cv=kf)"
   ],
   "metadata": {
    "collapsed": false,
    "ExecuteTime": {
     "end_time": "2023-10-12T22:58:30.055571300Z",
     "start_time": "2023-10-12T22:58:29.821666400Z"
    }
   }
  },
  {
   "cell_type": "code",
   "execution_count": 396,
   "outputs": [
    {
     "name": "stdout",
     "output_type": "stream",
     "text": [
      "Puntuaciones de validación cruzada: [0.71631206 0.74881517 0.66587678 0.66824645 0.69668246]\n",
      "Puntuación media de validación cruzada: 0.6991865819636315\n"
     ]
    }
   ],
   "source": [
    "print(\"Puntuaciones de validación cruzada:\", puntuaciones)\n",
    "print(\"Puntuación media de validación cruzada:\", puntuaciones.mean())\n"
   ],
   "metadata": {
    "collapsed": false,
    "ExecuteTime": {
     "end_time": "2023-10-12T22:58:30.060892300Z",
     "start_time": "2023-10-12T22:58:30.056571Z"
    }
   }
  },
  {
   "cell_type": "code",
   "execution_count": 397,
   "outputs": [],
   "source": [
    "y_pred = modelo.predict(X_test)"
   ],
   "metadata": {
    "collapsed": false,
    "ExecuteTime": {
     "end_time": "2023-10-12T22:58:30.066983500Z",
     "start_time": "2023-10-12T22:58:30.059896200Z"
    }
   }
  },
  {
   "cell_type": "code",
   "execution_count": 398,
   "outputs": [
    {
     "name": "stdout",
     "output_type": "stream",
     "text": [
      "Precisión del modelo: 0.7257683215130024\n"
     ]
    }
   ],
   "source": [
    "accuracy = accuracy_score(y_test, y_pred)\n",
    "print(f\"Precisión del modelo: {accuracy}\")"
   ],
   "metadata": {
    "collapsed": false,
    "ExecuteTime": {
     "end_time": "2023-10-12T22:58:30.072413300Z",
     "start_time": "2023-10-12T22:58:30.067980300Z"
    }
   }
  },
  {
   "cell_type": "code",
   "execution_count": 399,
   "outputs": [
    {
     "data": {
      "text/plain": "array([[53,  3,  0,  0,  0,  0,  0],\n       [12, 35,  2,  1,  0,  8,  4],\n       [ 0,  0, 44, 11,  5,  3, 15],\n       [ 0,  0,  3, 54,  0,  0,  1],\n       [ 0,  0,  0,  0, 63,  0,  0],\n       [ 0,  8,  5,  1,  0, 34,  8],\n       [ 0,  3, 12,  2,  0,  9, 24]], dtype=int64)"
     },
     "execution_count": 399,
     "metadata": {},
     "output_type": "execute_result"
    }
   ],
   "source": [
    "cm = confusion_matrix(y_test, y_pred)\n",
    "cm"
   ],
   "metadata": {
    "collapsed": false,
    "ExecuteTime": {
     "end_time": "2023-10-12T22:58:30.078988600Z",
     "start_time": "2023-10-12T22:58:30.073411300Z"
    }
   }
  },
  {
   "cell_type": "code",
   "execution_count": 400,
   "outputs": [
    {
     "name": "stdout",
     "output_type": "stream",
     "text": [
      "                     precision    recall  f1-score   support\n",
      "\n",
      "Insufficient_Weight       0.82      0.95      0.88        56\n",
      "      Normal_Weight       0.71      0.56      0.63        62\n",
      "     Obesity_Type_I       0.67      0.56      0.61        78\n",
      "    Obesity_Type_II       0.78      0.93      0.85        58\n",
      "   Obesity_Type_III       0.93      1.00      0.96        63\n",
      " Overweight_Level_I       0.63      0.61      0.62        56\n",
      "Overweight_Level_II       0.46      0.48      0.47        50\n",
      "\n",
      "           accuracy                           0.73       423\n",
      "          macro avg       0.71      0.73      0.72       423\n",
      "       weighted avg       0.72      0.73      0.72       423\n",
      "\n"
     ]
    }
   ],
   "source": [
    "cr =  classification_report(y_test, y_pred)\n",
    "print(cr)"
   ],
   "metadata": {
    "collapsed": false,
    "ExecuteTime": {
     "end_time": "2023-10-12T22:58:30.129148600Z",
     "start_time": "2023-10-12T22:58:30.079985800Z"
    }
   }
  },
  {
   "cell_type": "markdown",
   "source": [
    "GAUSSIAN"
   ],
   "metadata": {
    "collapsed": false
   }
  },
  {
   "cell_type": "code",
   "execution_count": 420,
   "outputs": [],
   "source": [
    "model_Gaussian  = GaussianNB()"
   ],
   "metadata": {
    "collapsed": false,
    "ExecuteTime": {
     "end_time": "2023-10-12T23:04:24.333938200Z",
     "start_time": "2023-10-12T23:04:24.329447100Z"
    }
   }
  },
  {
   "cell_type": "code",
   "execution_count": 421,
   "outputs": [
    {
     "data": {
      "text/plain": "GaussianNB()",
      "text/html": "<style>#sk-container-id-17 {color: black;background-color: white;}#sk-container-id-17 pre{padding: 0;}#sk-container-id-17 div.sk-toggleable {background-color: white;}#sk-container-id-17 label.sk-toggleable__label {cursor: pointer;display: block;width: 100%;margin-bottom: 0;padding: 0.3em;box-sizing: border-box;text-align: center;}#sk-container-id-17 label.sk-toggleable__label-arrow:before {content: \"▸\";float: left;margin-right: 0.25em;color: #696969;}#sk-container-id-17 label.sk-toggleable__label-arrow:hover:before {color: black;}#sk-container-id-17 div.sk-estimator:hover label.sk-toggleable__label-arrow:before {color: black;}#sk-container-id-17 div.sk-toggleable__content {max-height: 0;max-width: 0;overflow: hidden;text-align: left;background-color: #f0f8ff;}#sk-container-id-17 div.sk-toggleable__content pre {margin: 0.2em;color: black;border-radius: 0.25em;background-color: #f0f8ff;}#sk-container-id-17 input.sk-toggleable__control:checked~div.sk-toggleable__content {max-height: 200px;max-width: 100%;overflow: auto;}#sk-container-id-17 input.sk-toggleable__control:checked~label.sk-toggleable__label-arrow:before {content: \"▾\";}#sk-container-id-17 div.sk-estimator input.sk-toggleable__control:checked~label.sk-toggleable__label {background-color: #d4ebff;}#sk-container-id-17 div.sk-label input.sk-toggleable__control:checked~label.sk-toggleable__label {background-color: #d4ebff;}#sk-container-id-17 input.sk-hidden--visually {border: 0;clip: rect(1px 1px 1px 1px);clip: rect(1px, 1px, 1px, 1px);height: 1px;margin: -1px;overflow: hidden;padding: 0;position: absolute;width: 1px;}#sk-container-id-17 div.sk-estimator {font-family: monospace;background-color: #f0f8ff;border: 1px dotted black;border-radius: 0.25em;box-sizing: border-box;margin-bottom: 0.5em;}#sk-container-id-17 div.sk-estimator:hover {background-color: #d4ebff;}#sk-container-id-17 div.sk-parallel-item::after {content: \"\";width: 100%;border-bottom: 1px solid gray;flex-grow: 1;}#sk-container-id-17 div.sk-label:hover label.sk-toggleable__label {background-color: #d4ebff;}#sk-container-id-17 div.sk-serial::before {content: \"\";position: absolute;border-left: 1px solid gray;box-sizing: border-box;top: 0;bottom: 0;left: 50%;z-index: 0;}#sk-container-id-17 div.sk-serial {display: flex;flex-direction: column;align-items: center;background-color: white;padding-right: 0.2em;padding-left: 0.2em;position: relative;}#sk-container-id-17 div.sk-item {position: relative;z-index: 1;}#sk-container-id-17 div.sk-parallel {display: flex;align-items: stretch;justify-content: center;background-color: white;position: relative;}#sk-container-id-17 div.sk-item::before, #sk-container-id-17 div.sk-parallel-item::before {content: \"\";position: absolute;border-left: 1px solid gray;box-sizing: border-box;top: 0;bottom: 0;left: 50%;z-index: -1;}#sk-container-id-17 div.sk-parallel-item {display: flex;flex-direction: column;z-index: 1;position: relative;background-color: white;}#sk-container-id-17 div.sk-parallel-item:first-child::after {align-self: flex-end;width: 50%;}#sk-container-id-17 div.sk-parallel-item:last-child::after {align-self: flex-start;width: 50%;}#sk-container-id-17 div.sk-parallel-item:only-child::after {width: 0;}#sk-container-id-17 div.sk-dashed-wrapped {border: 1px dashed gray;margin: 0 0.4em 0.5em 0.4em;box-sizing: border-box;padding-bottom: 0.4em;background-color: white;}#sk-container-id-17 div.sk-label label {font-family: monospace;font-weight: bold;display: inline-block;line-height: 1.2em;}#sk-container-id-17 div.sk-label-container {text-align: center;}#sk-container-id-17 div.sk-container {/* jupyter's `normalize.less` sets `[hidden] { display: none; }` but bootstrap.min.css set `[hidden] { display: none !important; }` so we also need the `!important` here to be able to override the default hidden behavior on the sphinx rendered scikit-learn.org. See: https://github.com/scikit-learn/scikit-learn/issues/21755 */display: inline-block !important;position: relative;}#sk-container-id-17 div.sk-text-repr-fallback {display: none;}</style><div id=\"sk-container-id-17\" class=\"sk-top-container\"><div class=\"sk-text-repr-fallback\"><pre>GaussianNB()</pre><b>In a Jupyter environment, please rerun this cell to show the HTML representation or trust the notebook. <br />On GitHub, the HTML representation is unable to render, please try loading this page with nbviewer.org.</b></div><div class=\"sk-container\" hidden><div class=\"sk-item\"><div class=\"sk-estimator sk-toggleable\"><input class=\"sk-toggleable__control sk-hidden--visually\" id=\"sk-estimator-id-17\" type=\"checkbox\" checked><label for=\"sk-estimator-id-17\" class=\"sk-toggleable__label sk-toggleable__label-arrow\">GaussianNB</label><div class=\"sk-toggleable__content\"><pre>GaussianNB()</pre></div></div></div></div></div>"
     },
     "execution_count": 421,
     "metadata": {},
     "output_type": "execute_result"
    }
   ],
   "source": [
    "model_Gaussian.fit(features, target)"
   ],
   "metadata": {
    "collapsed": false,
    "ExecuteTime": {
     "end_time": "2023-10-12T23:04:24.961430200Z",
     "start_time": "2023-10-12T23:04:24.946002Z"
    }
   }
  },
  {
   "cell_type": "code",
   "execution_count": 422,
   "outputs": [],
   "source": [
    "y_pred = model_Gaussian.predict(X_test)"
   ],
   "metadata": {
    "collapsed": false,
    "ExecuteTime": {
     "end_time": "2023-10-12T23:04:26.233493Z",
     "start_time": "2023-10-12T23:04:26.209457Z"
    }
   }
  },
  {
   "cell_type": "code",
   "execution_count": 423,
   "outputs": [],
   "source": [
    "kf =  KFold(n_splits=6, shuffle=True, random_state=None)"
   ],
   "metadata": {
    "collapsed": false,
    "ExecuteTime": {
     "end_time": "2023-10-12T23:04:26.872164700Z",
     "start_time": "2023-10-12T23:04:26.867672400Z"
    }
   }
  },
  {
   "cell_type": "code",
   "execution_count": 424,
   "outputs": [],
   "source": [
    "puntuaciones = cross_val_score(modelo, features, target, cv=kf)"
   ],
   "metadata": {
    "collapsed": false,
    "ExecuteTime": {
     "end_time": "2023-10-12T23:04:27.681417500Z",
     "start_time": "2023-10-12T23:04:27.398506200Z"
    }
   }
  },
  {
   "cell_type": "code",
   "execution_count": 425,
   "outputs": [
    {
     "name": "stdout",
     "output_type": "stream",
     "text": [
      "Puntuaciones de validación cruzada: [0.67613636 0.71306818 0.69034091 0.67613636 0.66761364 0.7008547 ]\n",
      "Puntuación media de validación cruzada: 0.6873583592333592\n"
     ]
    }
   ],
   "source": [
    "print(\"Puntuaciones de validación cruzada:\", puntuaciones)\n",
    "print(\"Puntuación media de validación cruzada:\", puntuaciones.mean())"
   ],
   "metadata": {
    "collapsed": false,
    "ExecuteTime": {
     "end_time": "2023-10-12T23:04:27.886598500Z",
     "start_time": "2023-10-12T23:04:27.882688100Z"
    }
   }
  },
  {
   "cell_type": "code",
   "execution_count": 426,
   "outputs": [
    {
     "name": "stdout",
     "output_type": "stream",
     "text": [
      "Precisión del modelo: 0.5626477541371159\n"
     ]
    }
   ],
   "source": [
    "accuracy = accuracy_score(y_test, y_pred)\n",
    "print(f\"Precisión del modelo: {accuracy}\")"
   ],
   "metadata": {
    "collapsed": false,
    "ExecuteTime": {
     "end_time": "2023-10-12T23:04:28.471998800Z",
     "start_time": "2023-10-12T23:04:28.466195800Z"
    }
   }
  },
  {
   "cell_type": "code",
   "execution_count": 427,
   "outputs": [
    {
     "data": {
      "text/plain": "array([[49,  0,  6,  0,  0,  1,  0],\n       [36, 12,  4,  0,  0,  4,  6],\n       [ 0,  2, 31, 38,  0,  3,  4],\n       [ 0,  0,  0, 56,  0,  0,  2],\n       [ 0,  0,  0,  0, 63,  0,  0],\n       [14,  2, 18,  7,  0,  9,  6],\n       [ 2,  1, 16, 13,  0,  0, 18]], dtype=int64)"
     },
     "execution_count": 427,
     "metadata": {},
     "output_type": "execute_result"
    }
   ],
   "source": [
    "cm = confusion_matrix(y_test, y_pred)\n",
    "cm"
   ],
   "metadata": {
    "collapsed": false,
    "ExecuteTime": {
     "end_time": "2023-10-12T23:04:29.307364800Z",
     "start_time": "2023-10-12T23:04:29.273772600Z"
    }
   }
  },
  {
   "cell_type": "code",
   "execution_count": 428,
   "outputs": [
    {
     "name": "stdout",
     "output_type": "stream",
     "text": [
      "                     precision    recall  f1-score   support\n",
      "\n",
      "Insufficient_Weight       0.49      0.88      0.62        56\n",
      "      Normal_Weight       0.71      0.19      0.30        62\n",
      "     Obesity_Type_I       0.41      0.40      0.41        78\n",
      "    Obesity_Type_II       0.49      0.97      0.65        58\n",
      "   Obesity_Type_III       1.00      1.00      1.00        63\n",
      " Overweight_Level_I       0.53      0.16      0.25        56\n",
      "Overweight_Level_II       0.50      0.36      0.42        50\n",
      "\n",
      "           accuracy                           0.56       423\n",
      "          macro avg       0.59      0.56      0.52       423\n",
      "       weighted avg       0.59      0.56      0.52       423\n",
      "\n"
     ]
    }
   ],
   "source": [
    "cr =  classification_report(y_test, y_pred)\n",
    "print(cr)"
   ],
   "metadata": {
    "collapsed": false,
    "ExecuteTime": {
     "end_time": "2023-10-12T23:04:30.075237800Z",
     "start_time": "2023-10-12T23:04:30.063776800Z"
    }
   }
  },
  {
   "cell_type": "code",
   "execution_count": null,
   "outputs": [],
   "source": [],
   "metadata": {
    "collapsed": false
   }
  }
 ],
 "metadata": {
  "kernelspec": {
   "display_name": "Python 3",
   "language": "python",
   "name": "python3"
  },
  "language_info": {
   "codemirror_mode": {
    "name": "ipython",
    "version": 2
   },
   "file_extension": ".py",
   "mimetype": "text/x-python",
   "name": "python",
   "nbconvert_exporter": "python",
   "pygments_lexer": "ipython2",
   "version": "2.7.6"
  }
 },
 "nbformat": 4,
 "nbformat_minor": 0
}
