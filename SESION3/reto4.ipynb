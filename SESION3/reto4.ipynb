{
 "cells": [
  {
   "cell_type": "markdown",
   "source": [
    "Filtrando palabras\n",
    "\n",
    "Eres el organizador del Concurso Nacional de Deletreo \"Salvador Novo\". Por una bella coincidencia, este año el día del concurso cae justo el mismo día que el Día del Orgullo LGBT. Dado que Salvador Novo era homosexual, te parece muy apropiado que el concurso de deletreo funcione como una celebración de su \"belicosa homosexualidad\" (como la llamaba Carlos Monsiváis). Se te ocurre hacer lo siguiente:\n",
    "\n",
    "De la lista de palabras que tenías originalmente para el concurso, vas a filtrar las palabras para que sólo empiecen con \"l\" o o con \"g\" o con \"b\" o con \"t\".\n",
    "\n",
    "Aquí está tu lista original de palabras:"
   ],
   "metadata": {
    "collapsed": false
   }
  },
  {
   "cell_type": "code",
   "execution_count": 1,
   "metadata": {
    "collapsed": true,
    "ExecuteTime": {
     "end_time": "2023-07-07T03:13:02.921307300Z",
     "start_time": "2023-07-07T03:13:02.916698500Z"
    }
   },
   "outputs": [],
   "source": [
    "palabras = ['cabildo', 'genocidio', 'severo', 'jarana', 'enigmático', 'jaguar', 'solidaridad', 'reivindicar', 'bálsamo', 'panteón',\n",
    "            'cabestrillo', 'boicotear', 'letargo', 'jaqueca', 'tentáculo', 'legislar', 'gnomo', 'blasfemia', 'camposanto',\n",
    "            'factible', 'eficaz', 'sintonía', 'lloriquear', 'fachada', 'edificante', 'pétalo', 'libélula', 'pavimento', 'llovizna',\n",
    "            'racimo', 'gargantilla', 'relieve', 'bóveda', 'tecnicismo', 'terraplén', 'basílica']"
   ]
  },
  {
   "cell_type": "markdown",
   "source": [
    "\n",
    "Escribe 4 funciones, para cada una de las letras del acrónimo LGBT. Las funciones van a regresar True sólo si la palabra comienza con la letra que le corresponde.\n",
    "Por ejemplo, la función palabra_comienza_con_l va a regresar True sólo si la palabra comienza con l.\n",
    "\n",
    "Después, define una función que sea la unión de estas 4 funciones y regrese True si la palabra comienza con alguna de las letras del acrónimo LGBT.\n",
    "\n",
    "Finalmente filtra la lista palabras para tener una nueva lista que será la lista usada para el concurso.\n",
    "\n",
    "Tip #1: Las cadenas pueden ser accesadas igual que las listas, así que si quieres acceder a la primera letra de una palabra basta con usar palabra[0], como si fuera el primer índice de una lista.\n",
    "\n",
    "Tip #2: Hasta ahora sólo hemos usando operadores lógicos con 1 o 2 comparaciones. Juntar más de dos comparaciones es tan fácil como escribir: comparacion_1 or comparacion_2 or comparacion_3 or comparacion_4\n"
   ],
   "metadata": {
    "collapsed": false
   }
  },
  {
   "cell_type": "code",
   "execution_count": 2,
   "outputs": [],
   "source": [
    "def palabra_l(palabra):\n",
    "    return palabra[0] == 'l'\n",
    "\n",
    "\n",
    "def palabra_g(palabra):\n",
    "    return palabra[0] == 'g'\n",
    "\n",
    "def palabra_b(palabra):\n",
    "    return palabra[0] == 'b'\n",
    "\n",
    "def palabra_t(palabra):\n",
    "    return palabra[0] == 't'\n",
    "\n",
    "def operacion(palabra):\n",
    "    return palabra_l(palabra) or palabra_g(palabra) or palabra_b(palabra) or palabra_t(palabra)\n",
    "\n"
   ],
   "metadata": {
    "collapsed": false,
    "ExecuteTime": {
     "end_time": "2023-07-07T03:16:16.778841800Z",
     "start_time": "2023-07-07T03:16:16.774840200Z"
    }
   }
  },
  {
   "cell_type": "code",
   "execution_count": 3,
   "outputs": [],
   "source": [
    "filter_words =  list(filter(operacion, palabras))"
   ],
   "metadata": {
    "collapsed": false,
    "ExecuteTime": {
     "end_time": "2023-07-07T03:16:39.536058500Z",
     "start_time": "2023-07-07T03:16:39.530549Z"
    }
   }
  },
  {
   "cell_type": "code",
   "execution_count": 4,
   "outputs": [
    {
     "name": "stdout",
     "output_type": "stream",
     "text": [
      "['genocidio', 'bálsamo', 'boicotear', 'letargo', 'tentáculo', 'legislar', 'gnomo', 'blasfemia', 'lloriquear', 'libélula', 'llovizna', 'gargantilla', 'bóveda', 'tecnicismo', 'terraplén', 'basílica']\n"
     ]
    }
   ],
   "source": [
    "print(filter_words)"
   ],
   "metadata": {
    "collapsed": false,
    "ExecuteTime": {
     "end_time": "2023-07-07T03:16:42.669169500Z",
     "start_time": "2023-07-07T03:16:42.664604400Z"
    }
   }
  },
  {
   "cell_type": "code",
   "execution_count": null,
   "outputs": [],
   "source": [],
   "metadata": {
    "collapsed": false
   }
  }
 ],
 "metadata": {
  "kernelspec": {
   "display_name": "Python 3",
   "language": "python",
   "name": "python3"
  },
  "language_info": {
   "codemirror_mode": {
    "name": "ipython",
    "version": 2
   },
   "file_extension": ".py",
   "mimetype": "text/x-python",
   "name": "python",
   "nbconvert_exporter": "python",
   "pygments_lexer": "ipython2",
   "version": "2.7.6"
  }
 },
 "nbformat": 4,
 "nbformat_minor": 0
}
