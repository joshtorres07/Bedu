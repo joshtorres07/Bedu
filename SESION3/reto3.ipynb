{
 "cells": [
  {
   "cell_type": "markdown",
   "source": [
    "Filtrando valores atípicos en ambos extremos\n",
    "\n",
    "Regresemos a nuestro ejemplo de EyePoker Inc. Esta vez tenemos un nuevo conjunto de datos con más empleados (la industria de picadores de ojos va en aumento vertiginoso). Además incluye los sueldos de algunos internos. Estos sueldos son muy bajos (simbólicos, podríamos llamarlos), como puedes ver:"
   ],
   "metadata": {
    "collapsed": false
   }
  },
  {
   "cell_type": "code",
   "execution_count": 2,
   "metadata": {
    "collapsed": true,
    "ExecuteTime": {
     "end_time": "2023-07-07T03:05:30.192579300Z",
     "start_time": "2023-07-07T03:05:30.188591600Z"
    }
   },
   "outputs": [],
   "source": [
    "sueldos = [26, 32, 26, 1.5, 30, 30, 1, 2, 32, 28, 30, 28, 30, 28, 27, 30, 110, 1.5, 2, 34, 30, 28, 26, 28, 2, 30, 28, 85, 25, 1.5,\n",
    "           1.5, 30, 34, 34, 30, 30, 120, 28, 2, 2, 1.5, 28, 120, 1, 1.5, 125, 2, 1.5, 28, 29, 30, 34, 33, 28, 2, 1, 1.5, 26, 28,\n",
    "          26, 26, 30, 30, 28, 2, 2, 1.5, 2, 1.5, 28, 27, 130, 1.5, 2, 26, 26, 28, 30, 30, 30, 28, 28, 1, 1, 135, 1, 1, 1.5, 2,\n",
    "          2, 2, 1.5, 2]"
   ]
  },
  {
   "cell_type": "markdown",
   "source": [
    "En realidad a nosotros sólo nos interesa analizar los sueldos de los empleados que tiene la empresa a largo plazo. Como tenemos bastantes internos, es muy probable que la inclusión de estos sueldos vaya a distorsionar nuestro cálculo del sueldo típico en la empresa:"
   ],
   "metadata": {
    "collapsed": false
   }
  },
  {
   "cell_type": "code",
   "execution_count": 4,
   "outputs": [
    {
     "name": "stdout",
     "output_type": "stream",
     "text": [
      "El sueldo \"típico\" en EyePoker Inc. es de 25.36021505376344\n"
     ]
    }
   ],
   "source": [
    "print(f'El sueldo \"típico\" en EyePoker Inc. es de {sum(sueldos) / len(sueldos)}')"
   ],
   "metadata": {
    "collapsed": false,
    "ExecuteTime": {
     "end_time": "2023-07-07T03:05:54.318474200Z",
     "start_time": "2023-07-07T03:05:54.314816Z"
    }
   }
  },
  {
   "cell_type": "markdown",
   "source": [
    "Para evitar esta distorsión y calcular solamente el sueldo típico de los empleados que están contratados a largo plazo, vamos a filtrar nuestra lista.\n",
    "\n",
    "Lo que tienes que hacer es lo siguiente:\n",
    "\n",
    "    Define una función que regrese True cuando el argumento sea mayor que 20.\n",
    "    Define una función que regrese True cuando el argumento sea menor que 40.\n",
    "    Define una tercera función que una las dos primeras funciones usando un operador and.\n",
    "    Filtrar la lista y asignarla a sueldos_filtrados.\n"
   ],
   "metadata": {
    "collapsed": false
   }
  },
  {
   "cell_type": "code",
   "execution_count": 31,
   "outputs": [],
   "source": [
    "def  mayor_a_20(valor):\n",
    "    return valor > 20\n",
    "\n",
    "def  menor_a_40(valor):\n",
    "    return valor < 40\n",
    "\n",
    "def  union_funciones(valor):\n",
    "    return mayor_a_20(valor) and menor_a_40(valor)\n"
   ],
   "metadata": {
    "collapsed": false,
    "ExecuteTime": {
     "end_time": "2023-07-07T03:45:51.641645600Z",
     "start_time": "2023-07-07T03:45:51.620840Z"
    }
   }
  },
  {
   "cell_type": "code",
   "execution_count": 32,
   "outputs": [],
   "source": [
    "lista_filtrada =  list(filter(union_funciones, sueldos))"
   ],
   "metadata": {
    "collapsed": false,
    "ExecuteTime": {
     "end_time": "2023-07-07T03:45:52.215325400Z",
     "start_time": "2023-07-07T03:45:52.207366100Z"
    }
   }
  },
  {
   "cell_type": "code",
   "execution_count": 33,
   "outputs": [
    {
     "name": "stdout",
     "output_type": "stream",
     "text": [
      "[26, 32, 26, 30, 30, 32, 28, 30, 28, 30, 28, 27, 30, 34, 30, 28, 26, 28, 30, 28, 25, 30, 34, 34, 30, 30, 28, 28, 28, 29, 30, 34, 33, 28, 26, 28, 26, 26, 30, 30, 28, 28, 27, 26, 26, 28, 30, 30, 30, 28, 28]\n"
     ]
    }
   ],
   "source": [
    "print(lista_filtrada)"
   ],
   "metadata": {
    "collapsed": false,
    "ExecuteTime": {
     "end_time": "2023-07-07T03:45:52.769715600Z",
     "start_time": "2023-07-07T03:45:52.763734Z"
    }
   }
  },
  {
   "cell_type": "code",
   "execution_count": 34,
   "outputs": [
    {
     "name": "stdout",
     "output_type": "stream",
     "text": [
      "El sueldo \"típico\" en EyePoker Inc. es de 28.96078431372549\n"
     ]
    }
   ],
   "source": [
    "print(f'El sueldo \"típico\" en EyePoker Inc. es de {sum(lista_filtrada) / len(lista_filtrada)}')\n"
   ],
   "metadata": {
    "collapsed": false,
    "ExecuteTime": {
     "end_time": "2023-07-07T03:45:53.630573600Z",
     "start_time": "2023-07-07T03:45:53.625060200Z"
    }
   }
  },
  {
   "cell_type": "code",
   "execution_count": null,
   "outputs": [],
   "source": [],
   "metadata": {
    "collapsed": false
   }
  }
 ],
 "metadata": {
  "kernelspec": {
   "display_name": "Python 3",
   "language": "python",
   "name": "python3"
  },
  "language_info": {
   "codemirror_mode": {
    "name": "ipython",
    "version": 2
   },
   "file_extension": ".py",
   "mimetype": "text/x-python",
   "name": "python",
   "nbconvert_exporter": "python",
   "pygments_lexer": "ipython2",
   "version": "2.7.6"
  }
 },
 "nbformat": 4,
 "nbformat_minor": 0
}
