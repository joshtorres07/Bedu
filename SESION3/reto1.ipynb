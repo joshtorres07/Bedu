{
 "cells": [
  {
   "cell_type": "markdown",
   "source": [
    "Tenemos una lista que contiene proporciones:"
   ],
   "metadata": {
    "collapsed": false
   }
  },
  {
   "cell_type": "code",
   "execution_count": 1,
   "metadata": {
    "collapsed": true,
    "ExecuteTime": {
     "end_time": "2023-07-07T02:50:17.908477300Z",
     "start_time": "2023-07-07T02:50:17.905240300Z"
    }
   },
   "outputs": [],
   "source": [
    "proporciones = [0.45, 0.2, 0.78, 0.4, 0.77, 0.9, 0.4, 0.5, 0.67, 0.24, 0.73]"
   ]
  },
  {
   "cell_type": "markdown",
   "source": [
    "Queremos convertir esta lista en una lista porcentajes, donde las proporciones hayan sido\n",
    "convertidas a porcentajes. Termina la función proporcion_a_porcentajes y después utiliza map para\n",
    "convertir proporciones y asignar la lista transformada a porcentajes:"
   ],
   "metadata": {
    "collapsed": false
   }
  },
  {
   "cell_type": "code",
   "execution_count": 2,
   "outputs": [
    {
     "name": "stdout",
     "output_type": "stream",
     "text": [
      "==Proporciones y su equivalencia en porcentajes de 1==\n",
      "\n",
      "- 0.45 es el 45% de 1.\n",
      "- 0.2 es el 20% de 1.\n",
      "- 0.78 es el 78% de 1.\n",
      "- 0.4 es el 40% de 1.\n",
      "- 0.77 es el 77% de 1.\n",
      "- 0.9 es el 90% de 1.\n",
      "- 0.4 es el 40% de 1.\n",
      "- 0.5 es el 50% de 1.\n",
      "- 0.67 es el 67% de 1.\n",
      "- 0.24 es el 24% de 1.\n",
      "- 0.73 es el 73% de 1.\n"
     ]
    }
   ],
   "source": [
    "def proporcion_a_porcentajes(proporcion):\n",
    "\n",
    "\n",
    "    return proporcion * 100\n",
    "\n",
    "porcentajes = list(map(proporcion_a_porcentajes, proporciones))\n",
    "\n",
    "def imprimir_proporciones_en_equivalencia_a_porcentajes(proporciones, porcentajes):\n",
    "\n",
    "    print(f'==Proporciones y su equivalencia en porcentajes de 1==\\n')\n",
    "\n",
    "    for i in range(len(proporciones)):\n",
    "        print(f'- {proporciones[i]} es el {int(porcentajes[i])}% de 1.')\n",
    "\n",
    "\n",
    "def imprimir_analisis_estadistico(datos):\n",
    "\n",
    "    def mediana(datos):\n",
    "        datos_sorted = sorted(datos)\n",
    "        len_datos = len(datos)\n",
    "\n",
    "        if len_datos % 2 == 0:\n",
    "            mediana = (datos_sorted[int(len_datos / 2) - 1] + datos_sorted[int(len_datos / 2)]) / 2\n",
    "        else:\n",
    "            import math\n",
    "            mediana = datos_sorted[int(math.floor(len_datos / 2))]\n",
    "\n",
    "        return mediana\n",
    "\n",
    "    print(f'==Análisis estadístico de los datos recibidos==\\n')\n",
    "    print(f'Valor mínimo: {min(datos)}')\n",
    "    print(f'Valor máximo: {max(datos)}')\n",
    "    print(f'Rango de valores: {max(datos) - min(datos)}')\n",
    "    print(f'Promedio: {sum(datos) / len(datos)}')\n",
    "    print(f'Mediana: {mediana(datos)}')\n",
    "\n",
    "imprimir_proporciones_en_equivalencia_a_porcentajes(proporciones, porcentajes)"
   ],
   "metadata": {
    "collapsed": false,
    "ExecuteTime": {
     "end_time": "2023-07-07T02:53:10.114807300Z",
     "start_time": "2023-07-07T02:53:10.102784800Z"
    }
   }
  },
  {
   "cell_type": "markdown",
   "source": [
    "Tenemos una lista con strings que representan valores númericos:"
   ],
   "metadata": {
    "collapsed": false
   }
  },
  {
   "cell_type": "code",
   "execution_count": 3,
   "outputs": [],
   "source": [
    "numeros_como_strings = [\"3\", \"7\", \"45\", \"89\", \"12\", \"9\", \"5\", \"89\", \"78\", \"87\", \"44\", \"45\", \"26\", \"84\", \"98\", \"46\", \"99\", \"84\"]"
   ],
   "metadata": {
    "collapsed": false,
    "ExecuteTime": {
     "end_time": "2023-07-07T02:53:43.472777300Z",
     "start_time": "2023-07-07T02:53:43.468765400Z"
    }
   }
  },
  {
   "cell_type": "markdown",
   "source": [
    "Para poder realizar algunos cálculos estádisticos, necesitamos que estas cademas sean convertidas a\n",
    "ints. Escribe la función string_a_int y asigna el resultado de su aplicación a numeros_como_strings\n",
    "a la variable numeros_como_ints:"
   ],
   "metadata": {
    "collapsed": false
   }
  },
  {
   "cell_type": "code",
   "execution_count": 6,
   "outputs": [
    {
     "name": "stdout",
     "output_type": "stream",
     "text": [
      "==Análisis estadístico de los datos recibidos==\n",
      "\n",
      "Valor mínimo: 3\n",
      "Valor máximo: 99\n",
      "Rango de valores: 96\n",
      "Promedio: 52.77777777777778\n",
      "Mediana: 45.5\n"
     ]
    }
   ],
   "source": [
    "def string_a_int(string):\n",
    "\n",
    "    ## Tu código va aquí\n",
    "    # ...\n",
    "    # ...\n",
    "\n",
    "    return int(string)\n",
    "\n",
    "numeros_como_ints = list(map(string_a_int,numeros_como_strings))\n",
    "\n",
    "imprimir_analisis_estadistico(numeros_como_ints)"
   ],
   "metadata": {
    "collapsed": false,
    "ExecuteTime": {
     "end_time": "2023-07-07T02:58:34.948002100Z",
     "start_time": "2023-07-07T02:58:34.942575600Z"
    }
   }
  },
  {
   "cell_type": "code",
   "execution_count": null,
   "outputs": [],
   "source": [],
   "metadata": {
    "collapsed": false
   }
  }
 ],
 "metadata": {
  "kernelspec": {
   "display_name": "Python 3",
   "language": "python",
   "name": "python3"
  },
  "language_info": {
   "codemirror_mode": {
    "name": "ipython",
    "version": 2
   },
   "file_extension": ".py",
   "mimetype": "text/x-python",
   "name": "python",
   "nbconvert_exporter": "python",
   "pygments_lexer": "ipython2",
   "version": "2.7.6"
  }
 },
 "nbformat": 4,
 "nbformat_minor": 0
}
