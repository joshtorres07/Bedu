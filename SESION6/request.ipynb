{
 "cells": [
  {
   "cell_type": "markdown",
   "metadata": {},
   "source": [
    "## Reto 1: Peticiones a una API usando requests\n",
    "\n",
    "### 1. Objetivos:\n",
    "    - Usar la librería Requests para hacer una petición HTTP a una API\n",
    " \n",
    "---\n",
    "    \n",
    "### 2. Desarrollo:"
   ]
  },
  {
   "cell_type": "markdown",
   "metadata": {},
   "source": [
    "### a) Petición HTTP a API de NASA\n",
    "\n",
    "Vamos a implementar un programa que realice una llamada HTTP a la API de NASA.\n",
    "\n",
    "Puedes leer la documentación de la API [aquí](https://api.nasa.gov/), bajo el título de \"Asteroids NeoWs\"."
   ]
  },
  {
   "cell_type": "code",
   "execution_count": 2,
   "metadata": {
    "ExecuteTime": {
     "end_time": "2023-07-19T03:05:44.893884300Z",
     "start_time": "2023-07-19T03:05:44.520811600Z"
    }
   },
   "outputs": [],
   "source": [
    "## Realiza aquí los imports necesarios\n",
    "import requests\n",
    "import pandas as pd"
   ]
  },
  {
   "cell_type": "markdown",
   "metadata": {},
   "source": [
    "Tu reto consiste en los siguientes pasos:\n",
    "\n",
    "1. Crea una cuenta en el API de NASA para obtener tu propia API Key. Copia la API Key en la celda debajo para que no la pierdas:"
   ]
  },
  {
   "cell_type": "code",
   "execution_count": 3,
   "metadata": {
    "ExecuteTime": {
     "end_time": "2023-07-19T03:06:07.388138100Z",
     "start_time": "2023-07-19T03:06:07.372254700Z"
    }
   },
   "outputs": [],
   "source": [
    "api_key = 'D1YdjLMNeaHqLaRt16lkRL26WsiRaE4JKKZRWh9N'"
   ]
  },
  {
   "cell_type": "markdown",
   "metadata": {},
   "source": [
    "2. Asigna la variable `endpoint` -donde tendrás el URL base de la API de NASA- y la variable `payload` -donde tendrás el diccionario que usarás para pasar parámetros a tu petición.\n",
    "\n",
    "3. Usa tu diccionario `payload` para agregar los parámetros necesarios para pedir la hoja número 100 de la API. Durante el ejemplo, pedimos simplemente la primera hoja. En esta ocasión, debes de descubrir que parámetros requieres pasarle para obtener la hoja #100. Además queremos que el número de resultados que nos regresen sea menor al default. El default es 20, pero tú tienes que mandar los parámetros adecuados para que te regresen solamente 5 resultados"
   ]
  },
  {
   "cell_type": "code",
   "execution_count": 24,
   "metadata": {
    "ExecuteTime": {
     "end_time": "2023-07-19T03:12:25.888379600Z",
     "start_time": "2023-07-19T03:12:25.883846500Z"
    }
   },
   "outputs": [],
   "source": [
    "endpoint = 'https://api.nasa.gov/neo/rest/v1/neo/browse?api_key=DEMO_KEY'\n",
    "payload = {'api_key': api_key}"
   ]
  },
  {
   "cell_type": "markdown",
   "metadata": {},
   "source": [
    "4. Realiza tu petición HTTP aquí debajo y checa tu código de respuesta para asegurarte de que la petición se haya hecho exitosamente:"
   ]
  },
  {
   "cell_type": "code",
   "execution_count": 25,
   "metadata": {
    "ExecuteTime": {
     "end_time": "2023-07-19T03:12:27.988895200Z",
     "start_time": "2023-07-19T03:12:27.055410900Z"
    }
   },
   "outputs": [],
   "source": [
    "r = requests.get(endpoint, params=payload)"
   ]
  },
  {
   "cell_type": "code",
   "execution_count": 26,
   "outputs": [
    {
     "data": {
      "text/plain": "200"
     },
     "execution_count": 26,
     "metadata": {},
     "output_type": "execute_result"
    }
   ],
   "source": [
    "r.status_code"
   ],
   "metadata": {
    "collapsed": false,
    "ExecuteTime": {
     "end_time": "2023-07-19T03:12:27.994742700Z",
     "start_time": "2023-07-19T03:12:27.989892Z"
    }
   }
  },
  {
   "cell_type": "markdown",
   "metadata": {},
   "source": [
    "5. Si todo ha salido bien, extrae tus datos, normalízalos, crea un `DataFrame` con ellos y asígnalo a `objetos`. Revisa que solamente tengas 5 filas, para saber que tu petición se realizó exitosamente:"
   ]
  },
  {
   "cell_type": "code",
   "execution_count": 27,
   "outputs": [],
   "source": [
    "json = r.json()"
   ],
   "metadata": {
    "collapsed": false,
    "ExecuteTime": {
     "end_time": "2023-07-19T03:12:29.443266500Z",
     "start_time": "2023-07-19T03:12:29.430597900Z"
    }
   }
  },
  {
   "cell_type": "code",
   "execution_count": 28,
   "outputs": [],
   "source": [
    "data  = json['near_earth_objects']"
   ],
   "metadata": {
    "collapsed": false,
    "ExecuteTime": {
     "end_time": "2023-07-19T03:12:30.210164900Z",
     "start_time": "2023-07-19T03:12:30.186394800Z"
    }
   }
  },
  {
   "cell_type": "code",
   "execution_count": 29,
   "metadata": {
    "ExecuteTime": {
     "end_time": "2023-07-19T03:12:30.938815800Z",
     "start_time": "2023-07-19T03:12:30.893898Z"
    }
   },
   "outputs": [
    {
     "data": {
      "text/plain": "        id neo_reference_id                    name name_limited designation   \n0  2000433          2000433      433 Eros (A898 PA)         Eros         433  \\\n1  2000719          2000719    719 Albert (A911 TB)       Albert         719   \n2  2000887          2000887    887 Alinda (A918 AA)       Alinda         887   \n3  2001036          2001036  1036 Ganymed (A924 UB)      Ganymed        1036   \n4  2001221          2001221    1221 Amor (1932 EA1)         Amor        1221   \n\n                                    nasa_jpl_url  absolute_magnitude_h   \n0  http://ssd.jpl.nasa.gov/sbdb.cgi?sstr=2000433                 10.31  \\\n1  http://ssd.jpl.nasa.gov/sbdb.cgi?sstr=2000719                 15.59   \n2  http://ssd.jpl.nasa.gov/sbdb.cgi?sstr=2000887                 13.83   \n3  http://ssd.jpl.nasa.gov/sbdb.cgi?sstr=2001036                  9.22   \n4  http://ssd.jpl.nasa.gov/sbdb.cgi?sstr=2001221                 17.38   \n\n   is_potentially_hazardous_asteroid   \n0                              False  \\\n1                              False   \n2                              False   \n3                              False   \n4                              False   \n\n                                 close_approach_data  is_sentry_object  ...   \n0  [{'close_approach_date': '1900-12-27', 'close_...             False  ...  \\\n1  [{'close_approach_date': '1909-08-21', 'close_...             False  ...   \n2  [{'close_approach_date': '1910-01-04', 'close_...             False  ...   \n3  [{'close_approach_date': '1910-02-25', 'close_...             False  ...   \n4  [{'close_approach_date': '1900-03-08', 'close_...             False  ...   \n\n  orbital_data.perihelion_distance  orbital_data.perihelion_argument   \n0                1.133284372081002                 178.9269951795186  \\\n1                1.194521858788897                 156.2503681890173   \n2                1.061321201915153                 350.4750171333043   \n3                1.244963114186642                 132.4678967189769   \n4                1.082508630279756                 26.63044254343605   \n\n   orbital_data.aphelion_distance  orbital_data.perihelion_time   \n0               1.782973900121676          2459802.601698595905  \\\n1               4.079828796226027          2459956.023234763085   \n2               3.883609285276582          2460678.792844005586   \n3               4.086971560491093          2460569.530751926612   \n4               2.755083241500687          2459867.321948764327   \n\n   orbital_data.mean_anomaly  orbital_data.mean_motion  orbital_data.equinox   \n0          110.7776526746434         .5597706088868498                 J2000  \\\n1          10.23596428095426         .2301418330768929                 J2000   \n2          188.0405623183154         .2535179888765987                 J2000   \n3          231.1579652145581         .2264236763113618                 J2000   \n4          49.38482790190183         .3708180698222572                 J2000   \n\n   orbital_data.orbit_class.orbit_class_type   \n0                                        AMO  \\\n1                                        AMO   \n2                                        AMO   \n3                                        AMO   \n4                                        AMO   \n\n    orbital_data.orbit_class.orbit_class_description   \n0  Near-Earth asteroid orbits similar to that of ...  \\\n1  Near-Earth asteroid orbits similar to that of ...   \n2  Near-Earth asteroid orbits similar to that of ...   \n3  Near-Earth asteroid orbits similar to that of ...   \n4  Near-Earth asteroid orbits similar to that of ...   \n\n  orbital_data.orbit_class.orbit_class_range  \n0         1.017 AU < q (perihelion) < 1.3 AU  \n1         1.017 AU < q (perihelion) < 1.3 AU  \n2         1.017 AU < q (perihelion) < 1.3 AU  \n3         1.017 AU < q (perihelion) < 1.3 AU  \n4         1.017 AU < q (perihelion) < 1.3 AU  \n\n[5 rows x 44 columns]",
      "text/html": "<div>\n<style scoped>\n    .dataframe tbody tr th:only-of-type {\n        vertical-align: middle;\n    }\n\n    .dataframe tbody tr th {\n        vertical-align: top;\n    }\n\n    .dataframe thead th {\n        text-align: right;\n    }\n</style>\n<table border=\"1\" class=\"dataframe\">\n  <thead>\n    <tr style=\"text-align: right;\">\n      <th></th>\n      <th>id</th>\n      <th>neo_reference_id</th>\n      <th>name</th>\n      <th>name_limited</th>\n      <th>designation</th>\n      <th>nasa_jpl_url</th>\n      <th>absolute_magnitude_h</th>\n      <th>is_potentially_hazardous_asteroid</th>\n      <th>close_approach_data</th>\n      <th>is_sentry_object</th>\n      <th>...</th>\n      <th>orbital_data.perihelion_distance</th>\n      <th>orbital_data.perihelion_argument</th>\n      <th>orbital_data.aphelion_distance</th>\n      <th>orbital_data.perihelion_time</th>\n      <th>orbital_data.mean_anomaly</th>\n      <th>orbital_data.mean_motion</th>\n      <th>orbital_data.equinox</th>\n      <th>orbital_data.orbit_class.orbit_class_type</th>\n      <th>orbital_data.orbit_class.orbit_class_description</th>\n      <th>orbital_data.orbit_class.orbit_class_range</th>\n    </tr>\n  </thead>\n  <tbody>\n    <tr>\n      <th>0</th>\n      <td>2000433</td>\n      <td>2000433</td>\n      <td>433 Eros (A898 PA)</td>\n      <td>Eros</td>\n      <td>433</td>\n      <td>http://ssd.jpl.nasa.gov/sbdb.cgi?sstr=2000433</td>\n      <td>10.31</td>\n      <td>False</td>\n      <td>[{'close_approach_date': '1900-12-27', 'close_...</td>\n      <td>False</td>\n      <td>...</td>\n      <td>1.133284372081002</td>\n      <td>178.9269951795186</td>\n      <td>1.782973900121676</td>\n      <td>2459802.601698595905</td>\n      <td>110.7776526746434</td>\n      <td>.5597706088868498</td>\n      <td>J2000</td>\n      <td>AMO</td>\n      <td>Near-Earth asteroid orbits similar to that of ...</td>\n      <td>1.017 AU &lt; q (perihelion) &lt; 1.3 AU</td>\n    </tr>\n    <tr>\n      <th>1</th>\n      <td>2000719</td>\n      <td>2000719</td>\n      <td>719 Albert (A911 TB)</td>\n      <td>Albert</td>\n      <td>719</td>\n      <td>http://ssd.jpl.nasa.gov/sbdb.cgi?sstr=2000719</td>\n      <td>15.59</td>\n      <td>False</td>\n      <td>[{'close_approach_date': '1909-08-21', 'close_...</td>\n      <td>False</td>\n      <td>...</td>\n      <td>1.194521858788897</td>\n      <td>156.2503681890173</td>\n      <td>4.079828796226027</td>\n      <td>2459956.023234763085</td>\n      <td>10.23596428095426</td>\n      <td>.2301418330768929</td>\n      <td>J2000</td>\n      <td>AMO</td>\n      <td>Near-Earth asteroid orbits similar to that of ...</td>\n      <td>1.017 AU &lt; q (perihelion) &lt; 1.3 AU</td>\n    </tr>\n    <tr>\n      <th>2</th>\n      <td>2000887</td>\n      <td>2000887</td>\n      <td>887 Alinda (A918 AA)</td>\n      <td>Alinda</td>\n      <td>887</td>\n      <td>http://ssd.jpl.nasa.gov/sbdb.cgi?sstr=2000887</td>\n      <td>13.83</td>\n      <td>False</td>\n      <td>[{'close_approach_date': '1910-01-04', 'close_...</td>\n      <td>False</td>\n      <td>...</td>\n      <td>1.061321201915153</td>\n      <td>350.4750171333043</td>\n      <td>3.883609285276582</td>\n      <td>2460678.792844005586</td>\n      <td>188.0405623183154</td>\n      <td>.2535179888765987</td>\n      <td>J2000</td>\n      <td>AMO</td>\n      <td>Near-Earth asteroid orbits similar to that of ...</td>\n      <td>1.017 AU &lt; q (perihelion) &lt; 1.3 AU</td>\n    </tr>\n    <tr>\n      <th>3</th>\n      <td>2001036</td>\n      <td>2001036</td>\n      <td>1036 Ganymed (A924 UB)</td>\n      <td>Ganymed</td>\n      <td>1036</td>\n      <td>http://ssd.jpl.nasa.gov/sbdb.cgi?sstr=2001036</td>\n      <td>9.22</td>\n      <td>False</td>\n      <td>[{'close_approach_date': '1910-02-25', 'close_...</td>\n      <td>False</td>\n      <td>...</td>\n      <td>1.244963114186642</td>\n      <td>132.4678967189769</td>\n      <td>4.086971560491093</td>\n      <td>2460569.530751926612</td>\n      <td>231.1579652145581</td>\n      <td>.2264236763113618</td>\n      <td>J2000</td>\n      <td>AMO</td>\n      <td>Near-Earth asteroid orbits similar to that of ...</td>\n      <td>1.017 AU &lt; q (perihelion) &lt; 1.3 AU</td>\n    </tr>\n    <tr>\n      <th>4</th>\n      <td>2001221</td>\n      <td>2001221</td>\n      <td>1221 Amor (1932 EA1)</td>\n      <td>Amor</td>\n      <td>1221</td>\n      <td>http://ssd.jpl.nasa.gov/sbdb.cgi?sstr=2001221</td>\n      <td>17.38</td>\n      <td>False</td>\n      <td>[{'close_approach_date': '1900-03-08', 'close_...</td>\n      <td>False</td>\n      <td>...</td>\n      <td>1.082508630279756</td>\n      <td>26.63044254343605</td>\n      <td>2.755083241500687</td>\n      <td>2459867.321948764327</td>\n      <td>49.38482790190183</td>\n      <td>.3708180698222572</td>\n      <td>J2000</td>\n      <td>AMO</td>\n      <td>Near-Earth asteroid orbits similar to that of ...</td>\n      <td>1.017 AU &lt; q (perihelion) &lt; 1.3 AU</td>\n    </tr>\n  </tbody>\n</table>\n<p>5 rows × 44 columns</p>\n</div>"
     },
     "execution_count": 29,
     "metadata": {},
     "output_type": "execute_result"
    }
   ],
   "source": [
    "objetos = pd.json_normalize(data)\n",
    "\n",
    "df = pd.DataFrame.from_dict(objetos)\n",
    "\n",
    "df.head()"
   ]
  },
  {
   "cell_type": "markdown",
   "metadata": {},
   "source": [
    "6. Pídele a tu experta la función de verificación `visualizar_diametros` (encontrada en el archivo `helpers.py` de la carpeta donde se encuentra este Reto), pégala debajo y corre la celda para verificar tu resultado:"
   ]
  },
  {
   "cell_type": "code",
   "execution_count": 30,
   "metadata": {
    "ExecuteTime": {
     "end_time": "2023-07-19T03:12:32.146449300Z",
     "start_time": "2023-07-19T03:12:32.123002900Z"
    }
   },
   "outputs": [
    {
     "ename": "TypeError",
     "evalue": "barplot() takes from 0 to 1 positional arguments but 2 were given",
     "output_type": "error",
     "traceback": [
      "\u001B[1;31m---------------------------------------------------------------------------\u001B[0m",
      "\u001B[1;31mTypeError\u001B[0m                                 Traceback (most recent call last)",
      "Cell \u001B[1;32mIn[30], line 10\u001B[0m\n\u001B[0;32m      7\u001B[0m     sizes\u001B[38;5;241m.\u001B[39msort_values(\u001B[38;5;124m'\u001B[39m\u001B[38;5;124mestimated_diameter.kilometers.estimated_diameter_max\u001B[39m\u001B[38;5;124m'\u001B[39m, ascending\u001B[38;5;241m=\u001B[39m\u001B[38;5;28;01mTrue\u001B[39;00m, inplace\u001B[38;5;241m=\u001B[39m\u001B[38;5;28;01mTrue\u001B[39;00m)\n\u001B[0;32m      8\u001B[0m     sns\u001B[38;5;241m.\u001B[39mbarplot(sizes[\u001B[38;5;124m'\u001B[39m\u001B[38;5;124mname\u001B[39m\u001B[38;5;124m'\u001B[39m], sizes[\u001B[38;5;124m'\u001B[39m\u001B[38;5;124mestimated_diameter.kilometers.estimated_diameter_max\u001B[39m\u001B[38;5;124m'\u001B[39m])\n\u001B[1;32m---> 10\u001B[0m \u001B[43mvisualizar_diametros\u001B[49m\u001B[43m(\u001B[49m\u001B[43mobjetos\u001B[49m\u001B[43m)\u001B[49m\n",
      "Cell \u001B[1;32mIn[30], line 8\u001B[0m, in \u001B[0;36mvisualizar_diametros\u001B[1;34m(objetos)\u001B[0m\n\u001B[0;32m      6\u001B[0m sizes \u001B[38;5;241m=\u001B[39m objetos[[\u001B[38;5;124m'\u001B[39m\u001B[38;5;124mname\u001B[39m\u001B[38;5;124m'\u001B[39m, \u001B[38;5;124m'\u001B[39m\u001B[38;5;124mestimated_diameter.kilometers.estimated_diameter_max\u001B[39m\u001B[38;5;124m'\u001B[39m]]\u001B[38;5;241m.\u001B[39mcopy()\n\u001B[0;32m      7\u001B[0m sizes\u001B[38;5;241m.\u001B[39msort_values(\u001B[38;5;124m'\u001B[39m\u001B[38;5;124mestimated_diameter.kilometers.estimated_diameter_max\u001B[39m\u001B[38;5;124m'\u001B[39m, ascending\u001B[38;5;241m=\u001B[39m\u001B[38;5;28;01mTrue\u001B[39;00m, inplace\u001B[38;5;241m=\u001B[39m\u001B[38;5;28;01mTrue\u001B[39;00m)\n\u001B[1;32m----> 8\u001B[0m \u001B[43msns\u001B[49m\u001B[38;5;241;43m.\u001B[39;49m\u001B[43mbarplot\u001B[49m\u001B[43m(\u001B[49m\u001B[43msizes\u001B[49m\u001B[43m[\u001B[49m\u001B[38;5;124;43m'\u001B[39;49m\u001B[38;5;124;43mname\u001B[39;49m\u001B[38;5;124;43m'\u001B[39;49m\u001B[43m]\u001B[49m\u001B[43m,\u001B[49m\u001B[43m \u001B[49m\u001B[43msizes\u001B[49m\u001B[43m[\u001B[49m\u001B[38;5;124;43m'\u001B[39;49m\u001B[38;5;124;43mestimated_diameter.kilometers.estimated_diameter_max\u001B[39;49m\u001B[38;5;124;43m'\u001B[39;49m\u001B[43m]\u001B[49m\u001B[43m)\u001B[49m\n",
      "\u001B[1;31mTypeError\u001B[0m: barplot() takes from 0 to 1 positional arguments but 2 were given"
     ]
    }
   ],
   "source": [
    "# Pega aquí la función de verificación\n",
    "def visualizar_diametros(objetos):\n",
    "\n",
    "    import seaborn as sns\n",
    "\n",
    "    sizes = objetos[['name', 'estimated_diameter.kilometers.estimated_diameter_max']].copy()\n",
    "    sizes.sort_values('estimated_diameter.kilometers.estimated_diameter_max', ascending=True, inplace=True)\n",
    "    sns.barplot(sizes['name'], sizes['estimated_diameter.kilometers.estimated_diameter_max'])\n",
    "\n",
    "visualizar_diametros(objetos)"
   ]
  },
  {
   "cell_type": "code",
   "execution_count": null,
   "metadata": {},
   "outputs": [],
   "source": []
  }
 ],
 "metadata": {
  "kernelspec": {
   "display_name": "Python 3",
   "language": "python",
   "name": "python3"
  },
  "language_info": {
   "codemirror_mode": {
    "name": "ipython",
    "version": 3
   },
   "file_extension": ".py",
   "mimetype": "text/x-python",
   "name": "python",
   "nbconvert_exporter": "python",
   "pygments_lexer": "ipython3",
   "version": "3.8.3"
  }
 },
 "nbformat": 4,
 "nbformat_minor": 4
}
