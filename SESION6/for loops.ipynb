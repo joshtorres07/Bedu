{
 "cells": [
  {
   "cell_type": "code",
   "execution_count": null,
   "metadata": {
    "collapsed": true
   },
   "outputs": [],
   "source": []
  },
  {
   "cell_type": "code",
   "execution_count": 1,
   "outputs": [
    {
     "name": "stdout",
     "output_type": "stream",
     "text": [
      "0\n",
      "1\n",
      "2\n",
      "3\n",
      "4\n",
      "5\n",
      "6\n",
      "7\n",
      "8\n",
      "9\n"
     ]
    }
   ],
   "source": [
    "for i in range(0, 10):\n",
    "    print(i)"
   ],
   "metadata": {
    "collapsed": false,
    "ExecuteTime": {
     "end_time": "2023-07-19T01:50:42.333270900Z",
     "start_time": "2023-07-19T01:50:42.296018Z"
    }
   }
  },
  {
   "cell_type": "code",
   "execution_count": 2,
   "outputs": [
    {
     "name": "stdout",
     "output_type": "stream",
     "text": [
      "[0, 1, 2, 3, 4, 5, 6, 7, 8, 9, 10, 11, 12, 13, 14, 15, 16, 17, 18, 19, 20, 21, 22, 23, 24, 25, 26, 27, 28, 29, 30, 31, 32, 33, 34, 35, 36, 37, 38, 39, 40, 41, 42, 43, 44, 45, 46, 47, 48, 49]\n"
     ]
    }
   ],
   "source": [
    "\n",
    "\n",
    "lista_de_numeros = []\n",
    "\n",
    "for i in range(0, 50):\n",
    "    lista_de_numeros.append(i)\n",
    "\n",
    "print(lista_de_numeros)\n",
    "\n"
   ],
   "metadata": {
    "collapsed": false,
    "ExecuteTime": {
     "end_time": "2023-07-19T01:50:42.338789700Z",
     "start_time": "2023-07-19T01:50:42.335375400Z"
    }
   }
  },
  {
   "cell_type": "code",
   "execution_count": 3,
   "outputs": [
    {
     "name": "stdout",
     "output_type": "stream",
     "text": [
      "170\n"
     ]
    }
   ],
   "source": [
    "numero = 150\n",
    "\n",
    "for _ in range(0, 20):\n",
    "\n",
    "    # este proceso es independiente del loop, por eso no usamos la variable del loop\n",
    "    # en este caso el loop solo sirve para realizar una tarea repetidas veces\n",
    "\n",
    "    numero = numero + 1\n",
    "\n",
    "print(numero)"
   ],
   "metadata": {
    "collapsed": false,
    "ExecuteTime": {
     "end_time": "2023-07-19T01:50:47.167903400Z",
     "start_time": "2023-07-19T01:50:47.163192100Z"
    }
   }
  },
  {
   "cell_type": "code",
   "execution_count": 4,
   "outputs": [
    {
     "name": "stdout",
     "output_type": "stream",
     "text": [
      "1\n",
      "2\n",
      "3\n",
      "4\n",
      "5\n"
     ]
    }
   ],
   "source": [
    "dict_1 = {\n",
    "    'a': 1,\n",
    "    'b': 2,\n",
    "    'c': 3,\n",
    "    'd': 4,\n",
    "    'e': 5\n",
    "}\n",
    "\n",
    "for key in dict_1:\n",
    "    print(dict_1[key])"
   ],
   "metadata": {
    "collapsed": false,
    "ExecuteTime": {
     "end_time": "2023-07-19T01:50:52.294587600Z",
     "start_time": "2023-07-19T01:50:52.289604300Z"
    }
   }
  },
  {
   "cell_type": "markdown",
   "source": [
    "*try except excepciones*"
   ],
   "metadata": {
    "collapsed": false
   }
  },
  {
   "cell_type": "code",
   "execution_count": 5,
   "outputs": [
    {
     "ename": "IndexError",
     "evalue": "list index out of range",
     "output_type": "error",
     "traceback": [
      "\u001B[1;31m---------------------------------------------------------------------------\u001B[0m",
      "\u001B[1;31mIndexError\u001B[0m                                Traceback (most recent call last)",
      "Cell \u001B[1;32mIn[5], line 3\u001B[0m\n\u001B[0;32m      1\u001B[0m lista_1 \u001B[38;5;241m=\u001B[39m [\u001B[38;5;241m1\u001B[39m, \u001B[38;5;241m2\u001B[39m, \u001B[38;5;241m3\u001B[39m, \u001B[38;5;241m4\u001B[39m, \u001B[38;5;241m5\u001B[39m]\n\u001B[1;32m----> 3\u001B[0m \u001B[43mlista_1\u001B[49m\u001B[43m[\u001B[49m\u001B[38;5;241;43m10\u001B[39;49m\u001B[43m]\u001B[49m\n",
      "\u001B[1;31mIndexError\u001B[0m: list index out of range"
     ]
    }
   ],
   "source": [
    "lista_1 = [1, 2, 3, 4, 5]\n",
    "\n",
    "lista_1[10]"
   ],
   "metadata": {
    "collapsed": false,
    "ExecuteTime": {
     "end_time": "2023-07-19T02:00:28.893121400Z",
     "start_time": "2023-07-19T02:00:28.664201300Z"
    }
   }
  },
  {
   "cell_type": "code",
   "execution_count": 6,
   "outputs": [
    {
     "ename": "KeyError",
     "evalue": "'z'",
     "output_type": "error",
     "traceback": [
      "\u001B[1;31m---------------------------------------------------------------------------\u001B[0m",
      "\u001B[1;31mKeyError\u001B[0m                                  Traceback (most recent call last)",
      "Cell \u001B[1;32mIn[6], line 8\u001B[0m\n\u001B[0;32m      1\u001B[0m dict_1 \u001B[38;5;241m=\u001B[39m {\n\u001B[0;32m      2\u001B[0m     \u001B[38;5;124m'\u001B[39m\u001B[38;5;124ma\u001B[39m\u001B[38;5;124m'\u001B[39m: \u001B[38;5;241m1\u001B[39m,\n\u001B[0;32m      3\u001B[0m     \u001B[38;5;124m'\u001B[39m\u001B[38;5;124mb\u001B[39m\u001B[38;5;124m'\u001B[39m: \u001B[38;5;241m2\u001B[39m,\n\u001B[0;32m      4\u001B[0m     \u001B[38;5;124m'\u001B[39m\u001B[38;5;124mc\u001B[39m\u001B[38;5;124m'\u001B[39m: \u001B[38;5;241m3\u001B[39m,\n\u001B[0;32m      5\u001B[0m     \u001B[38;5;124m'\u001B[39m\u001B[38;5;124md\u001B[39m\u001B[38;5;124m'\u001B[39m: \u001B[38;5;241m4\u001B[39m\n\u001B[0;32m      6\u001B[0m }\n\u001B[1;32m----> 8\u001B[0m \u001B[43mdict_1\u001B[49m\u001B[43m[\u001B[49m\u001B[38;5;124;43m'\u001B[39;49m\u001B[38;5;124;43mz\u001B[39;49m\u001B[38;5;124;43m'\u001B[39;49m\u001B[43m]\u001B[49m\n",
      "\u001B[1;31mKeyError\u001B[0m: 'z'"
     ]
    }
   ],
   "source": [
    "\n",
    "\n",
    "dict_1 = {\n",
    "    'a': 1,\n",
    "    'b': 2,\n",
    "    'c': 3,\n",
    "    'd': 4\n",
    "}\n",
    "\n",
    "dict_1['z']\n",
    "\n"
   ],
   "metadata": {
    "collapsed": false,
    "ExecuteTime": {
     "end_time": "2023-07-19T02:00:34.767898600Z",
     "start_time": "2023-07-19T02:00:34.751656Z"
    }
   }
  },
  {
   "cell_type": "code",
   "execution_count": 7,
   "outputs": [
    {
     "ename": "ValueError",
     "evalue": "invalid literal for int() with base 10: 'Holi'",
     "output_type": "error",
     "traceback": [
      "\u001B[1;31m---------------------------------------------------------------------------\u001B[0m",
      "\u001B[1;31mValueError\u001B[0m                                Traceback (most recent call last)",
      "Cell \u001B[1;32mIn[7], line 1\u001B[0m\n\u001B[1;32m----> 1\u001B[0m \u001B[38;5;28;43mint\u001B[39;49m\u001B[43m(\u001B[49m\u001B[38;5;124;43m\"\u001B[39;49m\u001B[38;5;124;43mHoli\u001B[39;49m\u001B[38;5;124;43m\"\u001B[39;49m\u001B[43m)\u001B[49m\n",
      "\u001B[1;31mValueError\u001B[0m: invalid literal for int() with base 10: 'Holi'"
     ]
    }
   ],
   "source": [
    "\n",
    "\n",
    "int(\"Holi\")\n",
    "\n"
   ],
   "metadata": {
    "collapsed": false,
    "ExecuteTime": {
     "end_time": "2023-07-19T02:00:39.551588800Z",
     "start_time": "2023-07-19T02:00:39.545847500Z"
    }
   }
  },
  {
   "cell_type": "code",
   "execution_count": 8,
   "outputs": [
    {
     "name": "stdout",
     "output_type": "stream",
     "text": [
      "Ese numero esta fuera de rango\n",
      "Mejor leamos este número\n",
      "3\n"
     ]
    }
   ],
   "source": [
    "\n",
    "\n",
    "lista_2 = [1, 2, 3, 4, 5]\n",
    "\n",
    "try:\n",
    "    print(lista_2[10])\n",
    "except:\n",
    "    print(\"Ese numero esta fuera de rango\")\n",
    "    print(\"Mejor leamos este número\")\n",
    "    print(lista_2[2])\n",
    "\n"
   ],
   "metadata": {
    "collapsed": false,
    "ExecuteTime": {
     "end_time": "2023-07-19T02:00:46.746233900Z",
     "start_time": "2023-07-19T02:00:46.740613400Z"
    }
   }
  },
  {
   "cell_type": "code",
   "execution_count": 9,
   "outputs": [
    {
     "name": "stdout",
     "output_type": "stream",
     "text": [
      "Esa llave no existe\n",
      "Mejor leamos esta llave\n",
      "2\n"
     ]
    }
   ],
   "source": [
    "\n",
    "\n",
    "dict_2 = {\n",
    "    'a': 1,\n",
    "    'b': 2,\n",
    "    'c': 3,\n",
    "    'd': 4\n",
    "}\n",
    "\n",
    "try:\n",
    "    print(dict_2['z'])\n",
    "except:\n",
    "    print(\"Esa llave no existe\")\n",
    "    print(\"Mejor leamos esta llave\")\n",
    "    print(dict_2['b'])\n",
    "\n"
   ],
   "metadata": {
    "collapsed": false,
    "ExecuteTime": {
     "end_time": "2023-07-19T02:00:52.956285800Z",
     "start_time": "2023-07-19T02:00:52.951761100Z"
    }
   }
  },
  {
   "cell_type": "code",
   "execution_count": 10,
   "outputs": [
    {
     "name": "stdout",
     "output_type": "stream",
     "text": [
      "Ese no es un número\n",
      "Mejor vamos a imprimirlo convirtiéndolo en una lista\n",
      "['H', 'o', 'l', 'i']\n"
     ]
    }
   ],
   "source": [
    "\n",
    "\n",
    "try:\n",
    "    print(int(\"Holi\"))\n",
    "except:\n",
    "    print(\"Ese no es un número\")\n",
    "    print(\"Mejor vamos a imprimirlo convirtiéndolo en una lista\")\n",
    "    print(list(\"Holi\"))\n",
    "\n"
   ],
   "metadata": {
    "collapsed": false,
    "ExecuteTime": {
     "end_time": "2023-07-19T02:00:58.448577600Z",
     "start_time": "2023-07-19T02:00:58.443223100Z"
    }
   }
  },
  {
   "cell_type": "markdown",
   "source": [
    "FUNCIONES CONCAT"
   ],
   "metadata": {
    "collapsed": false
   }
  },
  {
   "cell_type": "code",
   "execution_count": 11,
   "outputs": [],
   "source": [
    "import pandas as pd"
   ],
   "metadata": {
    "collapsed": false,
    "ExecuteTime": {
     "end_time": "2023-07-19T02:09:15.308759300Z",
     "start_time": "2023-07-19T02:09:14.877068200Z"
    }
   }
  },
  {
   "cell_type": "code",
   "execution_count": 12,
   "outputs": [],
   "source": [
    "\n",
    "\n",
    "serie_1 = pd.Series([1, 2, 3], index=['a', 'b', 'c'])\n",
    "serie_2 = pd.Series([4, 5, 6], index=['d', 'f', 'e'])\n",
    "\n"
   ],
   "metadata": {
    "collapsed": false,
    "ExecuteTime": {
     "end_time": "2023-07-19T02:09:50.284784200Z",
     "start_time": "2023-07-19T02:09:50.279271900Z"
    }
   }
  },
  {
   "cell_type": "code",
   "execution_count": 13,
   "outputs": [
    {
     "data": {
      "text/plain": "a    1\nb    2\nc    3\nd    4\nf    5\ne    6\ndtype: int64"
     },
     "execution_count": 13,
     "metadata": {},
     "output_type": "execute_result"
    }
   ],
   "source": [
    "pd.concat([serie_1, serie_2], axis=0)"
   ],
   "metadata": {
    "collapsed": false,
    "ExecuteTime": {
     "end_time": "2023-07-19T02:09:54.940937700Z",
     "start_time": "2023-07-19T02:09:54.914792500Z"
    }
   }
  },
  {
   "cell_type": "code",
   "execution_count": 14,
   "outputs": [
    {
     "data": {
      "text/plain": "     0    1\na  1.0  NaN\nb  2.0  NaN\nc  3.0  NaN\nd  NaN  4.0\nf  NaN  5.0\ne  NaN  6.0",
      "text/html": "<div>\n<style scoped>\n    .dataframe tbody tr th:only-of-type {\n        vertical-align: middle;\n    }\n\n    .dataframe tbody tr th {\n        vertical-align: top;\n    }\n\n    .dataframe thead th {\n        text-align: right;\n    }\n</style>\n<table border=\"1\" class=\"dataframe\">\n  <thead>\n    <tr style=\"text-align: right;\">\n      <th></th>\n      <th>0</th>\n      <th>1</th>\n    </tr>\n  </thead>\n  <tbody>\n    <tr>\n      <th>a</th>\n      <td>1.0</td>\n      <td>NaN</td>\n    </tr>\n    <tr>\n      <th>b</th>\n      <td>2.0</td>\n      <td>NaN</td>\n    </tr>\n    <tr>\n      <th>c</th>\n      <td>3.0</td>\n      <td>NaN</td>\n    </tr>\n    <tr>\n      <th>d</th>\n      <td>NaN</td>\n      <td>4.0</td>\n    </tr>\n    <tr>\n      <th>f</th>\n      <td>NaN</td>\n      <td>5.0</td>\n    </tr>\n    <tr>\n      <th>e</th>\n      <td>NaN</td>\n      <td>6.0</td>\n    </tr>\n  </tbody>\n</table>\n</div>"
     },
     "execution_count": 14,
     "metadata": {},
     "output_type": "execute_result"
    }
   ],
   "source": [
    "pd.concat([serie_1, serie_2], axis=1)"
   ],
   "metadata": {
    "collapsed": false,
    "ExecuteTime": {
     "end_time": "2023-07-19T02:09:59.208346100Z",
     "start_time": "2023-07-19T02:09:59.201361900Z"
    }
   }
  },
  {
   "cell_type": "code",
   "execution_count": 15,
   "outputs": [
    {
     "data": {
      "text/plain": "   serie_1  serie_2\na      1.0      NaN\nb      2.0      NaN\nc      3.0      NaN\nd      NaN      4.0\nf      NaN      5.0\ne      NaN      6.0",
      "text/html": "<div>\n<style scoped>\n    .dataframe tbody tr th:only-of-type {\n        vertical-align: middle;\n    }\n\n    .dataframe tbody tr th {\n        vertical-align: top;\n    }\n\n    .dataframe thead th {\n        text-align: right;\n    }\n</style>\n<table border=\"1\" class=\"dataframe\">\n  <thead>\n    <tr style=\"text-align: right;\">\n      <th></th>\n      <th>serie_1</th>\n      <th>serie_2</th>\n    </tr>\n  </thead>\n  <tbody>\n    <tr>\n      <th>a</th>\n      <td>1.0</td>\n      <td>NaN</td>\n    </tr>\n    <tr>\n      <th>b</th>\n      <td>2.0</td>\n      <td>NaN</td>\n    </tr>\n    <tr>\n      <th>c</th>\n      <td>3.0</td>\n      <td>NaN</td>\n    </tr>\n    <tr>\n      <th>d</th>\n      <td>NaN</td>\n      <td>4.0</td>\n    </tr>\n    <tr>\n      <th>f</th>\n      <td>NaN</td>\n      <td>5.0</td>\n    </tr>\n    <tr>\n      <th>e</th>\n      <td>NaN</td>\n      <td>6.0</td>\n    </tr>\n  </tbody>\n</table>\n</div>"
     },
     "execution_count": 15,
     "metadata": {},
     "output_type": "execute_result"
    }
   ],
   "source": [
    "pd.concat([serie_1, serie_2], axis=1, keys=['serie_1', 'serie_2'])"
   ],
   "metadata": {
    "collapsed": false,
    "ExecuteTime": {
     "end_time": "2023-07-19T02:10:08.274984100Z",
     "start_time": "2023-07-19T02:10:08.267499200Z"
    }
   }
  },
  {
   "cell_type": "code",
   "execution_count": 16,
   "outputs": [
    {
     "data": {
      "text/plain": "   serie_1  serie_3\na        1        7\nb        2        8\nc        3        9",
      "text/html": "<div>\n<style scoped>\n    .dataframe tbody tr th:only-of-type {\n        vertical-align: middle;\n    }\n\n    .dataframe tbody tr th {\n        vertical-align: top;\n    }\n\n    .dataframe thead th {\n        text-align: right;\n    }\n</style>\n<table border=\"1\" class=\"dataframe\">\n  <thead>\n    <tr style=\"text-align: right;\">\n      <th></th>\n      <th>serie_1</th>\n      <th>serie_3</th>\n    </tr>\n  </thead>\n  <tbody>\n    <tr>\n      <th>a</th>\n      <td>1</td>\n      <td>7</td>\n    </tr>\n    <tr>\n      <th>b</th>\n      <td>2</td>\n      <td>8</td>\n    </tr>\n    <tr>\n      <th>c</th>\n      <td>3</td>\n      <td>9</td>\n    </tr>\n  </tbody>\n</table>\n</div>"
     },
     "execution_count": 16,
     "metadata": {},
     "output_type": "execute_result"
    }
   ],
   "source": [
    "serie_3 = pd.Series([7, 8, 9], index=['a', 'b', 'c'])\n",
    "\n",
    "pd.concat([serie_1, serie_3], axis=1, keys=['serie_1', 'serie_3'])"
   ],
   "metadata": {
    "collapsed": false,
    "ExecuteTime": {
     "end_time": "2023-07-19T02:10:28.121343Z",
     "start_time": "2023-07-19T02:10:28.104743900Z"
    }
   }
  },
  {
   "cell_type": "code",
   "execution_count": 17,
   "outputs": [
    {
     "data": {
      "text/plain": "a    1\nb    2\nc    3\na    7\nb    8\nc    9\ndtype: int64"
     },
     "execution_count": 17,
     "metadata": {},
     "output_type": "execute_result"
    }
   ],
   "source": [
    "pd.concat([serie_1, serie_3], axis=0)"
   ],
   "metadata": {
    "collapsed": false,
    "ExecuteTime": {
     "end_time": "2023-07-19T02:10:38.723616900Z",
     "start_time": "2023-07-19T02:10:38.718125200Z"
    }
   }
  },
  {
   "cell_type": "code",
   "execution_count": 18,
   "outputs": [
    {
     "data": {
      "text/plain": "serie_1  a    1\n         b    2\n         c    3\nserie_3  a    7\n         b    8\n         c    9\ndtype: int64"
     },
     "execution_count": 18,
     "metadata": {},
     "output_type": "execute_result"
    }
   ],
   "source": [
    "pd.concat([serie_1, serie_3], axis=0, keys=['serie_1', 'serie_3'])"
   ],
   "metadata": {
    "collapsed": false,
    "ExecuteTime": {
     "end_time": "2023-07-19T02:10:43.746258200Z",
     "start_time": "2023-07-19T02:10:43.718327300Z"
    }
   }
  },
  {
   "cell_type": "code",
   "execution_count": 19,
   "outputs": [],
   "source": [
    "series_concat = pd.concat([serie_1, serie_3], axis=0, keys=['serie_1', 'serie_3'])"
   ],
   "metadata": {
    "collapsed": false,
    "ExecuteTime": {
     "end_time": "2023-07-19T02:10:48.581785200Z",
     "start_time": "2023-07-19T02:10:48.575257300Z"
    }
   }
  },
  {
   "cell_type": "code",
   "execution_count": 20,
   "outputs": [
    {
     "data": {
      "text/plain": "a    1\nb    2\nc    3\ndtype: int64"
     },
     "execution_count": 20,
     "metadata": {},
     "output_type": "execute_result"
    }
   ],
   "source": [
    "series_concat.loc['serie_1']"
   ],
   "metadata": {
    "collapsed": false,
    "ExecuteTime": {
     "end_time": "2023-07-19T02:10:52.970882400Z",
     "start_time": "2023-07-19T02:10:52.921290500Z"
    }
   }
  },
  {
   "cell_type": "code",
   "execution_count": 21,
   "outputs": [
    {
     "data": {
      "text/plain": "2"
     },
     "execution_count": 21,
     "metadata": {},
     "output_type": "execute_result"
    }
   ],
   "source": [
    "series_concat.loc[('serie_1', 'b')]"
   ],
   "metadata": {
    "collapsed": false,
    "ExecuteTime": {
     "end_time": "2023-07-19T02:10:59.148549700Z",
     "start_time": "2023-07-19T02:10:59.109940900Z"
    }
   }
  },
  {
   "cell_type": "code",
   "execution_count": 22,
   "outputs": [
    {
     "data": {
      "text/plain": "serie_1  a    1\n         b    2\n         c    3\nserie_3  a    7\n         b    8\n         c    9\ndtype: int64"
     },
     "execution_count": 22,
     "metadata": {},
     "output_type": "execute_result"
    }
   ],
   "source": [
    "series_concat"
   ],
   "metadata": {
    "collapsed": false,
    "ExecuteTime": {
     "end_time": "2023-07-19T02:11:07.513950700Z",
     "start_time": "2023-07-19T02:11:07.506457900Z"
    }
   }
  },
  {
   "cell_type": "markdown",
   "source": [
    "CONCAY DATAFRAMES"
   ],
   "metadata": {
    "collapsed": false
   }
  },
  {
   "cell_type": "code",
   "execution_count": 23,
   "outputs": [
    {
     "data": {
      "text/plain": "   column_1  column_2\na         1         4\nb         2         5\nc         3         6",
      "text/html": "<div>\n<style scoped>\n    .dataframe tbody tr th:only-of-type {\n        vertical-align: middle;\n    }\n\n    .dataframe tbody tr th {\n        vertical-align: top;\n    }\n\n    .dataframe thead th {\n        text-align: right;\n    }\n</style>\n<table border=\"1\" class=\"dataframe\">\n  <thead>\n    <tr style=\"text-align: right;\">\n      <th></th>\n      <th>column_1</th>\n      <th>column_2</th>\n    </tr>\n  </thead>\n  <tbody>\n    <tr>\n      <th>a</th>\n      <td>1</td>\n      <td>4</td>\n    </tr>\n    <tr>\n      <th>b</th>\n      <td>2</td>\n      <td>5</td>\n    </tr>\n    <tr>\n      <th>c</th>\n      <td>3</td>\n      <td>6</td>\n    </tr>\n  </tbody>\n</table>\n</div>"
     },
     "execution_count": 23,
     "metadata": {},
     "output_type": "execute_result"
    }
   ],
   "source": [
    "data_1 = {\n",
    "    'column_1': [1, 2, 3],\n",
    "    'column_2': [4, 5, 6]\n",
    "}\n",
    "\n",
    "df_1 = pd.DataFrame(data_1, index=['a', 'b', 'c'])\n",
    "\n",
    "df_1\n",
    "\n"
   ],
   "metadata": {
    "collapsed": false,
    "ExecuteTime": {
     "end_time": "2023-07-19T03:00:30.249008100Z",
     "start_time": "2023-07-19T03:00:30.243010600Z"
    }
   }
  },
  {
   "cell_type": "code",
   "execution_count": 24,
   "outputs": [
    {
     "data": {
      "text/plain": "   column_1  column_2\nd         1         4\ne         2         5\nf         3         6",
      "text/html": "<div>\n<style scoped>\n    .dataframe tbody tr th:only-of-type {\n        vertical-align: middle;\n    }\n\n    .dataframe tbody tr th {\n        vertical-align: top;\n    }\n\n    .dataframe thead th {\n        text-align: right;\n    }\n</style>\n<table border=\"1\" class=\"dataframe\">\n  <thead>\n    <tr style=\"text-align: right;\">\n      <th></th>\n      <th>column_1</th>\n      <th>column_2</th>\n    </tr>\n  </thead>\n  <tbody>\n    <tr>\n      <th>d</th>\n      <td>1</td>\n      <td>4</td>\n    </tr>\n    <tr>\n      <th>e</th>\n      <td>2</td>\n      <td>5</td>\n    </tr>\n    <tr>\n      <th>f</th>\n      <td>3</td>\n      <td>6</td>\n    </tr>\n  </tbody>\n</table>\n</div>"
     },
     "execution_count": 24,
     "metadata": {},
     "output_type": "execute_result"
    }
   ],
   "source": [
    "data_2 = {\n",
    "    'column_1': [7, 8, 9],\n",
    "    'column_2': [10, 11, 12]\n",
    "}\n",
    "\n",
    "df_2 = pd.DataFrame(data_1, index=['d', 'e', 'f'])\n",
    "\n",
    "df_2"
   ],
   "metadata": {
    "collapsed": false,
    "ExecuteTime": {
     "end_time": "2023-07-19T03:00:47.909310500Z",
     "start_time": "2023-07-19T03:00:47.902820300Z"
    }
   }
  },
  {
   "cell_type": "code",
   "execution_count": 25,
   "outputs": [
    {
     "data": {
      "text/plain": "   column_1  column_2  column_1  column_2\na       1.0       4.0       NaN       NaN\nb       2.0       5.0       NaN       NaN\nc       3.0       6.0       NaN       NaN\nd       NaN       NaN       1.0       4.0\ne       NaN       NaN       2.0       5.0\nf       NaN       NaN       3.0       6.0",
      "text/html": "<div>\n<style scoped>\n    .dataframe tbody tr th:only-of-type {\n        vertical-align: middle;\n    }\n\n    .dataframe tbody tr th {\n        vertical-align: top;\n    }\n\n    .dataframe thead th {\n        text-align: right;\n    }\n</style>\n<table border=\"1\" class=\"dataframe\">\n  <thead>\n    <tr style=\"text-align: right;\">\n      <th></th>\n      <th>column_1</th>\n      <th>column_2</th>\n      <th>column_1</th>\n      <th>column_2</th>\n    </tr>\n  </thead>\n  <tbody>\n    <tr>\n      <th>a</th>\n      <td>1.0</td>\n      <td>4.0</td>\n      <td>NaN</td>\n      <td>NaN</td>\n    </tr>\n    <tr>\n      <th>b</th>\n      <td>2.0</td>\n      <td>5.0</td>\n      <td>NaN</td>\n      <td>NaN</td>\n    </tr>\n    <tr>\n      <th>c</th>\n      <td>3.0</td>\n      <td>6.0</td>\n      <td>NaN</td>\n      <td>NaN</td>\n    </tr>\n    <tr>\n      <th>d</th>\n      <td>NaN</td>\n      <td>NaN</td>\n      <td>1.0</td>\n      <td>4.0</td>\n    </tr>\n    <tr>\n      <th>e</th>\n      <td>NaN</td>\n      <td>NaN</td>\n      <td>2.0</td>\n      <td>5.0</td>\n    </tr>\n    <tr>\n      <th>f</th>\n      <td>NaN</td>\n      <td>NaN</td>\n      <td>3.0</td>\n      <td>6.0</td>\n    </tr>\n  </tbody>\n</table>\n</div>"
     },
     "execution_count": 25,
     "metadata": {},
     "output_type": "execute_result"
    }
   ],
   "source": [
    "pd.concat([df_1, df_2], axis=1)"
   ],
   "metadata": {
    "collapsed": false,
    "ExecuteTime": {
     "end_time": "2023-07-19T03:00:57.973155900Z",
     "start_time": "2023-07-19T03:00:57.967075600Z"
    }
   }
  },
  {
   "cell_type": "code",
   "execution_count": 26,
   "outputs": [
    {
     "data": {
      "text/plain": "   column_3  column_4\na         7        10\nb         8        11\nc         9        12",
      "text/html": "<div>\n<style scoped>\n    .dataframe tbody tr th:only-of-type {\n        vertical-align: middle;\n    }\n\n    .dataframe tbody tr th {\n        vertical-align: top;\n    }\n\n    .dataframe thead th {\n        text-align: right;\n    }\n</style>\n<table border=\"1\" class=\"dataframe\">\n  <thead>\n    <tr style=\"text-align: right;\">\n      <th></th>\n      <th>column_3</th>\n      <th>column_4</th>\n    </tr>\n  </thead>\n  <tbody>\n    <tr>\n      <th>a</th>\n      <td>7</td>\n      <td>10</td>\n    </tr>\n    <tr>\n      <th>b</th>\n      <td>8</td>\n      <td>11</td>\n    </tr>\n    <tr>\n      <th>c</th>\n      <td>9</td>\n      <td>12</td>\n    </tr>\n  </tbody>\n</table>\n</div>"
     },
     "execution_count": 26,
     "metadata": {},
     "output_type": "execute_result"
    }
   ],
   "source": [
    "data_3 = {\n",
    "    'column_3': [7, 8, 9],\n",
    "    'column_4': [10, 11, 12]\n",
    "}\n",
    "\n",
    "df_3 = pd.DataFrame(data_3, index=['a', 'b', 'c'])\n",
    "\n",
    "df_3"
   ],
   "metadata": {
    "collapsed": false,
    "ExecuteTime": {
     "end_time": "2023-07-19T03:01:12.735672700Z",
     "start_time": "2023-07-19T03:01:12.716651900Z"
    }
   }
  },
  {
   "cell_type": "code",
   "execution_count": 27,
   "outputs": [
    {
     "data": {
      "text/plain": "   column_1  column_2  column_3  column_4\na         1         4         7        10\nb         2         5         8        11\nc         3         6         9        12",
      "text/html": "<div>\n<style scoped>\n    .dataframe tbody tr th:only-of-type {\n        vertical-align: middle;\n    }\n\n    .dataframe tbody tr th {\n        vertical-align: top;\n    }\n\n    .dataframe thead th {\n        text-align: right;\n    }\n</style>\n<table border=\"1\" class=\"dataframe\">\n  <thead>\n    <tr style=\"text-align: right;\">\n      <th></th>\n      <th>column_1</th>\n      <th>column_2</th>\n      <th>column_3</th>\n      <th>column_4</th>\n    </tr>\n  </thead>\n  <tbody>\n    <tr>\n      <th>a</th>\n      <td>1</td>\n      <td>4</td>\n      <td>7</td>\n      <td>10</td>\n    </tr>\n    <tr>\n      <th>b</th>\n      <td>2</td>\n      <td>5</td>\n      <td>8</td>\n      <td>11</td>\n    </tr>\n    <tr>\n      <th>c</th>\n      <td>3</td>\n      <td>6</td>\n      <td>9</td>\n      <td>12</td>\n    </tr>\n  </tbody>\n</table>\n</div>"
     },
     "execution_count": 27,
     "metadata": {},
     "output_type": "execute_result"
    }
   ],
   "source": [
    "pd.concat([df_1, df_3], axis=1)"
   ],
   "metadata": {
    "collapsed": false,
    "ExecuteTime": {
     "end_time": "2023-07-19T03:01:17.467656400Z",
     "start_time": "2023-07-19T03:01:17.436607100Z"
    }
   }
  },
  {
   "cell_type": "code",
   "execution_count": 28,
   "outputs": [
    {
     "data": {
      "text/plain": "   column_1  column_2\na         7        10\nb         8        11\nc         9        12",
      "text/html": "<div>\n<style scoped>\n    .dataframe tbody tr th:only-of-type {\n        vertical-align: middle;\n    }\n\n    .dataframe tbody tr th {\n        vertical-align: top;\n    }\n\n    .dataframe thead th {\n        text-align: right;\n    }\n</style>\n<table border=\"1\" class=\"dataframe\">\n  <thead>\n    <tr style=\"text-align: right;\">\n      <th></th>\n      <th>column_1</th>\n      <th>column_2</th>\n    </tr>\n  </thead>\n  <tbody>\n    <tr>\n      <th>a</th>\n      <td>7</td>\n      <td>10</td>\n    </tr>\n    <tr>\n      <th>b</th>\n      <td>8</td>\n      <td>11</td>\n    </tr>\n    <tr>\n      <th>c</th>\n      <td>9</td>\n      <td>12</td>\n    </tr>\n  </tbody>\n</table>\n</div>"
     },
     "execution_count": 28,
     "metadata": {},
     "output_type": "execute_result"
    }
   ],
   "source": [
    "data_4 = {\n",
    "    'column_1': [7, 8, 9],\n",
    "    'column_2': [10, 11, 12]\n",
    "}\n",
    "\n",
    "df_4 = pd.DataFrame(data_4, index=['a', 'b', 'c'])\n",
    "\n",
    "df_4"
   ],
   "metadata": {
    "collapsed": false,
    "ExecuteTime": {
     "end_time": "2023-07-19T03:01:31.051422800Z",
     "start_time": "2023-07-19T03:01:31.013765700Z"
    }
   }
  },
  {
   "cell_type": "code",
   "execution_count": 29,
   "outputs": [
    {
     "data": {
      "text/plain": "   column_1  column_2\na         1         4\nb         2         5\nc         3         6\na         7        10\nb         8        11\nc         9        12",
      "text/html": "<div>\n<style scoped>\n    .dataframe tbody tr th:only-of-type {\n        vertical-align: middle;\n    }\n\n    .dataframe tbody tr th {\n        vertical-align: top;\n    }\n\n    .dataframe thead th {\n        text-align: right;\n    }\n</style>\n<table border=\"1\" class=\"dataframe\">\n  <thead>\n    <tr style=\"text-align: right;\">\n      <th></th>\n      <th>column_1</th>\n      <th>column_2</th>\n    </tr>\n  </thead>\n  <tbody>\n    <tr>\n      <th>a</th>\n      <td>1</td>\n      <td>4</td>\n    </tr>\n    <tr>\n      <th>b</th>\n      <td>2</td>\n      <td>5</td>\n    </tr>\n    <tr>\n      <th>c</th>\n      <td>3</td>\n      <td>6</td>\n    </tr>\n    <tr>\n      <th>a</th>\n      <td>7</td>\n      <td>10</td>\n    </tr>\n    <tr>\n      <th>b</th>\n      <td>8</td>\n      <td>11</td>\n    </tr>\n    <tr>\n      <th>c</th>\n      <td>9</td>\n      <td>12</td>\n    </tr>\n  </tbody>\n</table>\n</div>"
     },
     "execution_count": 29,
     "metadata": {},
     "output_type": "execute_result"
    }
   ],
   "source": [
    "pd.concat([df_1, df_4], axis=0)"
   ],
   "metadata": {
    "collapsed": false,
    "ExecuteTime": {
     "end_time": "2023-07-19T03:01:35.851202800Z",
     "start_time": "2023-07-19T03:01:35.829033600Z"
    }
   }
  },
  {
   "cell_type": "code",
   "execution_count": 30,
   "outputs": [
    {
     "data": {
      "text/plain": "        column_1  column_2\ndf_1 a         1         4\n     b         2         5\n     c         3         6\ndf_4 a         7        10\n     b         8        11\n     c         9        12",
      "text/html": "<div>\n<style scoped>\n    .dataframe tbody tr th:only-of-type {\n        vertical-align: middle;\n    }\n\n    .dataframe tbody tr th {\n        vertical-align: top;\n    }\n\n    .dataframe thead th {\n        text-align: right;\n    }\n</style>\n<table border=\"1\" class=\"dataframe\">\n  <thead>\n    <tr style=\"text-align: right;\">\n      <th></th>\n      <th></th>\n      <th>column_1</th>\n      <th>column_2</th>\n    </tr>\n  </thead>\n  <tbody>\n    <tr>\n      <th rowspan=\"3\" valign=\"top\">df_1</th>\n      <th>a</th>\n      <td>1</td>\n      <td>4</td>\n    </tr>\n    <tr>\n      <th>b</th>\n      <td>2</td>\n      <td>5</td>\n    </tr>\n    <tr>\n      <th>c</th>\n      <td>3</td>\n      <td>6</td>\n    </tr>\n    <tr>\n      <th rowspan=\"3\" valign=\"top\">df_4</th>\n      <th>a</th>\n      <td>7</td>\n      <td>10</td>\n    </tr>\n    <tr>\n      <th>b</th>\n      <td>8</td>\n      <td>11</td>\n    </tr>\n    <tr>\n      <th>c</th>\n      <td>9</td>\n      <td>12</td>\n    </tr>\n  </tbody>\n</table>\n</div>"
     },
     "execution_count": 30,
     "metadata": {},
     "output_type": "execute_result"
    }
   ],
   "source": [
    "df_concat = pd.concat([df_1, df_4], axis=0, keys=['df_1', 'df_4'])\n",
    "\n",
    "df_concat"
   ],
   "metadata": {
    "collapsed": false,
    "ExecuteTime": {
     "end_time": "2023-07-19T03:01:40.895930800Z",
     "start_time": "2023-07-19T03:01:40.862870Z"
    }
   }
  },
  {
   "cell_type": "code",
   "execution_count": 31,
   "outputs": [
    {
     "data": {
      "text/plain": "   column_1  column_2\na         1         4\nb         2         5\nc         3         6",
      "text/html": "<div>\n<style scoped>\n    .dataframe tbody tr th:only-of-type {\n        vertical-align: middle;\n    }\n\n    .dataframe tbody tr th {\n        vertical-align: top;\n    }\n\n    .dataframe thead th {\n        text-align: right;\n    }\n</style>\n<table border=\"1\" class=\"dataframe\">\n  <thead>\n    <tr style=\"text-align: right;\">\n      <th></th>\n      <th>column_1</th>\n      <th>column_2</th>\n    </tr>\n  </thead>\n  <tbody>\n    <tr>\n      <th>a</th>\n      <td>1</td>\n      <td>4</td>\n    </tr>\n    <tr>\n      <th>b</th>\n      <td>2</td>\n      <td>5</td>\n    </tr>\n    <tr>\n      <th>c</th>\n      <td>3</td>\n      <td>6</td>\n    </tr>\n  </tbody>\n</table>\n</div>"
     },
     "execution_count": 31,
     "metadata": {},
     "output_type": "execute_result"
    }
   ],
   "source": [
    "df_concat.loc['df_1']"
   ],
   "metadata": {
    "collapsed": false,
    "ExecuteTime": {
     "end_time": "2023-07-19T03:01:45.211644200Z",
     "start_time": "2023-07-19T03:01:45.205592600Z"
    }
   }
  },
  {
   "cell_type": "code",
   "execution_count": 32,
   "outputs": [
    {
     "data": {
      "text/plain": "column_1    2\ncolumn_2    5\nName: (df_1, b), dtype: int64"
     },
     "execution_count": 32,
     "metadata": {},
     "output_type": "execute_result"
    }
   ],
   "source": [
    "df_concat.loc[('df_1', 'b')]"
   ],
   "metadata": {
    "collapsed": false,
    "ExecuteTime": {
     "end_time": "2023-07-19T03:01:53.562548500Z",
     "start_time": "2023-07-19T03:01:53.556123200Z"
    }
   }
  },
  {
   "cell_type": "code",
   "execution_count": 33,
   "outputs": [
    {
     "data": {
      "text/plain": "   column_1  column_2  column_1  column_2  column_3  column_4  column_1   \na       1.0       4.0       NaN       NaN       7.0      10.0       7.0  \\\nb       2.0       5.0       NaN       NaN       8.0      11.0       8.0   \nc       3.0       6.0       NaN       NaN       9.0      12.0       9.0   \nd       NaN       NaN       1.0       4.0       NaN       NaN       NaN   \ne       NaN       NaN       2.0       5.0       NaN       NaN       NaN   \nf       NaN       NaN       3.0       6.0       NaN       NaN       NaN   \n\n   column_2  \na      10.0  \nb      11.0  \nc      12.0  \nd       NaN  \ne       NaN  \nf       NaN  ",
      "text/html": "<div>\n<style scoped>\n    .dataframe tbody tr th:only-of-type {\n        vertical-align: middle;\n    }\n\n    .dataframe tbody tr th {\n        vertical-align: top;\n    }\n\n    .dataframe thead th {\n        text-align: right;\n    }\n</style>\n<table border=\"1\" class=\"dataframe\">\n  <thead>\n    <tr style=\"text-align: right;\">\n      <th></th>\n      <th>column_1</th>\n      <th>column_2</th>\n      <th>column_1</th>\n      <th>column_2</th>\n      <th>column_3</th>\n      <th>column_4</th>\n      <th>column_1</th>\n      <th>column_2</th>\n    </tr>\n  </thead>\n  <tbody>\n    <tr>\n      <th>a</th>\n      <td>1.0</td>\n      <td>4.0</td>\n      <td>NaN</td>\n      <td>NaN</td>\n      <td>7.0</td>\n      <td>10.0</td>\n      <td>7.0</td>\n      <td>10.0</td>\n    </tr>\n    <tr>\n      <th>b</th>\n      <td>2.0</td>\n      <td>5.0</td>\n      <td>NaN</td>\n      <td>NaN</td>\n      <td>8.0</td>\n      <td>11.0</td>\n      <td>8.0</td>\n      <td>11.0</td>\n    </tr>\n    <tr>\n      <th>c</th>\n      <td>3.0</td>\n      <td>6.0</td>\n      <td>NaN</td>\n      <td>NaN</td>\n      <td>9.0</td>\n      <td>12.0</td>\n      <td>9.0</td>\n      <td>12.0</td>\n    </tr>\n    <tr>\n      <th>d</th>\n      <td>NaN</td>\n      <td>NaN</td>\n      <td>1.0</td>\n      <td>4.0</td>\n      <td>NaN</td>\n      <td>NaN</td>\n      <td>NaN</td>\n      <td>NaN</td>\n    </tr>\n    <tr>\n      <th>e</th>\n      <td>NaN</td>\n      <td>NaN</td>\n      <td>2.0</td>\n      <td>5.0</td>\n      <td>NaN</td>\n      <td>NaN</td>\n      <td>NaN</td>\n      <td>NaN</td>\n    </tr>\n    <tr>\n      <th>f</th>\n      <td>NaN</td>\n      <td>NaN</td>\n      <td>3.0</td>\n      <td>6.0</td>\n      <td>NaN</td>\n      <td>NaN</td>\n      <td>NaN</td>\n      <td>NaN</td>\n    </tr>\n  </tbody>\n</table>\n</div>"
     },
     "execution_count": 33,
     "metadata": {},
     "output_type": "execute_result"
    }
   ],
   "source": [
    "pd.concat([df_1, df_2, df_3, df_4], axis=1)"
   ],
   "metadata": {
    "collapsed": false,
    "ExecuteTime": {
     "end_time": "2023-07-19T03:02:27.848740900Z",
     "start_time": "2023-07-19T03:02:27.816447500Z"
    }
   }
  },
  {
   "cell_type": "markdown",
   "source": [
    "AUTOMATIZANDO PETICIONES"
   ],
   "metadata": {
    "collapsed": false
   }
  },
  {
   "cell_type": "code",
   "execution_count": 34,
   "outputs": [],
   "source": [
    "import pandas as pd\n",
    "import requests\n",
    "import time"
   ],
   "metadata": {
    "collapsed": false,
    "ExecuteTime": {
     "end_time": "2023-07-19T03:02:51.558854900Z",
     "start_time": "2023-07-19T03:02:51.468485300Z"
    }
   }
  },
  {
   "cell_type": "code",
   "execution_count": null,
   "outputs": [],
   "source": [],
   "metadata": {
    "collapsed": false
   }
  },
  {
   "cell_type": "code",
   "execution_count": 35,
   "outputs": [],
   "source": [
    "endpoint = 'https://api.nasa.gov/neo/rest/v1/neo/browse/'\n",
    "payload = {'api_key': 'D1YdjLMNeaHqLaRt16lkRL26WsiRaE4JKKZRWh9N'}"
   ],
   "metadata": {
    "collapsed": false,
    "ExecuteTime": {
     "end_time": "2023-07-19T03:03:11.959904600Z",
     "start_time": "2023-07-19T03:03:11.928609800Z"
    }
   }
  },
  {
   "cell_type": "code",
   "execution_count": 36,
   "outputs": [],
   "source": [
    "dict_datos = {}\n",
    "\n",
    "for i in range(0, 10):\n",
    "\n",
    "    try:\n",
    "        time.sleep(5)\n",
    "        r = requests.get(endpoint, params=payload, timeout=5)\n",
    "\n",
    "        if r.status_code == 200:\n",
    "            json = r.json()\n",
    "\n",
    "            data = json['near_earth_objects']\n",
    "            dict_datos[i] = data\n",
    "\n",
    "            new_link = json['links']['next']\n",
    "            endpoint = new_link\n",
    "    except:\n",
    "        continue"
   ],
   "metadata": {
    "collapsed": false,
    "ExecuteTime": {
     "end_time": "2023-07-19T03:04:25.593231Z",
     "start_time": "2023-07-19T03:03:24.007284700Z"
    }
   }
  },
  {
   "cell_type": "code",
   "execution_count": 37,
   "outputs": [],
   "source": [
    "for key in dict_datos:\n",
    "    normalized = pd.json_normalize(dict_datos[key])\n",
    "    df = pd.DataFrame.from_dict(normalized)\n",
    "    dict_datos[key] = df"
   ],
   "metadata": {
    "collapsed": false,
    "ExecuteTime": {
     "end_time": "2023-07-19T03:04:25.621450900Z",
     "start_time": "2023-07-19T03:04:25.596696600Z"
    }
   }
  },
  {
   "cell_type": "code",
   "execution_count": 38,
   "outputs": [],
   "source": [
    "\n",
    "\n",
    "lista_de_dataframes = []\n",
    "\n",
    "for key in dict_datos:\n",
    "    lista_de_dataframes.append(dict_datos[key])\n",
    "\n"
   ],
   "metadata": {
    "collapsed": false,
    "ExecuteTime": {
     "end_time": "2023-07-19T03:04:25.625820900Z",
     "start_time": "2023-07-19T03:04:25.623814500Z"
    }
   }
  },
  {
   "cell_type": "code",
   "execution_count": 39,
   "outputs": [],
   "source": [
    "df_completo = pd.concat(lista_de_dataframes, axis=0).reset_index(drop=True)"
   ],
   "metadata": {
    "collapsed": false,
    "ExecuteTime": {
     "end_time": "2023-07-19T03:04:25.646596900Z",
     "start_time": "2023-07-19T03:04:25.630377700Z"
    }
   }
  },
  {
   "cell_type": "code",
   "execution_count": 40,
   "outputs": [
    {
     "data": {
      "text/plain": "          id neo_reference_id                    name name_limited   \n0    2000433          2000433      433 Eros (A898 PA)         Eros  \\\n1    2000719          2000719    719 Albert (A911 TB)       Albert   \n2    2000887          2000887    887 Alinda (A918 AA)       Alinda   \n3    2001036          2001036  1036 Ganymed (A924 UB)      Ganymed   \n4    2001221          2001221    1221 Amor (1932 EA1)         Amor   \n..       ...              ...                     ...          ...   \n195  2017511          2017511         17511 (1992 QN)          NaN   \n196  2018106          2018106  18106 Blume (2000 NX3)        Blume   \n197  2018109          2018109       18109 (2000 NG11)          NaN   \n198  2018172          2018172        18172 (2000 QL7)          NaN   \n199  2018736          2018736         18736 (1998 NU)          NaN   \n\n    designation                                   nasa_jpl_url   \n0           433  http://ssd.jpl.nasa.gov/sbdb.cgi?sstr=2000433  \\\n1           719  http://ssd.jpl.nasa.gov/sbdb.cgi?sstr=2000719   \n2           887  http://ssd.jpl.nasa.gov/sbdb.cgi?sstr=2000887   \n3          1036  http://ssd.jpl.nasa.gov/sbdb.cgi?sstr=2001036   \n4          1221  http://ssd.jpl.nasa.gov/sbdb.cgi?sstr=2001221   \n..          ...                                            ...   \n195       17511  http://ssd.jpl.nasa.gov/sbdb.cgi?sstr=2017511   \n196       18106  http://ssd.jpl.nasa.gov/sbdb.cgi?sstr=2018106   \n197       18109  http://ssd.jpl.nasa.gov/sbdb.cgi?sstr=2018109   \n198       18172  http://ssd.jpl.nasa.gov/sbdb.cgi?sstr=2018172   \n199       18736  http://ssd.jpl.nasa.gov/sbdb.cgi?sstr=2018736   \n\n     absolute_magnitude_h  is_potentially_hazardous_asteroid   \n0                   10.31                              False  \\\n1                   15.59                              False   \n2                   13.83                              False   \n3                    9.22                              False   \n4                   17.38                              False   \n..                    ...                                ...   \n195                 17.32                              False   \n196                 17.86                              False   \n197                 17.20                              False   \n198                 15.71                              False   \n199                 15.99                              False   \n\n                                   close_approach_data  is_sentry_object  ...   \n0    [{'close_approach_date': '1900-12-27', 'close_...             False  ...  \\\n1    [{'close_approach_date': '1909-08-21', 'close_...             False  ...   \n2    [{'close_approach_date': '1910-01-04', 'close_...             False  ...   \n3    [{'close_approach_date': '1910-02-25', 'close_...             False  ...   \n4    [{'close_approach_date': '1900-03-08', 'close_...             False  ...   \n..                                                 ...               ...  ...   \n195  [{'close_approach_date': '1900-12-11', 'close_...             False  ...   \n196  [{'close_approach_date': '1904-08-28', 'close_...             False  ...   \n197  [{'close_approach_date': '1902-10-30', 'close_...             False  ...   \n198  [{'close_approach_date': '1913-11-01', 'close_...             False  ...   \n199  [{'close_approach_date': '1918-04-01', 'close_...             False  ...   \n\n    orbital_data.perihelion_distance  orbital_data.perihelion_argument   \n0                  1.133284372081002                 178.9269951795186  \\\n1                  1.194521858788897                 156.2503681890173   \n2                  1.061321201915153                 350.4750171333043   \n3                  1.244963114186642                 132.4678967189769   \n4                  1.082508630279756                 26.63044254343605   \n..                               ...                               ...   \n195                 .762714214965997                 202.4152332506184   \n196                1.192706113366379                   234.99881043329   \n197                1.189027722415369                 319.2676184468084   \n198                1.185177594694943                 100.6968697255064   \n199                  1.1968397352371                 222.9574302286984   \n\n     orbital_data.aphelion_distance  orbital_data.perihelion_time   \n0                 1.782973900121676          2459802.601698595905  \\\n1                 4.079828796226027          2459956.023234763085   \n2                 3.883609285276582          2460678.792844005586   \n3                 4.086971560491093          2460569.530751926612   \n4                 2.755083241500687          2459867.321948764327   \n..                              ...                           ...   \n195                 1.6163918030349          2460112.186529382472   \n196               3.695369039796369          2460164.304788001639   \n197               2.572956855482577          2460293.109174843337   \n198               3.664108904327775          2460208.125216411387   \n199                3.50382548885583          2459870.950154426823   \n\n     orbital_data.mean_anomaly  orbital_data.mean_motion   \n0            110.7776526746434         .5597706088868498  \\\n1            10.23596428095426         .2301418330768929   \n2            188.0405623183154         .2535179888765987   \n3            231.1579652145581         .2264236763113618   \n4            49.38482790190183         .3708180698222572   \n..                         ...                       ...   \n195          275.1544303842288         .7596759437766764   \n196          317.7459007890413         .2579539934482001   \n197           248.207803172704          .382052944468162   \n198          305.7983633375924         .2610551723881788   \n199          35.43618689233978         .2735332237221647   \n\n     orbital_data.equinox  orbital_data.orbit_class.orbit_class_type   \n0                   J2000                                        AMO  \\\n1                   J2000                                        AMO   \n2                   J2000                                        AMO   \n3                   J2000                                        AMO   \n4                   J2000                                        AMO   \n..                    ...                                        ...   \n195                 J2000                                        APO   \n196                 J2000                                        AMO   \n197                 J2000                                        AMO   \n198                 J2000                                        AMO   \n199                 J2000                                        AMO   \n\n      orbital_data.orbit_class.orbit_class_description   \n0    Near-Earth asteroid orbits similar to that of ...  \\\n1    Near-Earth asteroid orbits similar to that of ...   \n2    Near-Earth asteroid orbits similar to that of ...   \n3    Near-Earth asteroid orbits similar to that of ...   \n4    Near-Earth asteroid orbits similar to that of ...   \n..                                                 ...   \n195  Near-Earth asteroid orbits which cross the Ear...   \n196  Near-Earth asteroid orbits similar to that of ...   \n197  Near-Earth asteroid orbits similar to that of ...   \n198  Near-Earth asteroid orbits similar to that of ...   \n199  Near-Earth asteroid orbits similar to that of ...   \n\n            orbital_data.orbit_class.orbit_class_range  \n0                   1.017 AU < q (perihelion) < 1.3 AU  \n1                   1.017 AU < q (perihelion) < 1.3 AU  \n2                   1.017 AU < q (perihelion) < 1.3 AU  \n3                   1.017 AU < q (perihelion) < 1.3 AU  \n4                   1.017 AU < q (perihelion) < 1.3 AU  \n..                                                 ...  \n195  a (semi-major axis) > 1.0 AU; q (perihelion) <...  \n196                 1.017 AU < q (perihelion) < 1.3 AU  \n197                 1.017 AU < q (perihelion) < 1.3 AU  \n198                 1.017 AU < q (perihelion) < 1.3 AU  \n199                 1.017 AU < q (perihelion) < 1.3 AU  \n\n[200 rows x 44 columns]",
      "text/html": "<div>\n<style scoped>\n    .dataframe tbody tr th:only-of-type {\n        vertical-align: middle;\n    }\n\n    .dataframe tbody tr th {\n        vertical-align: top;\n    }\n\n    .dataframe thead th {\n        text-align: right;\n    }\n</style>\n<table border=\"1\" class=\"dataframe\">\n  <thead>\n    <tr style=\"text-align: right;\">\n      <th></th>\n      <th>id</th>\n      <th>neo_reference_id</th>\n      <th>name</th>\n      <th>name_limited</th>\n      <th>designation</th>\n      <th>nasa_jpl_url</th>\n      <th>absolute_magnitude_h</th>\n      <th>is_potentially_hazardous_asteroid</th>\n      <th>close_approach_data</th>\n      <th>is_sentry_object</th>\n      <th>...</th>\n      <th>orbital_data.perihelion_distance</th>\n      <th>orbital_data.perihelion_argument</th>\n      <th>orbital_data.aphelion_distance</th>\n      <th>orbital_data.perihelion_time</th>\n      <th>orbital_data.mean_anomaly</th>\n      <th>orbital_data.mean_motion</th>\n      <th>orbital_data.equinox</th>\n      <th>orbital_data.orbit_class.orbit_class_type</th>\n      <th>orbital_data.orbit_class.orbit_class_description</th>\n      <th>orbital_data.orbit_class.orbit_class_range</th>\n    </tr>\n  </thead>\n  <tbody>\n    <tr>\n      <th>0</th>\n      <td>2000433</td>\n      <td>2000433</td>\n      <td>433 Eros (A898 PA)</td>\n      <td>Eros</td>\n      <td>433</td>\n      <td>http://ssd.jpl.nasa.gov/sbdb.cgi?sstr=2000433</td>\n      <td>10.31</td>\n      <td>False</td>\n      <td>[{'close_approach_date': '1900-12-27', 'close_...</td>\n      <td>False</td>\n      <td>...</td>\n      <td>1.133284372081002</td>\n      <td>178.9269951795186</td>\n      <td>1.782973900121676</td>\n      <td>2459802.601698595905</td>\n      <td>110.7776526746434</td>\n      <td>.5597706088868498</td>\n      <td>J2000</td>\n      <td>AMO</td>\n      <td>Near-Earth asteroid orbits similar to that of ...</td>\n      <td>1.017 AU &lt; q (perihelion) &lt; 1.3 AU</td>\n    </tr>\n    <tr>\n      <th>1</th>\n      <td>2000719</td>\n      <td>2000719</td>\n      <td>719 Albert (A911 TB)</td>\n      <td>Albert</td>\n      <td>719</td>\n      <td>http://ssd.jpl.nasa.gov/sbdb.cgi?sstr=2000719</td>\n      <td>15.59</td>\n      <td>False</td>\n      <td>[{'close_approach_date': '1909-08-21', 'close_...</td>\n      <td>False</td>\n      <td>...</td>\n      <td>1.194521858788897</td>\n      <td>156.2503681890173</td>\n      <td>4.079828796226027</td>\n      <td>2459956.023234763085</td>\n      <td>10.23596428095426</td>\n      <td>.2301418330768929</td>\n      <td>J2000</td>\n      <td>AMO</td>\n      <td>Near-Earth asteroid orbits similar to that of ...</td>\n      <td>1.017 AU &lt; q (perihelion) &lt; 1.3 AU</td>\n    </tr>\n    <tr>\n      <th>2</th>\n      <td>2000887</td>\n      <td>2000887</td>\n      <td>887 Alinda (A918 AA)</td>\n      <td>Alinda</td>\n      <td>887</td>\n      <td>http://ssd.jpl.nasa.gov/sbdb.cgi?sstr=2000887</td>\n      <td>13.83</td>\n      <td>False</td>\n      <td>[{'close_approach_date': '1910-01-04', 'close_...</td>\n      <td>False</td>\n      <td>...</td>\n      <td>1.061321201915153</td>\n      <td>350.4750171333043</td>\n      <td>3.883609285276582</td>\n      <td>2460678.792844005586</td>\n      <td>188.0405623183154</td>\n      <td>.2535179888765987</td>\n      <td>J2000</td>\n      <td>AMO</td>\n      <td>Near-Earth asteroid orbits similar to that of ...</td>\n      <td>1.017 AU &lt; q (perihelion) &lt; 1.3 AU</td>\n    </tr>\n    <tr>\n      <th>3</th>\n      <td>2001036</td>\n      <td>2001036</td>\n      <td>1036 Ganymed (A924 UB)</td>\n      <td>Ganymed</td>\n      <td>1036</td>\n      <td>http://ssd.jpl.nasa.gov/sbdb.cgi?sstr=2001036</td>\n      <td>9.22</td>\n      <td>False</td>\n      <td>[{'close_approach_date': '1910-02-25', 'close_...</td>\n      <td>False</td>\n      <td>...</td>\n      <td>1.244963114186642</td>\n      <td>132.4678967189769</td>\n      <td>4.086971560491093</td>\n      <td>2460569.530751926612</td>\n      <td>231.1579652145581</td>\n      <td>.2264236763113618</td>\n      <td>J2000</td>\n      <td>AMO</td>\n      <td>Near-Earth asteroid orbits similar to that of ...</td>\n      <td>1.017 AU &lt; q (perihelion) &lt; 1.3 AU</td>\n    </tr>\n    <tr>\n      <th>4</th>\n      <td>2001221</td>\n      <td>2001221</td>\n      <td>1221 Amor (1932 EA1)</td>\n      <td>Amor</td>\n      <td>1221</td>\n      <td>http://ssd.jpl.nasa.gov/sbdb.cgi?sstr=2001221</td>\n      <td>17.38</td>\n      <td>False</td>\n      <td>[{'close_approach_date': '1900-03-08', 'close_...</td>\n      <td>False</td>\n      <td>...</td>\n      <td>1.082508630279756</td>\n      <td>26.63044254343605</td>\n      <td>2.755083241500687</td>\n      <td>2459867.321948764327</td>\n      <td>49.38482790190183</td>\n      <td>.3708180698222572</td>\n      <td>J2000</td>\n      <td>AMO</td>\n      <td>Near-Earth asteroid orbits similar to that of ...</td>\n      <td>1.017 AU &lt; q (perihelion) &lt; 1.3 AU</td>\n    </tr>\n    <tr>\n      <th>...</th>\n      <td>...</td>\n      <td>...</td>\n      <td>...</td>\n      <td>...</td>\n      <td>...</td>\n      <td>...</td>\n      <td>...</td>\n      <td>...</td>\n      <td>...</td>\n      <td>...</td>\n      <td>...</td>\n      <td>...</td>\n      <td>...</td>\n      <td>...</td>\n      <td>...</td>\n      <td>...</td>\n      <td>...</td>\n      <td>...</td>\n      <td>...</td>\n      <td>...</td>\n      <td>...</td>\n    </tr>\n    <tr>\n      <th>195</th>\n      <td>2017511</td>\n      <td>2017511</td>\n      <td>17511 (1992 QN)</td>\n      <td>NaN</td>\n      <td>17511</td>\n      <td>http://ssd.jpl.nasa.gov/sbdb.cgi?sstr=2017511</td>\n      <td>17.32</td>\n      <td>False</td>\n      <td>[{'close_approach_date': '1900-12-11', 'close_...</td>\n      <td>False</td>\n      <td>...</td>\n      <td>.762714214965997</td>\n      <td>202.4152332506184</td>\n      <td>1.6163918030349</td>\n      <td>2460112.186529382472</td>\n      <td>275.1544303842288</td>\n      <td>.7596759437766764</td>\n      <td>J2000</td>\n      <td>APO</td>\n      <td>Near-Earth asteroid orbits which cross the Ear...</td>\n      <td>a (semi-major axis) &gt; 1.0 AU; q (perihelion) &lt;...</td>\n    </tr>\n    <tr>\n      <th>196</th>\n      <td>2018106</td>\n      <td>2018106</td>\n      <td>18106 Blume (2000 NX3)</td>\n      <td>Blume</td>\n      <td>18106</td>\n      <td>http://ssd.jpl.nasa.gov/sbdb.cgi?sstr=2018106</td>\n      <td>17.86</td>\n      <td>False</td>\n      <td>[{'close_approach_date': '1904-08-28', 'close_...</td>\n      <td>False</td>\n      <td>...</td>\n      <td>1.192706113366379</td>\n      <td>234.99881043329</td>\n      <td>3.695369039796369</td>\n      <td>2460164.304788001639</td>\n      <td>317.7459007890413</td>\n      <td>.2579539934482001</td>\n      <td>J2000</td>\n      <td>AMO</td>\n      <td>Near-Earth asteroid orbits similar to that of ...</td>\n      <td>1.017 AU &lt; q (perihelion) &lt; 1.3 AU</td>\n    </tr>\n    <tr>\n      <th>197</th>\n      <td>2018109</td>\n      <td>2018109</td>\n      <td>18109 (2000 NG11)</td>\n      <td>NaN</td>\n      <td>18109</td>\n      <td>http://ssd.jpl.nasa.gov/sbdb.cgi?sstr=2018109</td>\n      <td>17.20</td>\n      <td>False</td>\n      <td>[{'close_approach_date': '1902-10-30', 'close_...</td>\n      <td>False</td>\n      <td>...</td>\n      <td>1.189027722415369</td>\n      <td>319.2676184468084</td>\n      <td>2.572956855482577</td>\n      <td>2460293.109174843337</td>\n      <td>248.207803172704</td>\n      <td>.382052944468162</td>\n      <td>J2000</td>\n      <td>AMO</td>\n      <td>Near-Earth asteroid orbits similar to that of ...</td>\n      <td>1.017 AU &lt; q (perihelion) &lt; 1.3 AU</td>\n    </tr>\n    <tr>\n      <th>198</th>\n      <td>2018172</td>\n      <td>2018172</td>\n      <td>18172 (2000 QL7)</td>\n      <td>NaN</td>\n      <td>18172</td>\n      <td>http://ssd.jpl.nasa.gov/sbdb.cgi?sstr=2018172</td>\n      <td>15.71</td>\n      <td>False</td>\n      <td>[{'close_approach_date': '1913-11-01', 'close_...</td>\n      <td>False</td>\n      <td>...</td>\n      <td>1.185177594694943</td>\n      <td>100.6968697255064</td>\n      <td>3.664108904327775</td>\n      <td>2460208.125216411387</td>\n      <td>305.7983633375924</td>\n      <td>.2610551723881788</td>\n      <td>J2000</td>\n      <td>AMO</td>\n      <td>Near-Earth asteroid orbits similar to that of ...</td>\n      <td>1.017 AU &lt; q (perihelion) &lt; 1.3 AU</td>\n    </tr>\n    <tr>\n      <th>199</th>\n      <td>2018736</td>\n      <td>2018736</td>\n      <td>18736 (1998 NU)</td>\n      <td>NaN</td>\n      <td>18736</td>\n      <td>http://ssd.jpl.nasa.gov/sbdb.cgi?sstr=2018736</td>\n      <td>15.99</td>\n      <td>False</td>\n      <td>[{'close_approach_date': '1918-04-01', 'close_...</td>\n      <td>False</td>\n      <td>...</td>\n      <td>1.1968397352371</td>\n      <td>222.9574302286984</td>\n      <td>3.50382548885583</td>\n      <td>2459870.950154426823</td>\n      <td>35.43618689233978</td>\n      <td>.2735332237221647</td>\n      <td>J2000</td>\n      <td>AMO</td>\n      <td>Near-Earth asteroid orbits similar to that of ...</td>\n      <td>1.017 AU &lt; q (perihelion) &lt; 1.3 AU</td>\n    </tr>\n  </tbody>\n</table>\n<p>200 rows × 44 columns</p>\n</div>"
     },
     "execution_count": 40,
     "metadata": {},
     "output_type": "execute_result"
    }
   ],
   "source": [
    "df_completo"
   ],
   "metadata": {
    "collapsed": false,
    "ExecuteTime": {
     "end_time": "2023-07-19T03:04:25.800764200Z",
     "start_time": "2023-07-19T03:04:25.646596900Z"
    }
   }
  },
  {
   "cell_type": "code",
   "execution_count": 41,
   "outputs": [],
   "source": [
    "df_completo.to_csv('../Datasets/near_earth_objects-raw.csv')"
   ],
   "metadata": {
    "collapsed": false,
    "ExecuteTime": {
     "end_time": "2023-07-19T03:04:26.003964700Z",
     "start_time": "2023-07-19T03:04:25.801763300Z"
    }
   }
  },
  {
   "cell_type": "code",
   "execution_count": null,
   "outputs": [],
   "source": [],
   "metadata": {
    "collapsed": false
   }
  }
 ],
 "metadata": {
  "kernelspec": {
   "display_name": "Python 3",
   "language": "python",
   "name": "python3"
  },
  "language_info": {
   "codemirror_mode": {
    "name": "ipython",
    "version": 2
   },
   "file_extension": ".py",
   "mimetype": "text/x-python",
   "name": "python",
   "nbconvert_exporter": "python",
   "pygments_lexer": "ipython2",
   "version": "2.7.6"
  }
 },
 "nbformat": 4,
 "nbformat_minor": 0
}
