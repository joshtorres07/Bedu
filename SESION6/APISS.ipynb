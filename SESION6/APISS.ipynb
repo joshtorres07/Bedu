{
 "cells": [
  {
   "cell_type": "code",
   "execution_count": 1,
   "metadata": {
    "collapsed": true,
    "ExecuteTime": {
     "end_time": "2023-07-19T01:26:22.855434600Z",
     "start_time": "2023-07-19T01:26:22.744103900Z"
    }
   },
   "outputs": [],
   "source": [
    "import requests"
   ]
  },
  {
   "cell_type": "code",
   "execution_count": 2,
   "outputs": [],
   "source": [
    "endpoint = 'https://api.nasa.gov/neo/rest/v1/neo/browse/'\n",
    "payload = {'api_key': 'D1YdjLMNeaHqLaRt16lkRL26WsiRaE4JKKZRWh9N'}"
   ],
   "metadata": {
    "collapsed": false,
    "ExecuteTime": {
     "end_time": "2023-07-19T01:28:01.514968300Z",
     "start_time": "2023-07-19T01:28:01.508670300Z"
    }
   }
  },
  {
   "cell_type": "code",
   "execution_count": 3,
   "outputs": [],
   "source": [
    "r = requests.get(endpoint, params=payload)"
   ],
   "metadata": {
    "collapsed": false,
    "ExecuteTime": {
     "end_time": "2023-07-19T01:28:09.368837Z",
     "start_time": "2023-07-19T01:28:08.400868300Z"
    }
   }
  },
  {
   "cell_type": "code",
   "execution_count": 4,
   "outputs": [
    {
     "data": {
      "text/plain": "200"
     },
     "execution_count": 4,
     "metadata": {},
     "output_type": "execute_result"
    }
   ],
   "source": [
    "r.status_code"
   ],
   "metadata": {
    "collapsed": false,
    "ExecuteTime": {
     "end_time": "2023-07-19T01:28:14.233132200Z",
     "start_time": "2023-07-19T01:28:14.214841500Z"
    }
   }
  },
  {
   "cell_type": "code",
   "execution_count": 5,
   "outputs": [],
   "source": [
    "json = r.json()"
   ],
   "metadata": {
    "collapsed": false,
    "ExecuteTime": {
     "end_time": "2023-07-19T01:28:22.356275700Z",
     "start_time": "2023-07-19T01:28:22.339832500Z"
    }
   }
  },
  {
   "cell_type": "code",
   "execution_count": 6,
   "outputs": [
    {
     "data": {
      "text/plain": "dict_keys(['links', 'page', 'near_earth_objects'])"
     },
     "execution_count": 6,
     "metadata": {},
     "output_type": "execute_result"
    }
   ],
   "source": [
    "json.keys()"
   ],
   "metadata": {
    "collapsed": false,
    "ExecuteTime": {
     "end_time": "2023-07-19T01:28:27.981015900Z",
     "start_time": "2023-07-19T01:28:27.974139800Z"
    }
   }
  },
  {
   "cell_type": "code",
   "execution_count": 7,
   "outputs": [
    {
     "data": {
      "text/plain": "{'next': 'http://api.nasa.gov/neo/rest/v1/neo/browse?page=1&size=20&api_key=D1YdjLMNeaHqLaRt16lkRL26WsiRaE4JKKZRWh9N',\n 'self': 'http://api.nasa.gov/neo/rest/v1/neo/browse?page=0&size=20&api_key=D1YdjLMNeaHqLaRt16lkRL26WsiRaE4JKKZRWh9N'}"
     },
     "execution_count": 7,
     "metadata": {},
     "output_type": "execute_result"
    }
   ],
   "source": [
    "json['links']"
   ],
   "metadata": {
    "collapsed": false,
    "ExecuteTime": {
     "end_time": "2023-07-19T01:28:37.863428200Z",
     "start_time": "2023-07-19T01:28:37.856946300Z"
    }
   }
  },
  {
   "cell_type": "code",
   "execution_count": 8,
   "outputs": [
    {
     "data": {
      "text/plain": "{'size': 20, 'total_elements': 32803, 'total_pages': 1641, 'number': 0}"
     },
     "execution_count": 8,
     "metadata": {},
     "output_type": "execute_result"
    }
   ],
   "source": [
    "json['page']"
   ],
   "metadata": {
    "collapsed": false,
    "ExecuteTime": {
     "end_time": "2023-07-19T01:28:46.675018500Z",
     "start_time": "2023-07-19T01:28:46.667319200Z"
    }
   }
  },
  {
   "cell_type": "code",
   "execution_count": 10,
   "outputs": [],
   "source": [
    "data  = json['near_earth_objects']"
   ],
   "metadata": {
    "collapsed": false,
    "ExecuteTime": {
     "end_time": "2023-07-19T01:29:12.827094500Z",
     "start_time": "2023-07-19T01:29:12.823497800Z"
    }
   }
  },
  {
   "cell_type": "code",
   "execution_count": 11,
   "outputs": [
    {
     "data": {
      "text/plain": "{'links': {'self': 'http://api.nasa.gov/neo/rest/v1/neo/2000433?api_key=D1YdjLMNeaHqLaRt16lkRL26WsiRaE4JKKZRWh9N'},\n 'id': '2000433',\n 'neo_reference_id': '2000433',\n 'name': '433 Eros (A898 PA)',\n 'name_limited': 'Eros',\n 'designation': '433',\n 'nasa_jpl_url': 'http://ssd.jpl.nasa.gov/sbdb.cgi?sstr=2000433',\n 'absolute_magnitude_h': 10.31,\n 'estimated_diameter': {'kilometers': {'estimated_diameter_min': 23.0438466577,\n   'estimated_diameter_max': 51.5276075896},\n  'meters': {'estimated_diameter_min': 23043.8466576534,\n   'estimated_diameter_max': 51527.6075895943},\n  'miles': {'estimated_diameter_min': 14.3187780415,\n   'estimated_diameter_max': 32.0177610556},\n  'feet': {'estimated_diameter_min': 75603.1738682955,\n   'estimated_diameter_max': 169053.8360842445}},\n 'is_potentially_hazardous_asteroid': False,\n 'close_approach_data': [{'close_approach_date': '1900-12-27',\n   'close_approach_date_full': '1900-Dec-27 01:30',\n   'epoch_date_close_approach': -2177879400000,\n   'relative_velocity': {'kilometers_per_second': '5.5786191875',\n    'kilometers_per_hour': '20083.0290749201',\n    'miles_per_hour': '12478.8132604691'},\n   'miss_distance': {'astronomical': '0.3149291693',\n    'lunar': '122.5074468577',\n    'kilometers': '47112732.928149391',\n    'miles': '29274494.7651919558'},\n   'orbiting_body': 'Earth'},\n  {'close_approach_date': '1907-11-05',\n   'close_approach_date_full': '1907-Nov-05 03:31',\n   'epoch_date_close_approach': -1961526540000,\n   'relative_velocity': {'kilometers_per_second': '4.3944908885',\n    'kilometers_per_hour': '15820.1671985367',\n    'miles_per_hour': '9830.0366684463'},\n   'miss_distance': {'astronomical': '0.4714855425',\n    'lunar': '183.4078760325',\n    'kilometers': '70533232.893794475',\n    'miles': '43827318.620434755'},\n   'orbiting_body': 'Earth'},\n  {'close_approach_date': '1917-04-20',\n   'close_approach_date_full': '1917-Apr-20 21:19',\n   'epoch_date_close_approach': -1663036860000,\n   'relative_velocity': {'kilometers_per_second': '4.8167840184',\n    'kilometers_per_hour': '17340.4224662258',\n    'miles_per_hour': '10774.6641707501'},\n   'miss_distance': {'astronomical': '0.499257206',\n    'lunar': '194.211053134',\n    'kilometers': '74687814.59975122',\n    'miles': '46408855.985038036'},\n   'orbiting_body': 'Earth'},\n  {'close_approach_date': '1924-03-05',\n   'close_approach_date_full': '1924-Mar-05 22:13',\n   'epoch_date_close_approach': -1446083220000,\n   'relative_velocity': {'kilometers_per_second': '4.5960548855',\n    'kilometers_per_hour': '16545.797587763',\n    'miles_per_hour': '10280.915173352'},\n   'miss_distance': {'astronomical': '0.3597864889',\n    'lunar': '139.9569441821',\n    'kilometers': '53823292.394218643',\n    'miles': '33444243.0636095534'},\n   'orbiting_body': 'Earth'},\n  {'close_approach_date': '1931-01-30',\n   'close_approach_date_full': '1931-Jan-30 04:07',\n   'epoch_date_close_approach': -1228247580000,\n   'relative_velocity': {'kilometers_per_second': '5.9208185341',\n    'kilometers_per_hour': '21314.9467227704',\n    'miles_per_hour': '13244.2789789347'},\n   'miss_distance': {'astronomical': '0.1740731458',\n    'lunar': '67.7144537162',\n    'kilometers': '26040971.835879446',\n    'miles': '16181109.5707945148'},\n   'orbiting_body': 'Earth'},\n  {'close_approach_date': '1938-01-13',\n   'close_approach_date_full': '1938-Jan-13 22:04',\n   'epoch_date_close_approach': -1008726960000,\n   'relative_velocity': {'kilometers_per_second': '6.0840524046',\n    'kilometers_per_hour': '21902.5886564605',\n    'miles_per_hour': '13609.4168237879'},\n   'miss_distance': {'astronomical': '0.2150052405',\n    'lunar': '83.6370385545',\n    'kilometers': '32164326.017637735',\n    'miles': '19985985.424901343'},\n   'orbiting_body': 'Earth'},\n  {'close_approach_date': '1944-11-27',\n   'close_approach_date_full': '1944-Nov-27 01:41',\n   'epoch_date_close_approach': -791936340000,\n   'relative_velocity': {'kilometers_per_second': '3.626098636',\n    'kilometers_per_hour': '13053.9550896485',\n    'miles_per_hour': '8111.2200388986'},\n   'miss_distance': {'astronomical': '0.4030090561',\n    'lunar': '156.7705228229',\n    'kilometers': '60289296.383270507',\n    'miles': '37462031.6350747166'},\n   'orbiting_body': 'Earth'},\n  {'close_approach_date': '1961-04-04',\n   'close_approach_date_full': '1961-Apr-04 09:08',\n   'epoch_date_close_approach': -275928720000,\n   'relative_velocity': {'kilometers_per_second': '3.7078364482',\n    'kilometers_per_hour': '13348.2112136055',\n    'miles_per_hour': '8294.0593510317'},\n   'miss_distance': {'astronomical': '0.4424921301',\n    'lunar': '172.1294386089',\n    'kilometers': '66195880.154722887',\n    'miles': '41132212.6021023606'},\n   'orbiting_body': 'Earth'},\n  {'close_approach_date': '1968-02-11',\n   'close_approach_date_full': '1968-Feb-11 13:46',\n   'epoch_date_close_approach': -59566440000,\n   'relative_velocity': {'kilometers_per_second': '6.0668849725',\n    'kilometers_per_hour': '21840.7859008821',\n    'miles_per_hour': '13571.014994912'},\n   'miss_distance': {'astronomical': '0.2662714057',\n    'lunar': '103.5795768173',\n    'kilometers': '39833635.134625859',\n    'miles': '24751473.1315964942'},\n   'orbiting_body': 'Earth'},\n  {'close_approach_date': '1975-01-23',\n   'close_approach_date_full': '1975-Jan-23 07:39',\n   'epoch_date_close_approach': 159694740000,\n   'relative_velocity': {'kilometers_per_second': '5.8253076833',\n    'kilometers_per_hour': '20971.1076598791',\n    'miles_per_hour': '13030.6307567732'},\n   'miss_distance': {'astronomical': '0.1511341909',\n    'lunar': '58.7912002601',\n    'kilometers': '22609353.042813383',\n    'miles': '14048800.5292673654'},\n   'orbiting_body': 'Earth'},\n  {'close_approach_date': '1981-12-29',\n   'close_approach_date_full': '1981-Dec-29 08:05',\n   'epoch_date_close_approach': 378461100000,\n   'relative_velocity': {'kilometers_per_second': '5.6652718459',\n    'kilometers_per_hour': '20394.9786453535',\n    'miles_per_hour': '12672.6465921642'},\n   'miss_distance': {'astronomical': '0.3084893271',\n    'lunar': '120.0023482419',\n    'kilometers': '46149346.251893277',\n    'miles': '28675874.0429781426'},\n   'orbiting_body': 'Earth'},\n  {'close_approach_date': '1988-11-06',\n   'close_approach_date_full': '1988-Nov-06 14:56',\n   'epoch_date_close_approach': 594831360000,\n   'relative_velocity': {'kilometers_per_second': '4.305902138',\n    'kilometers_per_hour': '15501.2476969045',\n    'miles_per_hour': '9631.8724925571'},\n   'miss_distance': {'astronomical': '0.4676402077',\n    'lunar': '181.9120407953',\n    'kilometers': '69957978.998277599',\n    'miles': '43469872.4247609062'},\n   'orbiting_body': 'Earth'},\n  {'close_approach_date': '2005-03-08',\n   'close_approach_date_full': '2005-Mar-08 22:07',\n   'epoch_date_close_approach': 1110319620000,\n   'relative_velocity': {'kilometers_per_second': '4.4122923953',\n    'kilometers_per_hour': '15884.2526231559',\n    'miles_per_hour': '9869.8568590937'},\n   'miss_distance': {'astronomical': '0.3655672222',\n    'lunar': '142.2056494358',\n    'kilometers': '54688077.782936714',\n    'miles': '33981595.7867820932'},\n   'orbiting_body': 'Earth'},\n  {'close_approach_date': '2012-01-31',\n   'close_approach_date_full': '2012-Jan-31 11:01',\n   'epoch_date_close_approach': 1328007660000,\n   'relative_velocity': {'kilometers_per_second': '5.9451959021',\n    'kilometers_per_hour': '21402.705247412',\n    'miles_per_hour': '13298.8087133156'},\n   'miss_distance': {'astronomical': '0.1786758136',\n    'lunar': '69.5048914904',\n    'kilometers': '26729521.135077032',\n    'miles': '16608954.2658937616'},\n   'orbiting_body': 'Earth'},\n  {'close_approach_date': '2019-01-15',\n   'close_approach_date_full': '2019-Jan-15 06:01',\n   'epoch_date_close_approach': 1547532060000,\n   'relative_velocity': {'kilometers_per_second': '6.0449176185',\n    'kilometers_per_hour': '21761.7034264303',\n    'miles_per_hour': '13521.8762207172'},\n   'miss_distance': {'astronomical': '0.2085986871',\n    'lunar': '81.1448892819',\n    'kilometers': '31205919.274956477',\n    'miles': '19390459.0899223026'},\n   'orbiting_body': 'Earth'},\n  {'close_approach_date': '2025-11-30',\n   'close_approach_date_full': '2025-Nov-30 02:18',\n   'epoch_date_close_approach': 1764469080000,\n   'relative_velocity': {'kilometers_per_second': '3.7288508677',\n    'kilometers_per_hour': '13423.8631236067',\n    'miles_per_hour': '8341.0665058878'},\n   'miss_distance': {'astronomical': '0.3976474744',\n    'lunar': '154.6848675416',\n    'kilometers': '59487215.181119528',\n    'miles': '36963641.4867163664'},\n   'orbiting_body': 'Earth'},\n  {'close_approach_date': '2042-04-06',\n   'close_approach_date_full': '2042-Apr-06 19:02',\n   'epoch_date_close_approach': 2280423720000,\n   'relative_velocity': {'kilometers_per_second': '3.7252247205',\n    'kilometers_per_hour': '13410.8089939193',\n    'miles_per_hour': '8332.9551773606'},\n   'miss_distance': {'astronomical': '0.4461417254',\n    'lunar': '173.5491311806',\n    'kilometers': '66741851.837964898',\n    'miles': '41471463.6747876724'},\n   'orbiting_body': 'Earth'},\n  {'close_approach_date': '2049-02-12',\n   'close_approach_date_full': '2049-Feb-12 05:38',\n   'epoch_date_close_approach': 2496721080000,\n   'relative_velocity': {'kilometers_per_second': '6.0590645856',\n    'kilometers_per_hour': '21812.6325080767',\n    'miles_per_hour': '13553.5215714769'},\n   'miss_distance': {'astronomical': '0.2725553389',\n    'lunar': '106.0240268321',\n    'kilometers': '40773698.156568143',\n    'miles': '25335601.2070526534'},\n   'orbiting_body': 'Earth'},\n  {'close_approach_date': '2056-01-24',\n   'close_approach_date_full': '2056-Jan-24 11:03',\n   'epoch_date_close_approach': 2715937380000,\n   'relative_velocity': {'kilometers_per_second': '5.8207578574',\n    'kilometers_per_hour': '20954.7282866821',\n    'miles_per_hour': '13020.4532512442'},\n   'miss_distance': {'astronomical': '0.1497821765',\n    'lunar': '58.2652666585',\n    'kilometers': '22407094.568364055',\n    'miles': '13923122.940991759'},\n   'orbiting_body': 'Earth'},\n  {'close_approach_date': '2062-12-31',\n   'close_approach_date_full': '2062-Dec-31 08:25',\n   'epoch_date_close_approach': 2934779100000,\n   'relative_velocity': {'kilometers_per_second': '5.7322434825',\n    'kilometers_per_hour': '20636.0765370681',\n    'miles_per_hour': '12822.4554460466'},\n   'miss_distance': {'astronomical': '0.3029535232',\n    'lunar': '117.8489205248',\n    'kilometers': '45321201.779715584',\n    'miles': '28161288.9295956992'},\n   'orbiting_body': 'Earth'},\n  {'close_approach_date': '2069-11-08',\n   'close_approach_date_full': '2069-Nov-08 21:29',\n   'epoch_date_close_approach': 3151171740000,\n   'relative_velocity': {'kilometers_per_second': '4.2454176851',\n    'kilometers_per_hour': '15283.5036662481',\n    'miles_per_hour': '9496.5748197307'},\n   'miss_distance': {'astronomical': '0.4647282185',\n    'lunar': '180.7792769965',\n    'kilometers': '69522351.616494595',\n    'miles': '43199186.121611611'},\n   'orbiting_body': 'Earth'},\n  {'close_approach_date': '2086-03-11',\n   'close_approach_date_full': '2086-Mar-11 22:55',\n   'epoch_date_close_approach': 3666725700000,\n   'relative_velocity': {'kilometers_per_second': '4.2258643769',\n    'kilometers_per_hour': '15213.1117567663',\n    'miles_per_hour': '9452.8360246418'},\n   'miss_distance': {'astronomical': '0.3713100271',\n    'lunar': '144.4396005419',\n    'kilometers': '55547189.163802277',\n    'miles': '34515422.8449623426'},\n   'orbiting_body': 'Earth'},\n  {'close_approach_date': '2093-01-31',\n   'close_approach_date_full': '2093-Jan-31 15:47',\n   'epoch_date_close_approach': 3884255220000,\n   'relative_velocity': {'kilometers_per_second': '5.9749136221',\n    'kilometers_per_hour': '21509.6890394877',\n    'miles_per_hour': '13365.2842812306'},\n   'miss_distance': {'astronomical': '0.1824638842',\n    'lunar': '70.9784509538',\n    'kilometers': '27296208.428246654',\n    'miles': '16961077.4217016652'},\n   'orbiting_body': 'Earth'},\n  {'close_approach_date': '2100-01-16',\n   'close_approach_date_full': '2100-Jan-16 11:39',\n   'epoch_date_close_approach': 4103782740000,\n   'relative_velocity': {'kilometers_per_second': '6.0149196633',\n    'kilometers_per_hour': '21653.7107877231',\n    'miles_per_hour': '13454.7737947383'},\n   'miss_distance': {'astronomical': '0.2038791175',\n    'lunar': '79.3089767075',\n    'kilometers': '30499881.715479725',\n    'miles': '18951747.693781205'},\n   'orbiting_body': 'Earth'},\n  {'close_approach_date': '2106-12-04',\n   'close_approach_date_full': '2106-Dec-04 02:22',\n   'epoch_date_close_approach': 4320872520000,\n   'relative_velocity': {'kilometers_per_second': '3.8530305141',\n    'kilometers_per_hour': '13870.9098509079',\n    'miles_per_hour': '8618.8439570822'},\n   'miss_distance': {'astronomical': '0.3922912542',\n    'lunar': '152.6012978838',\n    'kilometers': '58685936.047948554',\n    'miles': '36465749.7209118852'},\n   'orbiting_body': 'Earth'},\n  {'close_approach_date': '2123-04-10',\n   'close_approach_date_full': '2123-Apr-10 05:51',\n   'epoch_date_close_approach': 4836779460000,\n   'relative_velocity': {'kilometers_per_second': '3.7537243254',\n    'kilometers_per_hour': '13513.4075714592',\n    'miles_per_hour': '8396.7059434992'},\n   'miss_distance': {'astronomical': '0.4497028378',\n    'lunar': '174.9344039042',\n    'kilometers': '67274586.667835486',\n    'miles': '41802489.7481862668'},\n   'orbiting_body': 'Earth'},\n  {'close_approach_date': '2130-02-14',\n   'close_approach_date_full': '2130-Feb-14 22:11',\n   'epoch_date_close_approach': 5053011060000,\n   'relative_velocity': {'kilometers_per_second': '6.0381849282',\n    'kilometers_per_hour': '21737.4657416866',\n    'miles_per_hour': '13506.8158659941'},\n   'miss_distance': {'astronomical': '0.2781645724',\n    'lunar': '108.2060186636',\n    'kilometers': '41612827.540500788',\n    'miles': '25857012.0280873544'},\n   'orbiting_body': 'Earth'},\n  {'close_approach_date': '2137-01-25',\n   'close_approach_date_full': '2137-Jan-25 14:12',\n   'epoch_date_close_approach': 5272179120000,\n   'relative_velocity': {'kilometers_per_second': '5.8142759703',\n    'kilometers_per_hour': '20931.393493074',\n    'miles_per_hour': '13005.9539179604'},\n   'miss_distance': {'astronomical': '0.1494623094',\n    'lunar': '58.1408383566',\n    'kilometers': '22359243.131520978',\n    'miles': '13893389.4368983764'},\n   'orbiting_body': 'Earth'},\n  {'close_approach_date': '2144-01-03',\n   'close_approach_date_full': '2144-Jan-03 10:26',\n   'epoch_date_close_approach': 5491103160000,\n   'relative_velocity': {'kilometers_per_second': '5.7943538473',\n    'kilometers_per_hour': '20859.6738502169',\n    'miles_per_hour': '12961.3901209861'},\n   'miss_distance': {'astronomical': '0.296580393',\n    'lunar': '115.369772877',\n    'kilometers': '44367795.07656291',\n    'miles': '27568869.475111758'},\n   'orbiting_body': 'Earth'},\n  {'close_approach_date': '2150-11-12',\n   'close_approach_date_full': '2150-Nov-12 07:12',\n   'epoch_date_close_approach': 5707523520000,\n   'relative_velocity': {'kilometers_per_second': '4.1745035914',\n    'kilometers_per_hour': '15028.2129289863',\n    'miles_per_hour': '9337.9470835693'},\n   'miss_distance': {'astronomical': '0.4609447583',\n    'lunar': '179.3075109787',\n    'kilometers': '68956354.029344821',\n    'miles': '42847491.5292516898'},\n   'orbiting_body': 'Earth'},\n  {'close_approach_date': '2167-03-16',\n   'close_approach_date_full': '2167-Mar-16 05:30',\n   'epoch_date_close_approach': 6223152600000,\n   'relative_velocity': {'kilometers_per_second': '4.026253601',\n    'kilometers_per_hour': '14494.512963503',\n    'miles_per_hour': '9006.3266800166'},\n   'miss_distance': {'astronomical': '0.3774337428',\n    'lunar': '146.8217259492',\n    'kilometers': '56463283.989007836',\n    'miles': '35084657.7735706968'},\n   'orbiting_body': 'Earth'},\n  {'close_approach_date': '2174-02-03',\n   'close_approach_date_full': '2174-Feb-03 01:30',\n   'epoch_date_close_approach': 6440520600000,\n   'relative_velocity': {'kilometers_per_second': '6.0055431713',\n    'kilometers_per_hour': '21619.9554168322',\n    'miles_per_hour': '13433.7995199755'},\n   'miss_distance': {'astronomical': '0.1884002692',\n    'lunar': '73.2877047188',\n    'kilometers': '28184278.979746604',\n    'miles': '17512898.8741029752'},\n   'orbiting_body': 'Earth'},\n  {'close_approach_date': '2181-01-17',\n   'close_approach_date_full': '2181-Jan-17 20:55',\n   'epoch_date_close_approach': 6660046500000,\n   'relative_velocity': {'kilometers_per_second': '5.9898389294',\n    'kilometers_per_hour': '21563.4201458554',\n    'miles_per_hour': '13398.6707011844'},\n   'miss_distance': {'astronomical': '0.1980108125',\n    'lunar': '77.0262060625',\n    'kilometers': '29621995.786969375',\n    'miles': '18406254.672652375'},\n   'orbiting_body': 'Earth'},\n  {'close_approach_date': '2187-12-06',\n   'close_approach_date_full': '2187-Dec-06 23:28',\n   'epoch_date_close_approach': 6877265280000,\n   'relative_velocity': {'kilometers_per_second': '3.9833820614',\n    'kilometers_per_hour': '14340.1754211404',\n    'miles_per_hour': '8910.4273332081'},\n   'miss_distance': {'astronomical': '0.3873137309',\n    'lunar': '150.6650413201',\n    'kilometers': '57941309.164393183',\n    'miles': '36003060.0306766054'},\n   'orbiting_body': 'Earth'}],\n 'orbital_data': {'orbit_id': '659',\n  'orbit_determination_date': '2021-05-24 17:55:05',\n  'first_observation_date': '1893-10-29',\n  'last_observation_date': '2021-05-13',\n  'data_arc_in_days': 46582,\n  'observations_used': 9130,\n  'orbit_uncertainty': '0',\n  'minimum_orbit_intersection': '.148662',\n  'jupiter_tisserand_invariant': '4.582',\n  'epoch_osculation': '2460000.5',\n  'eccentricity': '.2227818894620597',\n  'semi_major_axis': '1.458129136101339',\n  'inclination': '10.82782330218545',\n  'ascending_node_longitude': '304.2870401191066',\n  'orbital_period': '643.1205824040848',\n  'perihelion_distance': '1.133284372081002',\n  'perihelion_argument': '178.9269951795186',\n  'aphelion_distance': '1.782973900121676',\n  'perihelion_time': '2459802.601698595905',\n  'mean_anomaly': '110.7776526746434',\n  'mean_motion': '.5597706088868498',\n  'equinox': 'J2000',\n  'orbit_class': {'orbit_class_type': 'AMO',\n   'orbit_class_description': 'Near-Earth asteroid orbits similar to that of 1221 Amor',\n   'orbit_class_range': '1.017 AU < q (perihelion) < 1.3 AU'}},\n 'is_sentry_object': False}"
     },
     "execution_count": 11,
     "metadata": {},
     "output_type": "execute_result"
    }
   ],
   "source": [
    "data[0]"
   ],
   "metadata": {
    "collapsed": false,
    "ExecuteTime": {
     "end_time": "2023-07-19T01:29:16.956036200Z",
     "start_time": "2023-07-19T01:29:16.950464Z"
    }
   }
  },
  {
   "cell_type": "code",
   "execution_count": 12,
   "outputs": [],
   "source": [
    "import pandas as pd"
   ],
   "metadata": {
    "collapsed": false,
    "ExecuteTime": {
     "end_time": "2023-07-19T01:29:59.337414300Z",
     "start_time": "2023-07-19T01:29:57.483718700Z"
    }
   }
  },
  {
   "cell_type": "code",
   "execution_count": 13,
   "outputs": [
    {
     "data": {
      "text/plain": "        id neo_reference_id                    name name_limited designation   \n0  2000433          2000433      433 Eros (A898 PA)         Eros         433  \\\n1  2000719          2000719    719 Albert (A911 TB)       Albert         719   \n2  2000887          2000887    887 Alinda (A918 AA)       Alinda         887   \n3  2001036          2001036  1036 Ganymed (A924 UB)      Ganymed        1036   \n4  2001221          2001221    1221 Amor (1932 EA1)         Amor        1221   \n\n                                    nasa_jpl_url  absolute_magnitude_h   \n0  http://ssd.jpl.nasa.gov/sbdb.cgi?sstr=2000433                 10.31  \\\n1  http://ssd.jpl.nasa.gov/sbdb.cgi?sstr=2000719                 15.59   \n2  http://ssd.jpl.nasa.gov/sbdb.cgi?sstr=2000887                 13.83   \n3  http://ssd.jpl.nasa.gov/sbdb.cgi?sstr=2001036                  9.22   \n4  http://ssd.jpl.nasa.gov/sbdb.cgi?sstr=2001221                 17.38   \n\n   is_potentially_hazardous_asteroid   \n0                              False  \\\n1                              False   \n2                              False   \n3                              False   \n4                              False   \n\n                                 close_approach_data  is_sentry_object  ...   \n0  [{'close_approach_date': '1900-12-27', 'close_...             False  ...  \\\n1  [{'close_approach_date': '1909-08-21', 'close_...             False  ...   \n2  [{'close_approach_date': '1910-01-04', 'close_...             False  ...   \n3  [{'close_approach_date': '1910-02-25', 'close_...             False  ...   \n4  [{'close_approach_date': '1900-03-08', 'close_...             False  ...   \n\n  orbital_data.perihelion_distance  orbital_data.perihelion_argument   \n0                1.133284372081002                 178.9269951795186  \\\n1                1.194521858788897                 156.2503681890173   \n2                1.061321201915153                 350.4750171333043   \n3                1.244963114186642                 132.4678967189769   \n4                1.082508630279756                 26.63044254343605   \n\n   orbital_data.aphelion_distance  orbital_data.perihelion_time   \n0               1.782973900121676          2459802.601698595905  \\\n1               4.079828796226027          2459956.023234763085   \n2               3.883609285276582          2460678.792844005586   \n3               4.086971560491093          2460569.530751926612   \n4               2.755083241500687          2459867.321948764327   \n\n   orbital_data.mean_anomaly  orbital_data.mean_motion  orbital_data.equinox   \n0          110.7776526746434         .5597706088868498                 J2000  \\\n1          10.23596428095426         .2301418330768929                 J2000   \n2          188.0405623183154         .2535179888765987                 J2000   \n3          231.1579652145581         .2264236763113618                 J2000   \n4          49.38482790190183         .3708180698222572                 J2000   \n\n   orbital_data.orbit_class.orbit_class_type   \n0                                        AMO  \\\n1                                        AMO   \n2                                        AMO   \n3                                        AMO   \n4                                        AMO   \n\n    orbital_data.orbit_class.orbit_class_description   \n0  Near-Earth asteroid orbits similar to that of ...  \\\n1  Near-Earth asteroid orbits similar to that of ...   \n2  Near-Earth asteroid orbits similar to that of ...   \n3  Near-Earth asteroid orbits similar to that of ...   \n4  Near-Earth asteroid orbits similar to that of ...   \n\n  orbital_data.orbit_class.orbit_class_range  \n0         1.017 AU < q (perihelion) < 1.3 AU  \n1         1.017 AU < q (perihelion) < 1.3 AU  \n2         1.017 AU < q (perihelion) < 1.3 AU  \n3         1.017 AU < q (perihelion) < 1.3 AU  \n4         1.017 AU < q (perihelion) < 1.3 AU  \n\n[5 rows x 44 columns]",
      "text/html": "<div>\n<style scoped>\n    .dataframe tbody tr th:only-of-type {\n        vertical-align: middle;\n    }\n\n    .dataframe tbody tr th {\n        vertical-align: top;\n    }\n\n    .dataframe thead th {\n        text-align: right;\n    }\n</style>\n<table border=\"1\" class=\"dataframe\">\n  <thead>\n    <tr style=\"text-align: right;\">\n      <th></th>\n      <th>id</th>\n      <th>neo_reference_id</th>\n      <th>name</th>\n      <th>name_limited</th>\n      <th>designation</th>\n      <th>nasa_jpl_url</th>\n      <th>absolute_magnitude_h</th>\n      <th>is_potentially_hazardous_asteroid</th>\n      <th>close_approach_data</th>\n      <th>is_sentry_object</th>\n      <th>...</th>\n      <th>orbital_data.perihelion_distance</th>\n      <th>orbital_data.perihelion_argument</th>\n      <th>orbital_data.aphelion_distance</th>\n      <th>orbital_data.perihelion_time</th>\n      <th>orbital_data.mean_anomaly</th>\n      <th>orbital_data.mean_motion</th>\n      <th>orbital_data.equinox</th>\n      <th>orbital_data.orbit_class.orbit_class_type</th>\n      <th>orbital_data.orbit_class.orbit_class_description</th>\n      <th>orbital_data.orbit_class.orbit_class_range</th>\n    </tr>\n  </thead>\n  <tbody>\n    <tr>\n      <th>0</th>\n      <td>2000433</td>\n      <td>2000433</td>\n      <td>433 Eros (A898 PA)</td>\n      <td>Eros</td>\n      <td>433</td>\n      <td>http://ssd.jpl.nasa.gov/sbdb.cgi?sstr=2000433</td>\n      <td>10.31</td>\n      <td>False</td>\n      <td>[{'close_approach_date': '1900-12-27', 'close_...</td>\n      <td>False</td>\n      <td>...</td>\n      <td>1.133284372081002</td>\n      <td>178.9269951795186</td>\n      <td>1.782973900121676</td>\n      <td>2459802.601698595905</td>\n      <td>110.7776526746434</td>\n      <td>.5597706088868498</td>\n      <td>J2000</td>\n      <td>AMO</td>\n      <td>Near-Earth asteroid orbits similar to that of ...</td>\n      <td>1.017 AU &lt; q (perihelion) &lt; 1.3 AU</td>\n    </tr>\n    <tr>\n      <th>1</th>\n      <td>2000719</td>\n      <td>2000719</td>\n      <td>719 Albert (A911 TB)</td>\n      <td>Albert</td>\n      <td>719</td>\n      <td>http://ssd.jpl.nasa.gov/sbdb.cgi?sstr=2000719</td>\n      <td>15.59</td>\n      <td>False</td>\n      <td>[{'close_approach_date': '1909-08-21', 'close_...</td>\n      <td>False</td>\n      <td>...</td>\n      <td>1.194521858788897</td>\n      <td>156.2503681890173</td>\n      <td>4.079828796226027</td>\n      <td>2459956.023234763085</td>\n      <td>10.23596428095426</td>\n      <td>.2301418330768929</td>\n      <td>J2000</td>\n      <td>AMO</td>\n      <td>Near-Earth asteroid orbits similar to that of ...</td>\n      <td>1.017 AU &lt; q (perihelion) &lt; 1.3 AU</td>\n    </tr>\n    <tr>\n      <th>2</th>\n      <td>2000887</td>\n      <td>2000887</td>\n      <td>887 Alinda (A918 AA)</td>\n      <td>Alinda</td>\n      <td>887</td>\n      <td>http://ssd.jpl.nasa.gov/sbdb.cgi?sstr=2000887</td>\n      <td>13.83</td>\n      <td>False</td>\n      <td>[{'close_approach_date': '1910-01-04', 'close_...</td>\n      <td>False</td>\n      <td>...</td>\n      <td>1.061321201915153</td>\n      <td>350.4750171333043</td>\n      <td>3.883609285276582</td>\n      <td>2460678.792844005586</td>\n      <td>188.0405623183154</td>\n      <td>.2535179888765987</td>\n      <td>J2000</td>\n      <td>AMO</td>\n      <td>Near-Earth asteroid orbits similar to that of ...</td>\n      <td>1.017 AU &lt; q (perihelion) &lt; 1.3 AU</td>\n    </tr>\n    <tr>\n      <th>3</th>\n      <td>2001036</td>\n      <td>2001036</td>\n      <td>1036 Ganymed (A924 UB)</td>\n      <td>Ganymed</td>\n      <td>1036</td>\n      <td>http://ssd.jpl.nasa.gov/sbdb.cgi?sstr=2001036</td>\n      <td>9.22</td>\n      <td>False</td>\n      <td>[{'close_approach_date': '1910-02-25', 'close_...</td>\n      <td>False</td>\n      <td>...</td>\n      <td>1.244963114186642</td>\n      <td>132.4678967189769</td>\n      <td>4.086971560491093</td>\n      <td>2460569.530751926612</td>\n      <td>231.1579652145581</td>\n      <td>.2264236763113618</td>\n      <td>J2000</td>\n      <td>AMO</td>\n      <td>Near-Earth asteroid orbits similar to that of ...</td>\n      <td>1.017 AU &lt; q (perihelion) &lt; 1.3 AU</td>\n    </tr>\n    <tr>\n      <th>4</th>\n      <td>2001221</td>\n      <td>2001221</td>\n      <td>1221 Amor (1932 EA1)</td>\n      <td>Amor</td>\n      <td>1221</td>\n      <td>http://ssd.jpl.nasa.gov/sbdb.cgi?sstr=2001221</td>\n      <td>17.38</td>\n      <td>False</td>\n      <td>[{'close_approach_date': '1900-03-08', 'close_...</td>\n      <td>False</td>\n      <td>...</td>\n      <td>1.082508630279756</td>\n      <td>26.63044254343605</td>\n      <td>2.755083241500687</td>\n      <td>2459867.321948764327</td>\n      <td>49.38482790190183</td>\n      <td>.3708180698222572</td>\n      <td>J2000</td>\n      <td>AMO</td>\n      <td>Near-Earth asteroid orbits similar to that of ...</td>\n      <td>1.017 AU &lt; q (perihelion) &lt; 1.3 AU</td>\n    </tr>\n  </tbody>\n</table>\n<p>5 rows × 44 columns</p>\n</div>"
     },
     "execution_count": 13,
     "metadata": {},
     "output_type": "execute_result"
    }
   ],
   "source": [
    "normalized = pd.json_normalize(data)\n",
    "\n",
    "df = pd.DataFrame.from_dict(normalized)\n",
    "\n",
    "df.head()"
   ],
   "metadata": {
    "collapsed": false,
    "ExecuteTime": {
     "end_time": "2023-07-19T01:30:05.010520600Z",
     "start_time": "2023-07-19T01:30:04.935756700Z"
    }
   }
  },
  {
   "cell_type": "code",
   "execution_count": 15,
   "outputs": [
    {
     "data": {
      "text/plain": "(20, 44)"
     },
     "execution_count": 15,
     "metadata": {},
     "output_type": "execute_result"
    }
   ],
   "source": [
    "df.shape"
   ],
   "metadata": {
    "collapsed": false,
    "ExecuteTime": {
     "end_time": "2023-07-19T01:30:27.635755600Z",
     "start_time": "2023-07-19T01:30:27.627057Z"
    }
   }
  },
  {
   "cell_type": "code",
   "execution_count": 16,
   "outputs": [
    {
     "data": {
      "text/plain": "Index(['id', 'neo_reference_id', 'name', 'name_limited', 'designation',\n       'nasa_jpl_url', 'absolute_magnitude_h',\n       'is_potentially_hazardous_asteroid', 'close_approach_data',\n       'is_sentry_object', 'links.self',\n       'estimated_diameter.kilometers.estimated_diameter_min',\n       'estimated_diameter.kilometers.estimated_diameter_max',\n       'estimated_diameter.meters.estimated_diameter_min',\n       'estimated_diameter.meters.estimated_diameter_max',\n       'estimated_diameter.miles.estimated_diameter_min',\n       'estimated_diameter.miles.estimated_diameter_max',\n       'estimated_diameter.feet.estimated_diameter_min',\n       'estimated_diameter.feet.estimated_diameter_max',\n       'orbital_data.orbit_id', 'orbital_data.orbit_determination_date',\n       'orbital_data.first_observation_date',\n       'orbital_data.last_observation_date', 'orbital_data.data_arc_in_days',\n       'orbital_data.observations_used', 'orbital_data.orbit_uncertainty',\n       'orbital_data.minimum_orbit_intersection',\n       'orbital_data.jupiter_tisserand_invariant',\n       'orbital_data.epoch_osculation', 'orbital_data.eccentricity',\n       'orbital_data.semi_major_axis', 'orbital_data.inclination',\n       'orbital_data.ascending_node_longitude', 'orbital_data.orbital_period',\n       'orbital_data.perihelion_distance', 'orbital_data.perihelion_argument',\n       'orbital_data.aphelion_distance', 'orbital_data.perihelion_time',\n       'orbital_data.mean_anomaly', 'orbital_data.mean_motion',\n       'orbital_data.equinox', 'orbital_data.orbit_class.orbit_class_type',\n       'orbital_data.orbit_class.orbit_class_description',\n       'orbital_data.orbit_class.orbit_class_range'],\n      dtype='object')"
     },
     "execution_count": 16,
     "metadata": {},
     "output_type": "execute_result"
    }
   ],
   "source": [
    "df.columns"
   ],
   "metadata": {
    "collapsed": false,
    "ExecuteTime": {
     "end_time": "2023-07-19T01:30:31.475964300Z",
     "start_time": "2023-07-19T01:30:31.467476400Z"
    }
   }
  },
  {
   "cell_type": "code",
   "execution_count": 18,
   "outputs": [
    {
     "name": "stdout",
     "output_type": "stream",
     "text": [
      "<class 'pandas.core.frame.DataFrame'>\n",
      "RangeIndex: 20 entries, 0 to 19\n",
      "Data columns (total 44 columns):\n",
      " #   Column                                                Non-Null Count  Dtype  \n",
      "---  ------                                                --------------  -----  \n",
      " 0   id                                                    20 non-null     object \n",
      " 1   neo_reference_id                                      20 non-null     object \n",
      " 2   name                                                  20 non-null     object \n",
      " 3   name_limited                                          20 non-null     object \n",
      " 4   designation                                           20 non-null     object \n",
      " 5   nasa_jpl_url                                          20 non-null     object \n",
      " 6   absolute_magnitude_h                                  20 non-null     float64\n",
      " 7   is_potentially_hazardous_asteroid                     20 non-null     bool   \n",
      " 8   close_approach_data                                   20 non-null     object \n",
      " 9   is_sentry_object                                      20 non-null     bool   \n",
      " 10  links.self                                            20 non-null     object \n",
      " 11  estimated_diameter.kilometers.estimated_diameter_min  20 non-null     float64\n",
      " 12  estimated_diameter.kilometers.estimated_diameter_max  20 non-null     float64\n",
      " 13  estimated_diameter.meters.estimated_diameter_min      20 non-null     float64\n",
      " 14  estimated_diameter.meters.estimated_diameter_max      20 non-null     float64\n",
      " 15  estimated_diameter.miles.estimated_diameter_min       20 non-null     float64\n",
      " 16  estimated_diameter.miles.estimated_diameter_max       20 non-null     float64\n",
      " 17  estimated_diameter.feet.estimated_diameter_min        20 non-null     float64\n",
      " 18  estimated_diameter.feet.estimated_diameter_max        20 non-null     float64\n",
      " 19  orbital_data.orbit_id                                 20 non-null     object \n",
      " 20  orbital_data.orbit_determination_date                 20 non-null     object \n",
      " 21  orbital_data.first_observation_date                   20 non-null     object \n",
      " 22  orbital_data.last_observation_date                    20 non-null     object \n",
      " 23  orbital_data.data_arc_in_days                         20 non-null     int64  \n",
      " 24  orbital_data.observations_used                        20 non-null     int64  \n",
      " 25  orbital_data.orbit_uncertainty                        20 non-null     object \n",
      " 26  orbital_data.minimum_orbit_intersection               20 non-null     object \n",
      " 27  orbital_data.jupiter_tisserand_invariant              20 non-null     object \n",
      " 28  orbital_data.epoch_osculation                         20 non-null     object \n",
      " 29  orbital_data.eccentricity                             20 non-null     object \n",
      " 30  orbital_data.semi_major_axis                          20 non-null     object \n",
      " 31  orbital_data.inclination                              20 non-null     object \n",
      " 32  orbital_data.ascending_node_longitude                 20 non-null     object \n",
      " 33  orbital_data.orbital_period                           20 non-null     object \n",
      " 34  orbital_data.perihelion_distance                      20 non-null     object \n",
      " 35  orbital_data.perihelion_argument                      20 non-null     object \n",
      " 36  orbital_data.aphelion_distance                        20 non-null     object \n",
      " 37  orbital_data.perihelion_time                          20 non-null     object \n",
      " 38  orbital_data.mean_anomaly                             20 non-null     object \n",
      " 39  orbital_data.mean_motion                              20 non-null     object \n",
      " 40  orbital_data.equinox                                  20 non-null     object \n",
      " 41  orbital_data.orbit_class.orbit_class_type             20 non-null     object \n",
      " 42  orbital_data.orbit_class.orbit_class_description      20 non-null     object \n",
      " 43  orbital_data.orbit_class.orbit_class_range            20 non-null     object \n",
      "dtypes: bool(2), float64(9), int64(2), object(31)\n",
      "memory usage: 6.7+ KB\n"
     ]
    }
   ],
   "source": [
    "df.info()"
   ],
   "metadata": {
    "collapsed": false,
    "ExecuteTime": {
     "end_time": "2023-07-19T01:30:37.927036200Z",
     "start_time": "2023-07-19T01:30:37.923535500Z"
    }
   }
  },
  {
   "cell_type": "code",
   "execution_count": 19,
   "outputs": [
    {
     "data": {
      "text/plain": "id                                                      0\nneo_reference_id                                        0\nname                                                    0\nname_limited                                            0\ndesignation                                             0\nnasa_jpl_url                                            0\nabsolute_magnitude_h                                    0\nis_potentially_hazardous_asteroid                       0\nclose_approach_data                                     0\nis_sentry_object                                        0\nlinks.self                                              0\nestimated_diameter.kilometers.estimated_diameter_min    0\nestimated_diameter.kilometers.estimated_diameter_max    0\nestimated_diameter.meters.estimated_diameter_min        0\nestimated_diameter.meters.estimated_diameter_max        0\nestimated_diameter.miles.estimated_diameter_min         0\nestimated_diameter.miles.estimated_diameter_max         0\nestimated_diameter.feet.estimated_diameter_min          0\nestimated_diameter.feet.estimated_diameter_max          0\norbital_data.orbit_id                                   0\norbital_data.orbit_determination_date                   0\norbital_data.first_observation_date                     0\norbital_data.last_observation_date                      0\norbital_data.data_arc_in_days                           0\norbital_data.observations_used                          0\norbital_data.orbit_uncertainty                          0\norbital_data.minimum_orbit_intersection                 0\norbital_data.jupiter_tisserand_invariant                0\norbital_data.epoch_osculation                           0\norbital_data.eccentricity                               0\norbital_data.semi_major_axis                            0\norbital_data.inclination                                0\norbital_data.ascending_node_longitude                   0\norbital_data.orbital_period                             0\norbital_data.perihelion_distance                        0\norbital_data.perihelion_argument                        0\norbital_data.aphelion_distance                          0\norbital_data.perihelion_time                            0\norbital_data.mean_anomaly                               0\norbital_data.mean_motion                                0\norbital_data.equinox                                    0\norbital_data.orbit_class.orbit_class_type               0\norbital_data.orbit_class.orbit_class_description        0\norbital_data.orbit_class.orbit_class_range              0\ndtype: int64"
     },
     "execution_count": 19,
     "metadata": {},
     "output_type": "execute_result"
    }
   ],
   "source": [
    "df.isnull().sum()"
   ],
   "metadata": {
    "collapsed": false,
    "ExecuteTime": {
     "end_time": "2023-07-19T01:30:52.990272800Z",
     "start_time": "2023-07-19T01:30:52.983857800Z"
    }
   }
  },
  {
   "cell_type": "code",
   "execution_count": null,
   "outputs": [],
   "source": [],
   "metadata": {
    "collapsed": false
   }
  }
 ],
 "metadata": {
  "kernelspec": {
   "display_name": "Python 3",
   "language": "python",
   "name": "python3"
  },
  "language_info": {
   "codemirror_mode": {
    "name": "ipython",
    "version": 2
   },
   "file_extension": ".py",
   "mimetype": "text/x-python",
   "name": "python",
   "nbconvert_exporter": "python",
   "pygments_lexer": "ipython2",
   "version": "2.7.6"
  }
 },
 "nbformat": 4,
 "nbformat_minor": 0
}
