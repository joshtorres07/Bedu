{
 "cells": [
  {
   "cell_type": "markdown",
   "metadata": {},
   "source": [
    "## Reto 2: Modificando listas\n",
    "\n",
    "### 1. Objetivos:\n",
    "    - Practicar el uso de los métodos `append` `pop`.\n",
    " \n",
    "---\n",
    "    \n",
    "### 2. Desarrollo:"
   ]
  },
  {
   "cell_type": "markdown",
   "metadata": {},
   "source": [
    "#### a) Modificar para eliminar diferencias\n",
    "\n",
    "Debajo tienes dos listas definidas:"
   ]
  },
  {
   "cell_type": "code",
   "execution_count": 22,
   "metadata": {
    "ExecuteTime": {
     "end_time": "2023-07-05T03:39:56.485329600Z",
     "start_time": "2023-07-05T03:39:56.480730Z"
    }
   },
   "outputs": [],
   "source": [
    "lista_1 = [3.4, 0.7, 99.9, 5.41, 6.23, 7.9]\n",
    "\n",
    "lista_2 = [3.4, 63.4, 0.7, 6.46, 99.9, 2.2, 5.41]\n",
    "\n",
    "# Tu código va aquí\n",
    "# ...\n",
    "# ...\n"
   ]
  },
  {
   "cell_type": "code",
   "execution_count": 21,
   "outputs": [
    {
     "name": "stdout",
     "output_type": "stream",
     "text": [
      "[3.4, 0.7, 99.9, 5.41, 6.23, 7.9]\n",
      "[3.4, 63.4, 0.7, 6.46, 99.9, 2.2, 5.41]\n"
     ]
    }
   ],
   "source": [
    "print(lista_1)\n",
    "print(lista_2)"
   ],
   "metadata": {
    "collapsed": false,
    "ExecuteTime": {
     "end_time": "2023-07-05T03:39:20.988427700Z",
     "start_time": "2023-07-05T03:39:20.981545900Z"
    }
   }
  },
  {
   "cell_type": "code",
   "execution_count": 23,
   "outputs": [
    {
     "data": {
      "text/plain": "63.4"
     },
     "execution_count": 23,
     "metadata": {},
     "output_type": "execute_result"
    }
   ],
   "source": [
    "lista_2.pop(1)"
   ],
   "metadata": {
    "collapsed": false,
    "ExecuteTime": {
     "end_time": "2023-07-05T03:40:28.079737100Z",
     "start_time": "2023-07-05T03:40:28.068548200Z"
    }
   }
  },
  {
   "cell_type": "code",
   "execution_count": 29,
   "outputs": [
    {
     "name": "stdout",
     "output_type": "stream",
     "text": [
      "[3.4, 0.7, 99.9, 5.41, 6.23, 7.9]\n",
      "[3.4, 0.7, 99.9, 5.41]\n"
     ]
    }
   ],
   "source": [
    "print(lista_1)\n",
    "print(lista_2)"
   ],
   "metadata": {
    "collapsed": false,
    "ExecuteTime": {
     "end_time": "2023-07-05T03:41:56.444602900Z",
     "start_time": "2023-07-05T03:41:56.434570100Z"
    }
   }
  },
  {
   "cell_type": "code",
   "execution_count": 19,
   "outputs": [
    {
     "name": "stdout",
     "output_type": "stream",
     "text": [
      "[3.4, 63.4, 0.7, 6.46, 99.9, 2.2, 5.41]\n",
      "[3.4, 63.4, 0.7, 6.46, 99.9, 2.2, 5.41]\n"
     ]
    }
   ],
   "source": [
    "print(lista_1)\n",
    "print(lista_2)"
   ],
   "metadata": {
    "collapsed": false,
    "ExecuteTime": {
     "end_time": "2023-07-05T03:38:54.532350Z",
     "start_time": "2023-07-05T03:38:54.507608800Z"
    }
   }
  },
  {
   "cell_type": "code",
   "execution_count": 30,
   "outputs": [],
   "source": [
    "lista_2.append(6.23)\n",
    "lista_2.append(7.9)"
   ],
   "metadata": {
    "collapsed": false,
    "ExecuteTime": {
     "end_time": "2023-07-05T03:42:07.270844200Z",
     "start_time": "2023-07-05T03:42:07.263025900Z"
    }
   }
  },
  {
   "cell_type": "markdown",
   "metadata": {},
   "source": [
    "Ahora, tienes una `sentencia if` que utiliza una comparación entre las dos listas:"
   ]
  },
  {
   "cell_type": "code",
   "execution_count": 31,
   "outputs": [
    {
     "name": "stdout",
     "output_type": "stream",
     "text": [
      "[3.4, 0.7, 99.9, 5.41, 6.23, 7.9]\n",
      "[3.4, 0.7, 99.9, 5.41, 6.23, 7.9]\n"
     ]
    }
   ],
   "source": [
    "print(lista_1)\n",
    "print(lista_2)"
   ],
   "metadata": {
    "collapsed": false,
    "ExecuteTime": {
     "end_time": "2023-07-05T03:42:10.897886200Z",
     "start_time": "2023-07-05T03:42:10.882808100Z"
    }
   }
  },
  {
   "cell_type": "code",
   "execution_count": 31,
   "outputs": [],
   "source": [],
   "metadata": {
    "collapsed": false,
    "ExecuteTime": {
     "end_time": "2023-07-05T03:42:16.675221100Z",
     "start_time": "2023-07-05T03:42:16.666971900Z"
    }
   }
  },
  {
   "cell_type": "markdown",
   "source": [],
   "metadata": {
    "collapsed": false
   }
  },
  {
   "cell_type": "code",
   "execution_count": 32,
   "metadata": {
    "ExecuteTime": {
     "end_time": "2023-07-05T03:42:17.135881800Z",
     "start_time": "2023-07-05T03:42:17.127287600Z"
    }
   },
   "outputs": [
    {
     "name": "stdout",
     "output_type": "stream",
     "text": [
      "Tú y yo somos uno mismo\n"
     ]
    }
   ],
   "source": [
    "if lista_1 == lista_2:\n",
    "    print(\"Tú y yo somos uno mismo\")"
   ]
  },
  {
   "cell_type": "markdown",
   "metadata": {},
   "source": [
    "Donde dice `tu código va aquí` agrega modificaciones a la **lista_2** para lograr que ambas listas sean idénticas y el bello mensaje \"Tú y yo somos uno mismo\" se imprima. Puedes usar tanto `pop` como `append`, pero **sólo puedes modificar la lista_2**."
   ]
  },
  {
   "cell_type": "markdown",
   "metadata": {},
   "source": [
    "#### b) Corrigiendo fragmentos\n",
    "\n",
    "Debajo hay un muy pequeño fragmento del capítulo 68 de la novela \"Rayuela\" de Julio Cortázar ([Lo puedes leer aquí](https://ciudadseva.com/texto/rayuela-capitulo-68/)). Este fragmento ha sido modificado, como fácilmente podrás ver. Además, el fragmento termina con un oración inconclusa:"
   ]
  },
  {
   "cell_type": "code",
   "execution_count": 33,
   "metadata": {
    "ExecuteTime": {
     "end_time": "2023-07-05T03:49:51.514276900Z",
     "start_time": "2023-07-05T03:49:51.502767900Z"
    }
   },
   "outputs": [
    {
     "data": {
      "text/plain": "['Apenas',\n 'él',\n 'le',\n 'amalaba',\n 'noema,',\n 'a',\n 'ella',\n 'se',\n 'le',\n 'agolpaba',\n 'el',\n 'clémiso',\n 'súbito',\n 'y',\n 'caían',\n 'en',\n 'fermales',\n 'hidromurias,',\n 'en',\n 'salvajes',\n 'ambonios,',\n 'en',\n 'sustalos',\n 'distales',\n 'exasperantes.',\n 'Cada',\n 'vez',\n 'que',\n 'él',\n 'procuraba',\n 'relamar',\n 'las',\n 'miradas que le aventaba, ella se sonrojaba, puesto que él era alguien de su total agrado']"
     },
     "execution_count": 33,
     "metadata": {},
     "output_type": "execute_result"
    }
   ],
   "source": [
    "fragmento_fragmentado = ['Apenas', 'él', 'le', 'amalaba', 'hidrolizado' 'el', 'noema,',\n",
    "                         'a', 'ella', 'se', 'le', 'agolpaba', 'el', 'clémiso', 'súbito',\n",
    "                         'y', 'caían', 'en', 'fermales', 'hidromurias,', 'en', 'salvajes', 'ambonios,',\n",
    "                         'en', 'sustalos', 'distales', 'exasperantes.',\n",
    "                         'Cada', 'vez', 'que', 'él', 'procuraba', 'relamar', 'las', 'incopelusas,']\n",
    "\n",
    "# Tu código va aquí\n",
    "\n",
    "fragmento_fragmentado.pop()\n",
    "fragmento_fragmentado.pop(4)\n",
    "fragmento_fragmentado.append(\"miradas que le aventaba, ella se sonrojaba, puesto que él era alguien de su total agrado\")\n",
    "fragmento_fragmentado\n",
    "# ...\n",
    "# ..."
   ]
  },
  {
   "cell_type": "markdown",
   "metadata": {},
   "source": [
    "Debajo hay código que toma la lista de arriba e imprime el fragmento en forma de texto. Tu reto es eliminar todas las modificaciones que han sido hechas al texto de Cortázar usando el método `pop`. Al terminar, puedes, si así lo deseas, agregar tu propio final a la oración inconclusa usando el método `append`.\n",
    "\n",
    "El resultado será una colaboración tuya y de Cortázar:"
   ]
  },
  {
   "cell_type": "code",
   "execution_count": 34,
   "metadata": {
    "ExecuteTime": {
     "end_time": "2023-07-05T03:50:24.220642200Z",
     "start_time": "2023-07-05T03:50:24.205556300Z"
    }
   },
   "outputs": [
    {
     "name": "stdout",
     "output_type": "stream",
     "text": [
      "==Colaboración póstuma de Córtazar y josh==\n",
      "\n",
      "Apenas él le amalaba noema, a ella se le agolpaba el clémiso súbito y caían en fermales hidromurias, en salvajes ambonios, en sustalos distales exasperantes. Cada vez que él procuraba relamar las miradas que le aventaba, ella se sonrojaba, puesto que él era alguien de su total agrado\n"
     ]
    }
   ],
   "source": [
    "tu_nombre = \"josh\"  # Tu nombre va aquí\n",
    "\n",
    "print(f'==Colaboración póstuma de Córtazar y {tu_nombre}==\\n')\n",
    "print(f'{\" \".join(fragmento_fragmentado)}')"
   ]
  },
  {
   "cell_type": "markdown",
   "metadata": {},
   "source": [
    "<details><summary>Solución</summary>\n",
    "\n",
    "```python\n",
    "# La colaboración (lo que va en el append) podría ser distinta. En caso de que sea igual, tal vez estemos entrelazados cuánticamente. ¡Búscame!\n",
    "    \n",
    "fragmento_fragmentado.pop(4)\n",
    "fragmento_fragmentado.pop(12)\n",
    "fragmento_fragmentado.pop(15)\n",
    "fragmento_fragmentado.pop(21) \n",
    "fragmento.append(\"se dirimían en conjunto: flémalos, húmalos, y vivosos estallidos\"\n",
    "```\n",
    "    \n",
    "</details>"
   ]
  },
  {
   "cell_type": "code",
   "execution_count": null,
   "metadata": {},
   "outputs": [],
   "source": []
  }
 ],
 "metadata": {
  "kernelspec": {
   "name": "python3",
   "language": "python",
   "display_name": "Python 3 (ipykernel)"
  },
  "language_info": {
   "codemirror_mode": {
    "name": "ipython",
    "version": 3
   },
   "file_extension": ".py",
   "mimetype": "text/x-python",
   "name": "python",
   "nbconvert_exporter": "python",
   "pygments_lexer": "ipython3",
   "version": "3.8.5"
  }
 },
 "nbformat": 4,
 "nbformat_minor": 4
}
