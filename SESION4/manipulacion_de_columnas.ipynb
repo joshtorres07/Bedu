{
 "cells": [
  {
   "cell_type": "markdown",
   "metadata": {},
   "source": [
    "## Reto 4: Manipulación de Columnas\n",
    "\n",
    "### 1. Objetivos:\n",
    "    - Practicar asignar, reasignar y eliminar columnas de `DataFrames`\n",
    " \n",
    "---\n",
    "    \n",
    "### 2. Desarrollo:"
   ]
  },
  {
   "cell_type": "markdown",
   "metadata": {},
   "source": [
    "a) Transformación de `DataFrames`\n",
    "\n",
    "Eres de nuevo el Data Wrangler Inc. Tienes el mismo conjunto de datos que en el Reto pasado:"
   ]
  },
  {
   "cell_type": "code",
   "execution_count": 1,
   "metadata": {},
   "outputs": [],
   "source": [
    "datos_productos = {\n",
    "    \"nombre\": [\"Pokemaster\", \"Cegatron\", \"Pikame Mucho\", \"Lazarillo de Tormes\", \"Stevie Wonder\", \"Needle\", \"El AyMeDuele\"],\n",
    "    \"precio\": [10000, 5500, 3500, 750, 15500, 12250, 23000],\n",
    "    \"peso\": [1.2, 1.5, 2.3, 5.5, 3.4, 2.4, 8.8],\n",
    "    \"capacidad de destrucción retinal\": [3, 7, 6, 8, 9, 2, 10],\n",
    "    \"disponible\": [True, False, True, True, False, False, True]\n",
    "}\n",
    "\n",
    "indice = [1, 2, 3, 4, 5, 6, 7]"
   ]
  },
  {
   "cell_type": "markdown",
   "metadata": {},
   "source": [
    "Esta vez el Analista de Datos te hace 3 nuevos pedidos que incluyen la creación de una nueva columna, la asignación de nuevos datos a una columna y la eliminación de un par de columnas. Crea un `DataFrame` usando `datos_productos` e `indice`, realiza sus pedidos y envíalos para su verificación:"
   ]
  },
  {
   "cell_type": "code",
   "execution_count": 2,
   "metadata": {},
   "outputs": [],
   "source": [
    "## Realiza aquí los imports necesarios\n",
    "import pandas as pd"
   ]
  },
  {
   "cell_type": "code",
   "execution_count": 3,
   "metadata": {},
   "outputs": [],
   "source": [
    "df_productos = pd.DataFrame(datos_productos, index= indice)"
   ]
  },
  {
   "cell_type": "code",
   "execution_count": 4,
   "metadata": {},
   "outputs": [],
   "source": [
    "# Agrega por favor una nueva columna a `df_productos_mas_columna_nueva` con el nombre de columna \"nivel de dolor\"\n",
    "columna_nueva = [4, 7, 6, 8, 9, 7, 3]\n",
    "df_productos_mas_columna_nueva = df_productos.copy()\n",
    "df_productos_mas_columna_nueva['nivel de dolor'] = columna_nueva\n",
    "\n",
    "# Cambia por favor el `DataFrame` `df_productos_descuento` cambiando la columna `precio` por la información contenida en `precios_descuento`\n",
    "precios_descuento = [8000, 4000, 2000, 500, 14000, 10000, 15000]\n",
    "df_productos_descuento = df_productos.copy()\n",
    "df_productos_descuento['precio'] = precios_descuento\n",
    "# Elimina por favor las columnas \"precio\" y \"peso\" de `df_productos` y asigna el resultado a `df_productos_sin_precio_ni_peso`\n",
    "df_productos_sin_precio_ni_peso = df_productos.drop(columns=['precio', 'peso'])"
   ]
  },
  {
   "cell_type": "markdown",
   "metadata": {},
   "source": [
    "Pídele a tu experta la función de verificación `verificar_modificaciones` (encontrada en el archivo `helpers.py` de la carpeta donde se encuentra este Reto), pégala debajo y corre la celda para verificar tu resultado:"
   ]
  },
  {
   "cell_type": "code",
   "execution_count": 5,
   "outputs": [],
   "source": [
    "\n",
    "def verificar_modificaciones(datos_productos, indice, df_productos, columna_nueva, df_productos_mas_columna_nueva,\n",
    "                             precios_descuento, df_productos_descuento, df_productos_sin_precio_ni_peso):\n",
    "\n",
    "    import pandas as pd\n",
    "\n",
    "    df_productos_esperado = pd.DataFrame(datos_productos, index=indice)\n",
    "    if not df_productos_esperado.equals(df_productos):\n",
    "        print(f'df_productos ha sido creado incorrectamente ... Favor de revisar')\n",
    "        return\n",
    "\n",
    "    print(f'== Verificación de Modificaciones ==\\n')\n",
    "    columna_nueva_serie = pd.Series(columna_nueva, index=indice)\n",
    "    df_productos_mas_columna_nueva_2 = df_productos.copy()\n",
    "    df_productos_mas_columna_nueva_2['nivel de dolor'] = columna_nueva_serie\n",
    "    verificar_modificacion(df_productos_mas_columna_nueva_2, df_productos_mas_columna_nueva, 'Agrega por favor columna `columna_nueva` a `df_productos_mas_columna_nueva` con el nombre de columna \"nivel de dolor\"')\n",
    "\n",
    "    precios_descuento_serie = pd.Series(precios_descuento, index=indice)\n",
    "    df_productos_descuento_2 = df_productos.copy()\n",
    "    df_productos_descuento_2['precio'] = precios_descuento_serie\n",
    "    verificar_modificacion(df_productos_descuento_2, df_productos_descuento, 'Cambia por favor el `DataFrame` `df_productos_descuento` cambiando la columna `precio` por la información contenida en `precios_descuento`')\n",
    "\n",
    "    df_productos_sin_precio_ni_peso_2 = df_productos.drop(columns=['precio', 'peso'])\n",
    "    verificar_modificacion(df_productos_sin_precio_ni_peso_2, df_productos_sin_precio_ni_peso, 'Elimina por favor las columnas \"precio\" y \"peso\"')\n",
    "\n",
    "def verificar_modificacion(esperada, recibida, descripcion):\n",
    "    es_correcta = \"Correcto\" if esperada.equals(recibida) else \"Incorrecto\"\n",
    "    respuesta = \"Muchas gracias!\" if es_correcta == \"Correcto\" else \"Favor de revisar\"\n",
    "    print(f\"\\n- Descripción de pedido: {descripcion}\")\n",
    "    print(f\"El pedido es {es_correcta} ... {respuesta}\")"
   ],
   "metadata": {
    "collapsed": false
   }
  },
  {
   "cell_type": "code",
   "execution_count": 16,
   "metadata": {
    "ExecuteTime": {
     "end_time": "2023-07-12T03:55:05.494010800Z",
     "start_time": "2023-07-12T03:55:05.489497800Z"
    }
   },
   "outputs": [
    {
     "name": "stdout",
     "output_type": "stream",
     "text": [
      "== Verificación de Modificaciones ==\n",
      "\n",
      "\n",
      "- Descripción de pedido: Agrega por favor columna `columna_nueva` a `df_productos_mas_columna_nueva` con el nombre de columna \"nivel de dolor\"\n",
      "El pedido es Correcto ... Muchas gracias!\n",
      "\n",
      "- Descripción de pedido: Cambia por favor el `DataFrame` `df_productos_descuento` cambiando la columna `precio` por la información contenida en `precios_descuento`\n",
      "El pedido es Correcto ... Muchas gracias!\n",
      "\n",
      "- Descripción de pedido: Elimina por favor las columnas \"precio\" y \"peso\"\n",
      "El pedido es Correcto ... Muchas gracias!\n"
     ]
    }
   ],
   "source": [
    "# Pega aquí la función de verificación\n",
    "\n",
    "verificar_modificaciones(datos_productos, indice, df_productos, columna_nueva, df_productos_mas_columna_nueva,\n",
    "                             precios_descuento, df_productos_descuento, df_productos_sin_precio_ni_peso)"
   ]
  },
  {
   "cell_type": "code",
   "execution_count": 8,
   "metadata": {
    "ExecuteTime": {
     "end_time": "2023-07-12T03:39:06.451978500Z",
     "start_time": "2023-07-12T03:39:06.447068100Z"
    }
   },
   "outputs": [],
   "source": []
  }
 ],
 "metadata": {
  "kernelspec": {
   "display_name": "Python 3",
   "language": "python",
   "name": "python3"
  },
  "language_info": {
   "codemirror_mode": {
    "name": "ipython",
    "version": 3
   },
   "file_extension": ".py",
   "mimetype": "text/x-python",
   "name": "python",
   "nbconvert_exporter": "python",
   "pygments_lexer": "ipython3",
   "version": "3.8.3"
  }
 },
 "nbformat": 4,
 "nbformat_minor": 4
}
