{
 "cells": [
  {
   "cell_type": "markdown",
   "metadata": {},
   "source": [
    "## Ejemplo 6: Lectura de JSON\n",
    "\n",
    "### 1. Objetivos:\n",
    "    - Aprender a leer archivos JSON y crear `DataFrames` con ellos\n",
    " \n",
    "---\n",
    "    \n",
    "### 2. Desarrollo:"
   ]
  },
  {
   "cell_type": "code",
   "execution_count": null,
   "outputs": [],
   "source": [],
   "metadata": {
    "collapsed": false,
    "ExecuteTime": {
     "end_time": "2023-07-12T02:34:38.828999100Z",
     "start_time": "2023-07-12T02:34:38.827488800Z"
    }
   }
  },
  {
   "cell_type": "code",
   "execution_count": 1,
   "metadata": {
    "ExecuteTime": {
     "end_time": "2023-07-12T02:34:39.398351900Z",
     "start_time": "2023-07-12T02:34:38.834609800Z"
    }
   },
   "outputs": [],
   "source": [
    "import pandas as pd"
   ]
  },
  {
   "cell_type": "markdown",
   "metadata": {},
   "source": [
    "Primero tenemos que importar la librería `json` que nos ayuda a lidiar con formato JSON en Python:"
   ]
  },
  {
   "cell_type": "code",
   "execution_count": 2,
   "metadata": {
    "ExecuteTime": {
     "end_time": "2023-07-12T02:34:39.402427800Z",
     "start_time": "2023-07-12T02:34:39.398351900Z"
    }
   },
   "outputs": [],
   "source": [
    "import json"
   ]
  },
  {
   "cell_type": "markdown",
   "metadata": {},
   "source": [
    "Después leemos el archivo JSON usando `open`:"
   ]
  },
  {
   "cell_type": "code",
   "execution_count": 6,
   "metadata": {
    "ExecuteTime": {
     "end_time": "2023-07-12T02:35:28.729134100Z",
     "start_time": "2023-07-12T02:35:28.703733500Z"
    }
   },
   "outputs": [],
   "source": [
    "f = open('../Datasets/zomato_reviews-clean.json', 'r')"
   ]
  },
  {
   "cell_type": "markdown",
   "metadata": {},
   "source": [
    "La ruta (o `path`) puede ser absoluto o relativo (en el Prework hay un link donde se explica esto con más claridad). El `'r'` significa que queremos leer el archivo (`read`)."
   ]
  },
  {
   "cell_type": "markdown",
   "metadata": {},
   "source": [
    "Después convertimos nuestro archivo JSON en un diccionario de Python:"
   ]
  },
  {
   "cell_type": "code",
   "execution_count": 7,
   "metadata": {
    "ExecuteTime": {
     "end_time": "2023-07-12T02:35:32.092514300Z",
     "start_time": "2023-07-12T02:35:32.080213100Z"
    }
   },
   "outputs": [],
   "source": [
    "json_data = json.load(f)"
   ]
  },
  {
   "cell_type": "markdown",
   "metadata": {},
   "source": [
    "Después cerramos nuestro archivo:"
   ]
  },
  {
   "cell_type": "code",
   "execution_count": 8,
   "metadata": {
    "ExecuteTime": {
     "end_time": "2023-07-12T02:35:33.188861200Z",
     "start_time": "2023-07-12T02:35:33.184344700Z"
    }
   },
   "outputs": [],
   "source": [
    "f.close()"
   ]
  },
  {
   "cell_type": "markdown",
   "metadata": {},
   "source": [
    "Y finalmente pasamos el diccionario a `pandas.DataFrame.from_dict` para crear un `DataFrame`:"
   ]
  },
  {
   "cell_type": "code",
   "execution_count": 9,
   "metadata": {
    "ExecuteTime": {
     "end_time": "2023-07-12T02:35:34.522045600Z",
     "start_time": "2023-07-12T02:35:34.515932200Z"
    }
   },
   "outputs": [],
   "source": [
    "df = pd.DataFrame.from_dict(json_data)"
   ]
  },
  {
   "cell_type": "code",
   "execution_count": 10,
   "metadata": {
    "ExecuteTime": {
     "end_time": "2023-07-12T02:35:35.063651Z",
     "start_time": "2023-07-12T02:35:34.998884200Z"
    }
   },
   "outputs": [
    {
     "data": {
      "text/plain": "      has_online_delivery  price_range currency                        name   \n0                       1            3      Rs.            Hauz Khas Social  \\\n1                       0            3      Rs.  Qubitos - The Terrace Cafe   \n2                       1            2      Rs.             The Hudson Cafe   \n3                       0            3      Rs.           Summer House Cafe   \n4                       0            3      Rs.                 38 Barracks   \n...                   ...          ...      ...                         ...   \n1175                    0            3        £               The Boozy Cow   \n1176                    0            3        £                 La Favorita   \n1177                    0            3        £           Roseleaf Bar Cafe   \n1178                    0            3        £                   Civerinos   \n1179                    0            3        £             The Hanging Bat   \n\n                                               cuisines   \n0            Continental, American, Asian, North Indian  \\\n1     Thai, European, Mexican, North Indian, Chinese...   \n2                   Cafe, Italian, Continental, Chinese   \n3                                  Italian, Continental   \n4                North Indian, Italian, Asian, American   \n...                                                 ...   \n1175                                      Burger, Grill   \n1176                                            Italian   \n1177                                     Scottish, Cafe   \n1178                                     Pizza, Italian   \n1179                                           American   \n\n                                       location.address location.city   \n0                9-A & 12, Hauz Khas Village, New Delhi     New Delhi  \\\n1     C-7, Vishal Enclave, Opposite Metro Pillar 417...     New Delhi   \n2     2524, 1st Floor, Hudson Lane, Delhi University...     New Delhi   \n3     1st Floor, DDA Shopping Complex, Aurobindo Pla...     New Delhi   \n4        M-38, Outer Circle, Connaught Place, New Delhi     New Delhi   \n...                                                 ...           ...   \n1175   17 Frederick Street, New Town, Edinburgh EH2 2EY     Edinburgh   \n1176       325-331 Leith Walk, Leith, Edinburgh EH6 8SA     Edinburgh   \n1177     23-24 Sandport Place, Leith, Edinburgh EH6 6EW     Edinburgh   \n1178  5 Hunter Square, Royal Mile, Old Town, Edinbur...     Edinburgh   \n1179      133 Lothian Road, Old Town, Edinburgh EH3 9AD     Edinburgh   \n\n     user_rating.rating_text  \n0                  Very Good  \n1                  Excellent  \n2                  Very Good  \n3                  Very Good  \n4                  Very Good  \n...                      ...  \n1175               Very Good  \n1176               Excellent  \n1177               Excellent  \n1178                    Good  \n1179                    Good  \n\n[1180 rows x 8 columns]",
      "text/html": "<div>\n<style scoped>\n    .dataframe tbody tr th:only-of-type {\n        vertical-align: middle;\n    }\n\n    .dataframe tbody tr th {\n        vertical-align: top;\n    }\n\n    .dataframe thead th {\n        text-align: right;\n    }\n</style>\n<table border=\"1\" class=\"dataframe\">\n  <thead>\n    <tr style=\"text-align: right;\">\n      <th></th>\n      <th>has_online_delivery</th>\n      <th>price_range</th>\n      <th>currency</th>\n      <th>name</th>\n      <th>cuisines</th>\n      <th>location.address</th>\n      <th>location.city</th>\n      <th>user_rating.rating_text</th>\n    </tr>\n  </thead>\n  <tbody>\n    <tr>\n      <th>0</th>\n      <td>1</td>\n      <td>3</td>\n      <td>Rs.</td>\n      <td>Hauz Khas Social</td>\n      <td>Continental, American, Asian, North Indian</td>\n      <td>9-A &amp; 12, Hauz Khas Village, New Delhi</td>\n      <td>New Delhi</td>\n      <td>Very Good</td>\n    </tr>\n    <tr>\n      <th>1</th>\n      <td>0</td>\n      <td>3</td>\n      <td>Rs.</td>\n      <td>Qubitos - The Terrace Cafe</td>\n      <td>Thai, European, Mexican, North Indian, Chinese...</td>\n      <td>C-7, Vishal Enclave, Opposite Metro Pillar 417...</td>\n      <td>New Delhi</td>\n      <td>Excellent</td>\n    </tr>\n    <tr>\n      <th>2</th>\n      <td>1</td>\n      <td>2</td>\n      <td>Rs.</td>\n      <td>The Hudson Cafe</td>\n      <td>Cafe, Italian, Continental, Chinese</td>\n      <td>2524, 1st Floor, Hudson Lane, Delhi University...</td>\n      <td>New Delhi</td>\n      <td>Very Good</td>\n    </tr>\n    <tr>\n      <th>3</th>\n      <td>0</td>\n      <td>3</td>\n      <td>Rs.</td>\n      <td>Summer House Cafe</td>\n      <td>Italian, Continental</td>\n      <td>1st Floor, DDA Shopping Complex, Aurobindo Pla...</td>\n      <td>New Delhi</td>\n      <td>Very Good</td>\n    </tr>\n    <tr>\n      <th>4</th>\n      <td>0</td>\n      <td>3</td>\n      <td>Rs.</td>\n      <td>38 Barracks</td>\n      <td>North Indian, Italian, Asian, American</td>\n      <td>M-38, Outer Circle, Connaught Place, New Delhi</td>\n      <td>New Delhi</td>\n      <td>Very Good</td>\n    </tr>\n    <tr>\n      <th>...</th>\n      <td>...</td>\n      <td>...</td>\n      <td>...</td>\n      <td>...</td>\n      <td>...</td>\n      <td>...</td>\n      <td>...</td>\n      <td>...</td>\n    </tr>\n    <tr>\n      <th>1175</th>\n      <td>0</td>\n      <td>3</td>\n      <td>£</td>\n      <td>The Boozy Cow</td>\n      <td>Burger, Grill</td>\n      <td>17 Frederick Street, New Town, Edinburgh EH2 2EY</td>\n      <td>Edinburgh</td>\n      <td>Very Good</td>\n    </tr>\n    <tr>\n      <th>1176</th>\n      <td>0</td>\n      <td>3</td>\n      <td>£</td>\n      <td>La Favorita</td>\n      <td>Italian</td>\n      <td>325-331 Leith Walk, Leith, Edinburgh EH6 8SA</td>\n      <td>Edinburgh</td>\n      <td>Excellent</td>\n    </tr>\n    <tr>\n      <th>1177</th>\n      <td>0</td>\n      <td>3</td>\n      <td>£</td>\n      <td>Roseleaf Bar Cafe</td>\n      <td>Scottish, Cafe</td>\n      <td>23-24 Sandport Place, Leith, Edinburgh EH6 6EW</td>\n      <td>Edinburgh</td>\n      <td>Excellent</td>\n    </tr>\n    <tr>\n      <th>1178</th>\n      <td>0</td>\n      <td>3</td>\n      <td>£</td>\n      <td>Civerinos</td>\n      <td>Pizza, Italian</td>\n      <td>5 Hunter Square, Royal Mile, Old Town, Edinbur...</td>\n      <td>Edinburgh</td>\n      <td>Good</td>\n    </tr>\n    <tr>\n      <th>1179</th>\n      <td>0</td>\n      <td>3</td>\n      <td>£</td>\n      <td>The Hanging Bat</td>\n      <td>American</td>\n      <td>133 Lothian Road, Old Town, Edinburgh EH3 9AD</td>\n      <td>Edinburgh</td>\n      <td>Good</td>\n    </tr>\n  </tbody>\n</table>\n<p>1180 rows × 8 columns</p>\n</div>"
     },
     "execution_count": 10,
     "metadata": {},
     "output_type": "execute_result"
    }
   ],
   "source": [
    "df"
   ]
  },
  {
   "cell_type": "markdown",
   "metadata": {},
   "source": [
    "¡Listo! Ahora vamos a ver qué podemos hacer con este `DataFrame`."
   ]
  },
  {
   "cell_type": "code",
   "execution_count": null,
   "outputs": [],
   "source": [],
   "metadata": {
    "collapsed": false
   }
  }
 ],
 "metadata": {
  "kernelspec": {
   "name": "python3",
   "language": "python",
   "display_name": "Python 3 (ipykernel)"
  },
  "language_info": {
   "codemirror_mode": {
    "name": "ipython",
    "version": 3
   },
   "file_extension": ".py",
   "mimetype": "text/x-python",
   "name": "python",
   "nbconvert_exporter": "python",
   "pygments_lexer": "ipython3",
   "version": "3.8.5"
  }
 },
 "nbformat": 4,
 "nbformat_minor": 4
}
