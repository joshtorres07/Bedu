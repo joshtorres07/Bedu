{
 "cells": [
  {
   "cell_type": "markdown",
   "metadata": {},
   "source": [
    "## Reto 5: Análisis Exploratorio de Datos\n",
    "\n",
    "### 1. Objetivos:\n",
    "    - Practicar leer archivos JSON usando pandas\n",
    "    - Practicar hacerse preguntas acerca de los conjuntos de datos que tenemos\n",
    " \n",
    "---\n",
    "    \n",
    "### 2. Desarrollo:"
   ]
  },
  {
   "cell_type": "markdown",
   "metadata": {},
   "source": [
    "Vamos a practicar explorar conjuntos de datos y hacernos preguntas acerca de ellos.\n",
    "\n",
    "Tenemos un conjunto de datos en formato JSON almacenado en '../../Datasets/new_york_times_bestsellers-clean.json' (en la carpeta /Datasets en el directorio raíz del módulo).\n",
    "\n",
    "Primero que nada, lee el archivo JSON y crea un `DataFrame` con él:"
   ]
  },
  {
   "cell_type": "code",
   "execution_count": 2,
   "metadata": {
    "ExecuteTime": {
     "end_time": "2023-07-12T03:14:36.418618700Z",
     "start_time": "2023-07-12T03:14:36.403953500Z"
    }
   },
   "outputs": [],
   "source": [
    "## Realiza aquí los imports que necesites\n",
    "import pandas as pd\n",
    "import json\n",
    "## Lee aquí tu archivo JSON\n",
    "f = open('../Datasets/zomato_reviews-clean.json', 'r')\n",
    "json_data = json.load(f)\n",
    "f.close()\n",
    "df = pd.DataFrame.from_dict(json_data)\n",
    "## Crea aquí tu DataFrame"
   ]
  },
  {
   "cell_type": "code",
   "execution_count": 3,
   "outputs": [
    {
     "data": {
      "text/plain": "      has_online_delivery  price_range currency                        name   \n0                       1            3      Rs.            Hauz Khas Social  \\\n1                       0            3      Rs.  Qubitos - The Terrace Cafe   \n2                       1            2      Rs.             The Hudson Cafe   \n3                       0            3      Rs.           Summer House Cafe   \n4                       0            3      Rs.                 38 Barracks   \n...                   ...          ...      ...                         ...   \n1175                    0            3        £               The Boozy Cow   \n1176                    0            3        £                 La Favorita   \n1177                    0            3        £           Roseleaf Bar Cafe   \n1178                    0            3        £                   Civerinos   \n1179                    0            3        £             The Hanging Bat   \n\n                                               cuisines   \n0            Continental, American, Asian, North Indian  \\\n1     Thai, European, Mexican, North Indian, Chinese...   \n2                   Cafe, Italian, Continental, Chinese   \n3                                  Italian, Continental   \n4                North Indian, Italian, Asian, American   \n...                                                 ...   \n1175                                      Burger, Grill   \n1176                                            Italian   \n1177                                     Scottish, Cafe   \n1178                                     Pizza, Italian   \n1179                                           American   \n\n                                       location.address location.city   \n0                9-A & 12, Hauz Khas Village, New Delhi     New Delhi  \\\n1     C-7, Vishal Enclave, Opposite Metro Pillar 417...     New Delhi   \n2     2524, 1st Floor, Hudson Lane, Delhi University...     New Delhi   \n3     1st Floor, DDA Shopping Complex, Aurobindo Pla...     New Delhi   \n4        M-38, Outer Circle, Connaught Place, New Delhi     New Delhi   \n...                                                 ...           ...   \n1175   17 Frederick Street, New Town, Edinburgh EH2 2EY     Edinburgh   \n1176       325-331 Leith Walk, Leith, Edinburgh EH6 8SA     Edinburgh   \n1177     23-24 Sandport Place, Leith, Edinburgh EH6 6EW     Edinburgh   \n1178  5 Hunter Square, Royal Mile, Old Town, Edinbur...     Edinburgh   \n1179      133 Lothian Road, Old Town, Edinburgh EH3 9AD     Edinburgh   \n\n     user_rating.rating_text  \n0                  Very Good  \n1                  Excellent  \n2                  Very Good  \n3                  Very Good  \n4                  Very Good  \n...                      ...  \n1175               Very Good  \n1176               Excellent  \n1177               Excellent  \n1178                    Good  \n1179                    Good  \n\n[1180 rows x 8 columns]",
      "text/html": "<div>\n<style scoped>\n    .dataframe tbody tr th:only-of-type {\n        vertical-align: middle;\n    }\n\n    .dataframe tbody tr th {\n        vertical-align: top;\n    }\n\n    .dataframe thead th {\n        text-align: right;\n    }\n</style>\n<table border=\"1\" class=\"dataframe\">\n  <thead>\n    <tr style=\"text-align: right;\">\n      <th></th>\n      <th>has_online_delivery</th>\n      <th>price_range</th>\n      <th>currency</th>\n      <th>name</th>\n      <th>cuisines</th>\n      <th>location.address</th>\n      <th>location.city</th>\n      <th>user_rating.rating_text</th>\n    </tr>\n  </thead>\n  <tbody>\n    <tr>\n      <th>0</th>\n      <td>1</td>\n      <td>3</td>\n      <td>Rs.</td>\n      <td>Hauz Khas Social</td>\n      <td>Continental, American, Asian, North Indian</td>\n      <td>9-A &amp; 12, Hauz Khas Village, New Delhi</td>\n      <td>New Delhi</td>\n      <td>Very Good</td>\n    </tr>\n    <tr>\n      <th>1</th>\n      <td>0</td>\n      <td>3</td>\n      <td>Rs.</td>\n      <td>Qubitos - The Terrace Cafe</td>\n      <td>Thai, European, Mexican, North Indian, Chinese...</td>\n      <td>C-7, Vishal Enclave, Opposite Metro Pillar 417...</td>\n      <td>New Delhi</td>\n      <td>Excellent</td>\n    </tr>\n    <tr>\n      <th>2</th>\n      <td>1</td>\n      <td>2</td>\n      <td>Rs.</td>\n      <td>The Hudson Cafe</td>\n      <td>Cafe, Italian, Continental, Chinese</td>\n      <td>2524, 1st Floor, Hudson Lane, Delhi University...</td>\n      <td>New Delhi</td>\n      <td>Very Good</td>\n    </tr>\n    <tr>\n      <th>3</th>\n      <td>0</td>\n      <td>3</td>\n      <td>Rs.</td>\n      <td>Summer House Cafe</td>\n      <td>Italian, Continental</td>\n      <td>1st Floor, DDA Shopping Complex, Aurobindo Pla...</td>\n      <td>New Delhi</td>\n      <td>Very Good</td>\n    </tr>\n    <tr>\n      <th>4</th>\n      <td>0</td>\n      <td>3</td>\n      <td>Rs.</td>\n      <td>38 Barracks</td>\n      <td>North Indian, Italian, Asian, American</td>\n      <td>M-38, Outer Circle, Connaught Place, New Delhi</td>\n      <td>New Delhi</td>\n      <td>Very Good</td>\n    </tr>\n    <tr>\n      <th>...</th>\n      <td>...</td>\n      <td>...</td>\n      <td>...</td>\n      <td>...</td>\n      <td>...</td>\n      <td>...</td>\n      <td>...</td>\n      <td>...</td>\n    </tr>\n    <tr>\n      <th>1175</th>\n      <td>0</td>\n      <td>3</td>\n      <td>£</td>\n      <td>The Boozy Cow</td>\n      <td>Burger, Grill</td>\n      <td>17 Frederick Street, New Town, Edinburgh EH2 2EY</td>\n      <td>Edinburgh</td>\n      <td>Very Good</td>\n    </tr>\n    <tr>\n      <th>1176</th>\n      <td>0</td>\n      <td>3</td>\n      <td>£</td>\n      <td>La Favorita</td>\n      <td>Italian</td>\n      <td>325-331 Leith Walk, Leith, Edinburgh EH6 8SA</td>\n      <td>Edinburgh</td>\n      <td>Excellent</td>\n    </tr>\n    <tr>\n      <th>1177</th>\n      <td>0</td>\n      <td>3</td>\n      <td>£</td>\n      <td>Roseleaf Bar Cafe</td>\n      <td>Scottish, Cafe</td>\n      <td>23-24 Sandport Place, Leith, Edinburgh EH6 6EW</td>\n      <td>Edinburgh</td>\n      <td>Excellent</td>\n    </tr>\n    <tr>\n      <th>1178</th>\n      <td>0</td>\n      <td>3</td>\n      <td>£</td>\n      <td>Civerinos</td>\n      <td>Pizza, Italian</td>\n      <td>5 Hunter Square, Royal Mile, Old Town, Edinbur...</td>\n      <td>Edinburgh</td>\n      <td>Good</td>\n    </tr>\n    <tr>\n      <th>1179</th>\n      <td>0</td>\n      <td>3</td>\n      <td>£</td>\n      <td>The Hanging Bat</td>\n      <td>American</td>\n      <td>133 Lothian Road, Old Town, Edinburgh EH3 9AD</td>\n      <td>Edinburgh</td>\n      <td>Good</td>\n    </tr>\n  </tbody>\n</table>\n<p>1180 rows × 8 columns</p>\n</div>"
     },
     "execution_count": 3,
     "metadata": {},
     "output_type": "execute_result"
    }
   ],
   "source": [
    "df"
   ],
   "metadata": {
    "collapsed": false,
    "ExecuteTime": {
     "end_time": "2023-07-12T03:14:39.937692Z",
     "start_time": "2023-07-12T03:14:39.927444600Z"
    }
   }
  },
  {
   "cell_type": "markdown",
   "metadata": {},
   "source": [
    "Ahora, usando todas las herramientas que hemos aprendido en esta sesión (indexación de filas y columnas, `shape`, `dtypes`, `head`, `tail`, `columns`, `info`, etc) explora tu dataset y debate con el experto y tus compañeros las siguientes preguntas:\n",
    "\n",
    "1. ¿Qué podemos saber de este dataset con tan sólo leer el nombre del archivo y los nombres de las columnas?\n",
    "2. ¿Cuál es el tamaño (forma) de nuestro DataFrame? ¿Podríamos considerarlo un dataset grande o pequeño?\n",
    "3. ¿Crees que los nombres de las columnas son suficientemente descriptivos? ¿Podrían ser más claros o limpios?\n",
    "4. ¿Qué tipos de datos tenemos?\n",
    "5. ¿Qué significa el formato en el que tenemos las fechas?\n",
    "6. ¿Qué tipo de preguntas podríamos responder usando los datos numéricos de este dataset?\n",
    "7. ¿Qué tipo de preguntas podríamos responder usando los datos no-numéricos? "
   ]
  },
  {
   "cell_type": "code",
   "execution_count": 4,
   "metadata": {
    "ExecuteTime": {
     "end_time": "2023-07-12T03:43:17.488496200Z",
     "start_time": "2023-07-12T03:43:17.482256200Z"
    }
   },
   "outputs": [
    {
     "data": {
      "text/plain": "(1180, 8)"
     },
     "execution_count": 4,
     "metadata": {},
     "output_type": "execute_result"
    }
   ],
   "source": [
    "df.shape"
   ]
  },
  {
   "cell_type": "code",
   "execution_count": 5,
   "outputs": [
    {
     "data": {
      "text/plain": "      has_online_delivery  price_range currency               name   \n1175                    0            3        £      The Boozy Cow  \\\n1176                    0            3        £        La Favorita   \n1177                    0            3        £  Roseleaf Bar Cafe   \n1178                    0            3        £          Civerinos   \n1179                    0            3        £    The Hanging Bat   \n\n            cuisines                                   location.address   \n1175   Burger, Grill   17 Frederick Street, New Town, Edinburgh EH2 2EY  \\\n1176         Italian       325-331 Leith Walk, Leith, Edinburgh EH6 8SA   \n1177  Scottish, Cafe     23-24 Sandport Place, Leith, Edinburgh EH6 6EW   \n1178  Pizza, Italian  5 Hunter Square, Royal Mile, Old Town, Edinbur...   \n1179        American      133 Lothian Road, Old Town, Edinburgh EH3 9AD   \n\n     location.city user_rating.rating_text  \n1175     Edinburgh               Very Good  \n1176     Edinburgh               Excellent  \n1177     Edinburgh               Excellent  \n1178     Edinburgh                    Good  \n1179     Edinburgh                    Good  ",
      "text/html": "<div>\n<style scoped>\n    .dataframe tbody tr th:only-of-type {\n        vertical-align: middle;\n    }\n\n    .dataframe tbody tr th {\n        vertical-align: top;\n    }\n\n    .dataframe thead th {\n        text-align: right;\n    }\n</style>\n<table border=\"1\" class=\"dataframe\">\n  <thead>\n    <tr style=\"text-align: right;\">\n      <th></th>\n      <th>has_online_delivery</th>\n      <th>price_range</th>\n      <th>currency</th>\n      <th>name</th>\n      <th>cuisines</th>\n      <th>location.address</th>\n      <th>location.city</th>\n      <th>user_rating.rating_text</th>\n    </tr>\n  </thead>\n  <tbody>\n    <tr>\n      <th>1175</th>\n      <td>0</td>\n      <td>3</td>\n      <td>£</td>\n      <td>The Boozy Cow</td>\n      <td>Burger, Grill</td>\n      <td>17 Frederick Street, New Town, Edinburgh EH2 2EY</td>\n      <td>Edinburgh</td>\n      <td>Very Good</td>\n    </tr>\n    <tr>\n      <th>1176</th>\n      <td>0</td>\n      <td>3</td>\n      <td>£</td>\n      <td>La Favorita</td>\n      <td>Italian</td>\n      <td>325-331 Leith Walk, Leith, Edinburgh EH6 8SA</td>\n      <td>Edinburgh</td>\n      <td>Excellent</td>\n    </tr>\n    <tr>\n      <th>1177</th>\n      <td>0</td>\n      <td>3</td>\n      <td>£</td>\n      <td>Roseleaf Bar Cafe</td>\n      <td>Scottish, Cafe</td>\n      <td>23-24 Sandport Place, Leith, Edinburgh EH6 6EW</td>\n      <td>Edinburgh</td>\n      <td>Excellent</td>\n    </tr>\n    <tr>\n      <th>1178</th>\n      <td>0</td>\n      <td>3</td>\n      <td>£</td>\n      <td>Civerinos</td>\n      <td>Pizza, Italian</td>\n      <td>5 Hunter Square, Royal Mile, Old Town, Edinbur...</td>\n      <td>Edinburgh</td>\n      <td>Good</td>\n    </tr>\n    <tr>\n      <th>1179</th>\n      <td>0</td>\n      <td>3</td>\n      <td>£</td>\n      <td>The Hanging Bat</td>\n      <td>American</td>\n      <td>133 Lothian Road, Old Town, Edinburgh EH3 9AD</td>\n      <td>Edinburgh</td>\n      <td>Good</td>\n    </tr>\n  </tbody>\n</table>\n</div>"
     },
     "execution_count": 5,
     "metadata": {},
     "output_type": "execute_result"
    }
   ],
   "source": [
    "df.tail()"
   ],
   "metadata": {
    "collapsed": false,
    "ExecuteTime": {
     "end_time": "2023-07-12T03:43:21.178342800Z",
     "start_time": "2023-07-12T03:43:21.165468400Z"
    }
   }
  },
  {
   "cell_type": "code",
   "execution_count": 6,
   "outputs": [
    {
     "data": {
      "text/plain": "   has_online_delivery  price_range currency                        name   \n0                    1            3      Rs.            Hauz Khas Social  \\\n1                    0            3      Rs.  Qubitos - The Terrace Cafe   \n2                    1            2      Rs.             The Hudson Cafe   \n3                    0            3      Rs.           Summer House Cafe   \n4                    0            3      Rs.                 38 Barracks   \n\n                                            cuisines   \n0         Continental, American, Asian, North Indian  \\\n1  Thai, European, Mexican, North Indian, Chinese...   \n2                Cafe, Italian, Continental, Chinese   \n3                               Italian, Continental   \n4             North Indian, Italian, Asian, American   \n\n                                    location.address location.city   \n0             9-A & 12, Hauz Khas Village, New Delhi     New Delhi  \\\n1  C-7, Vishal Enclave, Opposite Metro Pillar 417...     New Delhi   \n2  2524, 1st Floor, Hudson Lane, Delhi University...     New Delhi   \n3  1st Floor, DDA Shopping Complex, Aurobindo Pla...     New Delhi   \n4     M-38, Outer Circle, Connaught Place, New Delhi     New Delhi   \n\n  user_rating.rating_text  \n0               Very Good  \n1               Excellent  \n2               Very Good  \n3               Very Good  \n4               Very Good  ",
      "text/html": "<div>\n<style scoped>\n    .dataframe tbody tr th:only-of-type {\n        vertical-align: middle;\n    }\n\n    .dataframe tbody tr th {\n        vertical-align: top;\n    }\n\n    .dataframe thead th {\n        text-align: right;\n    }\n</style>\n<table border=\"1\" class=\"dataframe\">\n  <thead>\n    <tr style=\"text-align: right;\">\n      <th></th>\n      <th>has_online_delivery</th>\n      <th>price_range</th>\n      <th>currency</th>\n      <th>name</th>\n      <th>cuisines</th>\n      <th>location.address</th>\n      <th>location.city</th>\n      <th>user_rating.rating_text</th>\n    </tr>\n  </thead>\n  <tbody>\n    <tr>\n      <th>0</th>\n      <td>1</td>\n      <td>3</td>\n      <td>Rs.</td>\n      <td>Hauz Khas Social</td>\n      <td>Continental, American, Asian, North Indian</td>\n      <td>9-A &amp; 12, Hauz Khas Village, New Delhi</td>\n      <td>New Delhi</td>\n      <td>Very Good</td>\n    </tr>\n    <tr>\n      <th>1</th>\n      <td>0</td>\n      <td>3</td>\n      <td>Rs.</td>\n      <td>Qubitos - The Terrace Cafe</td>\n      <td>Thai, European, Mexican, North Indian, Chinese...</td>\n      <td>C-7, Vishal Enclave, Opposite Metro Pillar 417...</td>\n      <td>New Delhi</td>\n      <td>Excellent</td>\n    </tr>\n    <tr>\n      <th>2</th>\n      <td>1</td>\n      <td>2</td>\n      <td>Rs.</td>\n      <td>The Hudson Cafe</td>\n      <td>Cafe, Italian, Continental, Chinese</td>\n      <td>2524, 1st Floor, Hudson Lane, Delhi University...</td>\n      <td>New Delhi</td>\n      <td>Very Good</td>\n    </tr>\n    <tr>\n      <th>3</th>\n      <td>0</td>\n      <td>3</td>\n      <td>Rs.</td>\n      <td>Summer House Cafe</td>\n      <td>Italian, Continental</td>\n      <td>1st Floor, DDA Shopping Complex, Aurobindo Pla...</td>\n      <td>New Delhi</td>\n      <td>Very Good</td>\n    </tr>\n    <tr>\n      <th>4</th>\n      <td>0</td>\n      <td>3</td>\n      <td>Rs.</td>\n      <td>38 Barracks</td>\n      <td>North Indian, Italian, Asian, American</td>\n      <td>M-38, Outer Circle, Connaught Place, New Delhi</td>\n      <td>New Delhi</td>\n      <td>Very Good</td>\n    </tr>\n  </tbody>\n</table>\n</div>"
     },
     "execution_count": 6,
     "metadata": {},
     "output_type": "execute_result"
    }
   ],
   "source": [
    "df.head()"
   ],
   "metadata": {
    "collapsed": false,
    "ExecuteTime": {
     "end_time": "2023-07-12T03:43:24.192215400Z",
     "start_time": "2023-07-12T03:43:24.187329800Z"
    }
   }
  },
  {
   "cell_type": "code",
   "execution_count": 7,
   "outputs": [
    {
     "data": {
      "text/plain": "Index(['has_online_delivery', 'price_range', 'currency', 'name', 'cuisines',\n       'location.address', 'location.city', 'user_rating.rating_text'],\n      dtype='object')"
     },
     "execution_count": 7,
     "metadata": {},
     "output_type": "execute_result"
    }
   ],
   "source": [
    "df.columns"
   ],
   "metadata": {
    "collapsed": false,
    "ExecuteTime": {
     "end_time": "2023-07-12T03:43:28.889414900Z",
     "start_time": "2023-07-12T03:43:28.833714800Z"
    }
   }
  },
  {
   "cell_type": "code",
   "execution_count": 9,
   "outputs": [
    {
     "data": {
      "text/plain": "has_online_delivery         int64\nprice_range                 int64\ncurrency                   object\nname                       object\ncuisines                   object\nlocation.address           object\nlocation.city              object\nuser_rating.rating_text    object\ndtype: object"
     },
     "execution_count": 9,
     "metadata": {},
     "output_type": "execute_result"
    }
   ],
   "source": [
    "df.dtypes"
   ],
   "metadata": {
    "collapsed": false,
    "ExecuteTime": {
     "end_time": "2023-07-12T03:43:56.424167600Z",
     "start_time": "2023-07-12T03:43:56.418442900Z"
    }
   }
  },
  {
   "cell_type": "code",
   "execution_count": 10,
   "outputs": [
    {
     "name": "stdout",
     "output_type": "stream",
     "text": [
      "<class 'pandas.core.frame.DataFrame'>\n",
      "Index: 1180 entries, 0 to 1179\n",
      "Data columns (total 8 columns):\n",
      " #   Column                   Non-Null Count  Dtype \n",
      "---  ------                   --------------  ----- \n",
      " 0   has_online_delivery      1180 non-null   int64 \n",
      " 1   price_range              1180 non-null   int64 \n",
      " 2   currency                 1180 non-null   object\n",
      " 3   name                     1180 non-null   object\n",
      " 4   cuisines                 1180 non-null   object\n",
      " 5   location.address         1180 non-null   object\n",
      " 6   location.city            1180 non-null   object\n",
      " 7   user_rating.rating_text  1180 non-null   object\n",
      "dtypes: int64(2), object(6)\n",
      "memory usage: 83.0+ KB\n"
     ]
    }
   ],
   "source": [
    "df.info(all)"
   ],
   "metadata": {
    "collapsed": false,
    "ExecuteTime": {
     "end_time": "2023-07-12T03:44:02.483174700Z",
     "start_time": "2023-07-12T03:44:02.455763Z"
    }
   }
  },
  {
   "cell_type": "code",
   "execution_count": null,
   "outputs": [],
   "source": [],
   "metadata": {
    "collapsed": false
   }
  }
 ],
 "metadata": {
  "kernelspec": {
   "display_name": "Python 3",
   "language": "python",
   "name": "python3"
  },
  "language_info": {
   "codemirror_mode": {
    "name": "ipython",
    "version": 3
   },
   "file_extension": ".py",
   "mimetype": "text/x-python",
   "name": "python",
   "nbconvert_exporter": "python",
   "pygments_lexer": "ipython3",
   "version": "3.8.3"
  }
 },
 "nbformat": 4,
 "nbformat_minor": 4
}
